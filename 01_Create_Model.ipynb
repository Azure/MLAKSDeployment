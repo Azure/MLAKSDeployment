{
 "cells": [
  {
   "cell_type": "markdown",
   "metadata": {},
   "source": [
    "# Modeling\n",
    "\n",
    "## Load libraries and utility functions."
   ]
  },
  {
   "cell_type": "code",
   "execution_count": 1,
   "metadata": {},
   "outputs": [],
   "source": [
    "from __future__ import print_function\n",
    "import os\n",
    "import warnings\n",
    "import pandas as pd\n",
    "import lightgbm as lgb\n",
    "from sklearn.feature_extraction import text\n",
    "from sklearn.pipeline import Pipeline, FeatureUnion, make_pipeline\n",
    "from sklearn.externals import joblib\n",
    "from ItemSelector import ItemSelector\n",
    "from label_rank import label_rank\n",
    "\n",
    "warnings.filterwarnings(action='ignore', category=UserWarning,\n",
    "                        module='lightgbm')"
   ]
  },
  {
   "cell_type": "markdown",
   "metadata": {},
   "source": [
    "## Define the input parameters.\n",
    "One of the most important parameters is the number of estimators that allows you to trade-off accuracy, modeling time, and model size. The table below should give you an idea of the relationships between the number of estimators and the metrics.\n",
    "\n",
    "| Estimators | Run time (s) | Size (MB) | Accuracy@1 | Accuracy@2 | Accuracy@3 |\n",
    "|------------|--------------|-----------|------------|------------|------------|\n",
    "|        100 |           40 |  2 | 25.02% | 38.72% | 47.83% |\n",
    "|       1000 |          177 |  4 | 46.79% | 60.80% | 69.11% |\n",
    "|       2000 |          359 |  7 | 51.38% | 65.93% | 73.09% |\n",
    "|       4000 |          628 | 12 | 53.39% | 67.40% | 74.74% |\n",
    "|       8000 |          904 | 22 | 54,62% | 67.77% | 75.35% |"
   ]
  },
  {
   "cell_type": "code",
   "execution_count": 2,
   "metadata": {},
   "outputs": [],
   "source": [
    "args_data = 'balanced_pairs_train.tsv' # The file of training data.\n",
    "args_test = 'balanced_pairs_test.tsv'  # The file of testing data.\n",
    "args_estimators = 8000                 # The number of estimators fit by LightGBM.\n",
    "args_min_child_samples = 20            # The minimum number of samples in a leaf created bty LightGBM.\n",
    "args_verbose = -1                      # The progress report messages from LightGBM; \"-1\" means none.\n",
    "args_ngrams = 1                        # The maximum size of ngrams created by TfidfVectorizer.\n",
    "args_unweighted = False                # Whether to ignore instance weights used to correct imbalance in training.\n",
    "args_match = 20                        # The maximum number of original questions per duplicate to use in the data. \n",
    "args_outputs = '.'                     # The folder where this notebook deposits its outputs.\n",
    "args_inputs = '.'                      # The folder where this notebook picks up its inputs.\n",
    "args_save = True                       # Whether to save the model created by the notebook.\n",
    "args_model = 'model.pkl'               # The file containing the saved model.\n",
    "args_instances = 'inst.txt'            # The file containing the scored test data.\n",
    "args_labels = 'labels.txt'             # The file containing the ordered unique ids of the original questions. \n",
    "args_rank = 3                          # The maximum position at which to report test set accuracy."
   ]
  },
  {
   "cell_type": "markdown",
   "metadata": {},
   "source": [
    "## Define paths to the notebook's input and output files\n",
    "\n",
    "The training and testing datasets."
   ]
  },
  {
   "cell_type": "code",
   "execution_count": 3,
   "metadata": {},
   "outputs": [],
   "source": [
    "inputs_path = args_inputs\n",
    "data_path = os.path.join(inputs_path, args_data)\n",
    "test_path = os.path.join(inputs_path, args_test)"
   ]
  },
  {
   "cell_type": "markdown",
   "metadata": {},
   "source": [
    "The saved model file and the scored test data."
   ]
  },
  {
   "cell_type": "code",
   "execution_count": 4,
   "metadata": {},
   "outputs": [],
   "source": [
    "outputs_path = args_outputs\n",
    "os.makedirs(outputs_path, exist_ok=True)                     # Create the outputs folder.\n",
    "model_path = os.path.join(outputs_path, args_model)\n",
    "instances_path = os.path.join(outputs_path, args_instances)\n",
    "labels_path = os.path.join(outputs_path, args_labels)"
   ]
  },
  {
   "cell_type": "markdown",
   "metadata": {},
   "source": [
    "## Load and set up the training data\n",
    "\n",
    "Load the training data, and display a sample of its contents."
   ]
  },
  {
   "cell_type": "code",
   "execution_count": 5,
   "metadata": {},
   "outputs": [
    {
     "name": "stdout",
     "output_type": "stream",
     "text": [
      "Reading ./balanced_pairs_train.tsv\n"
     ]
    },
    {
     "data": {
      "text/html": [
       "<div>\n",
       "<style scoped>\n",
       "    .dataframe tbody tr th:only-of-type {\n",
       "        vertical-align: middle;\n",
       "    }\n",
       "\n",
       "    .dataframe tbody tr th {\n",
       "        vertical-align: top;\n",
       "    }\n",
       "\n",
       "    .dataframe thead th {\n",
       "        text-align: right;\n",
       "    }\n",
       "</style>\n",
       "<table border=\"1\" class=\"dataframe\">\n",
       "  <thead>\n",
       "    <tr style=\"text-align: right;\">\n",
       "      <th></th>\n",
       "      <th>Id_x</th>\n",
       "      <th>AnswerId_x</th>\n",
       "      <th>Text_x</th>\n",
       "      <th>Id_y</th>\n",
       "      <th>Text_y</th>\n",
       "      <th>AnswerId_y</th>\n",
       "      <th>Label</th>\n",
       "      <th>n</th>\n",
       "    </tr>\n",
       "  </thead>\n",
       "  <tbody>\n",
       "    <tr>\n",
       "      <th>0</th>\n",
       "      <td>177867</td>\n",
       "      <td>122704</td>\n",
       "      <td>how do i copy the data of an element with jque...</td>\n",
       "      <td>122102</td>\n",
       "      <td>what is the most efficient way to clone an obj...</td>\n",
       "      <td>122704</td>\n",
       "      <td>1</td>\n",
       "      <td>0</td>\n",
       "    </tr>\n",
       "    <tr>\n",
       "      <th>1</th>\n",
       "      <td>177867</td>\n",
       "      <td>122704</td>\n",
       "      <td>how do i copy the data of an element with jque...</td>\n",
       "      <td>3665115</td>\n",
       "      <td>create a file in memory for user to download, ...</td>\n",
       "      <td>3665147</td>\n",
       "      <td>0</td>\n",
       "      <td>1</td>\n",
       "    </tr>\n",
       "    <tr>\n",
       "      <th>2</th>\n",
       "      <td>177867</td>\n",
       "      <td>122704</td>\n",
       "      <td>how do i copy the data of an element with jque...</td>\n",
       "      <td>950087</td>\n",
       "      <td>include a javascript file in another javascrip...</td>\n",
       "      <td>950146</td>\n",
       "      <td>0</td>\n",
       "      <td>2</td>\n",
       "    </tr>\n",
       "    <tr>\n",
       "      <th>3</th>\n",
       "      <td>177867</td>\n",
       "      <td>122704</td>\n",
       "      <td>how do i copy the data of an element with jque...</td>\n",
       "      <td>2241875</td>\n",
       "      <td>how to create an object property from a variab...</td>\n",
       "      <td>2241883</td>\n",
       "      <td>0</td>\n",
       "      <td>3</td>\n",
       "    </tr>\n",
       "    <tr>\n",
       "      <th>4</th>\n",
       "      <td>177867</td>\n",
       "      <td>122704</td>\n",
       "      <td>how do i copy the data of an element with jque...</td>\n",
       "      <td>572897</td>\n",
       "      <td>how does javascript .prototype work?. i'm not ...</td>\n",
       "      <td>572996</td>\n",
       "      <td>0</td>\n",
       "      <td>4</td>\n",
       "    </tr>\n",
       "  </tbody>\n",
       "</table>\n",
       "</div>"
      ],
      "text/plain": [
       "     Id_x  AnswerId_x                                             Text_x  \\\n",
       "0  177867      122704  how do i copy the data of an element with jque...   \n",
       "1  177867      122704  how do i copy the data of an element with jque...   \n",
       "2  177867      122704  how do i copy the data of an element with jque...   \n",
       "3  177867      122704  how do i copy the data of an element with jque...   \n",
       "4  177867      122704  how do i copy the data of an element with jque...   \n",
       "\n",
       "      Id_y                                             Text_y  AnswerId_y  \\\n",
       "0   122102  what is the most efficient way to clone an obj...      122704   \n",
       "1  3665115  create a file in memory for user to download, ...     3665147   \n",
       "2   950087  include a javascript file in another javascrip...      950146   \n",
       "3  2241875  how to create an object property from a variab...     2241883   \n",
       "4   572897  how does javascript .prototype work?. i'm not ...      572996   \n",
       "\n",
       "   Label  n  \n",
       "0      1  0  \n",
       "1      0  1  \n",
       "2      0  2  \n",
       "3      0  3  \n",
       "4      0  4  "
      ]
     },
     "execution_count": 5,
     "metadata": {},
     "output_type": "execute_result"
    }
   ],
   "source": [
    "print('Reading {}'.format(data_path))\n",
    "train = pd.read_csv(data_path, sep='\\t', encoding='latin1')\n",
    "train.head()"
   ]
  },
  {
   "cell_type": "markdown",
   "metadata": {},
   "source": [
    "Limit the number of duplicate-original question matches."
   ]
  },
  {
   "cell_type": "code",
   "execution_count": 6,
   "metadata": {},
   "outputs": [],
   "source": [
    "train = train[train.n < args_match]"
   ]
  },
  {
   "cell_type": "markdown",
   "metadata": {},
   "source": [
    "Define the roles of the columns in the training data."
   ]
  },
  {
   "cell_type": "code",
   "execution_count": 7,
   "metadata": {},
   "outputs": [],
   "source": [
    "feature_columns = ['Text_x', 'Text_y']\n",
    "label_column = 'Label'\n",
    "duplicates_id_column = 'Id_x'\n",
    "answer_id_column = 'AnswerId_y'"
   ]
  },
  {
   "cell_type": "markdown",
   "metadata": {},
   "source": [
    "Report on the training dataset: the number of rows and the proportion of true matches."
   ]
  },
  {
   "cell_type": "code",
   "execution_count": 8,
   "metadata": {},
   "outputs": [
    {
     "name": "stdout",
     "output_type": "stream",
     "text": [
      "train: 132,500 rows with 5.00% matches\n"
     ]
    }
   ],
   "source": [
    "print('train: {:,} rows with {:.2%} matches'.format(\n",
    "      train.shape[0], train[label_column].mean()))"
   ]
  },
  {
   "cell_type": "markdown",
   "metadata": {},
   "source": [
    "Compute the instance weights used to correct for class imbalance in training."
   ]
  },
  {
   "cell_type": "code",
   "execution_count": 9,
   "metadata": {},
   "outputs": [],
   "source": [
    "weight_column = 'Weight'\n",
    "if args_unweighted:\n",
    "    weight = pd.Series([1.0], train[label_column].unique())\n",
    "else:\n",
    "    label_counts = train[label_column].value_counts()\n",
    "    weight = train.shape[0]/(label_counts.shape[0]*label_counts)\n",
    "train[weight_column] = train[label_column].apply(lambda x: weight[x])"
   ]
  },
  {
   "cell_type": "markdown",
   "metadata": {},
   "source": [
    "Collect the unique ids that identify each original question's answer."
   ]
  },
  {
   "cell_type": "code",
   "execution_count": 10,
   "metadata": {},
   "outputs": [],
   "source": [
    "labels = sorted(train[answer_id_column].unique())\n",
    "label_order = pd.DataFrame({'label': labels})"
   ]
  },
  {
   "cell_type": "markdown",
   "metadata": {},
   "source": [
    "## Define the model.\n",
    "\n",
    "Collect the parts of the training data by role."
   ]
  },
  {
   "cell_type": "code",
   "execution_count": 11,
   "metadata": {},
   "outputs": [],
   "source": [
    "train_X = train[feature_columns]\n",
    "train_y = train[label_column]\n",
    "sample_weight = train[weight_column]"
   ]
  },
  {
   "cell_type": "markdown",
   "metadata": {},
   "source": [
    "Use the inputs to define the hyperparameters used in training."
   ]
  },
  {
   "cell_type": "code",
   "execution_count": 12,
   "metadata": {},
   "outputs": [],
   "source": [
    "n_estimators = args_estimators\n",
    "min_child_samples = args_min_child_samples\n",
    "if args_ngrams > 0:\n",
    "    ngram_range = (1, args_ngrams)\n",
    "else:\n",
    "    ngram_range = None"
   ]
  },
  {
   "cell_type": "markdown",
   "metadata": {},
   "source": [
    "Verify that the hyperparameter values are valid."
   ]
  },
  {
   "cell_type": "code",
   "execution_count": 13,
   "metadata": {},
   "outputs": [],
   "source": [
    "assert n_estimators > 0\n",
    "assert min_child_samples > 1\n",
    "assert type(ngram_range) is tuple and len(ngram_range) == 2\n",
    "assert ngram_range[0] > 0 and ngram_range[0] <= ngram_range[1]"
   ]
  },
  {
   "cell_type": "markdown",
   "metadata": {},
   "source": [
    "Define the pipeline that featurizes the text columns."
   ]
  },
  {
   "cell_type": "code",
   "execution_count": 14,
   "metadata": {},
   "outputs": [],
   "source": [
    "featurization = [\n",
    "    (column,\n",
    "     make_pipeline(ItemSelector(column),\n",
    "                   text.TfidfVectorizer(ngram_range=ngram_range)))\n",
    "    for column in feature_columns]\n",
    "features = FeatureUnion(featurization)"
   ]
  },
  {
   "cell_type": "markdown",
   "metadata": {},
   "source": [
    "Define the estimator that learns how to classify duplicate-original question pairs."
   ]
  },
  {
   "cell_type": "code",
   "execution_count": 15,
   "metadata": {},
   "outputs": [],
   "source": [
    "estimator = lgb.LGBMClassifier(n_estimators=n_estimators,\n",
    "                               min_child_samples=min_child_samples,\n",
    "                               verbose=args_verbose)"
   ]
  },
  {
   "cell_type": "markdown",
   "metadata": {},
   "source": [
    "Define the model pipeline as feeding the features into the estimator."
   ]
  },
  {
   "cell_type": "code",
   "execution_count": 16,
   "metadata": {},
   "outputs": [],
   "source": [
    "model = Pipeline([\n",
    "    ('features', features),\n",
    "    ('model', estimator)\n",
    "])"
   ]
  },
  {
   "cell_type": "markdown",
   "metadata": {},
   "source": [
    "## Fit the model.\n",
    "This step should take about seven and a half minutes on a a Standard NC6 DLVM."
   ]
  },
  {
   "cell_type": "code",
   "execution_count": 17,
   "metadata": {},
   "outputs": [
    {
     "name": "stdout",
     "output_type": "stream",
     "text": [
      "CPU times: user 42min 3s, sys: 4.13 s, total: 42min 7s\n",
      "Wall time: 7min 38s\n"
     ]
    },
    {
     "data": {
      "text/plain": [
       "Pipeline(memory=None,\n",
       "     steps=[('features', FeatureUnion(n_jobs=1,\n",
       "       transformer_list=[('Text_x', Pipeline(memory=None,\n",
       "     steps=[('itemselector', ItemSelector(keys='Text_x')), ('tfidfvectorizer', TfidfVectorizer(analyzer='word', binary=False, decode_error='strict',\n",
       "        dtype=<class 'numpy.int64'>, encoding='utf...a=0.0, silent=True, subsample=1.0,\n",
       "        subsample_for_bin=200000, subsample_freq=0, verbose=-1))])"
      ]
     },
     "execution_count": 17,
     "metadata": {},
     "output_type": "execute_result"
    }
   ],
   "source": [
    "%%time\n",
    "model.fit(train_X, train_y, model__sample_weight=sample_weight)"
   ]
  },
  {
   "cell_type": "markdown",
   "metadata": {},
   "source": [
    "Save the model to a file, and report on its size."
   ]
  },
  {
   "cell_type": "code",
   "execution_count": 18,
   "metadata": {},
   "outputs": [
    {
     "name": "stdout",
     "output_type": "stream",
     "text": [
      "./model.pkl size: 22.46 MB\n"
     ]
    }
   ],
   "source": [
    "if args_save:\n",
    "    joblib.dump(model, model_path)\n",
    "    print('{} size: {:.2f} MB'.format(model_path, os.path.getsize(model_path)/(2**20)))"
   ]
  },
  {
   "cell_type": "markdown",
   "metadata": {},
   "source": [
    "## Test the model\n",
    "\n",
    "Read in the test data set, and report of the number of its rows and proportion of true matches."
   ]
  },
  {
   "cell_type": "code",
   "execution_count": 19,
   "metadata": {},
   "outputs": [
    {
     "name": "stdout",
     "output_type": "stream",
     "text": [
      "Reading ./balanced_pairs_test.tsv\n",
      "test 297,570 rows with 0.55% matches\n"
     ]
    }
   ],
   "source": [
    "print('Reading {}'.format(test_path))\n",
    "test = pd.read_csv(test_path, sep='\\t', encoding='latin1')\n",
    "print('test {:,} rows with {:.2%} matches'.format(\n",
    "    test.shape[0], test[label_column].mean()))"
   ]
  },
  {
   "cell_type": "markdown",
   "metadata": {},
   "source": [
    "Display a sample of its contents."
   ]
  },
  {
   "cell_type": "code",
   "execution_count": 20,
   "metadata": {},
   "outputs": [
    {
     "data": {
      "text/html": [
       "<div>\n",
       "<style scoped>\n",
       "    .dataframe tbody tr th:only-of-type {\n",
       "        vertical-align: middle;\n",
       "    }\n",
       "\n",
       "    .dataframe tbody tr th {\n",
       "        vertical-align: top;\n",
       "    }\n",
       "\n",
       "    .dataframe thead th {\n",
       "        text-align: right;\n",
       "    }\n",
       "</style>\n",
       "<table border=\"1\" class=\"dataframe\">\n",
       "  <thead>\n",
       "    <tr style=\"text-align: right;\">\n",
       "      <th></th>\n",
       "      <th>Id_x</th>\n",
       "      <th>AnswerId_x</th>\n",
       "      <th>Text_x</th>\n",
       "      <th>Id_y</th>\n",
       "      <th>Text_y</th>\n",
       "      <th>AnswerId_y</th>\n",
       "      <th>Label</th>\n",
       "      <th>n</th>\n",
       "    </tr>\n",
       "  </thead>\n",
       "  <tbody>\n",
       "    <tr>\n",
       "      <th>0</th>\n",
       "      <td>114525</td>\n",
       "      <td>336868</td>\n",
       "      <td>the difference between the two functions? (\"fu...</td>\n",
       "      <td>336859</td>\n",
       "      <td>var functionname = function() {} vs function f...</td>\n",
       "      <td>336868</td>\n",
       "      <td>1</td>\n",
       "      <td>0</td>\n",
       "    </tr>\n",
       "    <tr>\n",
       "      <th>1</th>\n",
       "      <td>114525</td>\n",
       "      <td>336868</td>\n",
       "      <td>the difference between the two functions? (\"fu...</td>\n",
       "      <td>1129216</td>\n",
       "      <td>sort array of objects by string property value...</td>\n",
       "      <td>1129270</td>\n",
       "      <td>0</td>\n",
       "      <td>1</td>\n",
       "    </tr>\n",
       "    <tr>\n",
       "      <th>2</th>\n",
       "      <td>114525</td>\n",
       "      <td>336868</td>\n",
       "      <td>the difference between the two functions? (\"fu...</td>\n",
       "      <td>5187530</td>\n",
       "      <td>variable variables in javascript?. i know it's...</td>\n",
       "      <td>5187652</td>\n",
       "      <td>0</td>\n",
       "      <td>2</td>\n",
       "    </tr>\n",
       "    <tr>\n",
       "      <th>3</th>\n",
       "      <td>114525</td>\n",
       "      <td>336868</td>\n",
       "      <td>the difference between the two functions? (\"fu...</td>\n",
       "      <td>2320069</td>\n",
       "      <td>jquery ajax file upload. can i use the followi...</td>\n",
       "      <td>2320097</td>\n",
       "      <td>0</td>\n",
       "      <td>3</td>\n",
       "    </tr>\n",
       "    <tr>\n",
       "      <th>4</th>\n",
       "      <td>114525</td>\n",
       "      <td>336868</td>\n",
       "      <td>the difference between the two functions? (\"fu...</td>\n",
       "      <td>28250680</td>\n",
       "      <td>how do i access previous promise results in a ...</td>\n",
       "      <td>28250697</td>\n",
       "      <td>0</td>\n",
       "      <td>4</td>\n",
       "    </tr>\n",
       "  </tbody>\n",
       "</table>\n",
       "</div>"
      ],
      "text/plain": [
       "     Id_x  AnswerId_x                                             Text_x  \\\n",
       "0  114525      336868  the difference between the two functions? (\"fu...   \n",
       "1  114525      336868  the difference between the two functions? (\"fu...   \n",
       "2  114525      336868  the difference between the two functions? (\"fu...   \n",
       "3  114525      336868  the difference between the two functions? (\"fu...   \n",
       "4  114525      336868  the difference between the two functions? (\"fu...   \n",
       "\n",
       "       Id_y                                             Text_y  AnswerId_y  \\\n",
       "0    336859  var functionname = function() {} vs function f...      336868   \n",
       "1   1129216  sort array of objects by string property value...     1129270   \n",
       "2   5187530  variable variables in javascript?. i know it's...     5187652   \n",
       "3   2320069  jquery ajax file upload. can i use the followi...     2320097   \n",
       "4  28250680  how do i access previous promise results in a ...    28250697   \n",
       "\n",
       "   Label  n  \n",
       "0      1  0  \n",
       "1      0  1  \n",
       "2      0  2  \n",
       "3      0  3  \n",
       "4      0  4  "
      ]
     },
     "execution_count": 20,
     "metadata": {},
     "output_type": "execute_result"
    }
   ],
   "source": [
    "test.head()"
   ]
  },
  {
   "cell_type": "markdown",
   "metadata": {},
   "source": [
    "Collect the model predictions. This step should take about 1 minute on a a Standard NC6 DLVM."
   ]
  },
  {
   "cell_type": "code",
   "execution_count": 21,
   "metadata": {},
   "outputs": [
    {
     "name": "stdout",
     "output_type": "stream",
     "text": [
      "CPU times: user 3min 49s, sys: 529 ms, total: 3min 49s\n",
      "Wall time: 1min 11s\n"
     ]
    }
   ],
   "source": [
    "%%time\n",
    "test_X = test[feature_columns]\n",
    "test['probabilities'] = model.predict_proba(test_X)[:, 1]"
   ]
  },
  {
   "cell_type": "markdown",
   "metadata": {},
   "source": [
    "Display the sample with the added probabilities column."
   ]
  },
  {
   "cell_type": "code",
   "execution_count": 22,
   "metadata": {},
   "outputs": [
    {
     "data": {
      "text/html": [
       "<div>\n",
       "<style scoped>\n",
       "    .dataframe tbody tr th:only-of-type {\n",
       "        vertical-align: middle;\n",
       "    }\n",
       "\n",
       "    .dataframe tbody tr th {\n",
       "        vertical-align: top;\n",
       "    }\n",
       "\n",
       "    .dataframe thead th {\n",
       "        text-align: right;\n",
       "    }\n",
       "</style>\n",
       "<table border=\"1\" class=\"dataframe\">\n",
       "  <thead>\n",
       "    <tr style=\"text-align: right;\">\n",
       "      <th></th>\n",
       "      <th>Id_x</th>\n",
       "      <th>AnswerId_x</th>\n",
       "      <th>Text_x</th>\n",
       "      <th>Id_y</th>\n",
       "      <th>Text_y</th>\n",
       "      <th>AnswerId_y</th>\n",
       "      <th>Label</th>\n",
       "      <th>n</th>\n",
       "      <th>probabilities</th>\n",
       "    </tr>\n",
       "  </thead>\n",
       "  <tbody>\n",
       "    <tr>\n",
       "      <th>0</th>\n",
       "      <td>114525</td>\n",
       "      <td>336868</td>\n",
       "      <td>the difference between the two functions? (\"fu...</td>\n",
       "      <td>336859</td>\n",
       "      <td>var functionname = function() {} vs function f...</td>\n",
       "      <td>336868</td>\n",
       "      <td>1</td>\n",
       "      <td>0</td>\n",
       "      <td>9.999756e-01</td>\n",
       "    </tr>\n",
       "    <tr>\n",
       "      <th>1</th>\n",
       "      <td>114525</td>\n",
       "      <td>336868</td>\n",
       "      <td>the difference between the two functions? (\"fu...</td>\n",
       "      <td>1129216</td>\n",
       "      <td>sort array of objects by string property value...</td>\n",
       "      <td>1129270</td>\n",
       "      <td>0</td>\n",
       "      <td>1</td>\n",
       "      <td>7.319658e-10</td>\n",
       "    </tr>\n",
       "    <tr>\n",
       "      <th>2</th>\n",
       "      <td>114525</td>\n",
       "      <td>336868</td>\n",
       "      <td>the difference between the two functions? (\"fu...</td>\n",
       "      <td>5187530</td>\n",
       "      <td>variable variables in javascript?. i know it's...</td>\n",
       "      <td>5187652</td>\n",
       "      <td>0</td>\n",
       "      <td>2</td>\n",
       "      <td>9.388601e-09</td>\n",
       "    </tr>\n",
       "    <tr>\n",
       "      <th>3</th>\n",
       "      <td>114525</td>\n",
       "      <td>336868</td>\n",
       "      <td>the difference between the two functions? (\"fu...</td>\n",
       "      <td>2320069</td>\n",
       "      <td>jquery ajax file upload. can i use the followi...</td>\n",
       "      <td>2320097</td>\n",
       "      <td>0</td>\n",
       "      <td>3</td>\n",
       "      <td>6.330419e-08</td>\n",
       "    </tr>\n",
       "    <tr>\n",
       "      <th>4</th>\n",
       "      <td>114525</td>\n",
       "      <td>336868</td>\n",
       "      <td>the difference between the two functions? (\"fu...</td>\n",
       "      <td>28250680</td>\n",
       "      <td>how do i access previous promise results in a ...</td>\n",
       "      <td>28250697</td>\n",
       "      <td>0</td>\n",
       "      <td>4</td>\n",
       "      <td>4.066033e-09</td>\n",
       "    </tr>\n",
       "  </tbody>\n",
       "</table>\n",
       "</div>"
      ],
      "text/plain": [
       "     Id_x  AnswerId_x                                             Text_x  \\\n",
       "0  114525      336868  the difference between the two functions? (\"fu...   \n",
       "1  114525      336868  the difference between the two functions? (\"fu...   \n",
       "2  114525      336868  the difference between the two functions? (\"fu...   \n",
       "3  114525      336868  the difference between the two functions? (\"fu...   \n",
       "4  114525      336868  the difference between the two functions? (\"fu...   \n",
       "\n",
       "       Id_y                                             Text_y  AnswerId_y  \\\n",
       "0    336859  var functionname = function() {} vs function f...      336868   \n",
       "1   1129216  sort array of objects by string property value...     1129270   \n",
       "2   5187530  variable variables in javascript?. i know it's...     5187652   \n",
       "3   2320069  jquery ajax file upload. can i use the followi...     2320097   \n",
       "4  28250680  how do i access previous promise results in a ...    28250697   \n",
       "\n",
       "   Label  n  probabilities  \n",
       "0      1  0   9.999756e-01  \n",
       "1      0  1   7.319658e-10  \n",
       "2      0  2   9.388601e-09  \n",
       "3      0  3   6.330419e-08  \n",
       "4      0  4   4.066033e-09  "
      ]
     },
     "execution_count": 22,
     "metadata": {},
     "output_type": "execute_result"
    }
   ],
   "source": [
    "test.head()"
   ]
  },
  {
   "cell_type": "markdown",
   "metadata": {},
   "source": [
    "Collect the probabilities for each duplicate question, ordered by the original question ids. "
   ]
  },
  {
   "cell_type": "code",
   "execution_count": 23,
   "metadata": {},
   "outputs": [],
   "source": [
    "# Order the testing data by duplicate question id and original question id.\n",
    "test.sort_values([duplicates_id_column, answer_id_column], inplace=True)\n",
    "\n",
    "# Extract the ordered probabilities.\n",
    "probabilities = (\n",
    "    test.probabilities\n",
    "    .groupby(test[duplicates_id_column], sort=False)\n",
    "    .apply(lambda x: tuple(x.values)))"
   ]
  },
  {
   "cell_type": "markdown",
   "metadata": {},
   "source": [
    "Create a data frame with one row per duplicate question, and make it contain the model's predictions for each duplicate."
   ]
  },
  {
   "cell_type": "code",
   "execution_count": 24,
   "metadata": {},
   "outputs": [],
   "source": [
    "test_score = (test[['Id_x', 'AnswerId_x', 'Text_x']]\n",
    "              .drop_duplicates()\n",
    "              .set_index(duplicates_id_column))\n",
    "test_score['probabilities'] = probabilities\n",
    "test_score.reset_index(inplace=True)\n",
    "test_score.columns = ['Id', 'AnswerId', 'Text', 'probabilities']"
   ]
  },
  {
   "cell_type": "markdown",
   "metadata": {},
   "source": [
    "Display a sample of its contents."
   ]
  },
  {
   "cell_type": "code",
   "execution_count": 25,
   "metadata": {},
   "outputs": [
    {
     "data": {
      "text/html": [
       "<div>\n",
       "<style scoped>\n",
       "    .dataframe tbody tr th:only-of-type {\n",
       "        vertical-align: middle;\n",
       "    }\n",
       "\n",
       "    .dataframe tbody tr th {\n",
       "        vertical-align: top;\n",
       "    }\n",
       "\n",
       "    .dataframe thead th {\n",
       "        text-align: right;\n",
       "    }\n",
       "</style>\n",
       "<table border=\"1\" class=\"dataframe\">\n",
       "  <thead>\n",
       "    <tr style=\"text-align: right;\">\n",
       "      <th></th>\n",
       "      <th>Id</th>\n",
       "      <th>AnswerId</th>\n",
       "      <th>Text</th>\n",
       "      <th>probabilities</th>\n",
       "    </tr>\n",
       "  </thead>\n",
       "  <tbody>\n",
       "    <tr>\n",
       "      <th>0</th>\n",
       "      <td>114525</td>\n",
       "      <td>336868</td>\n",
       "      <td>the difference between the two functions? (\"fu...</td>\n",
       "      <td>(9.382683054306137e-08, 4.478198947859503e-08,...</td>\n",
       "    </tr>\n",
       "    <tr>\n",
       "      <th>1</th>\n",
       "      <td>209732</td>\n",
       "      <td>1520853</td>\n",
       "      <td>why am i seeing inconsistent javascript logic ...</td>\n",
       "      <td>(3.11347654850818e-06, 9.428270494992024e-07, ...</td>\n",
       "    </tr>\n",
       "    <tr>\n",
       "      <th>2</th>\n",
       "      <td>562412</td>\n",
       "      <td>14220323</td>\n",
       "      <td>return value from function with an ajax call. ...</td>\n",
       "      <td>(4.106663843235513e-09, 7.954958014896923e-09,...</td>\n",
       "    </tr>\n",
       "    <tr>\n",
       "      <th>3</th>\n",
       "      <td>565430</td>\n",
       "      <td>122704</td>\n",
       "      <td>(deep) copying an array using jquery.  possibl...</td>\n",
       "      <td>(4.807857345346937e-07, 5.339910996938693e-11,...</td>\n",
       "    </tr>\n",
       "    <tr>\n",
       "      <th>4</th>\n",
       "      <td>832257</td>\n",
       "      <td>17606289</td>\n",
       "      <td>javascript multiple replace. how do you replac...</td>\n",
       "      <td>(7.500307973518815e-05, 1.0218972114103849e-05...</td>\n",
       "    </tr>\n",
       "  </tbody>\n",
       "</table>\n",
       "</div>"
      ],
      "text/plain": [
       "       Id  AnswerId                                               Text  \\\n",
       "0  114525    336868  the difference between the two functions? (\"fu...   \n",
       "1  209732   1520853  why am i seeing inconsistent javascript logic ...   \n",
       "2  562412  14220323  return value from function with an ajax call. ...   \n",
       "3  565430    122704  (deep) copying an array using jquery.  possibl...   \n",
       "4  832257  17606289  javascript multiple replace. how do you replac...   \n",
       "\n",
       "                                       probabilities  \n",
       "0  (9.382683054306137e-08, 4.478198947859503e-08,...  \n",
       "1  (3.11347654850818e-06, 9.428270494992024e-07, ...  \n",
       "2  (4.106663843235513e-09, 7.954958014896923e-09,...  \n",
       "3  (4.807857345346937e-07, 5.339910996938693e-11,...  \n",
       "4  (7.500307973518815e-05, 1.0218972114103849e-05...  "
      ]
     },
     "execution_count": 25,
     "metadata": {},
     "output_type": "execute_result"
    }
   ],
   "source": [
    "test_score.head()"
   ]
  },
  {
   "cell_type": "markdown",
   "metadata": {},
   "source": [
    "## Evaluate the predictions\n",
    "\n",
    "For each duplicate question, find the rank of its correct original question."
   ]
  },
  {
   "cell_type": "code",
   "execution_count": 26,
   "metadata": {},
   "outputs": [],
   "source": [
    "test_score['Ranks'] = test_score.apply(lambda x:\n",
    "                                       label_rank(x.AnswerId,\n",
    "                                                  x.probabilities,\n",
    "                                                  label_order.label),\n",
    "                                       axis=1)"
   ]
  },
  {
   "cell_type": "markdown",
   "metadata": {},
   "source": [
    "Compute the fraction of correct original questions by minimum rank. Also print the average rank of the correct original questions."
   ]
  },
  {
   "cell_type": "code",
   "execution_count": 27,
   "metadata": {},
   "outputs": [
    {
     "name": "stdout",
     "output_type": "stream",
     "text": [
      "Accuracy @1 = 54.62%\n",
      "Accuracy @2 = 67.77%\n",
      "Accuracy @3 = 75.35%\n",
      "Mean Rank 4.5235\n"
     ]
    }
   ],
   "source": [
    "for i in range(1, args_rank+1):\n",
    "    print('Accuracy @{} = {:.2%}'.format(\n",
    "        i, (test_score['Ranks'] <= i).mean()))\n",
    "mean_rank = test_score['Ranks'].mean()\n",
    "print('Mean Rank {:.4f}'.format(mean_rank))"
   ]
  },
  {
   "cell_type": "markdown",
   "metadata": {},
   "source": [
    "Write the scored instances to a file, along with the ordered original questions's answer ids."
   ]
  },
  {
   "cell_type": "code",
   "execution_count": 28,
   "metadata": {},
   "outputs": [],
   "source": [
    "test_score.to_csv(instances_path, sep='\\t', index=False,\n",
    "                  encoding='latin1')\n",
    "label_order.to_csv(labels_path, sep='\\t', index=False)"
   ]
  },
  {
   "cell_type": "code",
   "execution_count": null,
   "metadata": {},
   "outputs": [],
   "source": []
  }
 ],
 "metadata": {
  "kernelspec": {
   "display_name": "Python [conda env:MLAKSDeployment]",
   "language": "python",
   "name": "conda-env-MLAKSDeployment-py"
  },
  "language_info": {
   "codemirror_mode": {
    "name": "ipython",
    "version": 3
   },
   "file_extension": ".py",
   "mimetype": "text/x-python",
   "name": "python",
   "nbconvert_exporter": "python",
   "pygments_lexer": "ipython3",
   "version": "3.5.5"
  }
 },
 "nbformat": 4,
 "nbformat_minor": 2
}
