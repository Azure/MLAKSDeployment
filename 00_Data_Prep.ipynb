{
 "cells": [
  {
   "cell_type": "markdown",
   "metadata": {},
   "source": [
    "# Data Preparation"
   ]
  },
  {
   "cell_type": "markdown",
   "metadata": {},
   "source": [
    "In this notebook, we use a subset of [Stack Exchange network](https://archive.org/details/stackexchange) question data which includes original questions tagged as 'JavaScript', their duplicate questions and their answers. Here, we provide the steps to prepare the data to use in model development for training a model that will match a new question with an existing original question. "
   ]
  },
  {
   "cell_type": "code",
   "execution_count": 1,
   "metadata": {},
   "outputs": [],
   "source": [
    "import warnings\n",
    "warnings.filterwarnings(\"ignore\", message=\"numpy.dtype size changed\")\n",
    "\n",
    "import os\n",
    "import pandas as pd\n",
    "from utilities import read_csv_gz, clean_text, round_sample_strat, random_merge"
   ]
  },
  {
   "cell_type": "markdown",
   "metadata": {},
   "source": [
    "Below, we define some parameters that will be used in the data cleaning as well as train and test set preparation."
   ]
  },
  {
   "cell_type": "code",
   "execution_count": 2,
   "metadata": {},
   "outputs": [],
   "source": [
    "# The size of the test set\n",
    "test_size = 0.21\n",
    "# The minimum length of clean text\n",
    "min_text = 150\n",
    "# The minimum number of duplicates per question\n",
    "min_dupes = 12\n",
    "# The maximum number of duplicate matches\n",
    "match = 20"
   ]
  },
  {
   "cell_type": "markdown",
   "metadata": {},
   "source": [
    "## Data cleaning"
   ]
  },
  {
   "cell_type": "markdown",
   "metadata": {},
   "source": [
    "Next, we download the questions, duplicate questions and answers and load the datasets into pandas dataframes using the helper functions."
   ]
  },
  {
   "cell_type": "code",
   "execution_count": 3,
   "metadata": {},
   "outputs": [],
   "source": [
    "# URLs to original questions, duplicate questions, and answers.\n",
    "data_url = 'https://bostondata.blob.core.windows.net/stackoverflow/{}'\n",
    "questions_url = data_url.format('orig-q.tsv.gz')\n",
    "dupes_url = data_url.format('dup-q.tsv.gz')\n",
    "answers_url = data_url.format('ans.tsv.gz')"
   ]
  },
  {
   "cell_type": "code",
   "execution_count": 4,
   "metadata": {},
   "outputs": [],
   "source": [
    "# Load datasets.\n",
    "questions = read_csv_gz(questions_url, names=('Id', 'AnswerId', 'Text0', 'CreationDate'))\n",
    "dupes = read_csv_gz(dupes_url, names=('Id', 'AnswerId', 'Text0', 'CreationDate'))\n",
    "answers = read_csv_gz(answers_url, names=('Id', 'Text0'))"
   ]
  },
  {
   "cell_type": "markdown",
   "metadata": {},
   "source": [
    "Let's now check the dataframes. Notice that questions and duplicates have \"AnswerID\" column that would help match with the index of answers dataframe."
   ]
  },
  {
   "cell_type": "code",
   "execution_count": 5,
   "metadata": {},
   "outputs": [
    {
     "data": {
      "text/html": [
       "<div>\n",
       "<style scoped>\n",
       "    .dataframe tbody tr th:only-of-type {\n",
       "        vertical-align: middle;\n",
       "    }\n",
       "\n",
       "    .dataframe tbody tr th {\n",
       "        vertical-align: top;\n",
       "    }\n",
       "\n",
       "    .dataframe thead th {\n",
       "        text-align: right;\n",
       "    }\n",
       "</style>\n",
       "<table border=\"1\" class=\"dataframe\">\n",
       "  <thead>\n",
       "    <tr style=\"text-align: right;\">\n",
       "      <th></th>\n",
       "      <th>AnswerId</th>\n",
       "      <th>Text0</th>\n",
       "      <th>CreationDate</th>\n",
       "    </tr>\n",
       "    <tr>\n",
       "      <th>Id</th>\n",
       "      <th></th>\n",
       "      <th></th>\n",
       "      <th></th>\n",
       "    </tr>\n",
       "  </thead>\n",
       "  <tbody>\n",
       "    <tr>\n",
       "      <th>220231</th>\n",
       "      <td>220233</td>\n",
       "      <td>Accessing the web page's HTTP Headers in JavaS...</td>\n",
       "      <td>2008-10-20 22:54:38.767</td>\n",
       "    </tr>\n",
       "    <tr>\n",
       "      <th>391979</th>\n",
       "      <td>810461</td>\n",
       "      <td>Get client IP using just JavaScript?. &lt;p&gt;I nee...</td>\n",
       "      <td>2008-12-24 18:22:30.780</td>\n",
       "    </tr>\n",
       "    <tr>\n",
       "      <th>109086</th>\n",
       "      <td>109091</td>\n",
       "      <td>Stop setInterval call in JavaScript. &lt;p&gt;I am u...</td>\n",
       "      <td>2008-09-20 19:29:55.377</td>\n",
       "    </tr>\n",
       "    <tr>\n",
       "      <th>46155</th>\n",
       "      <td>46181</td>\n",
       "      <td>Validate email address in JavaScript?. &lt;p&gt;How ...</td>\n",
       "      <td>2008-09-05 16:10:11.093</td>\n",
       "    </tr>\n",
       "    <tr>\n",
       "      <th>121499</th>\n",
       "      <td>121708</td>\n",
       "      <td>When onblur occurs, how can I find out which e...</td>\n",
       "      <td>2008-09-23 14:48:43.483</td>\n",
       "    </tr>\n",
       "  </tbody>\n",
       "</table>\n",
       "</div>"
      ],
      "text/plain": [
       "        AnswerId                                              Text0  \\\n",
       "Id                                                                    \n",
       "220231    220233  Accessing the web page's HTTP Headers in JavaS...   \n",
       "391979    810461  Get client IP using just JavaScript?. <p>I nee...   \n",
       "109086    109091  Stop setInterval call in JavaScript. <p>I am u...   \n",
       "46155      46181  Validate email address in JavaScript?. <p>How ...   \n",
       "121499    121708  When onblur occurs, how can I find out which e...   \n",
       "\n",
       "                   CreationDate  \n",
       "Id                               \n",
       "220231  2008-10-20 22:54:38.767  \n",
       "391979  2008-12-24 18:22:30.780  \n",
       "109086  2008-09-20 19:29:55.377  \n",
       "46155   2008-09-05 16:10:11.093  \n",
       "121499  2008-09-23 14:48:43.483  "
      ]
     },
     "execution_count": 5,
     "metadata": {},
     "output_type": "execute_result"
    }
   ],
   "source": [
    "questions.head()"
   ]
  },
  {
   "cell_type": "code",
   "execution_count": 6,
   "metadata": {},
   "outputs": [
    {
     "data": {
      "text/html": [
       "<div>\n",
       "<style scoped>\n",
       "    .dataframe tbody tr th:only-of-type {\n",
       "        vertical-align: middle;\n",
       "    }\n",
       "\n",
       "    .dataframe tbody tr th {\n",
       "        vertical-align: top;\n",
       "    }\n",
       "\n",
       "    .dataframe thead th {\n",
       "        text-align: right;\n",
       "    }\n",
       "</style>\n",
       "<table border=\"1\" class=\"dataframe\">\n",
       "  <thead>\n",
       "    <tr style=\"text-align: right;\">\n",
       "      <th></th>\n",
       "      <th>AnswerId</th>\n",
       "      <th>Text0</th>\n",
       "      <th>CreationDate</th>\n",
       "    </tr>\n",
       "    <tr>\n",
       "      <th>Id</th>\n",
       "      <th></th>\n",
       "      <th></th>\n",
       "      <th></th>\n",
       "    </tr>\n",
       "  </thead>\n",
       "  <tbody>\n",
       "    <tr>\n",
       "      <th>665430</th>\n",
       "      <td>665404</td>\n",
       "      <td>Disable \"Back\" &amp; \"Refresh\" Button in Browser. ...</td>\n",
       "      <td>2009-03-20 09:13:31.800</td>\n",
       "    </tr>\n",
       "    <tr>\n",
       "      <th>114525</th>\n",
       "      <td>336868</td>\n",
       "      <td>The difference between the two functions? (\"fu...</td>\n",
       "      <td>2008-09-22 12:24:06.583</td>\n",
       "    </tr>\n",
       "    <tr>\n",
       "      <th>1347093</th>\n",
       "      <td>147765</td>\n",
       "      <td>ASP.NET Page_Unload to stop user from leaving ...</td>\n",
       "      <td>2009-08-28 13:46:51.217</td>\n",
       "    </tr>\n",
       "    <tr>\n",
       "      <th>1208252</th>\n",
       "      <td>26633883</td>\n",
       "      <td>See if a variable is an array using JavaScript...</td>\n",
       "      <td>2009-07-30 17:57:42.363</td>\n",
       "    </tr>\n",
       "    <tr>\n",
       "      <th>177867</th>\n",
       "      <td>122704</td>\n",
       "      <td>How do I copy the data of an element with jque...</td>\n",
       "      <td>2008-10-07 10:23:40.017</td>\n",
       "    </tr>\n",
       "  </tbody>\n",
       "</table>\n",
       "</div>"
      ],
      "text/plain": [
       "         AnswerId                                              Text0  \\\n",
       "Id                                                                     \n",
       "665430     665404  Disable \"Back\" & \"Refresh\" Button in Browser. ...   \n",
       "114525     336868  The difference between the two functions? (\"fu...   \n",
       "1347093    147765  ASP.NET Page_Unload to stop user from leaving ...   \n",
       "1208252  26633883  See if a variable is an array using JavaScript...   \n",
       "177867     122704  How do I copy the data of an element with jque...   \n",
       "\n",
       "                    CreationDate  \n",
       "Id                                \n",
       "665430   2009-03-20 09:13:31.800  \n",
       "114525   2008-09-22 12:24:06.583  \n",
       "1347093  2009-08-28 13:46:51.217  \n",
       "1208252  2009-07-30 17:57:42.363  \n",
       "177867   2008-10-07 10:23:40.017  "
      ]
     },
     "execution_count": 6,
     "metadata": {},
     "output_type": "execute_result"
    }
   ],
   "source": [
    "dupes.head()"
   ]
  },
  {
   "cell_type": "code",
   "execution_count": 7,
   "metadata": {},
   "outputs": [
    {
     "data": {
      "text/html": [
       "<div>\n",
       "<style scoped>\n",
       "    .dataframe tbody tr th:only-of-type {\n",
       "        vertical-align: middle;\n",
       "    }\n",
       "\n",
       "    .dataframe tbody tr th {\n",
       "        vertical-align: top;\n",
       "    }\n",
       "\n",
       "    .dataframe thead th {\n",
       "        text-align: right;\n",
       "    }\n",
       "</style>\n",
       "<table border=\"1\" class=\"dataframe\">\n",
       "  <thead>\n",
       "    <tr style=\"text-align: right;\">\n",
       "      <th></th>\n",
       "      <th>Text0</th>\n",
       "    </tr>\n",
       "    <tr>\n",
       "      <th>Id</th>\n",
       "      <th></th>\n",
       "    </tr>\n",
       "  </thead>\n",
       "  <tbody>\n",
       "    <tr>\n",
       "      <th>119473</th>\n",
       "      <td>&lt;p&gt;Try &lt;a href=\"http://johannburkard.de/blog/p...</td>\n",
       "    </tr>\n",
       "    <tr>\n",
       "      <th>324533</th>\n",
       "      <td>&lt;p&gt;Adapted from &lt;a href=\"http://www.javascript...</td>\n",
       "    </tr>\n",
       "    <tr>\n",
       "      <th>108232</th>\n",
       "      <td>&lt;p&gt;That is known as a textbox watermark, and i...</td>\n",
       "    </tr>\n",
       "    <tr>\n",
       "      <th>194399</th>\n",
       "      <td>&lt;p&gt;&lt;strong&gt;Obfuscation:&lt;/strong&gt;&lt;/p&gt; &lt;p&gt;Try &lt;a...</td>\n",
       "    </tr>\n",
       "    <tr>\n",
       "      <th>80127</th>\n",
       "      <td>&lt;p&gt;In JavaScript, \"this\" always refers to the ...</td>\n",
       "    </tr>\n",
       "  </tbody>\n",
       "</table>\n",
       "</div>"
      ],
      "text/plain": [
       "                                                    Text0\n",
       "Id                                                       \n",
       "119473  <p>Try <a href=\"http://johannburkard.de/blog/p...\n",
       "324533  <p>Adapted from <a href=\"http://www.javascript...\n",
       "108232  <p>That is known as a textbox watermark, and i...\n",
       "194399  <p><strong>Obfuscation:</strong></p> <p>Try <a...\n",
       "80127   <p>In JavaScript, \"this\" always refers to the ..."
      ]
     },
     "execution_count": 7,
     "metadata": {},
     "output_type": "execute_result"
    }
   ],
   "source": [
    "answers.head()"
   ]
  },
  {
   "cell_type": "markdown",
   "metadata": {},
   "source": [
    "Let's check the first original question's text."
   ]
  },
  {
   "cell_type": "code",
   "execution_count": 8,
   "metadata": {},
   "outputs": [
    {
     "data": {
      "text/plain": [
       "'Accessing the web page\\'s HTTP Headers in JavaScript. <p>How do I access a page\\'s HTTP response headers via JavaScript?</p> <p>Related to <a href=\"http://stackoverflow.com/questions/220149/how-do-i-access-the-http-request-header-fields-via-javascript\"><strong>this question</strong></a>, which was modified to ask about accessing two specific HTTP headers.</p> <blockquote> <p><strong>Related:</strong><br> <a href=\"http://stackoverflow.com/questions/220149/how-do-i-access-the-http-request-header-fields-via-javascript\">How do I access the HTTP request header fields via JavaScript?</a></p> </blockquote>'"
      ]
     },
     "execution_count": 8,
     "metadata": {},
     "output_type": "execute_result"
    }
   ],
   "source": [
    "questions.iloc[0,1]"
   ]
  },
  {
   "cell_type": "markdown",
   "metadata": {},
   "source": [
    "Let's now check the duplicates for that question."
   ]
  },
  {
   "cell_type": "code",
   "execution_count": 9,
   "metadata": {},
   "outputs": [
    {
     "data": {
      "text/html": [
       "<div>\n",
       "<style scoped>\n",
       "    .dataframe tbody tr th:only-of-type {\n",
       "        vertical-align: middle;\n",
       "    }\n",
       "\n",
       "    .dataframe tbody tr th {\n",
       "        vertical-align: top;\n",
       "    }\n",
       "\n",
       "    .dataframe thead th {\n",
       "        text-align: right;\n",
       "    }\n",
       "</style>\n",
       "<table border=\"1\" class=\"dataframe\">\n",
       "  <thead>\n",
       "    <tr style=\"text-align: right;\">\n",
       "      <th></th>\n",
       "      <th>AnswerId</th>\n",
       "      <th>Text0</th>\n",
       "      <th>CreationDate</th>\n",
       "    </tr>\n",
       "    <tr>\n",
       "      <th>Id</th>\n",
       "      <th></th>\n",
       "      <th></th>\n",
       "      <th></th>\n",
       "    </tr>\n",
       "  </thead>\n",
       "  <tbody>\n",
       "    <tr>\n",
       "      <th>3177208</th>\n",
       "      <td>220233</td>\n",
       "      <td>Monitoring http request header on a page. &lt;blo...</td>\n",
       "      <td>2010-07-05 04:20:19.663</td>\n",
       "    </tr>\n",
       "    <tr>\n",
       "      <th>12258705</th>\n",
       "      <td>220233</td>\n",
       "      <td>How can I read the current headers without mak...</td>\n",
       "      <td>2012-09-04 07:31:07.973</td>\n",
       "    </tr>\n",
       "    <tr>\n",
       "      <th>12256134</th>\n",
       "      <td>220233</td>\n",
       "      <td>How to know mime-type or content-type of curre...</td>\n",
       "      <td>2012-09-04 02:43:08.860</td>\n",
       "    </tr>\n",
       "    <tr>\n",
       "      <th>15135883</th>\n",
       "      <td>220233</td>\n",
       "      <td>How to access http response headers. &lt;pre&gt;&lt;cod...</td>\n",
       "      <td>2013-02-28 12:44:38.393</td>\n",
       "    </tr>\n",
       "    <tr>\n",
       "      <th>14673437</th>\n",
       "      <td>220233</td>\n",
       "      <td>Translate Prototype into jQuery?. &lt;blockquote&gt;...</td>\n",
       "      <td>2013-02-03 14:19:00.697</td>\n",
       "    </tr>\n",
       "    <tr>\n",
       "      <th>17466305</th>\n",
       "      <td>220233</td>\n",
       "      <td>How to read HTTP header values from JavaScript...</td>\n",
       "      <td>2013-07-04 09:08:32.240</td>\n",
       "    </tr>\n",
       "    <tr>\n",
       "      <th>26647511</th>\n",
       "      <td>220233</td>\n",
       "      <td>Is there a JS API to get information about hea...</td>\n",
       "      <td>2014-10-30 07:43:01.117</td>\n",
       "    </tr>\n",
       "    <tr>\n",
       "      <th>35604233</th>\n",
       "      <td>220233</td>\n",
       "      <td>How to read http request headers with javascri...</td>\n",
       "      <td>2016-02-24 14:00:49.247</td>\n",
       "    </tr>\n",
       "  </tbody>\n",
       "</table>\n",
       "</div>"
      ],
      "text/plain": [
       "          AnswerId                                              Text0  \\\n",
       "Id                                                                      \n",
       "3177208     220233  Monitoring http request header on a page. <blo...   \n",
       "12258705    220233  How can I read the current headers without mak...   \n",
       "12256134    220233  How to know mime-type or content-type of curre...   \n",
       "15135883    220233  How to access http response headers. <pre><cod...   \n",
       "14673437    220233  Translate Prototype into jQuery?. <blockquote>...   \n",
       "17466305    220233  How to read HTTP header values from JavaScript...   \n",
       "26647511    220233  Is there a JS API to get information about hea...   \n",
       "35604233    220233  How to read http request headers with javascri...   \n",
       "\n",
       "                     CreationDate  \n",
       "Id                                 \n",
       "3177208   2010-07-05 04:20:19.663  \n",
       "12258705  2012-09-04 07:31:07.973  \n",
       "12256134  2012-09-04 02:43:08.860  \n",
       "15135883  2013-02-28 12:44:38.393  \n",
       "14673437  2013-02-03 14:19:00.697  \n",
       "17466305  2013-07-04 09:08:32.240  \n",
       "26647511  2014-10-30 07:43:01.117  \n",
       "35604233  2016-02-24 14:00:49.247  "
      ]
     },
     "execution_count": 9,
     "metadata": {},
     "output_type": "execute_result"
    }
   ],
   "source": [
    "dupes[dupes.AnswerId == questions.iloc[0,0]]"
   ]
  },
  {
   "cell_type": "markdown",
   "metadata": {},
   "source": [
    "Below is the answer to the original question."
   ]
  },
  {
   "cell_type": "code",
   "execution_count": 10,
   "metadata": {},
   "outputs": [
    {
     "data": {
      "text/plain": [
       "'<p>Unfortunately, there isn\\'t an API to give you the HTTP response headers for your initial page request. That was the original question posted here. It has been <a href=\"http://stackoverflow.com/questions/12258705/how-can-i-read-the-current-headers-without-making-a-new-request-with-js\">repeatedly asked</a>, too, because some people would like to get the actual response headers of the original page request without issuing another one.</p> <h1><br/>For AJAX Requests:</h1> <p>If an HTTP request is made over AJAX, it is possible to get the response headers with the <strong><code>getAllResponseHeaders()</code></strong> method. It\\'s part of the XMLHttpRequest API. To see how this can be applied, check out the <em><code>fetchSimilarHeaders()</code></em> function below. Note that this is a work-around to the problem that won\\'t be reliable for some applications.</p> <pre><code>myXMLHttpRequest.getAllResponseHeaders(); </code></pre> <ul> <li><p>The API was specified in the following candidate recommendation for XMLHttpRequest: <a href=\"http://www.w3.org/TR/XMLHttpRequest/#the-getresponseheader-method\" rel=\"nofollow\">XMLHttpRequest - W3C Candidate Recommendation 3 August 2010</a></p></li> <li><p>Specifically, the <code>getAllResponseHeaders()</code> method was specified in the following section: <a href=\"http://www.w3.org/TR/XMLHttpRequest/#the-getallresponseheaders()-method\" rel=\"nofollow\">w3.org: <code>XMLHttpRequest</code>: the <code>getallresponseheaders()</code> method</a> </p></li> <li><p>The MDN documentation is good, too: <a href=\"https://developer.mozilla.org/en-US/docs/Web/API/XMLHttpRequest\" rel=\"nofollow\">developer.mozilla.org: <code>XMLHttpRequest</code></a>.</p></li> </ul> <p>This will not give you information about the original page request\\'s HTTP response headers, but it could be used to make educated guesses about what those headers were. More on that is described next.</p> <h1><br/>Getting header values from the Initial Page Request:</h1> <p>This question was first asked several years ago, asking specifically about how to get at the original HTTP response headers for the <em>current page</em> (i.e. the same page inside of which the javascript was running). This is quite a different question than simply getting the response headers for any HTTP request. For the initial page request, the headers aren\\'t readily available to javascript. Whether the header values you need will be reliably and sufficiently consistent if you request the same page again via AJAX will depend on your particular application.</p> <p>The following are a few suggestions for getting around that problem.</p> <h2><br/>1. Requests on Resources which are largely static</h2> <p>If the response is largely static and the headers are not expected to change much between requests, you could make an AJAX request for the same page you\\'re currently on and assume that they\\'re they are the same values which were part of the page\\'s HTTP response. This could allow you to access the headers you need using the nice XMLHttpRequest API described above.</p> <pre><code>function fetchSimilarHeaders (callback) { var request = new XMLHttpRequest(); request.onreadystatechange = function () { if (request.readyState === 4) { // // The following headers may often be similar // to those of the original page request... // if (callback &amp;&amp; typeof callback === \\'function\\') { callback(request.getAllResponseHeaders()); } } }; // // Re-request the same page (document.location) // We hope to get the same or similar response headers to those which // came with the current page, but we have no guarantee. // Since we are only after the headers, a HEAD request may be sufficient. // request.open(\\'HEAD\\', document.location, true); request.send(null); } </code></pre> <p>This approach will be problematic if you truly have to rely on the values being consistent between requests, since you can\\'t fully guarantee that they are the same. It\\'s going to depend on your specific application and'"
      ]
     },
     "execution_count": 10,
     "metadata": {},
     "output_type": "execute_result"
    }
   ],
   "source": [
    "answers.at[questions.iloc[0,0],'Text0']"
   ]
  },
  {
   "cell_type": "markdown",
   "metadata": {},
   "source": [
    "Next, we use the helper functions to clean questions, duplicates and answers from unwanted text such as code, html tags and links. Notice that we add a new column 'Text' to each dataframe for clean text in lowercase."
   ]
  },
  {
   "cell_type": "code",
   "execution_count": 11,
   "metadata": {},
   "outputs": [],
   "source": [
    "# Clean up all text, and keep only data with some clean text.\n",
    "for df in (questions, dupes, answers):\n",
    "    df['Text'] = df.Text0.apply(clean_text).str.lower()"
   ]
  },
  {
   "cell_type": "code",
   "execution_count": 12,
   "metadata": {},
   "outputs": [],
   "source": [
    "questions = questions[questions.Text.str.len() > 0]\n",
    "answers = answers[answers.Text.str.len() > 0]\n",
    "dupes = dupes[dupes.Text.str.len() > 0]"
   ]
  },
  {
   "cell_type": "markdown",
   "metadata": {},
   "source": [
    "Let's compare the first original question and cleaned version as an example."
   ]
  },
  {
   "cell_type": "code",
   "execution_count": 13,
   "metadata": {},
   "outputs": [
    {
     "data": {
      "text/plain": [
       "'Accessing the web page\\'s HTTP Headers in JavaScript. <p>How do I access a page\\'s HTTP response headers via JavaScript?</p> <p>Related to <a href=\"http://stackoverflow.com/questions/220149/how-do-i-access-the-http-request-header-fields-via-javascript\"><strong>this question</strong></a>, which was modified to ask about accessing two specific HTTP headers.</p> <blockquote> <p><strong>Related:</strong><br> <a href=\"http://stackoverflow.com/questions/220149/how-do-i-access-the-http-request-header-fields-via-javascript\">How do I access the HTTP request header fields via JavaScript?</a></p> </blockquote>'"
      ]
     },
     "execution_count": 13,
     "metadata": {},
     "output_type": "execute_result"
    }
   ],
   "source": [
    "# Original question.\n",
    "questions.iloc[0,1]"
   ]
  },
  {
   "cell_type": "code",
   "execution_count": 14,
   "metadata": {},
   "outputs": [
    {
     "data": {
      "text/plain": [
       "\"accessing the web page's http headers in javascript. how do i access a page's http response headers via javascript? related to this question, which was modified to ask about accessing two specific http headers.  related: how do i access the http request header fields via javascript? \""
      ]
     },
     "execution_count": 14,
     "metadata": {},
     "output_type": "execute_result"
    }
   ],
   "source": [
    "# After cleaning.\n",
    "questions.iloc[0,3]"
   ]
  },
  {
   "cell_type": "markdown",
   "metadata": {},
   "source": [
    "it turns out that some duplicate questions were also in original questions. Also, some original questions and some duplicate questions were duplicated in the datasets. In the following, we remove them from the dataframes."
   ]
  },
  {
   "cell_type": "code",
   "execution_count": 15,
   "metadata": {},
   "outputs": [],
   "source": [
    "# First, remove dupes that are questions, then remove duplicated questions and dupes.\n",
    "dupes = dupes[~dupes.index.isin(questions.index)]\n",
    "questions = questions[~questions.index.duplicated(keep='first')]\n",
    "dupes = dupes[~dupes.index.duplicated(keep='first')]"
   ]
  },
  {
   "cell_type": "markdown",
   "metadata": {},
   "source": [
    "We also make sure we keep questions with answers and duplicates."
   ]
  },
  {
   "cell_type": "code",
   "execution_count": 16,
   "metadata": {},
   "outputs": [],
   "source": [
    "# Keep only questions with answers and dupes, answers to questions, and dupes of questions.\n",
    "questions = questions[questions.AnswerId.isin(answers.index) & questions.AnswerId.isin(dupes.AnswerId)]\n",
    "answers = answers[answers.index.isin(questions.AnswerId)]\n",
    "dupes = dupes[dupes.AnswerId.isin(questions.AnswerId)]"
   ]
  },
  {
   "cell_type": "code",
   "execution_count": 17,
   "metadata": {},
   "outputs": [],
   "source": [
    "# Verify data integrity.\n",
    "assert questions.AnswerId.isin(answers.index).all()\n",
    "assert answers.index.isin(questions.AnswerId).all()\n",
    "assert questions.AnswerId.isin(dupes.AnswerId).all()\n",
    "assert dupes.AnswerId.isin(questions.AnswerId).all()"
   ]
  },
  {
   "cell_type": "markdown",
   "metadata": {},
   "source": [
    "Below are some statistics on the data. Notice that some questions have very low number of duplicates while others may have a large number. "
   ]
  },
  {
   "cell_type": "code",
   "execution_count": 18,
   "metadata": {},
   "outputs": [
    {
     "name": "stdout",
     "output_type": "stream",
     "text": [
      "Text statistics:\n",
      "             count        mean         std   min    25%    50%    75%     max\n",
      "questions   1714.0  415.827305  319.857854  56.0  225.0  334.0  509.0  3982.0\n",
      "answers     1714.0  616.274212  673.060199   1.0  178.0  375.0  757.0  3982.0\n",
      "dupes      16139.0  441.303612  363.638297  25.0  247.0  357.0  519.0  3989.0\n",
      "\n",
      "Duplication statistics:\n",
      "               count      mean        std  min  25%  50%  75%     max\n",
      "duplications  1714.0  9.415986  41.638847  1.0  3.0  4.0  7.0  1369.0\n",
      "\n",
      "Largest class: 8.48%\n"
     ]
    }
   ],
   "source": [
    "# Report on the data.\n",
    "print('Text statistics:')\n",
    "print(pd.DataFrame([questions.Text.str.len().describe()\n",
    "                    .rename('questions'),\n",
    "                    answers.Text.str.len().describe()\n",
    "                    .rename('answers'),\n",
    "                    dupes.Text.str.len().describe()\n",
    "                    .rename('dupes')]))\n",
    "print('\\nDuplication statistics:')\n",
    "print(pd.DataFrame([dupes.AnswerId.value_counts().describe()\n",
    "                    .rename('duplications')]))\n",
    "print('\\nLargest class: {:.2%}'.format(\n",
    "    dupes.AnswerId.value_counts().max()\n",
    "    / dupes.shape[0]))\n"
   ]
  },
  {
   "cell_type": "markdown",
   "metadata": {},
   "source": [
    "Now, we reset all indexes to use them as columns in the rest of the steps."
   ]
  },
  {
   "cell_type": "code",
   "execution_count": 19,
   "metadata": {},
   "outputs": [],
   "source": [
    "# Reset each dataframe's index.\n",
    "questions.reset_index(inplace=True)\n",
    "answers.reset_index(inplace=True)\n",
    "dupes.reset_index(inplace=True)"
   ]
  },
  {
   "cell_type": "markdown",
   "metadata": {},
   "source": [
    "We filter the questions and duplicates to have at least min_text number of characters."
   ]
  },
  {
   "cell_type": "code",
   "execution_count": 20,
   "metadata": {},
   "outputs": [],
   "source": [
    "# Apply the minimum text length to questions and dupes.\n",
    "questions = questions[questions.Text.str.len() >= min_text]\n",
    "dupes = dupes[dupes.Text.str.len() >= min_text]"
   ]
  },
  {
   "cell_type": "code",
   "execution_count": 21,
   "metadata": {},
   "outputs": [],
   "source": [
    "# Keep only questions with dupes, and dupes of questions.\n",
    "label_column = 'AnswerId'\n",
    "questions = questions[questions[label_column].isin(dupes[label_column])]\n",
    "dupes = dupes[dupes[label_column].isin(questions[label_column])]"
   ]
  },
  {
   "cell_type": "markdown",
   "metadata": {},
   "source": [
    "Here, we remove questions and their duplicates that are less than min_dupes parameter."
   ]
  },
  {
   "cell_type": "code",
   "execution_count": 22,
   "metadata": {},
   "outputs": [],
   "source": [
    "# Restrict the questions to those with a minimum number of dupes.\n",
    "answerid_count = dupes.groupby(label_column)[label_column].count()\n",
    "answerid_min = answerid_count.index[answerid_count >= min_dupes]\n",
    "questions = questions[questions[label_column].isin(answerid_min)]\n",
    "dupes = dupes[dupes[label_column].isin(answerid_min)]"
   ]
  },
  {
   "cell_type": "code",
   "execution_count": 23,
   "metadata": {},
   "outputs": [],
   "source": [
    " # Verify data integrity.\n",
    "assert questions[label_column].isin(dupes[label_column]).all()\n",
    "assert dupes[label_column].isin(questions[label_column]).all()"
   ]
  },
  {
   "cell_type": "markdown",
   "metadata": {},
   "source": [
    "Here are some statistics on the resulting dataset."
   ]
  },
  {
   "cell_type": "code",
   "execution_count": 24,
   "metadata": {},
   "outputs": [
    {
     "name": "stdout",
     "output_type": "stream",
     "text": [
      "Restrictions: min_text=150, min_dupes=12\n",
      "Restricted text statistics:\n",
      "            count        mean         std    min     25%    50%    75%     max\n",
      "questions   182.0  413.450549  218.028193  153.0  264.25  338.5  510.5  1475.0\n",
      "dupes      8260.0  479.882324  398.791447  150.0  270.00  380.0  553.0  3989.0\n",
      "\n",
      "Restricted duplication statistics:\n",
      "              count       mean         std   min   25%   50%   75%     max\n",
      "duplications  182.0  45.384615  117.074823  12.0  15.0  20.0  33.0  1328.0\n",
      "\n",
      "Restricted largest class: 16.08%\n"
     ]
    }
   ],
   "source": [
    "# Report on the data.\n",
    "print('Restrictions: min_text={}, min_dupes={}'.format(\n",
    "    min_text, min_dupes))\n",
    "print('Restricted text statistics:')\n",
    "print(pd.DataFrame([questions.Text.str.len().describe()\n",
    "                    .rename('questions'),\n",
    "                    dupes.Text.str.len().describe()\n",
    "                    .rename('dupes')]))\n",
    "print('\\nRestricted duplication statistics:')\n",
    "print(pd.DataFrame([dupes[label_column].value_counts().describe()\n",
    "                    .rename('duplications')]))\n",
    "print('\\nRestricted largest class: {:.2%}'.format(\n",
    "    dupes[label_column].value_counts().max()\n",
    "    / dupes.shape[0]))"
   ]
  },
  {
   "cell_type": "markdown",
   "metadata": {},
   "source": [
    "## Prepare train and test sets"
   ]
  },
  {
   "cell_type": "markdown",
   "metadata": {},
   "source": [
    "In this part, we prepare train and test sets. For training a binary classification model, we will need to construct match and non-match pairs from duplicates and their questions. Finding matching pairs can be accomplished by joining each duplicate with its question. However, non-match examples need to be constructed randomly. "
   ]
  },
  {
   "cell_type": "markdown",
   "metadata": {},
   "source": [
    "As a first step, to make sure we train and test the performance of the model on each question, we will need to have examples of match and non-match pairs for each question both in train and test sets. In order to achieve that, we split the duplicates in a stratified manner into train and test sets making sure at least 1 or more duplicates per question is in the test set depending on test_size parameter and number of duplicates per each question."
   ]
  },
  {
   "cell_type": "code",
   "execution_count": 25,
   "metadata": {},
   "outputs": [],
   "source": [
    "# Split dupes into train and test ensuring at least one of each label class is in test.\n",
    "dupes_test = round_sample_strat(dupes, dupes[label_column], frac=test_size)\n",
    "dupes_train = dupes[~dupes.Id.isin(dupes_test.Id)]"
   ]
  },
  {
   "cell_type": "code",
   "execution_count": 26,
   "metadata": {},
   "outputs": [],
   "source": [
    "assert (dupes_test[label_column].unique().shape[0] == dupes[label_column].unique().shape[0])"
   ]
  },
  {
   "cell_type": "code",
   "execution_count": 27,
   "metadata": {},
   "outputs": [],
   "source": [
    "# The relevant columns for text pairs data.\n",
    "balanced_pairs_columns = ['Id_x', 'AnswerId_x', 'Text_x', 'Id_y', 'Text_y', 'AnswerId_y', 'Label', 'n']"
   ]
  },
  {
   "cell_type": "markdown",
   "metadata": {},
   "source": [
    "Next, we pair each training duplicate in train set with its matching question and N-1 random questions using the helper function."
   ]
  },
  {
   "cell_type": "code",
   "execution_count": 28,
   "metadata": {},
   "outputs": [
    {
     "name": "stdout",
     "output_type": "stream",
     "text": [
      "CPU times: user 53.7 s, sys: 158 ms, total: 53.8 s\n",
      "Wall time: 53.8 s\n"
     ]
    }
   ],
   "source": [
    "%%time\n",
    "# Use AnswerId to pair each training dupe with its matching question and also with N-1 questions not its match.\n",
    "balanced_pairs_train = random_merge(dupes_train, questions, N=match)"
   ]
  },
  {
   "cell_type": "markdown",
   "metadata": {},
   "source": [
    "Labeling is done such that matching pairs are labeled as 1 and non-match pairs are labeled as 0."
   ]
  },
  {
   "cell_type": "code",
   "execution_count": 29,
   "metadata": {},
   "outputs": [],
   "source": [
    "# Label records by matching AnswerIds.\n",
    "balanced_pairs_train['Label'] = (balanced_pairs_train.AnswerId_x == balanced_pairs_train.AnswerId_y).astype(int)"
   ]
  },
  {
   "cell_type": "code",
   "execution_count": 30,
   "metadata": {},
   "outputs": [],
   "source": [
    "# Keep only the relevant data.\n",
    "balanced_pairs_train = balanced_pairs_train[balanced_pairs_columns]"
   ]
  },
  {
   "cell_type": "code",
   "execution_count": 31,
   "metadata": {
    "scrolled": true
   },
   "outputs": [
    {
     "data": {
      "text/html": [
       "<div>\n",
       "<style scoped>\n",
       "    .dataframe tbody tr th:only-of-type {\n",
       "        vertical-align: middle;\n",
       "    }\n",
       "\n",
       "    .dataframe tbody tr th {\n",
       "        vertical-align: top;\n",
       "    }\n",
       "\n",
       "    .dataframe thead th {\n",
       "        text-align: right;\n",
       "    }\n",
       "</style>\n",
       "<table border=\"1\" class=\"dataframe\">\n",
       "  <thead>\n",
       "    <tr style=\"text-align: right;\">\n",
       "      <th></th>\n",
       "      <th>Id_x</th>\n",
       "      <th>AnswerId_x</th>\n",
       "      <th>Text_x</th>\n",
       "      <th>Id_y</th>\n",
       "      <th>Text_y</th>\n",
       "      <th>AnswerId_y</th>\n",
       "      <th>Label</th>\n",
       "      <th>n</th>\n",
       "    </tr>\n",
       "  </thead>\n",
       "  <tbody>\n",
       "    <tr>\n",
       "      <th>0</th>\n",
       "      <td>177867</td>\n",
       "      <td>122704</td>\n",
       "      <td>how do i copy the data of an element with jque...</td>\n",
       "      <td>122102</td>\n",
       "      <td>what is the most efficient way to clone an obj...</td>\n",
       "      <td>122704</td>\n",
       "      <td>1</td>\n",
       "      <td>0</td>\n",
       "    </tr>\n",
       "    <tr>\n",
       "      <th>1</th>\n",
       "      <td>565430</td>\n",
       "      <td>122704</td>\n",
       "      <td>(deep) copying an array using jquery.  possibl...</td>\n",
       "      <td>122102</td>\n",
       "      <td>what is the most efficient way to clone an obj...</td>\n",
       "      <td>122704</td>\n",
       "      <td>1</td>\n",
       "      <td>0</td>\n",
       "    </tr>\n",
       "    <tr>\n",
       "      <th>2</th>\n",
       "      <td>3474697</td>\n",
       "      <td>122704</td>\n",
       "      <td>how to clone js object?.  possible duplicate: ...</td>\n",
       "      <td>122102</td>\n",
       "      <td>what is the most efficient way to clone an obj...</td>\n",
       "      <td>122704</td>\n",
       "      <td>1</td>\n",
       "      <td>0</td>\n",
       "    </tr>\n",
       "    <tr>\n",
       "      <th>3</th>\n",
       "      <td>10801878</td>\n",
       "      <td>122704</td>\n",
       "      <td>how can i copy a variable without pointing to ...</td>\n",
       "      <td>122102</td>\n",
       "      <td>what is the most efficient way to clone an obj...</td>\n",
       "      <td>122704</td>\n",
       "      <td>1</td>\n",
       "      <td>0</td>\n",
       "    </tr>\n",
       "    <tr>\n",
       "      <th>4</th>\n",
       "      <td>9610918</td>\n",
       "      <td>122704</td>\n",
       "      <td>how do i get a new reference to an object.  po...</td>\n",
       "      <td>122102</td>\n",
       "      <td>what is the most efficient way to clone an obj...</td>\n",
       "      <td>122704</td>\n",
       "      <td>1</td>\n",
       "      <td>0</td>\n",
       "    </tr>\n",
       "  </tbody>\n",
       "</table>\n",
       "</div>"
      ],
      "text/plain": [
       "       Id_x  AnswerId_x                                             Text_x  \\\n",
       "0    177867      122704  how do i copy the data of an element with jque...   \n",
       "1    565430      122704  (deep) copying an array using jquery.  possibl...   \n",
       "2   3474697      122704  how to clone js object?.  possible duplicate: ...   \n",
       "3  10801878      122704  how can i copy a variable without pointing to ...   \n",
       "4   9610918      122704  how do i get a new reference to an object.  po...   \n",
       "\n",
       "     Id_y                                             Text_y  AnswerId_y  \\\n",
       "0  122102  what is the most efficient way to clone an obj...      122704   \n",
       "1  122102  what is the most efficient way to clone an obj...      122704   \n",
       "2  122102  what is the most efficient way to clone an obj...      122704   \n",
       "3  122102  what is the most efficient way to clone an obj...      122704   \n",
       "4  122102  what is the most efficient way to clone an obj...      122704   \n",
       "\n",
       "   Label  n  \n",
       "0      1  0  \n",
       "1      1  0  \n",
       "2      1  0  \n",
       "3      1  0  \n",
       "4      1  0  "
      ]
     },
     "execution_count": 31,
     "metadata": {},
     "output_type": "execute_result"
    }
   ],
   "source": [
    "balanced_pairs_train.head()"
   ]
  },
  {
   "cell_type": "code",
   "execution_count": 32,
   "metadata": {},
   "outputs": [],
   "source": [
    "# Sort the data by dupe ID and Label.\n",
    "balanced_pairs_train.sort_values(by=['Id_x', 'Label'], ascending=[True, False], inplace=True)"
   ]
  },
  {
   "cell_type": "markdown",
   "metadata": {},
   "source": [
    "In testing set, we match each duplicate with all the original questions and label them same way as training set."
   ]
  },
  {
   "cell_type": "code",
   "execution_count": 33,
   "metadata": {},
   "outputs": [
    {
     "name": "stdout",
     "output_type": "stream",
     "text": [
      "CPU times: user 19.3 s, sys: 40.1 ms, total: 19.3 s\n",
      "Wall time: 19.3 s\n"
     ]
    }
   ],
   "source": [
    "%%time\n",
    "# Use AnswerId to pair each testing dupe with all questions.\n",
    "balanced_pairs_test = random_merge(dupes_test, questions, N=questions.shape[0])"
   ]
  },
  {
   "cell_type": "code",
   "execution_count": 34,
   "metadata": {},
   "outputs": [],
   "source": [
    "# Label records by matching AnswerIds.\n",
    "balanced_pairs_test['Label'] = (balanced_pairs_test.AnswerId_x == balanced_pairs_test.AnswerId_y).astype(int)"
   ]
  },
  {
   "cell_type": "code",
   "execution_count": 35,
   "metadata": {},
   "outputs": [],
   "source": [
    "# Keep only the relevant data.\n",
    "balanced_pairs_test = balanced_pairs_test[balanced_pairs_columns]"
   ]
  },
  {
   "cell_type": "code",
   "execution_count": 36,
   "metadata": {},
   "outputs": [
    {
     "data": {
      "text/html": [
       "<div>\n",
       "<style scoped>\n",
       "    .dataframe tbody tr th:only-of-type {\n",
       "        vertical-align: middle;\n",
       "    }\n",
       "\n",
       "    .dataframe tbody tr th {\n",
       "        vertical-align: top;\n",
       "    }\n",
       "\n",
       "    .dataframe thead th {\n",
       "        text-align: right;\n",
       "    }\n",
       "</style>\n",
       "<table border=\"1\" class=\"dataframe\">\n",
       "  <thead>\n",
       "    <tr style=\"text-align: right;\">\n",
       "      <th></th>\n",
       "      <th>Id_x</th>\n",
       "      <th>AnswerId_x</th>\n",
       "      <th>Text_x</th>\n",
       "      <th>Id_y</th>\n",
       "      <th>Text_y</th>\n",
       "      <th>AnswerId_y</th>\n",
       "      <th>Label</th>\n",
       "      <th>n</th>\n",
       "    </tr>\n",
       "  </thead>\n",
       "  <tbody>\n",
       "    <tr>\n",
       "      <th>0</th>\n",
       "      <td>13782698</td>\n",
       "      <td>6700</td>\n",
       "      <td>get total number of items on json object?.  po...</td>\n",
       "      <td>5223</td>\n",
       "      <td>length of a javascript object (that is, associ...</td>\n",
       "      <td>6700</td>\n",
       "      <td>1</td>\n",
       "      <td>0</td>\n",
       "    </tr>\n",
       "    <tr>\n",
       "      <th>1</th>\n",
       "      <td>6283466</td>\n",
       "      <td>6700</td>\n",
       "      <td>count key/values in json.  possible duplicate:...</td>\n",
       "      <td>5223</td>\n",
       "      <td>length of a javascript object (that is, associ...</td>\n",
       "      <td>6700</td>\n",
       "      <td>1</td>\n",
       "      <td>0</td>\n",
       "    </tr>\n",
       "    <tr>\n",
       "      <th>2</th>\n",
       "      <td>29730927</td>\n",
       "      <td>27943</td>\n",
       "      <td>php distance between two points latitude longi...</td>\n",
       "      <td>27928</td>\n",
       "      <td>calculate distance between two latitude-longit...</td>\n",
       "      <td>27943</td>\n",
       "      <td>1</td>\n",
       "      <td>0</td>\n",
       "    </tr>\n",
       "    <tr>\n",
       "      <th>3</th>\n",
       "      <td>25048673</td>\n",
       "      <td>27943</td>\n",
       "      <td>what is the equation of longitude and latitude...</td>\n",
       "      <td>27928</td>\n",
       "      <td>calculate distance between two latitude-longit...</td>\n",
       "      <td>27943</td>\n",
       "      <td>1</td>\n",
       "      <td>0</td>\n",
       "    </tr>\n",
       "    <tr>\n",
       "      <th>4</th>\n",
       "      <td>35494335</td>\n",
       "      <td>31047</td>\n",
       "      <td>how to check for null or undefined in javascri...</td>\n",
       "      <td>31044</td>\n",
       "      <td>is there an \"exists\" function for jquery?. how...</td>\n",
       "      <td>31047</td>\n",
       "      <td>1</td>\n",
       "      <td>0</td>\n",
       "    </tr>\n",
       "  </tbody>\n",
       "</table>\n",
       "</div>"
      ],
      "text/plain": [
       "       Id_x  AnswerId_x                                             Text_x  \\\n",
       "0  13782698        6700  get total number of items on json object?.  po...   \n",
       "1   6283466        6700  count key/values in json.  possible duplicate:...   \n",
       "2  29730927       27943  php distance between two points latitude longi...   \n",
       "3  25048673       27943  what is the equation of longitude and latitude...   \n",
       "4  35494335       31047  how to check for null or undefined in javascri...   \n",
       "\n",
       "    Id_y                                             Text_y  AnswerId_y  \\\n",
       "0   5223  length of a javascript object (that is, associ...        6700   \n",
       "1   5223  length of a javascript object (that is, associ...        6700   \n",
       "2  27928  calculate distance between two latitude-longit...       27943   \n",
       "3  27928  calculate distance between two latitude-longit...       27943   \n",
       "4  31044  is there an \"exists\" function for jquery?. how...       31047   \n",
       "\n",
       "   Label  n  \n",
       "0      1  0  \n",
       "1      1  0  \n",
       "2      1  0  \n",
       "3      1  0  \n",
       "4      1  0  "
      ]
     },
     "execution_count": 36,
     "metadata": {},
     "output_type": "execute_result"
    }
   ],
   "source": [
    "balanced_pairs_test.head()"
   ]
  },
  {
   "cell_type": "code",
   "execution_count": 37,
   "metadata": {},
   "outputs": [],
   "source": [
    "# Sort the data by dupe ID and Label.\n",
    "balanced_pairs_test.sort_values(by=['Id_x', 'Label'], ascending=[True, False], inplace=True)"
   ]
  },
  {
   "cell_type": "markdown",
   "metadata": {},
   "source": [
    "Finally, we report the final train and test sets and save as text files to be used by modeling."
   ]
  },
  {
   "cell_type": "code",
   "execution_count": 38,
   "metadata": {},
   "outputs": [
    {
     "name": "stdout",
     "output_type": "stream",
     "text": [
      "balanced_pairs_train: 132,500 rows with 5.00% matches\n",
      "balanced_pairs_test: 297,570 rows with 0.55% matches\n"
     ]
    }
   ],
   "source": [
    "# Report on the datasets.\n",
    "print('balanced_pairs_train: {:,} rows with {:.2%} matches'.format(balanced_pairs_train.shape[0], \n",
    "                                                                   balanced_pairs_train.Label.mean()))\n",
    "print('balanced_pairs_test: {:,} rows with {:.2%} matches'.format(balanced_pairs_test.shape[0], \n",
    "                                                                  balanced_pairs_test.Label.mean()))"
   ]
  },
  {
   "cell_type": "code",
   "execution_count": 39,
   "metadata": {},
   "outputs": [
    {
     "name": "stdout",
     "output_type": "stream",
     "text": [
      "Writing 132,500 to balanced_pairs_train.tsv\n",
      "Writing 297,570 to balanced_pairs_test.tsv\n",
      "Writing 182 to questions.tsv\n",
      "Writing 1,635 to dupes_test.tsv\n"
     ]
    }
   ],
   "source": [
    "# Save the data.\n",
    "balanced_pairs_train_path = 'balanced_pairs_train.tsv'\n",
    "print('Writing {:,} to {}'.format(balanced_pairs_train.shape[0], balanced_pairs_train_path))\n",
    "balanced_pairs_train.to_csv(balanced_pairs_train_path, sep='\\t',header=True, index=False)\n",
    "\n",
    "balanced_pairs_test_path = 'balanced_pairs_test.tsv'\n",
    "print('Writing {:,} to {}'.format(balanced_pairs_test.shape[0], balanced_pairs_test_path))\n",
    "balanced_pairs_test.to_csv(balanced_pairs_test_path, sep='\\t', header=True, index=False)\n",
    "\n",
    "# Save original questions to be used for scoring later.\n",
    "questions_path = 'questions.tsv'\n",
    "print('Writing {:,} to {}'.format(questions.shape[0], questions_path))\n",
    "questions.to_csv(questions_path, sep='\\t', header=True, index=False)\n",
    "\n",
    "# Save the test duplicate questions to be used with the scoring function.\n",
    "dupes_test_path = 'dupes_test.tsv'\n",
    "print('Writing {:,} to {}'.format(dupes_test.shape[0], dupes_test_path))\n",
    "dupes_test.to_csv(dupes_test_path, sep='\\t', header=True, index=False)"
   ]
  },
  {
   "cell_type": "markdown",
   "metadata": {},
   "source": [
    "We can now move on to [building the model](01_Create_Model.ipynb)."
   ]
  }
 ],
 "metadata": {
  "kernelspec": {
   "display_name": "Python [conda env:MLAKSDeployment]",
   "language": "python",
   "name": "conda-env-MLAKSDeployment-py"
  },
  "language_info": {
   "codemirror_mode": {
    "name": "ipython",
    "version": 3
   },
   "file_extension": ".py",
   "mimetype": "text/x-python",
   "name": "python",
   "nbconvert_exporter": "python",
   "pygments_lexer": "ipython3",
   "version": "3.5.5"
  }
 },
 "nbformat": 4,
 "nbformat_minor": 2
}
