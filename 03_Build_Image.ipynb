{
 "cells": [
  {
   "cell_type": "markdown",
   "metadata": {},
   "source": [
    "# Build Docker Image"
   ]
  },
  {
   "cell_type": "markdown",
   "metadata": {},
   "source": [
    "In this notebook, we will build the docker container that contains the  model, Flask web application, model driver and all dependencies. Make sure you have logged in using docker login."
   ]
  },
  {
   "cell_type": "code",
   "execution_count": null,
   "metadata": {
    "tags": [
     "parameters"
    ]
   },
   "outputs": [],
   "source": [
    "dockerlogin='YOUR_DOCKER_LOGIN'\n",
    "imagerepo='/mlaksdep'"
   ]
  },
  {
   "cell_type": "code",
   "execution_count": null,
   "metadata": {},
   "outputs": [],
   "source": [
    "import os\n",
    "from os import path\n",
    "import json\n",
    "import shutil\n",
    "import dotenv\n",
    "%load_ext dotenv"
   ]
  },
  {
   "cell_type": "markdown",
   "metadata": {},
   "source": [
    "We will be using the following Docker information to push the image to docker hub. Please modify the values in the `set_key` statements as you see fit."
   ]
  },
  {
   "cell_type": "code",
   "execution_count": null,
   "metadata": {
    "tags": [
     "parameters"
    ]
   },
   "outputs": [],
   "source": [
    "dotenv_path = os.path.join('.', '.env')  # The location of the dotenv file\n",
    "if os.path.isfile(dotenv_path):          # Remove any pre-existing dotenv file to ensure a blank slate\n",
    "    os.remove(dotenv_path)\n",
    "with open(dotenv_path, 'w'):             # Create an empty dotenv file\n",
    "    None\n",
    "# Your docker login and image repository name\n",
    "dotenv.set_key(dotenv_path, 'docker_login', dockerlogin)\n",
    "dotenv.set_key(dotenv_path, 'image_repo', imagerepo)"
   ]
  },
  {
   "cell_type": "markdown",
   "metadata": {},
   "source": [
    "Import the values into the browser's environment."
   ]
  },
  {
   "cell_type": "code",
   "execution_count": null,
   "metadata": {},
   "outputs": [],
   "source": [
    "%dotenv -o"
   ]
  },
  {
   "cell_type": "code",
   "execution_count": null,
   "metadata": {},
   "outputs": [],
   "source": [
    "os.makedirs('flaskwebapp', exist_ok=True)\n",
    "os.makedirs(os.path.join('flaskwebapp', 'nginx'), exist_ok=True)\n",
    "os.makedirs(os.path.join('flaskwebapp', 'etc'), exist_ok=True)"
   ]
  },
  {
   "cell_type": "code",
   "execution_count": null,
   "metadata": {},
   "outputs": [],
   "source": [
    "shutil.copy('driver.py', 'flaskwebapp')\n",
    "shutil.copy('duplicate_model.py', 'flaskwebapp')\n",
    "shutil.copy('model.pkl', 'flaskwebapp')\n",
    "shutil.copy('questions.tsv', 'flaskwebapp')\n",
    "shutil.copy('ItemSelector.py', 'flaskwebapp')\n",
    "os.listdir('flaskwebapp')"
   ]
  },
  {
   "cell_type": "code",
   "execution_count": null,
   "metadata": {},
   "outputs": [],
   "source": [
    "%%writefile flaskwebapp/app.py\n",
    "\n",
    "from flask import Flask, request\n",
    "import logging\n",
    "import json\n",
    "import driver\n",
    "\n",
    "app = Flask(__name__)\n",
    "predict_for = driver.get_model_api()\n",
    " \n",
    "@app.route(\"/score\", methods = ['POST'])\n",
    "def scoreRRS():\n",
    "    \"\"\" Endpoint for scoring\n",
    "    \"\"\"\n",
    "    if request.headers['Content-Type'] != 'application/json':\n",
    "        return Response(json.dumps({}), status= 415, mimetype ='application/json')\n",
    "    request_input = request.json['input']\n",
    "    response = predict_for(request_input)\n",
    "    print(response)\n",
    "    return json.dumps({'result': response})\n",
    "\n",
    "\n",
    "@app.route(\"/\")\n",
    "def healthy():\n",
    "    return \"Healthy\"\n",
    "\n",
    "# LightGBM Version\n",
    "@app.route('/version', methods = ['GET'])\n",
    "def version_request():\n",
    "    return driver.version()\n",
    "\n",
    "if __name__ == \"__main__\":\n",
    "    app.run(host='0.0.0.0', port=5000)"
   ]
  },
  {
   "cell_type": "code",
   "execution_count": null,
   "metadata": {},
   "outputs": [],
   "source": [
    "%%writefile flaskwebapp/wsgi.py\n",
    "from app import app as application\n",
    "\n",
    "def create():\n",
    "    print(\"Initialising\")\n",
    "    application.run(host='127.0.0.1', port=5000)"
   ]
  },
  {
   "cell_type": "markdown",
   "metadata": {},
   "source": [
    "Here, we write the configuration for the Nginx which creates a proxy between ports 80 and 5000."
   ]
  },
  {
   "cell_type": "code",
   "execution_count": null,
   "metadata": {},
   "outputs": [],
   "source": [
    "%%writefile flaskwebapp/nginx/app\n",
    "server {\n",
    "    listen 80;\n",
    "    server_name _;\n",
    " \n",
    "    location / {\n",
    "    include proxy_params;\n",
    "    proxy_pass http://127.0.0.1:5000;\n",
    "    proxy_connect_timeout 5000s;\n",
    "    proxy_read_timeout 5000s;\n",
    "  }\n",
    "}"
   ]
  },
  {
   "cell_type": "code",
   "execution_count": null,
   "metadata": {},
   "outputs": [],
   "source": [
    "%%writefile flaskwebapp/gunicorn_logging.conf\n",
    "\n",
    "[loggers]\n",
    "keys=root, gunicorn.error\n",
    "\n",
    "[handlers]\n",
    "keys=console\n",
    "\n",
    "[formatters]\n",
    "keys=json\n",
    "\n",
    "[logger_root]\n",
    "level=INFO\n",
    "handlers=console\n",
    "\n",
    "[logger_gunicorn.error]\n",
    "level=ERROR\n",
    "handlers=console\n",
    "propagate=0\n",
    "qualname=gunicorn.error\n",
    "\n",
    "[handler_console]\n",
    "class=StreamHandler\n",
    "formatter=json\n",
    "args=(sys.stdout, )\n",
    "\n",
    "[formatter_json]\n",
    "class=jsonlogging.JSONFormatter"
   ]
  },
  {
   "cell_type": "code",
   "execution_count": null,
   "metadata": {},
   "outputs": [],
   "source": [
    "%%writefile flaskwebapp/kill_supervisor.py\n",
    "import sys\n",
    "import os\n",
    "import signal\n",
    "\n",
    "def write_stdout(s):\n",
    "    sys.stdout.write(s)\n",
    "    sys.stdout.flush()\n",
    "\n",
    "# this function is modified from the code and knowledge found here: http://supervisord.org/events.html#example-event-listener-implementation\n",
    "def main():\n",
    "    while 1:\n",
    "        write_stdout('READY\\n')\n",
    "        # wait for the event on stdin that supervisord will send\n",
    "        line = sys.stdin.readline()\n",
    "        write_stdout('Killing supervisor with this event: ' + line);\n",
    "        try:\n",
    "            # supervisord writes its pid to its file from which we read it here, see supervisord.conf\n",
    "            pidfile = open('/tmp/supervisord.pid','r')\n",
    "            pid = int(pidfile.readline());\n",
    "            os.kill(pid, signal.SIGQUIT)\n",
    "        except Exception as e:\n",
    "            write_stdout('Could not kill supervisor: ' + e.strerror + '\\n')\n",
    "            write_stdout('RESULT 2\\nOK')\n",
    "\n",
    "main()"
   ]
  },
  {
   "cell_type": "code",
   "execution_count": null,
   "metadata": {},
   "outputs": [],
   "source": [
    "%%writefile flaskwebapp/etc/supervisord.conf \n",
    "[supervisord]\n",
    "logfile=/tmp/supervisord.log ; (main log file;default $CWD/supervisord.log)\n",
    "logfile_maxbytes=50MB        ; (max main logfile bytes b4 rotation;default 50MB)\n",
    "logfile_backups=10           ; (num of main logfile rotation backups;default 10)\n",
    "loglevel=info                ; (log level;default info; others: debug,warn,trace)\n",
    "pidfile=/tmp/supervisord.pid ; (supervisord pidfile;default supervisord.pid)\n",
    "nodaemon=true                ; (start in foreground if true;default false)\n",
    "minfds=1024                  ; (min. avail startup file descriptors;default 1024)\n",
    "minprocs=200                 ; (min. avail process descriptors;default 200)\n",
    "\n",
    "[program:gunicorn]\n",
    "command=bash -c \"gunicorn --workers 1 -m 007 --timeout 100000 --capture-output --error-logfile - --log-level debug --log-config gunicorn_logging.conf \\\"wsgi:create()\\\"\"\n",
    "directory=/code\n",
    "redirect_stderr=true\n",
    "stdout_logfile =/dev/stdout\n",
    "stdout_logfile_maxbytes=0\n",
    "startretries=2\n",
    "startsecs=20\n",
    "\n",
    "[program:nginx]\n",
    "command=/usr/sbin/nginx -g \"daemon off;\"\n",
    "startretries=2\n",
    "startsecs=5\n",
    "priority=3\n",
    "\n",
    "[eventlistener:program_exit]\n",
    "command=python kill_supervisor.py\n",
    "directory=/code\n",
    "events=PROCESS_STATE_FATAL\n",
    "priority=2"
   ]
  },
  {
   "cell_type": "markdown",
   "metadata": {},
   "source": [
    "We now create a custom image and install all the necessary dependencies."
   ]
  },
  {
   "cell_type": "code",
   "execution_count": null,
   "metadata": {},
   "outputs": [],
   "source": [
    "%%writefile flaskwebapp/requirements.txt\n",
    "\n",
    "pandas==0.23.3\n",
    "click==6.7\n",
    "configparser==3.5.0\n",
    "Flask==0.12.2\n",
    "gunicorn==19.6.0\n",
    "json-logging-py==0.2\n",
    "MarkupSafe==1.0\n",
    "olefile==0.44\n",
    "requests==2.18.4"
   ]
  },
  {
   "cell_type": "code",
   "execution_count": null,
   "metadata": {},
   "outputs": [],
   "source": [
    "%%writefile flaskwebapp/dockerfile\n",
    "\n",
    "FROM ubuntu:16.04\n",
    "\n",
    "USER root\n",
    "RUN mkdir /code\n",
    "WORKDIR /code\n",
    "RUN chmod -R a+w /code\n",
    "ADD . /code/\n",
    "\n",
    "RUN apt-get update && apt-get install -y --no-install-recommends \\\n",
    "        build-essential \\\n",
    "        ca-certificates \\\n",
    "        cmake \\\n",
    "        wget \\\n",
    "        curl \\\n",
    "        git \\\n",
    "        supervisor \\\n",
    "        nginx && \\\n",
    "    rm -rf /var/lib/apt/lists/* &&\\\n",
    "    rm /etc/nginx/sites-enabled/default && \\\n",
    "    cp /code/nginx/app /etc/nginx/sites-available/ && \\\n",
    "    ln -s /etc/nginx/sites-available/app /etc/nginx/sites-enabled/ \n",
    "\n",
    "ENV PYTHON_VERSION=3.5\n",
    "RUN curl -o ~/miniconda.sh -O  https://repo.continuum.io/miniconda/Miniconda3-latest-Linux-x86_64.sh  && \\\n",
    "    chmod +x ~/miniconda.sh && \\\n",
    "    ~/miniconda.sh -b -p /opt/conda && \\\n",
    "    rm ~/miniconda.sh && \\\n",
    "    /opt/conda/bin/conda create -y --name py$PYTHON_VERSION python=$PYTHON_VERSION numpy pyyaml scipy \\\n",
    "    ipython jupyter ipykernel && \\\n",
    "    /opt/conda/bin/conda clean -ya\n",
    "    \n",
    "ENV PATH /opt/conda/envs/py$PYTHON_VERSION/bin:$PATH\n",
    "ENV LD_LIBRARY_PATH /opt/conda/envs/py$PYTHON_VERSION/lib:/usr/local/cuda/lib64/:$LD_LIBRARY_PATH\n",
    "    \n",
    "RUN pip install --upgrade pip && \\\n",
    "    pip install scikit-learn==0.19.1 && \\\n",
    "    pip install lightgbm==2.1.2 && \\\n",
    "    pip install -r /code/requirements.txt && \\       \n",
    "    /opt/conda/bin/conda clean -yt\n",
    "\n",
    "EXPOSE 8888\n",
    "EXPOSE 5000\n",
    "EXPOSE 80\n",
    "\n",
    "CMD [\"supervisord\", \"-c\", \"/code/etc/supervisord.conf\"]"
   ]
  },
  {
   "cell_type": "markdown",
   "metadata": {},
   "source": [
    "The image name below refers to our dockerhub account. If you wish to push the image to your account make sure you change the docker login."
   ]
  },
  {
   "cell_type": "code",
   "execution_count": null,
   "metadata": {},
   "outputs": [],
   "source": [
    "image_name = os.getenv('docker_login') + os.getenv('image_repo')\n",
    "application_path = 'flaskwebapp'\n",
    "docker_file_location = path.join(application_path, 'dockerfile')"
   ]
  },
  {
   "cell_type": "markdown",
   "metadata": {},
   "source": [
    "This step build the docker image prior to pushing it. It can take as long as 10 minutes on a Standard NC6 DLVM."
   ]
  },
  {
   "cell_type": "code",
   "execution_count": null,
   "metadata": {},
   "outputs": [],
   "source": [
    "%%time\n",
    "!docker build -t $image_name -f $docker_file_location $application_path --no-cache"
   ]
  },
  {
   "cell_type": "code",
   "execution_count": null,
   "metadata": {},
   "outputs": [],
   "source": [
    "print('Docker image name {}'.format(image_name))"
   ]
  },
  {
   "cell_type": "code",
   "execution_count": null,
   "metadata": {},
   "outputs": [],
   "source": [
    "!docker push $image_name"
   ]
  },
  {
   "cell_type": "markdown",
   "metadata": {},
   "source": [
    "We can now [test our image locally](04_Test_Locally.ipynb)."
   ]
  }
 ],
 "metadata": {
  "celltoolbar": "Tags",
  "kernelspec": {
   "display_name": "Python [conda env:MLAKSDeployment]",
   "language": "python",
   "name": "conda-env-MLAKSDeployment-py"
  },
  "language_info": {
   "codemirror_mode": {
    "name": "ipython",
    "version": 3
   },
   "file_extension": ".py",
   "mimetype": "text/x-python",
   "name": "python",
   "nbconvert_exporter": "python",
   "pygments_lexer": "ipython3",
   "version": "3.5.5"
  }
 },
 "nbformat": 4,
 "nbformat_minor": 2
}
