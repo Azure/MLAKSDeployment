{
 "cells": [
  {
   "cell_type": "markdown",
   "metadata": {},
   "source": [
    "# Load Test deployed web application"
   ]
  },
  {
   "cell_type": "markdown",
   "metadata": {},
   "source": [
    "This notebook pulls some images and tests them against the deployed web application. We submit requests asychronously which should reduce the contribution of latency."
   ]
  },
  {
   "cell_type": "code",
   "execution_count": 1,
   "metadata": {},
   "outputs": [],
   "source": [
    "import asyncio\n",
    "import json\n",
    "import random\n",
    "import urllib.request\n",
    "from timeit import default_timer\n",
    "\n",
    "import aiohttp\n",
    "from tqdm import tqdm\n",
    "import requests\n",
    "import pandas as pd"
   ]
  },
  {
   "cell_type": "code",
   "execution_count": 2,
   "metadata": {},
   "outputs": [
    {
     "name": "stdout",
     "output_type": "stream",
     "text": [
      "3.3.2\n"
     ]
    }
   ],
   "source": [
    "print(aiohttp.__version__) "
   ]
  },
  {
   "cell_type": "markdown",
   "metadata": {},
   "source": [
    "We will test our deployed service with 100 calls. We will only have 4 requests concurrently at any time. We have only deployed one pod on one node and increasing the number of concurrent calls does not really increase throughput. Feel free to try different values and see how the service responds."
   ]
  },
  {
   "cell_type": "code",
   "execution_count": 3,
   "metadata": {},
   "outputs": [],
   "source": [
    "NUMBER_OF_REQUESTS = 100  # Total number of requests\n",
    "CONCURRENT_REQUESTS = 4   # Number of requests at a time"
   ]
  },
  {
   "cell_type": "markdown",
   "metadata": {},
   "source": [
    "Get the IP address of our service."
   ]
  },
  {
   "cell_type": "code",
   "execution_count": 4,
   "metadata": {},
   "outputs": [],
   "source": [
    "service_json = !kubectl get service azure-ml -o json\n",
    "service_dict = json.loads(''.join(service_json))\n",
    "app_url = service_dict['status']['loadBalancer']['ingress'][0]['ip']"
   ]
  },
  {
   "cell_type": "code",
   "execution_count": 5,
   "metadata": {},
   "outputs": [],
   "source": [
    "scoring_url = 'http://{}/score'.format(app_url)\n",
    "version_url = 'http://{}/version'.format(app_url)\n",
    "health_url = 'http://{}/'.format(app_url)"
   ]
  },
  {
   "cell_type": "code",
   "execution_count": 6,
   "metadata": {},
   "outputs": [
    {
     "name": "stdout",
     "output_type": "stream",
     "text": [
      "Healthy"
     ]
    }
   ],
   "source": [
    "!curl $health_url"
   ]
  },
  {
   "cell_type": "code",
   "execution_count": 7,
   "metadata": {},
   "outputs": [
    {
     "name": "stdout",
     "output_type": "stream",
     "text": [
      "2.1.2"
     ]
    }
   ],
   "source": [
    "!curl $version_url # Reports the lightgbm version"
   ]
  },
  {
   "cell_type": "code",
   "execution_count": 8,
   "metadata": {},
   "outputs": [],
   "source": [
    "dupes_test_path = 'dupes_test.tsv'\n",
    "dupes_test = pd.read_csv(dupes_test_path, sep='\\t', encoding='latin1')\n",
    "dupes_to_score = dupes_test.iloc[:NUMBER_OF_REQUESTS,4]"
   ]
  },
  {
   "cell_type": "code",
   "execution_count": 9,
   "metadata": {},
   "outputs": [],
   "source": [
    "def text_to_json(text):\n",
    "    return json.dumps({'input':'{0}'.format(text)})"
   ]
  },
  {
   "cell_type": "code",
   "execution_count": 10,
   "metadata": {},
   "outputs": [],
   "source": [
    "url_list = [[scoring_url, jsontext] for jsontext in dupes_to_score.apply(text_to_json)]"
   ]
  },
  {
   "cell_type": "code",
   "execution_count": 11,
   "metadata": {},
   "outputs": [],
   "source": [
    "def decode(result):\n",
    "    return json.loads(result.decode(\"utf-8\"))"
   ]
  },
  {
   "cell_type": "code",
   "execution_count": 12,
   "metadata": {},
   "outputs": [],
   "source": [
    "async def fetch(url, session, data, headers):\n",
    "    start_time = default_timer()\n",
    "    async with session.request('post', url, data=data, headers=headers) as response:\n",
    "        resp = await response.read()\n",
    "        elapsed = default_timer() - start_time\n",
    "        return resp, elapsed"
   ]
  },
  {
   "cell_type": "code",
   "execution_count": 13,
   "metadata": {},
   "outputs": [],
   "source": [
    "async def bound_fetch(sem, url, session, data, headers):\n",
    "    # Getter function with semaphore.\n",
    "    async with sem:\n",
    "        return await fetch(url, session, data, headers)"
   ]
  },
  {
   "cell_type": "code",
   "execution_count": 14,
   "metadata": {},
   "outputs": [],
   "source": [
    "async def await_with_progress(coros):\n",
    "    results=[]\n",
    "    for f in tqdm(asyncio.as_completed(coros), total=len(coros)):\n",
    "        result = await f\n",
    "        results.append((decode(result[0]),result[1]))\n",
    "    return results"
   ]
  },
  {
   "cell_type": "code",
   "execution_count": 15,
   "metadata": {},
   "outputs": [],
   "source": [
    "async def run(url_list, num_concurrent=CONCURRENT_REQUESTS):\n",
    "    headers = {'content-type': 'application/json'}\n",
    "    tasks = []\n",
    "    # create instance of Semaphore\n",
    "    sem = asyncio.Semaphore(num_concurrent)\n",
    "\n",
    "    # Create client session that will ensure we dont open new connection\n",
    "    # per each request.\n",
    "    async with aiohttp.ClientSession() as session:\n",
    "        for url, data in url_list:\n",
    "            # pass Semaphore and session to every POST request\n",
    "            task = asyncio.ensure_future(bound_fetch(sem, url, session, data, headers))\n",
    "            tasks.append(task)\n",
    "        return await await_with_progress(tasks)"
   ]
  },
  {
   "cell_type": "markdown",
   "metadata": {},
   "source": [
    "Below we run the 100 requests against our deployed service."
   ]
  },
  {
   "cell_type": "code",
   "execution_count": 16,
   "metadata": {},
   "outputs": [
    {
     "name": "stderr",
     "output_type": "stream",
     "text": [
      "100%|██████████| 100/100 [00:07<00:00, 14.16it/s]"
     ]
    },
    {
     "name": "stdout",
     "output_type": "stream",
     "text": [
      "Total Elapsed 7.0668306006118655\n",
      "Avg time taken 70.67 ms\n"
     ]
    },
    {
     "name": "stderr",
     "output_type": "stream",
     "text": [
      "\n"
     ]
    }
   ],
   "source": [
    "loop = asyncio.get_event_loop()\n",
    "start_time = default_timer()\n",
    "complete_responses = loop.run_until_complete(asyncio.ensure_future(run(url_list, num_concurrent=CONCURRENT_REQUESTS)))\n",
    "elapsed = default_timer() - start_time\n",
    "print('Total Elapsed {}'.format(elapsed))\n",
    "print('Avg time taken {0:4.2f} ms'.format(1000*elapsed/len(url_list)))"
   ]
  },
  {
   "cell_type": "code",
   "execution_count": 35,
   "metadata": {},
   "outputs": [
    {
     "data": {
      "text/plain": [
       "({'result': \"([[(27928, 27943, 0.9806319857860937), (1726630, 1726662, 0.039778853781766224), (23667086, 23667087, 0.03596640261893073), (3059044, 3059129, 0.023800730662433985), (1458633, 3439981, 0.016286266565376985), (14220321, 14220323, 0.012335680702969764), (18082, 1830844, 0.012222658506013475), (3384504, 3384534, 0.009659842507799827), (901115, 901144, 0.008119897990625796), (13840429, 13840431, 0.007713470308071854), (3127429, 3127440, 0.006995784296409811), (784929, 784946, 0.006296776815135907), (4616202, 4616273, 0.006055237070916387), (750486, 750506, 0.005344779961669449), (201183, 201471, 0.005244422811033432), (1789945, 1789952, 0.00498123639766631), (1267283, 1267338, 0.004466097982226653), (11922383, 11922384, 0.004321992388219521), (7486085, 7486130, 0.004281227623528716), (149055, 149150, 0.004130159219589328), (5891840, 5891929, 0.0040389688246748575), (171251, 171256, 0.004036971551964096), (3224834, 3224854, 0.003957822472214618), (2901102, 2901298, 0.003929604245249287), (336859, 336868, 0.003859108243957248), (2194992, 2195167, 0.0036276406835162337), (359494, 359509, 0.003410781018170305), (6847697, 6847754, 0.0029718691342865153), (111102, 111111, 0.0029313655061931174), (1885557, 1885660, 0.002805038754418592), (24900875, 24900924, 0.002763452931727631), (1527803, 1527820, 0.0025175869232101555), (492994, 493018, 0.0025021736471733764), (7837456, 14853974, 0.0024745275657354153), (6677035, 6677069, 0.002470760604733462), (5431351, 5431435, 0.0023278276632125025), (4935632, 4935684, 0.0021600757537257095), (3514784, 3540295, 0.002017683878252008), (840781, 840808, 0.0019646545027751186), (1584370, 1584377, 0.0018954381364460727), (805107, 805113, 0.0018765432552862742), (1520800, 1520853, 0.0018117450870981816), (1144783, 17606289, 0.0018015086641399833), (3561043, 3561056, 0.0017974229132704357), (152975, 153047, 0.0017012905491818847), (1085801, 1085810, 0.001637570722236509), (5767325, 5767357, 0.0015571335920857776), (4425318, 4425359, 0.0013999989867256007), (28250680, 28250697, 0.0013661111388876277), (3665115, 3665147, 0.0013400168966459464), (1566595, 1566644, 0.001317331979013101), (950087, 950146, 0.0013033065505045542), (1359469, 1359507, 0.001282615192089387), (22519784, 22519785, 0.0012251673156082352), (6259982, 6260001, 0.001191201454915027), (194397, 194399, 0.0011297704503753655), (15141762, 15171030, 0.0011238160729809446), (307179, 307200, 0.0010874444796480484), (1051782, 1051797, 0.001069100758215589), (2067472, 2067584, 0.0010619491981505341), (4968406, 4968448, 0.0010602073747652155), (1646698, 3658673, 0.0010542892330779817), (12953704, 12953750, 0.001019596860118058), (92720, 92819, 0.0010050388786718462), (3076414, 3076648, 0.0009995818852683873), (2716069, 2716188, 0.0009826764384321962), (1063007, 1063027, 0.000957884102957829), (2075337, 2075349, 0.0009308387891168883), (3034941, 3034952, 0.0009187789219279077), (32584850, 32585470, 0.0009054528714312138), (1873983, 1873999, 0.0008314209114250019), (500431, 500459, 0.0008303803922627973), (951021, 951057, 0.0008293712001392192), (14028959, 8716680, 0.0008094526846022293), (1026069, 1026087, 0.0007935117222688189), (8228281, 8228308, 0.0007919509602652434), (494035, 494046, 0.0007340289765068927), (203198, 1207393, 0.0007224160975377989), (1068834, 1144249, 0.000694145018408215), (5874652, 5876747, 0.0006861870469117843), (205853, 553734, 0.0006795831425455013), (9032856, 9033306, 0.0006371589314889468), (1634268, 1634321, 0.0006358945830028792), (37684, 21925491, 0.0006328596692450871), (824349, 3354511, 0.0006192098337375204), (1379934, 1380058, 0.0006182572366968136), (3434278, 3434388, 0.0006176590201185926), (3561493, 3561711, 0.0006078708951246793), (5041494, 5734583, 0.0006016160290841701), (6487366, 6487376, 0.0005909735994659757), (4907843, 4907854, 0.0005483843517658237), (2421911, 2421949, 0.0005473601064409723), (979256, 979289, 0.0005212407890869099), (166221, 8758614, 0.0005194925071600236), (2844565, 2844704, 0.0005100401273055235), (1433212, 1433217, 0.0005057181442761536), (4912092, 6678156, 0.0005003965661033183), (25111831, 25111942, 0.0004950693827564857), (242813, 242833, 0.0004948355096210724), (5093398, 5100287, 0.0004647707444794075), (850341, 850346, 0.0004455775037130317), (13418669, 13418980, 0.0004406127337998699), (8021436, 8021462, 0.00042993474693806525), (1129216, 1129270, 0.0004253310760696624), (364952, 364997, 0.00040254279260808944), (1451009, 1451043, 0.00039833118856363116), (121203, 121259, 0.0003884898657078555), (5223, 6700, 0.0003790776352266747), (391979, 810461, 0.0003788617812741846), (2274242, 2274327, 0.00037121659252360305), (122102, 122704, 0.00036466515748863923), (4057440, 4060176, 0.0003564304539581273), (2320069, 2320097, 0.0003444240481941419), (728360, 728694, 0.00034274200323952827), (3583724, 3583740, 0.0003425893597099985), (25881041, 25881231, 0.0003348990139919533), (3888902, 3888938, 0.00033389459971009387), (2851404, 2851413, 0.0003284601231708549), (29986657, 30070207, 0.0003030331644027557), (610406, 610415, 0.0002989614170217651), (23392111, 23392650, 0.0002772160386881586), (7364150, 7364307, 0.0002758012551709698), (7165395, 7165616, 0.00027529995485082553), (1359018, 9331127, 0.00027345435304164097), (403967, 22745553, 0.00025321795083553967), (4459379, 4459419, 0.00025267594800425333), (400212, 6055620, 0.00024894825965294967), (20279484, 20279485, 0.00024430495606446684), (12475269, 12475285, 0.0002372358251616991), (69913, 69984, 0.00023554113825227828), (237104, 1473742, 0.00023385299893890785), (684672, 684692, 0.00023370861949185398), (2100758, 2100767, 0.00022997644995411003), (19590865, 19590901, 0.0002244792522151275), (6491463, 6491621, 0.00021962473489957405), (85992, 86014, 0.00020652194741757694), (436411, 24070373, 0.0002053039789428351), (3595515, 3744697, 0.00020527564017531436), (20077487, 20077854, 0.00019974086679148219), (134845, 138233, 0.00019188869143072512), (2802055, 2802064, 0.0001904764151976798), (23740548, 23740549, 0.000179278125195248), (262427, 262511, 0.0001772989286672361), (5004233, 5004276, 0.00017504925035761868), (518000, 3638034, 0.00016918978554091336), (7506844, 7506937, 0.00016340088012931759), (1771786, 1771824, 0.0001582748982052867), (8495687, 8495740, 0.00015692140459823764), (2846283, 2846298, 0.00014102556357901532), (5627284, 5627301, 0.00013670284584793682), (5187530, 5187652, 0.00013448198475696867), (1069666, 1069840, 0.0001309730772548786), (1225667, 1225683, 0.0001253312989865594), (1661197, 9337047, 0.00012298274475068554), (1398582, 1398608, 0.00011384245103530371), (168214, 169035, 0.00011066647913300789), (695050, 695053, 0.00010638292112388729), (4851595, 4851614, 9.310557031633078e-05), (572897, 572996, 9.049690938861203e-05), (359788, 359910, 8.972690935084155e-05), (3163407, 3163422, 8.808602958329324e-05), (126100, 4889658, 8.544334920862948e-05), (2655925, 8894528, 8.46271060166874e-05), (2010892, 2010948, 7.36622383069427e-05), (1470488, 1470494, 7.131585777561923e-05), (440739, 440772, 6.817763920547705e-05), (31044, 31047, 6.73108657698977e-05), (20035101, 20035319, 6.699670563142129e-05), (4255472, 4255480, 6.390335428904655e-05), (12829963, 12830031, 6.122863858802933e-05), (10693845, 10693852, 5.7236282144642914e-05), (2631001, 2631198, 5.613867444134003e-05), (1017224, 1017237, 5.581432806150227e-05), (45015, 5686237, 5.019333046282878e-05), (236073, 236106, 4.5756792781073604e-05), (1917576, 1917626, 4.243878878717132e-05), (2241875, 2241883, 3.847520086844587e-05), (8110934, 8111171, 3.096625630326427e-05), (5117127, 5117172, 2.8915679321341106e-05), (1822350, 1822769, 2.1972843225924394e-05), (1056728, 1056730, 1.5468045454672176e-05), (5316697, 5316755, 1.3576721151692277e-05)]], 'Computed in 90.52 ms')\"},\n",
       " 0.1635668408125639)"
      ]
     },
     "execution_count": 35,
     "metadata": {},
     "output_type": "execute_result"
    }
   ],
   "source": [
    "# Example response\n",
    "complete_responses[0]"
   ]
  },
  {
   "cell_type": "code",
   "execution_count": 30,
   "metadata": {},
   "outputs": [],
   "source": [
    "no_questions = len(eval(complete_responses[0][0]['result'])[0][0])"
   ]
  },
  {
   "cell_type": "code",
   "execution_count": 33,
   "metadata": {},
   "outputs": [
    {
     "name": "stdout",
     "output_type": "stream",
     "text": [
      "Succesful 100 out of 100\n"
     ]
    }
   ],
   "source": [
    "num_succesful=[len(eval(i[0]['result'])[0][0]) for i in complete_responses].count(no_questions)\n",
    "print('Succesful {} out of {}'.format(num_succesful, len(url_list)))"
   ]
  },
  {
   "cell_type": "markdown",
   "metadata": {},
   "source": [
    "To tear down the cluster and all related resources go to the last section of [deploy on AKS notebook](04_DeployOnAKS.ipynb)."
   ]
  }
 ],
 "metadata": {
  "kernelspec": {
   "display_name": "Python [conda env:MLAKSDeployment]",
   "language": "python",
   "name": "conda-env-MLAKSDeployment-py"
  },
  "language_info": {
   "codemirror_mode": {
    "name": "ipython",
    "version": 3
   },
   "file_extension": ".py",
   "mimetype": "text/x-python",
   "name": "python",
   "nbconvert_exporter": "python",
   "pygments_lexer": "ipython3",
   "version": "3.5.5"
  }
 },
 "nbformat": 4,
 "nbformat_minor": 2
}
