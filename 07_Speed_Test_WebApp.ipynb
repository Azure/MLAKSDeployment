{
 "cells": [
  {
   "cell_type": "markdown",
   "metadata": {},
   "source": [
    "# Load Test deployed web application"
   ]
  },
  {
   "cell_type": "markdown",
   "metadata": {},
   "source": [
    "In this notebook, we test the latency of the deployed web application by sending a number of duplicate questions as asychronous requests."
   ]
  },
  {
   "cell_type": "code",
   "execution_count": 2,
   "metadata": {},
   "outputs": [],
   "source": [
    "import warnings\n",
    "warnings.filterwarnings(action=\"ignore\", message=\"numpy.dtype size changed\")\n",
    "\n",
    "import asyncio\n",
    "import json\n",
    "import random\n",
    "import urllib.request\n",
    "from timeit import default_timer\n",
    "\n",
    "import aiohttp\n",
    "from tqdm import tqdm\n",
    "import requests\n",
    "import pandas as pd\n",
    "from utilities import text_to_json"
   ]
  },
  {
   "cell_type": "code",
   "execution_count": 3,
   "metadata": {},
   "outputs": [
    {
     "name": "stdout",
     "output_type": "stream",
     "text": [
      "3.3.2\n"
     ]
    }
   ],
   "source": [
    "print(aiohttp.__version__) "
   ]
  },
  {
   "cell_type": "markdown",
   "metadata": {},
   "source": [
    "We will test our deployed service with 100 calls. We will only have 4 requests concurrently at any time. We have only deployed one pod on one node and increasing the number of concurrent calls does not really increase throughput. Feel free to try different values and see how the service responds."
   ]
  },
  {
   "cell_type": "code",
   "execution_count": 4,
   "metadata": {},
   "outputs": [],
   "source": [
    "NUMBER_OF_REQUESTS = 100  # Total number of requests\n",
    "CONCURRENT_REQUESTS = 4   # Number of requests at a time"
   ]
  },
  {
   "cell_type": "markdown",
   "metadata": {},
   "source": [
    "Get the IP address of our service."
   ]
  },
  {
   "cell_type": "code",
   "execution_count": 5,
   "metadata": {},
   "outputs": [],
   "source": [
    "service_json = !kubectl get service azure-ml -o json\n",
    "service_dict = json.loads(''.join(service_json))\n",
    "app_url = service_dict['status']['loadBalancer']['ingress'][0]['ip']"
   ]
  },
  {
   "cell_type": "code",
   "execution_count": 6,
   "metadata": {},
   "outputs": [],
   "source": [
    "scoring_url = 'http://{}/score'.format(app_url)\n",
    "version_url = 'http://{}/version'.format(app_url)\n",
    "health_url = 'http://{}/'.format(app_url)"
   ]
  },
  {
   "cell_type": "code",
   "execution_count": 7,
   "metadata": {},
   "outputs": [
    {
     "name": "stdout",
     "output_type": "stream",
     "text": [
      "Healthy"
     ]
    }
   ],
   "source": [
    "!curl $health_url"
   ]
  },
  {
   "cell_type": "code",
   "execution_count": 8,
   "metadata": {},
   "outputs": [
    {
     "name": "stdout",
     "output_type": "stream",
     "text": [
      "2.1.2"
     ]
    }
   ],
   "source": [
    "!curl $version_url # Reports the lightgbm version"
   ]
  },
  {
   "cell_type": "code",
   "execution_count": 9,
   "metadata": {},
   "outputs": [],
   "source": [
    "dupes_test_path = 'dupes_test.tsv'\n",
    "dupes_test = pd.read_csv(dupes_test_path, sep='\\t', encoding='latin1')\n",
    "dupes_to_score = dupes_test.iloc[:NUMBER_OF_REQUESTS,4]"
   ]
  },
  {
   "cell_type": "code",
   "execution_count": 10,
   "metadata": {},
   "outputs": [],
   "source": [
    "url_list = [[scoring_url, jsontext] for jsontext in dupes_to_score.apply(text_to_json)]"
   ]
  },
  {
   "cell_type": "code",
   "execution_count": 11,
   "metadata": {},
   "outputs": [],
   "source": [
    "def decode(result):\n",
    "    return json.loads(result.decode(\"utf-8\"))"
   ]
  },
  {
   "cell_type": "code",
   "execution_count": 12,
   "metadata": {},
   "outputs": [],
   "source": [
    "async def fetch(url, session, data, headers):\n",
    "    start_time = default_timer()\n",
    "    async with session.request('post', url, data=data, headers=headers) as response:\n",
    "        resp = await response.read()\n",
    "        elapsed = default_timer() - start_time\n",
    "        return resp, elapsed"
   ]
  },
  {
   "cell_type": "code",
   "execution_count": 13,
   "metadata": {},
   "outputs": [],
   "source": [
    "async def bound_fetch(sem, url, session, data, headers):\n",
    "    # Getter function with semaphore.\n",
    "    async with sem:\n",
    "        return await fetch(url, session, data, headers)"
   ]
  },
  {
   "cell_type": "code",
   "execution_count": 14,
   "metadata": {},
   "outputs": [],
   "source": [
    "async def await_with_progress(coros):\n",
    "    results=[]\n",
    "    for f in tqdm(asyncio.as_completed(coros), total=len(coros)):\n",
    "        result = await f\n",
    "        results.append((decode(result[0]),result[1]))\n",
    "    return results"
   ]
  },
  {
   "cell_type": "code",
   "execution_count": 15,
   "metadata": {},
   "outputs": [],
   "source": [
    "async def run(url_list, num_concurrent=CONCURRENT_REQUESTS):\n",
    "    headers = {'content-type': 'application/json'}\n",
    "    tasks = []\n",
    "    # create instance of Semaphore\n",
    "    sem = asyncio.Semaphore(num_concurrent)\n",
    "\n",
    "    # Create client session that will ensure we dont open new connection\n",
    "    # per each request.\n",
    "    async with aiohttp.ClientSession() as session:\n",
    "        for url, data in url_list:\n",
    "            # pass Semaphore and session to every POST request\n",
    "            task = asyncio.ensure_future(bound_fetch(sem, url, session, data, headers))\n",
    "            tasks.append(task)\n",
    "        return await await_with_progress(tasks)"
   ]
  },
  {
   "cell_type": "markdown",
   "metadata": {},
   "source": [
    "Below we run the 100 requests against our deployed service."
   ]
  },
  {
   "cell_type": "code",
   "execution_count": 16,
   "metadata": {},
   "outputs": [
    {
     "name": "stderr",
     "output_type": "stream",
     "text": [
      "100%|██████████| 100/100 [00:08<00:00, 11.57it/s]"
     ]
    },
    {
     "name": "stdout",
     "output_type": "stream",
     "text": [
      "Total Elapsed 8.650007339194417\n",
      "Avg time taken 86.50 ms\n"
     ]
    },
    {
     "name": "stderr",
     "output_type": "stream",
     "text": [
      "\n"
     ]
    }
   ],
   "source": [
    "loop = asyncio.get_event_loop()\n",
    "start_time = default_timer()\n",
    "complete_responses = loop.run_until_complete(asyncio.ensure_future(run(url_list, num_concurrent=CONCURRENT_REQUESTS)))\n",
    "elapsed = default_timer() - start_time\n",
    "print('Total Elapsed {}'.format(elapsed))\n",
    "print('Avg time taken {0:4.2f} ms'.format(1000*elapsed/len(url_list)))"
   ]
  },
  {
   "cell_type": "code",
   "execution_count": 17,
   "metadata": {},
   "outputs": [
    {
     "data": {
      "text/plain": [
       "({'result': [[[27928, 27943, 0.9994291873318922],\n",
       "    [14220321, 14220323, 0.3777013664717283],\n",
       "    [3384504, 3384534, 0.0008692544514442122],\n",
       "    [20279484, 20279485, 0.00018390175149079251],\n",
       "    [824349, 3354511, 0.00014506188508628983],\n",
       "    [23667086, 23667087, 0.00013645228359681323],\n",
       "    [336859, 336868, 0.000118945270994279],\n",
       "    [1451009, 1451043, 8.258517728346488e-05],\n",
       "    [1051782, 1051797, 8.250338021331798e-05],\n",
       "    [403967, 22745553, 6.153863170894845e-05],\n",
       "    [11922383, 11922384, 5.1157447215651005e-05],\n",
       "    [750486, 750506, 5.059878338976614e-05],\n",
       "    [111102, 111111, 3.258347291447318e-05],\n",
       "    [205853, 553734, 3.091903814356007e-05],\n",
       "    [4968406, 4968448, 2.8814241790668893e-05],\n",
       "    [13840429, 13840431, 2.8794792285915736e-05],\n",
       "    [364952, 364997, 1.8629629530953053e-05],\n",
       "    [3034941, 3034952, 1.752737388881987e-05],\n",
       "    [5874652, 5876747, 1.7186203770500705e-05],\n",
       "    [1873983, 1873999, 1.6984465096944128e-05],\n",
       "    [152975, 153047, 1.2085550446551274e-05],\n",
       "    [7486085, 7486130, 1.1621914706104857e-05],\n",
       "    [12953704, 12953750, 1.1362308106046895e-05],\n",
       "    [9032856, 9033306, 1.1189291840614757e-05],\n",
       "    [1527803, 1527820, 1.0986753127606761e-05],\n",
       "    [1063007, 1063027, 1.0886574480140593e-05],\n",
       "    [359494, 359509, 9.783423941738051e-06],\n",
       "    [7506844, 7506937, 9.74458001759696e-06],\n",
       "    [194397, 194399, 9.070566714714173e-06],\n",
       "    [500431, 500459, 7.98580439805887e-06],\n",
       "    [3127429, 3127440, 7.649565802580763e-06],\n",
       "    [6677035, 6677069, 7.082739059150701e-06],\n",
       "    [4425318, 4425359, 6.3127880420372825e-06],\n",
       "    [1398582, 1398608, 6.256575662347914e-06],\n",
       "    [784929, 784946, 5.827335260387913e-06],\n",
       "    [13418669, 13418980, 5.669777496797272e-06],\n",
       "    [203198, 1207393, 5.152637437102884e-06],\n",
       "    [3076414, 3076648, 4.344782790168283e-06],\n",
       "    [149055, 149150, 3.9099140479940765e-06],\n",
       "    [1470488, 1470494, 3.907589127145065e-06],\n",
       "    [1885557, 1885660, 3.5965433169243986e-06],\n",
       "    [901115, 901144, 3.145022095651362e-06],\n",
       "    [1026069, 1026087, 2.7073787609918948e-06],\n",
       "    [14028959, 8716680, 2.6013263469595766e-06],\n",
       "    [2320069, 2320097, 2.5683501919092586e-06],\n",
       "    [31044, 31047, 2.510858483231181e-06],\n",
       "    [5041494, 5734583, 2.455311211110035e-06],\n",
       "    [28250680, 28250697, 2.4010225000232056e-06],\n",
       "    [134845, 138233, 2.3993413447080404e-06],\n",
       "    [1634268, 1634321, 2.332370567325317e-06],\n",
       "    [3059044, 3059129, 2.322064177548699e-06],\n",
       "    [494035, 494046, 2.1215729784138406e-06],\n",
       "    [5891840, 5891929, 2.0892201050702735e-06],\n",
       "    [20077487, 20077854, 2.07728049272697e-06],\n",
       "    [3583724, 3583740, 2.073072461215102e-06],\n",
       "    [3163407, 3163422, 2.058630428926203e-06],\n",
       "    [4935632, 4935684, 1.992008450443261e-06],\n",
       "    [2421911, 2421949, 1.8995399619163145e-06],\n",
       "    [359788, 359910, 1.804427306472473e-06],\n",
       "    [4255472, 4255480, 1.6859778245162222e-06],\n",
       "    [979256, 979289, 1.6739829655595122e-06],\n",
       "    [12475269, 12475285, 1.526486400233977e-06],\n",
       "    [2194992, 2195167, 1.5235878387242636e-06],\n",
       "    [2716069, 2716188, 1.5127180649146607e-06],\n",
       "    [1225667, 1225683, 1.4779878939680503e-06],\n",
       "    [1085801, 1085810, 1.3229542279316659e-06],\n",
       "    [242813, 242833, 1.2980988482907129e-06],\n",
       "    [5117127, 5117172, 1.0720094122009896e-06],\n",
       "    [29986657, 30070207, 1.0345978586394987e-06],\n",
       "    [85992, 86014, 1.0025795182555432e-06],\n",
       "    [951021, 951057, 9.530228899141103e-07],\n",
       "    [1726630, 1726662, 9.216558069690626e-07],\n",
       "    [3434278, 3434388, 9.004889884220806e-07],\n",
       "    [1646698, 3658673, 8.769350926331174e-07],\n",
       "    [1771786, 1771824, 8.276314501015657e-07],\n",
       "    [3561043, 3561056, 7.751566309145226e-07],\n",
       "    [201183, 201471, 6.869657931427568e-07],\n",
       "    [2846283, 2846298, 6.839267927777833e-07],\n",
       "    [7837456, 14853974, 6.3402085528454e-07],\n",
       "    [22519784, 22519785, 5.759720427024987e-07],\n",
       "    [1129216, 1129270, 5.568291371570656e-07],\n",
       "    [492994, 493018, 5.263772925287024e-07],\n",
       "    [4459379, 4459419, 5.153594337600779e-07],\n",
       "    [805107, 805113, 4.784429309071219e-07],\n",
       "    [1566595, 1566644, 4.563903047695583e-07],\n",
       "    [1068834, 1144249, 4.529480222361093e-07],\n",
       "    [1433212, 1433217, 3.639910167616768e-07],\n",
       "    [1458633, 3439981, 3.567593385570301e-07],\n",
       "    [8110934, 8111171, 3.464066791079853e-07],\n",
       "    [1359018, 9331127, 3.422378847454932e-07],\n",
       "    [6491463, 6491621, 3.3999448340065847e-07],\n",
       "    [5627284, 5627301, 3.208382078866316e-07],\n",
       "    [8228281, 8228308, 3.15232017783374e-07],\n",
       "    [12829963, 12830031, 3.0539974314164846e-07],\n",
       "    [518000, 3638034, 2.8234545604845083e-07],\n",
       "    [24900875, 24900924, 2.7876409695181317e-07],\n",
       "    [2851404, 2851413, 2.765363325417603e-07],\n",
       "    [2844565, 2844704, 2.7505868897034256e-07],\n",
       "    [20035101, 20035319, 2.7327731541717063e-07],\n",
       "    [2075337, 2075349, 2.712718772737944e-07],\n",
       "    [23740548, 23740549, 2.7070167068750835e-07],\n",
       "    [6259982, 6260001, 2.645858252619932e-07],\n",
       "    [5767325, 5767357, 2.538142108819615e-07],\n",
       "    [3665115, 3665147, 2.4422755434453704e-07],\n",
       "    [2100758, 2100767, 2.3757802587330574e-07],\n",
       "    [171251, 171256, 2.3479024192059752e-07],\n",
       "    [1789945, 1789952, 2.1741621312642353e-07],\n",
       "    [23392111, 23392650, 2.0415113557258726e-07],\n",
       "    [4616202, 4616273, 1.9910208696387852e-07],\n",
       "    [1359469, 1359507, 1.7665989527335176e-07],\n",
       "    [2631001, 2631198, 1.7032452945243656e-07],\n",
       "    [3224834, 3224854, 1.6659453226846933e-07],\n",
       "    [1017224, 1017237, 1.4928091020113635e-07],\n",
       "    [572897, 572996, 1.4012995561594605e-07],\n",
       "    [6847697, 6847754, 1.303008283131924e-07],\n",
       "    [7165395, 7165616, 1.2941838385638812e-07],\n",
       "    [262427, 262511, 1.240976846845429e-07],\n",
       "    [15141762, 15171030, 1.220398308436081e-07],\n",
       "    [307179, 307200, 1.2089661721246955e-07],\n",
       "    [236073, 236106, 1.198453044167362e-07],\n",
       "    [25111831, 25111942, 1.1666389084532406e-07],\n",
       "    [166221, 8758614, 1.1543621127475805e-07],\n",
       "    [32584850, 32585470, 1.0878959576353516e-07],\n",
       "    [2655925, 8894528, 1.0513614684408627e-07],\n",
       "    [2901102, 2901298, 1.0439095482627649e-07],\n",
       "    [5431351, 5431435, 8.028133941171933e-08],\n",
       "    [25881041, 25881231, 8.026097411018998e-08],\n",
       "    [4912092, 6678156, 7.883547233207265e-08],\n",
       "    [8021436, 8021462, 7.763404746661071e-08],\n",
       "    [1520800, 1520853, 7.756666388253466e-08],\n",
       "    [610406, 610415, 7.580825738022059e-08],\n",
       "    [5187530, 5187652, 7.209835142824627e-08],\n",
       "    [1379934, 1380058, 6.638564083508107e-08],\n",
       "    [3561493, 3561711, 6.467299288367452e-08],\n",
       "    [69913, 69984, 5.50227527279451e-08],\n",
       "    [950087, 950146, 5.162020001384029e-08],\n",
       "    [400212, 6055620, 5.1547349022938744e-08],\n",
       "    [2241875, 2241883, 5.153774480492453e-08],\n",
       "    [121203, 121259, 5.116631129011202e-08],\n",
       "    [168214, 169035, 4.89225155613423e-08],\n",
       "    [850341, 850346, 4.737754454742308e-08],\n",
       "    [2067472, 2067584, 4.717265318424324e-08],\n",
       "    [237104, 1473742, 3.921901752283713e-08],\n",
       "    [5316697, 5316755, 3.9072263646835124e-08],\n",
       "    [2274242, 2274327, 3.8806128614015955e-08],\n",
       "    [122102, 122704, 3.805745004431177e-08],\n",
       "    [684672, 684692, 3.708377876333901e-08],\n",
       "    [1584370, 1584377, 3.668823617817131e-08],\n",
       "    [4851595, 4851614, 3.4842822575570845e-08],\n",
       "    [92720, 92819, 3.401774992817991e-08],\n",
       "    [7364150, 7364307, 3.359320672770082e-08],\n",
       "    [440739, 440772, 3.1555814914606663e-08],\n",
       "    [1822350, 1822769, 3.0526366459451114e-08],\n",
       "    [37684, 21925491, 2.9066159208497165e-08],\n",
       "    [5093398, 5100287, 2.832536094497497e-08],\n",
       "    [4057440, 4060176, 2.7551321244579645e-08],\n",
       "    [18082, 1830844, 2.6524580159809262e-08],\n",
       "    [10693845, 10693852, 2.6140061985664633e-08],\n",
       "    [3514784, 3540295, 2.501345079766861e-08],\n",
       "    [6487366, 6487376, 2.4755578024335946e-08],\n",
       "    [436411, 24070373, 2.3306511891195655e-08],\n",
       "    [840781, 840808, 2.279878537315309e-08],\n",
       "    [3888902, 3888938, 2.242431490278476e-08],\n",
       "    [5004233, 5004276, 1.5522501772918027e-08],\n",
       "    [126100, 4889658, 1.384652544845789e-08],\n",
       "    [728360, 728694, 1.339015627662898e-08],\n",
       "    [19590865, 19590901, 1.3281665063114804e-08],\n",
       "    [8495687, 8495740, 1.2718836544510588e-08],\n",
       "    [2802055, 2802064, 1.0524630125983572e-08],\n",
       "    [1917576, 1917626, 8.995467091707374e-09],\n",
       "    [1144783, 17606289, 8.688768409820556e-09],\n",
       "    [1069666, 1069840, 8.385171336107921e-09],\n",
       "    [4907843, 4907854, 7.57119698400092e-09],\n",
       "    [45015, 5686237, 7.282423769132214e-09],\n",
       "    [391979, 810461, 6.881814973745169e-09],\n",
       "    [695050, 695053, 4.903232033809299e-09],\n",
       "    [3595515, 3744697, 4.78393457895947e-09],\n",
       "    [1661197, 9337047, 4.063196674010468e-09],\n",
       "    [5223, 6700, 4.016296404722862e-09],\n",
       "    [2010892, 2010948, 1.3691056721352908e-09],\n",
       "    [1267283, 1267338, 6.593728624253162e-10],\n",
       "    [1056728, 1056730, 5.061093829343328e-11]],\n",
       "   'Computed in 217.91 ms']},\n",
       " 0.291508917696774)"
      ]
     },
     "execution_count": 17,
     "metadata": {},
     "output_type": "execute_result"
    }
   ],
   "source": [
    "# Example response\n",
    "complete_responses[0]"
   ]
  },
  {
   "cell_type": "markdown",
   "metadata": {},
   "source": [
    "Let's use the number of original questions to count the succesful responses."
   ]
  },
  {
   "cell_type": "code",
   "execution_count": 18,
   "metadata": {},
   "outputs": [],
   "source": [
    "no_questions = len(complete_responses[0][0]['result'][0])"
   ]
  },
  {
   "cell_type": "code",
   "execution_count": 19,
   "metadata": {},
   "outputs": [
    {
     "name": "stdout",
     "output_type": "stream",
     "text": [
      "Succesful 100 out of 100\n"
     ]
    }
   ],
   "source": [
    "num_succesful=[len(i[0]['result'][0]) for i in complete_responses].count(no_questions)\n",
    "print('Succesful {} out of {}'.format(num_succesful, len(url_list)))"
   ]
  },
  {
   "cell_type": "markdown",
   "metadata": {},
   "source": [
    "Next, we will explore the real-time scoring in an [iPyWidget app](08_Real_Time_Scoring.ipynb)."
   ]
  }
 ],
 "metadata": {
  "kernelspec": {
   "display_name": "Python [conda env:MLAKSDeployment]",
   "language": "python",
   "name": "conda-env-MLAKSDeployment-py"
  },
  "language_info": {
   "codemirror_mode": {
    "name": "ipython",
    "version": 3
   },
   "file_extension": ".py",
   "mimetype": "text/x-python",
   "name": "python",
   "nbconvert_exporter": "python",
   "pygments_lexer": "ipython3",
   "version": "3.5.5"
  }
 },
 "nbformat": 4,
 "nbformat_minor": 2
}
