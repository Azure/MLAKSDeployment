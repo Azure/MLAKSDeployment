{
 "cells": [
  {
   "cell_type": "markdown",
   "metadata": {},
   "source": [
    "# Load Test deployed web application"
   ]
  },
  {
   "cell_type": "markdown",
   "metadata": {},
   "source": [
    "In this notebook, we test the latency of the deployed web application by sending a number of duplicate questions as asychronous requests."
   ]
  },
  {
   "cell_type": "code",
   "execution_count": 1,
   "metadata": {},
   "outputs": [],
   "source": [
    "import asyncio\n",
    "import json\n",
    "import random\n",
    "import urllib.request\n",
    "from timeit import default_timer\n",
    "\n",
    "import aiohttp\n",
    "from tqdm import tqdm\n",
    "import requests\n",
    "import pandas as pd\n",
    "from utilities import text_to_json"
   ]
  },
  {
   "cell_type": "code",
   "execution_count": 2,
   "metadata": {},
   "outputs": [
    {
     "name": "stdout",
     "output_type": "stream",
     "text": [
      "3.3.2\n"
     ]
    }
   ],
   "source": [
    "print(aiohttp.__version__) "
   ]
  },
  {
   "cell_type": "markdown",
   "metadata": {},
   "source": [
    "We will test our deployed service with 100 calls. We will only have 4 requests concurrently at any time. We have only deployed one pod on one node and increasing the number of concurrent calls does not really increase throughput. Feel free to try different values and see how the service responds."
   ]
  },
  {
   "cell_type": "code",
   "execution_count": 3,
   "metadata": {},
   "outputs": [],
   "source": [
    "NUMBER_OF_REQUESTS = 100  # Total number of requests\n",
    "CONCURRENT_REQUESTS = 4   # Number of requests at a time"
   ]
  },
  {
   "cell_type": "markdown",
   "metadata": {},
   "source": [
    "Get the IP address of our service."
   ]
  },
  {
   "cell_type": "code",
   "execution_count": 4,
   "metadata": {},
   "outputs": [],
   "source": [
    "service_json = !kubectl get service azure-ml -o json\n",
    "service_dict = json.loads(''.join(service_json))\n",
    "app_url = service_dict['status']['loadBalancer']['ingress'][0]['ip']"
   ]
  },
  {
   "cell_type": "code",
   "execution_count": 5,
   "metadata": {},
   "outputs": [],
   "source": [
    "scoring_url = 'http://{}/score'.format(app_url)\n",
    "version_url = 'http://{}/version'.format(app_url)\n",
    "health_url = 'http://{}/'.format(app_url)"
   ]
  },
  {
   "cell_type": "code",
   "execution_count": 6,
   "metadata": {},
   "outputs": [
    {
     "name": "stdout",
     "output_type": "stream",
     "text": [
      "Healthy"
     ]
    }
   ],
   "source": [
    "!curl $health_url"
   ]
  },
  {
   "cell_type": "code",
   "execution_count": 7,
   "metadata": {},
   "outputs": [
    {
     "name": "stdout",
     "output_type": "stream",
     "text": [
      "2.1.2"
     ]
    }
   ],
   "source": [
    "!curl $version_url # Reports the lightgbm version"
   ]
  },
  {
   "cell_type": "code",
   "execution_count": 8,
   "metadata": {},
   "outputs": [],
   "source": [
    "dupes_test_path = 'dupes_test.tsv'\n",
    "dupes_test = pd.read_csv(dupes_test_path, sep='\\t', encoding='latin1')\n",
    "dupes_to_score = dupes_test.iloc[:NUMBER_OF_REQUESTS,4]"
   ]
  },
  {
   "cell_type": "code",
   "execution_count": 10,
   "metadata": {},
   "outputs": [],
   "source": [
    "url_list = [[scoring_url, jsontext] for jsontext in dupes_to_score.apply(text_to_json)]"
   ]
  },
  {
   "cell_type": "code",
   "execution_count": 11,
   "metadata": {},
   "outputs": [],
   "source": [
    "def decode(result):\n",
    "    return json.loads(result.decode(\"utf-8\"))"
   ]
  },
  {
   "cell_type": "code",
   "execution_count": 12,
   "metadata": {},
   "outputs": [],
   "source": [
    "async def fetch(url, session, data, headers):\n",
    "    start_time = default_timer()\n",
    "    async with session.request('post', url, data=data, headers=headers) as response:\n",
    "        resp = await response.read()\n",
    "        elapsed = default_timer() - start_time\n",
    "        return resp, elapsed"
   ]
  },
  {
   "cell_type": "code",
   "execution_count": 13,
   "metadata": {},
   "outputs": [],
   "source": [
    "async def bound_fetch(sem, url, session, data, headers):\n",
    "    # Getter function with semaphore.\n",
    "    async with sem:\n",
    "        return await fetch(url, session, data, headers)"
   ]
  },
  {
   "cell_type": "code",
   "execution_count": 14,
   "metadata": {},
   "outputs": [],
   "source": [
    "async def await_with_progress(coros):\n",
    "    results=[]\n",
    "    for f in tqdm(asyncio.as_completed(coros), total=len(coros)):\n",
    "        result = await f\n",
    "        results.append((decode(result[0]),result[1]))\n",
    "    return results"
   ]
  },
  {
   "cell_type": "code",
   "execution_count": 15,
   "metadata": {},
   "outputs": [],
   "source": [
    "async def run(url_list, num_concurrent=CONCURRENT_REQUESTS):\n",
    "    headers = {'content-type': 'application/json'}\n",
    "    tasks = []\n",
    "    # create instance of Semaphore\n",
    "    sem = asyncio.Semaphore(num_concurrent)\n",
    "\n",
    "    # Create client session that will ensure we dont open new connection\n",
    "    # per each request.\n",
    "    async with aiohttp.ClientSession() as session:\n",
    "        for url, data in url_list:\n",
    "            # pass Semaphore and session to every POST request\n",
    "            task = asyncio.ensure_future(bound_fetch(sem, url, session, data, headers))\n",
    "            tasks.append(task)\n",
    "        return await await_with_progress(tasks)"
   ]
  },
  {
   "cell_type": "markdown",
   "metadata": {},
   "source": [
    "Below we run the 100 requests against our deployed service."
   ]
  },
  {
   "cell_type": "code",
   "execution_count": 16,
   "metadata": {},
   "outputs": [
    {
     "name": "stderr",
     "output_type": "stream",
     "text": [
      "100%|██████████| 100/100 [00:07<00:00, 13.70it/s]"
     ]
    },
    {
     "name": "stdout",
     "output_type": "stream",
     "text": [
      "Total Elapsed 7.304544539190829\n",
      "Avg time taken 73.05 ms\n"
     ]
    },
    {
     "name": "stderr",
     "output_type": "stream",
     "text": [
      "\n"
     ]
    }
   ],
   "source": [
    "loop = asyncio.get_event_loop()\n",
    "start_time = default_timer()\n",
    "complete_responses = loop.run_until_complete(asyncio.ensure_future(run(url_list, num_concurrent=CONCURRENT_REQUESTS)))\n",
    "elapsed = default_timer() - start_time\n",
    "print('Total Elapsed {}'.format(elapsed))\n",
    "print('Avg time taken {0:4.2f} ms'.format(1000*elapsed/len(url_list)))"
   ]
  },
  {
   "cell_type": "code",
   "execution_count": 17,
   "metadata": {},
   "outputs": [
    {
     "data": {
      "text/plain": [
       "({'result': [[[27928, 27943, 0.8253809764787108],\n",
       "    [14220321, 14220323, 0.35839553716891404],\n",
       "    [23667086, 23667087, 0.2802815688638847],\n",
       "    [13840429, 13840431, 0.13780540985428547],\n",
       "    [149055, 149150, 0.09027890385269859],\n",
       "    [14028959, 8716680, 0.07342530890949217],\n",
       "    [7506844, 7506937, 0.06974038517581685],\n",
       "    [951021, 951057, 0.06040331310628502],\n",
       "    [111102, 111111, 0.05082323110520758],\n",
       "    [750486, 750506, 0.03981735707256131],\n",
       "    [1885557, 1885660, 0.0393630763988023],\n",
       "    [1726630, 1726662, 0.03125891860989419],\n",
       "    [805107, 805113, 0.03104900973709915],\n",
       "    [3127429, 3127440, 0.026947309156889858],\n",
       "    [3384504, 3384534, 0.02496890912836022],\n",
       "    [20279484, 20279485, 0.02168826727522807],\n",
       "    [8228281, 8228308, 0.020223091279871732],\n",
       "    [1527803, 1527820, 0.02017140612455014],\n",
       "    [901115, 901144, 0.01958429824005327],\n",
       "    [1584370, 1584377, 0.014974984750806518],\n",
       "    [194397, 194399, 0.013461759741770203],\n",
       "    [203198, 1207393, 0.012889765461493624],\n",
       "    [684672, 684692, 0.012806705846736674],\n",
       "    [7486085, 7486130, 0.012305427611640796],\n",
       "    [336859, 336868, 0.01226060607937634],\n",
       "    [4616202, 4616273, 0.01104561886082066],\n",
       "    [4968406, 4968448, 0.010992687513530134],\n",
       "    [784929, 784946, 0.010825765293645855],\n",
       "    [242813, 242833, 0.009341597332214223],\n",
       "    [1771786, 1771824, 0.00826937037627192],\n",
       "    [1789945, 1789952, 0.007881070739604312],\n",
       "    [24900875, 24900924, 0.007638897434138444],\n",
       "    [1634268, 1634321, 0.007592096444038446],\n",
       "    [1085801, 1085810, 0.007347211103225102],\n",
       "    [950087, 950146, 0.006003535655873324],\n",
       "    [4057440, 4060176, 0.005867718472887],\n",
       "    [1458633, 3439981, 0.0058125810265335556],\n",
       "    [2846283, 2846298, 0.005427525192005965],\n",
       "    [1379934, 1380058, 0.005214073830603301],\n",
       "    [166221, 8758614, 0.0051982044197762],\n",
       "    [500431, 500459, 0.00516676433606638],\n",
       "    [236073, 236106, 0.005105410035676352],\n",
       "    [7165395, 7165616, 0.004842577504694858],\n",
       "    [25111831, 25111942, 0.004822495216785892],\n",
       "    [7837456, 14853974, 0.004812386665647527],\n",
       "    [134845, 138233, 0.004801752447132404],\n",
       "    [4935632, 4935684, 0.004401563920161386],\n",
       "    [1822350, 1822769, 0.0042557062206112104],\n",
       "    [2421911, 2421949, 0.004255184501688536],\n",
       "    [12953704, 12953750, 0.004237797282153697],\n",
       "    [237104, 1473742, 0.004199090588872561],\n",
       "    [2075337, 2075349, 0.004155738641104964],\n",
       "    [28250680, 28250697, 0.0040660933974192995],\n",
       "    [1144783, 17606289, 0.004038080597705501],\n",
       "    [171251, 171256, 0.0039657577241795725],\n",
       "    [18082, 1830844, 0.0038071838907081145],\n",
       "    [3561043, 3561056, 0.0037915762752610133],\n",
       "    [1026069, 1026087, 0.003565116222671832],\n",
       "    [3076414, 3076648, 0.003546574462251305],\n",
       "    [1451009, 1451043, 0.003420533531661957],\n",
       "    [4425318, 4425359, 0.0034128507437169247],\n",
       "    [2010892, 2010948, 0.003295440043583661],\n",
       "    [201183, 201471, 0.003238939667414602],\n",
       "    [2901102, 2901298, 0.0031728689718468887],\n",
       "    [11922383, 11922384, 0.0030488645540504814],\n",
       "    [205853, 553734, 0.0027965924989318946],\n",
       "    [5767325, 5767357, 0.0026518358231915544],\n",
       "    [15141762, 15171030, 0.0026039803054379662],\n",
       "    [10693845, 10693852, 0.002478142733874109],\n",
       "    [4851595, 4851614, 0.00247557651626891],\n",
       "    [364952, 364997, 0.0024144538927858804],\n",
       "    [5223, 6700, 0.002392264262398721],\n",
       "    [6847697, 6847754, 0.0023837631319029284],\n",
       "    [824349, 3354511, 0.0023699182508899646],\n",
       "    [359494, 359509, 0.0023691982012942476],\n",
       "    [840781, 840808, 0.002244066485984283],\n",
       "    [5891840, 5891929, 0.002182354762317826],\n",
       "    [572897, 572996, 0.002125150894658319],\n",
       "    [979256, 979289, 0.0020497639400439615],\n",
       "    [20035101, 20035319, 0.002007810619496854],\n",
       "    [13418669, 13418980, 0.001977938545226599],\n",
       "    [22519784, 22519785, 0.001941866714235348],\n",
       "    [1129216, 1129270, 0.001934518938236805],\n",
       "    [5431351, 5431435, 0.0019333677212491935],\n",
       "    [2194992, 2195167, 0.0019203089949874164],\n",
       "    [4912092, 6678156, 0.001871041426169913],\n",
       "    [9032856, 9033306, 0.0018527234767654259],\n",
       "    [359788, 359910, 0.0018194769795306857],\n",
       "    [69913, 69984, 0.0017503823516348562],\n",
       "    [6259982, 6260001, 0.0017054290458921543],\n",
       "    [5117127, 5117172, 0.0016476989495694864],\n",
       "    [23740548, 23740549, 0.0016051339004137881],\n",
       "    [1520800, 1520853, 0.001603318397542852],\n",
       "    [307179, 307200, 0.0015750582575831114],\n",
       "    [1267283, 1267338, 0.001532536008930487],\n",
       "    [3224834, 3224854, 0.0015185377964849914],\n",
       "    [6491463, 6491621, 0.0015056384226738327],\n",
       "    [122102, 122704, 0.0013405105164576978],\n",
       "    [1359469, 1359507, 0.0013383758704708915],\n",
       "    [2631001, 2631198, 0.0012442346311103678],\n",
       "    [1873983, 1873999, 0.0011830479871146988],\n",
       "    [2716069, 2716188, 0.0011745506956669398],\n",
       "    [492994, 493018, 0.0011638149200776879],\n",
       "    [3665115, 3665147, 0.001137450103674823],\n",
       "    [2320069, 2320097, 0.0011182508357143964],\n",
       "    [1068834, 1144249, 0.0011044931148674073],\n",
       "    [2100758, 2100767, 0.0010779100321847907],\n",
       "    [850341, 850346, 0.001056692505632048],\n",
       "    [1646698, 3658673, 0.0010491655279594083],\n",
       "    [3163407, 3163422, 0.0010401292454919285],\n",
       "    [262427, 262511, 0.0010359303994072434],\n",
       "    [1225667, 1225683, 0.0010058527000977205],\n",
       "    [440739, 440772, 0.0009980297259382812],\n",
       "    [152975, 153047, 0.0009415450531894249],\n",
       "    [2067472, 2067584, 0.0009414553900895218],\n",
       "    [4907843, 4907854, 0.0009412238372418451],\n",
       "    [2802055, 2802064, 0.0009338154579889606],\n",
       "    [12829963, 12830031, 0.0008703821780200857],\n",
       "    [518000, 3638034, 0.0008177204722579173],\n",
       "    [19590865, 19590901, 0.0008166445773226107],\n",
       "    [6677035, 6677069, 0.0008092925026564205],\n",
       "    [1051782, 1051797, 0.0007774415334472265],\n",
       "    [121203, 121259, 0.0007542891487544277],\n",
       "    [403967, 22745553, 0.000746507692576164],\n",
       "    [32584850, 32585470, 0.0007320749585762431],\n",
       "    [1063007, 1063027, 0.0006916378919117507],\n",
       "    [2274242, 2274327, 0.0006888176106081557],\n",
       "    [695050, 695053, 0.0006735063248997626],\n",
       "    [1917576, 1917626, 0.0006709601813192492],\n",
       "    [5627284, 5627301, 0.0006512225320174669],\n",
       "    [3561493, 3561711, 0.0006349909579829432],\n",
       "    [3434278, 3434388, 0.00061203396516859],\n",
       "    [5187530, 5187652, 0.000611644251356519],\n",
       "    [2851404, 2851413, 0.0005844842294678956],\n",
       "    [3888902, 3888938, 0.000546402369912356],\n",
       "    [1056728, 1056730, 0.0005209135668968059],\n",
       "    [29986657, 30070207, 0.000500580767928379],\n",
       "    [2655925, 8894528, 0.000498836806980795],\n",
       "    [25881041, 25881231, 0.00048477440159964285],\n",
       "    [45015, 5686237, 0.0004819213296677776],\n",
       "    [391979, 810461, 0.00047305235112347926],\n",
       "    [400212, 6055620, 0.0004585753456375395],\n",
       "    [3514784, 3540295, 0.0004521806106642776],\n",
       "    [23392111, 23392650, 0.0004487959262313778],\n",
       "    [5093398, 5100287, 0.0004479112950773393],\n",
       "    [1470488, 1470494, 0.00042702588786640294],\n",
       "    [92720, 92819, 0.00042489561766885135],\n",
       "    [728360, 728694, 0.0004142327033803413],\n",
       "    [494035, 494046, 0.00040746547994606697],\n",
       "    [1661197, 9337047, 0.00039636342432162645],\n",
       "    [8495687, 8495740, 0.00038677105641112577],\n",
       "    [12475269, 12475285, 0.0003363141921292193],\n",
       "    [3583724, 3583740, 0.0002977888616848355],\n",
       "    [20077487, 20077854, 0.0002939712002490584],\n",
       "    [37684, 21925491, 0.0002854787042020635],\n",
       "    [1433212, 1433217, 0.00028233461967524165],\n",
       "    [436411, 24070373, 0.0002816342217834415],\n",
       "    [5874652, 5876747, 0.00027836160324741743],\n",
       "    [4255472, 4255480, 0.0002629924573655114],\n",
       "    [1566595, 1566644, 0.00025630079258760497],\n",
       "    [1398582, 1398608, 0.0002459492214812284],\n",
       "    [610406, 610415, 0.0002353312876939316],\n",
       "    [5041494, 5734583, 0.00022559599620869934],\n",
       "    [126100, 4889658, 0.00021834014014664432],\n",
       "    [7364150, 7364307, 0.00020270553573794545],\n",
       "    [3059044, 3059129, 0.00020232142234016],\n",
       "    [6487366, 6487376, 0.00019898287868923918],\n",
       "    [1069666, 1069840, 0.00018985671446398374],\n",
       "    [5004233, 5004276, 0.00018665974701589902],\n",
       "    [4459379, 4459419, 0.00017486415822374655],\n",
       "    [31044, 31047, 0.00017448591318275207],\n",
       "    [8110934, 8111171, 0.00017194868834031303],\n",
       "    [85992, 86014, 0.0001566423723194047],\n",
       "    [2241875, 2241883, 0.00014867436206809513],\n",
       "    [1017224, 1017237, 0.0001458268212024419],\n",
       "    [3034941, 3034952, 0.00014207266317268095],\n",
       "    [8021436, 8021462, 0.00010447544618967724],\n",
       "    [5316697, 5316755, 0.00010083014479406092],\n",
       "    [2844565, 2844704, 9.915901831020771e-05],\n",
       "    [1359018, 9331127, 8.484215641432061e-05],\n",
       "    [168214, 169035, 5.684118787560414e-05],\n",
       "    [3595515, 3744697, 4.517320213187709e-05]],\n",
       "   'Computed in 93.71 ms']},\n",
       " 0.17683663219213486)"
      ]
     },
     "execution_count": 17,
     "metadata": {},
     "output_type": "execute_result"
    }
   ],
   "source": [
    "# Example response\n",
    "complete_responses[0]"
   ]
  },
  {
   "cell_type": "markdown",
   "metadata": {},
   "source": [
    "Let's use the number of original questions to count the succesful responses."
   ]
  },
  {
   "cell_type": "code",
   "execution_count": 25,
   "metadata": {},
   "outputs": [],
   "source": [
    "no_questions = len(complete_responses[0][0]['result'][0])"
   ]
  },
  {
   "cell_type": "code",
   "execution_count": 27,
   "metadata": {},
   "outputs": [
    {
     "name": "stdout",
     "output_type": "stream",
     "text": [
      "Succesful 100 out of 100\n"
     ]
    }
   ],
   "source": [
    "num_succesful=[len(i[0]['result'][0]) for i in complete_responses].count(no_questions)\n",
    "print('Succesful {} out of {}'.format(num_succesful, len(url_list)))"
   ]
  },
  {
   "cell_type": "markdown",
   "metadata": {},
   "source": [
    "To tear down the cluster and all related resources go to the last section of [deploy on AKS notebook](05_Deploy_On_AKS.ipynb)."
   ]
  }
 ],
 "metadata": {
  "kernelspec": {
   "display_name": "Python [conda env:MLAKSDeployment]",
   "language": "python",
   "name": "conda-env-MLAKSDeployment-py"
  },
  "language_info": {
   "codemirror_mode": {
    "name": "ipython",
    "version": 3
   },
   "file_extension": ".py",
   "mimetype": "text/x-python",
   "name": "python",
   "nbconvert_exporter": "python",
   "pygments_lexer": "ipython3",
   "version": "3.5.5"
  }
 },
 "nbformat": 4,
 "nbformat_minor": 2
}
