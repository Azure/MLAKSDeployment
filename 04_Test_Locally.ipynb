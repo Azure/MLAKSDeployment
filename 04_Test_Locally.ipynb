{
 "cells": [
  {
   "cell_type": "markdown",
   "metadata": {},
   "source": [
    "# Test the deployed web application"
   ]
  },
  {
   "cell_type": "markdown",
   "metadata": {},
   "source": [
    "In this notebook, we test the local web app running inside the Docker container we made previously."
   ]
  },
  {
   "cell_type": "code",
   "execution_count": null,
   "metadata": {},
   "outputs": [],
   "source": [
    "import numpy as np\n",
    "import requests\n",
    "import pandas as pd\n",
    "import json\n",
    "\n",
    "from utilities import text_to_json"
   ]
  },
  {
   "cell_type": "code",
   "execution_count": null,
   "metadata": {},
   "outputs": [],
   "source": [
    "docker_login = 'fboylu'\n",
    "image_name = docker_login + '/mlaksdep'"
   ]
  },
  {
   "cell_type": "markdown",
   "metadata": {},
   "source": [
    "Run the Docker conatainer in the background and open port 80."
   ]
  },
  {
   "cell_type": "code",
   "execution_count": null,
   "metadata": {},
   "outputs": [],
   "source": [
    "%%bash --bg -s \"$image_name\"\n",
    "docker run -p 80:80 $1"
   ]
  },
  {
   "cell_type": "markdown",
   "metadata": {},
   "source": [
    "Wait a few seconds for the application to spin up and then check that everything works."
   ]
  },
  {
   "cell_type": "code",
   "execution_count": null,
   "metadata": {},
   "outputs": [],
   "source": [
    "!curl \"http://0.0.0.0:80/\""
   ]
  },
  {
   "cell_type": "code",
   "execution_count": null,
   "metadata": {},
   "outputs": [],
   "source": [
    "!curl \"http://0.0.0.0:80/version\""
   ]
  },
  {
   "cell_type": "markdown",
   "metadata": {},
   "source": [
    "Now, let's use one of the duplicate questions to test our driver."
   ]
  },
  {
   "cell_type": "code",
   "execution_count": null,
   "metadata": {},
   "outputs": [],
   "source": [
    "dupes_test_path = 'dupes_test.tsv'\n",
    "dupes_test = pd.read_csv(dupes_test_path, sep='\\t', encoding='latin1')\n",
    "text_to_score = dupes_test.iloc[0,4]\n",
    "text_to_score"
   ]
  },
  {
   "cell_type": "code",
   "execution_count": null,
   "metadata": {},
   "outputs": [
    {
     "data": {
      "text/plain": [
       "'{\"input\": \"javascript arrays as objects.  possible duplicate: length of javascript object (ie. assoc'"
      ]
     },
     "execution_count": 7,
     "metadata": {},
     "output_type": "execute_result"
    }
   ],
   "source": [
    "jsontext = text_to_json(text_to_score)\n",
    "jsontext[:100]"
   ]
  },
  {
   "cell_type": "code",
   "execution_count": null,
   "metadata": {},
   "outputs": [],
   "source": [
    "headers = {'content-type': 'application/json'}\n",
    "%time r = requests.post('http://0.0.0.0:80/score', data=jsontext, headers=headers)\n",
    "print(r)\n",
    "r.json()"
   ]
  },
  {
   "cell_type": "markdown",
   "metadata": {},
   "source": [
    "Let's try a few more duplicate questions and display their top 3 original matches."
   ]
  },
  {
   "cell_type": "code",
   "execution_count": 9,
   "metadata": {},
   "outputs": [],
   "source": [
    "dupes_to_score = dupes_test.iloc[:5,4]"
   ]
  },
  {
   "cell_type": "code",
   "execution_count": 10,
   "metadata": {},
   "outputs": [],
   "source": [
    "url = 'http://0.0.0.0:80/score'\n",
    "results = [requests.post(url, data=text_to_json(text), headers=headers) for text in dupes_to_score]"
   ]
  },
  {
   "cell_type": "markdown",
   "metadata": {},
   "source": [
    "Let's print top 3 matches for each duplicate question."
   ]
  },
  {
   "cell_type": "code",
   "execution_count": 11,
   "metadata": {},
   "outputs": [
    {
     "data": {
      "text/plain": [
       "[[[11922383, 11922384, 0.4618297837830524],\n",
       "  [750486, 750506, 0.10187547714586409],\n",
       "  [5223, 6700, 0.0638246129572683]],\n",
       " [[14220321, 14220323, 0.8221692467477977],\n",
       "  [11922383, 11922384, 0.6581886437186476],\n",
       "  [5223, 6700, 0.6432238154719481]],\n",
       " [[14220321, 14220323, 0.9645868077283122],\n",
       "  [27928, 27943, 0.9222570573208747],\n",
       "  [13840429, 13840431, 0.7895954858417572]],\n",
       " [[27928, 27943, 0.8253809764787108],\n",
       "  [14220321, 14220323, 0.35839553716891404],\n",
       "  [23667086, 23667087, 0.2802815688638847]],\n",
       " [[203198, 1207393, 0.989876477409501],\n",
       "  [152975, 153047, 0.5379549302867603],\n",
       "  [12829963, 12830031, 0.22370925120587182]]]"
      ]
     },
     "execution_count": 11,
     "metadata": {},
     "output_type": "execute_result"
    }
   ],
   "source": [
    "[results[i].json()['result'][0][0:3] for i in range(0, len(results))]"
   ]
  },
  {
   "cell_type": "markdown",
   "metadata": {},
   "source": [
    "Next let's quickly check what the request response performance is for the locally running Docker container."
   ]
  },
  {
   "cell_type": "code",
   "execution_count": 12,
   "metadata": {},
   "outputs": [],
   "source": [
    "text_data = list(map(text_to_json, dupes_to_score)) # Retrieve the text data"
   ]
  },
  {
   "cell_type": "code",
   "execution_count": 13,
   "metadata": {},
   "outputs": [],
   "source": [
    "timer_results = list()\n",
    "for text in text_data:\n",
    "    res=%timeit -r 1 -o -q requests.post(url, data=text, headers=headers)\n",
    "    timer_results.append(res.best)"
   ]
  },
  {
   "cell_type": "code",
   "execution_count": 14,
   "metadata": {},
   "outputs": [
    {
     "data": {
      "text/plain": [
       "[0.03609351180493832,\n",
       " 0.03917934652417898,\n",
       " 0.06589280478656293,\n",
       " 0.03953545484691858,\n",
       " 0.03342356495559216]"
      ]
     },
     "execution_count": 14,
     "metadata": {},
     "output_type": "execute_result"
    }
   ],
   "source": [
    "timer_results"
   ]
  },
  {
   "cell_type": "code",
   "execution_count": 15,
   "metadata": {},
   "outputs": [
    {
     "name": "stdout",
     "output_type": "stream",
     "text": [
      "Average time taken: 42.82 ms\n"
     ]
    }
   ],
   "source": [
    "print('Average time taken: {0:4.2f} ms'.format(10**3 * np.mean(timer_results)))"
   ]
  },
  {
   "cell_type": "code",
   "execution_count": 16,
   "metadata": {},
   "outputs": [
    {
     "name": "stdout",
     "output_type": "stream",
     "text": [
      "88eb5b85ddd8\n"
     ]
    }
   ],
   "source": [
    "%%bash\n",
    "docker stop $(docker ps -q)"
   ]
  },
  {
   "cell_type": "markdown",
   "metadata": {},
   "source": [
    "We can now [deploy our web application](05_Deploy_On_AKS.ipynb) on AKS."
   ]
  }
 ],
 "metadata": {
  "kernelspec": {
   "display_name": "Python 3",
   "language": "python",
   "name": "python3"
  },
  "language_info": {
   "codemirror_mode": {
    "name": "ipython",
    "version": 3
   },
   "file_extension": ".py",
   "mimetype": "text/x-python",
   "name": "python",
   "nbconvert_exporter": "python",
   "pygments_lexer": "ipython3",
   "version": "3.5.5"
  }
 },
 "nbformat": 4,
 "nbformat_minor": 2
}
