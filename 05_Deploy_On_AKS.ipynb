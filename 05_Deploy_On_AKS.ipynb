{
 "cells": [
  {
   "cell_type": "markdown",
   "metadata": {},
   "source": [
    "# Deploy Web App on Azure Container Services (AKS)\n"
   ]
  },
  {
   "cell_type": "markdown",
   "metadata": {},
   "source": [
    "In this notebook, we will set up an Azure Container Service which will be managed by Kubernetes. We will then take the Docker image we created earlier that contains our app and deploy it to the AKS cluster. Then, we will check everything is working by sending a question to it and getting it scored for matches in the original questions.\n",
    "\n",
    "The process is split into the following steps:\n",
    "- Define our resource names\n",
    "- Login to Azure\n",
    "- Create resource group and create AKS\n",
    "- Connect to AKS\n",
    "- Deploy our app\n",
    "- Tear it all down\n",
    "\n",
    "We assume that this notebook is running on Linux and Azure CLI is installed before proceeding."
   ]
  },
  {
   "cell_type": "code",
   "execution_count": 1,
   "metadata": {},
   "outputs": [],
   "source": [
    "import json\n",
    "from utilities import write_json_to_file"
   ]
  },
  {
   "cell_type": "markdown",
   "metadata": {},
   "source": [
    "## Setup"
   ]
  },
  {
   "cell_type": "markdown",
   "metadata": {},
   "source": [
    "Below are the various name definitions for the resources needed to setup AKS as well as the name of the Docker image we will be using."
   ]
  },
  {
   "cell_type": "code",
   "execution_count": 2,
   "metadata": {},
   "outputs": [],
   "source": [
    "# Please modify the below as you see fit\n",
    "resource_group = \"<RESOURCE_GROUP>\" \n",
    "aks_name = \"<AKS_CLUSTER_NAME>\"\n",
    "location = \"eastus\"\n",
    "\n",
    "docker_login = '<YOUR_DOCKER_LOGIN>'\n",
    "image_name = docker_login + '/mlaksdep' # 'fboylu/mlaksdep' Use this image if you want to skip creating your own container\n",
    "selected_subscription = \"'<YOUR_SUBSCRIPTION>'\" # If you have multiple subscriptions select the subscription you want to use "
   ]
  },
  {
   "cell_type": "markdown",
   "metadata": {},
   "source": [
    "## Azure account login"
   ]
  },
  {
   "cell_type": "markdown",
   "metadata": {},
   "source": [
    "The command below will initiate a login to your Azure account. It will pop up with an url to go to where you will enter a one off code and log into your Azure account using your browser."
   ]
  },
  {
   "cell_type": "code",
   "execution_count": 3,
   "metadata": {},
   "outputs": [],
   "source": [
    "!az login -o table"
   ]
  },
  {
   "cell_type": "code",
   "execution_count": 4,
   "metadata": {},
   "outputs": [],
   "source": [
    "!az account set --subscription $selected_subscription"
   ]
  },
  {
   "cell_type": "code",
   "execution_count": 5,
   "metadata": {},
   "outputs": [],
   "source": [
    "!az account show"
   ]
  },
  {
   "cell_type": "markdown",
   "metadata": {},
   "source": [
    "You will also need to register the container service resources on your subscription if you haven't already done so."
   ]
  },
  {
   "cell_type": "code",
   "execution_count": 7,
   "metadata": {},
   "outputs": [],
   "source": [
    "!az provider register -n Microsoft.ContainerService"
   ]
  },
  {
   "cell_type": "code",
   "execution_count": 8,
   "metadata": {},
   "outputs": [],
   "source": [
    "!az provider show -n Microsoft.ContainerService"
   ]
  },
  {
   "cell_type": "markdown",
   "metadata": {},
   "source": [
    "## Create resources and dependencies"
   ]
  },
  {
   "cell_type": "markdown",
   "metadata": {},
   "source": [
    "### Create resource group and AKS cluster"
   ]
  },
  {
   "cell_type": "markdown",
   "metadata": {},
   "source": [
    "Azure encourages the use of groups to organize all the Azure components you deploy. That way it is easier to find them but also we can delete a number of resources simply by deleting the group."
   ]
  },
  {
   "cell_type": "code",
   "execution_count": 3,
   "metadata": {},
   "outputs": [
    {
     "name": "stdout",
     "output_type": "stream",
     "text": [
      "{\r\n",
      "  \"id\": \"/subscriptions/xxxxxxxx-xxxx-xxxx-xxxx-xxxxxxxxxxxx/resourceGroups/fbaksrg\",\r\n",
      "  \"location\": \"eastus\",\r\n",
      "  \"managedBy\": null,\r\n",
      "  \"name\": \"fbakscpurg\",\r\n",
      "  \"properties\": {\r\n",
      "    \"provisioningState\": \"Succeeded\"\r\n",
      "  },\r\n",
      "  \"tags\": null\r\n",
      "}\r\n"
     ]
    }
   ],
   "source": [
    "!az group create --name $resource_group --location $location"
   ]
  },
  {
   "cell_type": "markdown",
   "metadata": {},
   "source": [
    "Below, we create the AKS cluster  with 5 nodes in the resource group we created earlier."
   ]
  },
  {
   "cell_type": "code",
   "execution_count": 6,
   "metadata": {},
   "outputs": [
    {
     "name": "stdout",
     "output_type": "stream",
     "text": [
      "\u001b[K{- Finished ..\n",
      "  \"agentPoolProfiles\": [\n",
      "    {\n",
      "      \"count\": 5,\n",
      "      \"dnsPrefix\": null,\n",
      "      \"fqdn\": null,\n",
      "      \"name\": \"nodepool1\",\n",
      "      \"osDiskSizeGb\": null,\n",
      "      \"osType\": \"Linux\",\n",
      "      \"ports\": null,\n",
      "      \"storageProfile\": \"ManagedDisks\",\n",
      "      \"vmSize\": \"Standard_D4_v2\",\n",
      "      \"vnetSubnetId\": null\n",
      "    }\n",
      "  ],\n",
      "  \"dnsPrefix\": \"fbAKSClust-fbakscpurg-edf507\",\n",
      "  \"fqdn\": \"fbaksclust-fbakscpurg-edf507-e12d7f40.hcp.eastus.azmk8s.io\",\n",
      "  \"id\": \"/subscriptions/xxxxxxxx-xxxx-xxxx-xxxx-xxxxxxxxxxxx/resourcegroups/fbaksrg/providers/Microsoft.ContainerService/managedClusters/fbAKSClustergpu\",\n",
      "  \"kubernetesVersion\": \"1.9.6\",\n",
      "  \"linuxProfile\": {\n",
      "    \"adminUsername\": \"azureuser\",\n",
      "    \"ssh\": {\n",
      "      \"publicKeys\": [\n",
      "        {\n",
      "          \"keyData\": \"ssh-rsa AAAAB3NzaC1yc2EAAAADAQABAAABAQDTZYQFHNstYCR25qtvMrC6baTMS6TobaIRbgd0xOoafDy+2uBk0DMJuhGWoOcrsCnvadp5k/0K8qBRysyhlQGWb6+r8fBunThy+zpTKqdh3W8Q1y5UtKnGwwU1cqGXDOPUIXJYNPJqUKV829+MOrZjUynhHgSzDbY2ncGyoT+Farsvm01aGEdDapa+XRl4JAwtN1bb9q+Ii5y+MkpIOhLRMwATl05eNfAHmYQWtaIJZZJOHMNPswlBmLs293Wsj11vYh6/yo9S4ToEsc9Pbl5Zn6OFIu7jfzN2bM8cA3+8pru9WSthrxjJvPn8i4uTYozOdNIi09ArQ4lRT9t6rsMz\"\n",
      "        }\n",
      "      ]\n",
      "    }\n",
      "  },\n",
      "  \"location\": \"eastus\",\n",
      "  \"name\": \"fbAKSClustercpu\",\n",
      "  \"provisioningState\": \"Succeeded\",\n",
      "  \"resourceGroup\": \"fbakscpurg\",\n",
      "  \"servicePrincipalProfile\": {\n",
      "    \"clientId\": \"eeba3bfe-45f9-42de-9bdb-54416b67382d\",\n",
      "    \"keyVaultSecretRef\": null,\n",
      "    \"secret\": null\n",
      "  },\n",
      "  \"tags\": null,\n",
      "  \"type\": \"Microsoft.ContainerService/ManagedClusters\"\n",
      "}\n",
      "\u001b[0mCPU times: user 15.4 s, sys: 5.92 s, total: 21.3 s\n",
      "Wall time: 15min 43s\n"
     ]
    }
   ],
   "source": [
    "%%time\n",
    "!az aks create --resource-group $resource_group --name $aks_name --node-count 5 --generate-ssh-keys -s Standard_D4_v2"
   ]
  },
  {
   "cell_type": "markdown",
   "metadata": {},
   "source": [
    "### Install kubectl CLI"
   ]
  },
  {
   "cell_type": "markdown",
   "metadata": {},
   "source": [
    "To connect to the Kubernetes cluster, we will use kubectl, the Kubernetes command-line client. To install, run the following:"
   ]
  },
  {
   "cell_type": "code",
   "execution_count": 6,
   "metadata": {},
   "outputs": [
    {
     "name": "stdout",
     "output_type": "stream",
     "text": [
      "\u001b[33mDownloading client to /usr/local/bin/kubectl from https://storage.googleapis.com/kubernetes-release/release/v1.11.1/bin/linux/amd64/kubectl\u001b[0m\n",
      "\u001b[33mPlease ensure that /usr/local/bin is in your search PATH, so the `kubectl` command can be found.\u001b[0m\n"
     ]
    }
   ],
   "source": [
    "!sudo env \"PATH=$PATH\" az aks install-cli"
   ]
  },
  {
   "cell_type": "markdown",
   "metadata": {},
   "source": [
    "## Connect to AKS cluster"
   ]
  },
  {
   "cell_type": "markdown",
   "metadata": {},
   "source": [
    "To configure kubectl to connect to the Kubernetes cluster, run the following command:"
   ]
  },
  {
   "cell_type": "code",
   "execution_count": 7,
   "metadata": {},
   "outputs": [
    {
     "name": "stdout",
     "output_type": "stream",
     "text": [
      "Merged \"fbAKSClustercpu\" as current context in /home/fboylu/.kube/config\r\n"
     ]
    }
   ],
   "source": [
    "!az aks get-credentials --resource-group $resource_group --name $aks_name"
   ]
  },
  {
   "cell_type": "markdown",
   "metadata": {},
   "source": [
    "Let's verify connection by listing the nodes."
   ]
  },
  {
   "cell_type": "code",
   "execution_count": 8,
   "metadata": {},
   "outputs": [
    {
     "name": "stdout",
     "output_type": "stream",
     "text": [
      "NAME                       STATUS    ROLES     AGE       VERSION\r\n",
      "aks-nodepool1-13347348-0   Ready     agent     53d       v1.9.6\r\n",
      "aks-nodepool1-13347348-1   Ready     agent     53d       v1.9.6\r\n",
      "aks-nodepool1-13347348-2   Ready     agent     53d       v1.9.6\r\n",
      "aks-nodepool1-13347348-3   Ready     agent     53d       v1.9.6\r\n",
      "aks-nodepool1-13347348-4   Ready     agent     53d       v1.9.6\r\n"
     ]
    }
   ],
   "source": [
    "!kubectl get nodes"
   ]
  },
  {
   "cell_type": "markdown",
   "metadata": {},
   "source": [
    "Let's check the pods on our cluster."
   ]
  },
  {
   "cell_type": "code",
   "execution_count": 6,
   "metadata": {},
   "outputs": [
    {
     "name": "stdout",
     "output_type": "stream",
     "text": [
      "NAMESPACE     NAME                                    READY     STATUS    RESTARTS   AGE\r\n",
      "kube-system   azureproxy-79c5db744-j5hj4              1/1       Running   3          53d\r\n",
      "kube-system   heapster-55f855b47-bs86x                2/2       Running   0          53d\r\n",
      "kube-system   kube-dns-v20-7c556f89c5-96dfd           3/3       Running   0          53d\r\n",
      "kube-system   kube-dns-v20-7c556f89c5-fm7v2           3/3       Running   0          53d\r\n",
      "kube-system   kube-proxy-225hz                        1/1       Running   0          53d\r\n",
      "kube-system   kube-proxy-g5x5p                        1/1       Running   0          53d\r\n",
      "kube-system   kube-proxy-hw7fk                        1/1       Running   0          53d\r\n",
      "kube-system   kube-proxy-ttnsh                        1/1       Running   0          53d\r\n",
      "kube-system   kube-proxy-tvnpv                        1/1       Running   0          53d\r\n",
      "kube-system   kube-svc-redirect-278jk                 1/1       Running   3          53d\r\n",
      "kube-system   kube-svc-redirect-bhvsk                 1/1       Running   2          53d\r\n",
      "kube-system   kube-svc-redirect-chkj2                 1/1       Running   2          53d\r\n",
      "kube-system   kube-svc-redirect-k7fs6                 1/1       Running   2          53d\r\n",
      "kube-system   kube-svc-redirect-mg5cj                 1/1       Running   3          53d\r\n",
      "kube-system   kubernetes-dashboard-546f987686-rznkm   1/1       Running   2          53d\r\n",
      "kube-system   tunnelfront-5fcfb8fb44-ht5r8            1/1       Running   23         53d\r\n"
     ]
    }
   ],
   "source": [
    "!kubectl get pods --all-namespaces"
   ]
  },
  {
   "cell_type": "markdown",
   "metadata": {},
   "source": [
    "## Deploy application"
   ]
  },
  {
   "cell_type": "markdown",
   "metadata": {},
   "source": [
    "Below we define our Kubernetes manifest file for our service and load balancer. Note that we have to specify the image name and cpu requests and limits for pods. We first start with  deploying 2 pods."
   ]
  },
  {
   "cell_type": "code",
   "execution_count": 7,
   "metadata": {},
   "outputs": [],
   "source": [
    "app_template = {\n",
    "  \"apiVersion\": \"apps/v1beta1\",\n",
    "  \"kind\": \"Deployment\",\n",
    "  \"metadata\": {\n",
    "      \"name\": \"azure-ml\"\n",
    "  },\n",
    "  \"spec\":{\n",
    "      \"replicas\":2,\n",
    "      \"template\":{\n",
    "          \"metadata\":{\n",
    "              \"labels\":{\n",
    "                  \"app\":\"azure-ml\"\n",
    "              }\n",
    "          },\n",
    "          \"spec\":{\n",
    "              \"containers\":[\n",
    "                  {\n",
    "                      \"name\": \"azure-ml\",\n",
    "                      \"image\": image_name,\n",
    "\n",
    "                      \"ports\":[\n",
    "                          {\n",
    "                              \"containerPort\":80,\n",
    "                              \"name\":\"model\"\n",
    "                          }\n",
    "                      ],\n",
    "                      \"resources\":{\n",
    "                           \"requests\":{\n",
    "                               \"cpu\": 1\n",
    "                           },\n",
    "                           \"limits\":{\n",
    "                               \"cpu\": 1.25\n",
    "                           }\n",
    "                       }  \n",
    "                  }\n",
    "              ]\n",
    "          }\n",
    "      }\n",
    "  }\n",
    "}\n",
    "\n",
    "service_temp = {\n",
    "  \"apiVersion\": \"v1\",\n",
    "  \"kind\": \"Service\",\n",
    "  \"metadata\": {\n",
    "      \"name\": \"azure-ml\"\n",
    "  },\n",
    "  \"spec\":{\n",
    "      \"type\": \"LoadBalancer\",\n",
    "      \"ports\":[\n",
    "          {\n",
    "              \"port\":80\n",
    "          }\n",
    "      ],\n",
    "      \"selector\":{\n",
    "            \"app\":\"azure-ml\"\n",
    "      }\n",
    "   }\n",
    "}"
   ]
  },
  {
   "cell_type": "code",
   "execution_count": 8,
   "metadata": {},
   "outputs": [],
   "source": [
    "write_json_to_file(app_template, 'az-ml.json')"
   ]
  },
  {
   "cell_type": "code",
   "execution_count": 9,
   "metadata": {},
   "outputs": [],
   "source": [
    "write_json_to_file(service_temp, 'az-ml.json', mode='a')"
   ]
  },
  {
   "cell_type": "markdown",
   "metadata": {},
   "source": [
    "Let's check the manifest created."
   ]
  },
  {
   "cell_type": "code",
   "execution_count": 10,
   "metadata": {},
   "outputs": [
    {
     "name": "stdout",
     "output_type": "stream",
     "text": [
      "{\r\n",
      "    \"apiVersion\": \"apps/v1beta1\",\r\n",
      "    \"kind\": \"Deployment\",\r\n",
      "    \"metadata\": {\r\n",
      "        \"name\": \"azure-ml\"\r\n",
      "    },\r\n",
      "    \"spec\": {\r\n",
      "        \"replicas\": 2,\r\n",
      "        \"template\": {\r\n",
      "            \"metadata\": {\r\n",
      "                \"labels\": {\r\n",
      "                    \"app\": \"azure-ml\"\r\n",
      "                }\r\n",
      "            },\r\n",
      "            \"spec\": {\r\n",
      "                \"containers\": [\r\n",
      "                    {\r\n",
      "                        \"image\": \"fboylu/mlaksdep\",\r\n",
      "                        \"name\": \"azure-ml\",\r\n",
      "                        \"ports\": [\r\n",
      "                            {\r\n",
      "                                \"containerPort\": 80,\r\n",
      "                                \"name\": \"model\"\r\n",
      "                            }\r\n",
      "                        ],\r\n",
      "                        \"resources\": {\r\n",
      "                            \"limits\": {\r\n",
      "                                \"cpu\": 1.25\r\n",
      "                            },\r\n",
      "                            \"requests\": {\r\n",
      "                                \"cpu\": 1\r\n",
      "                            }\r\n",
      "                        }\r\n",
      "                    }\r\n",
      "                ]\r\n",
      "            }\r\n",
      "        }\r\n",
      "    }\r\n",
      "}\r\n",
      "\r\n",
      "{\r\n",
      "    \"apiVersion\": \"v1\",\r\n",
      "    \"kind\": \"Service\",\r\n",
      "    \"metadata\": {\r\n",
      "        \"name\": \"azure-ml\"\r\n",
      "    },\r\n",
      "    \"spec\": {\r\n",
      "        \"ports\": [\r\n",
      "            {\r\n",
      "                \"port\": 80\r\n",
      "            }\r\n",
      "        ],\r\n",
      "        \"selector\": {\r\n",
      "            \"app\": \"azure-ml\"\r\n",
      "        },\r\n",
      "        \"type\": \"LoadBalancer\"\r\n",
      "    }\r\n",
      "}\r\n",
      "\r\n"
     ]
    }
   ],
   "source": [
    "!cat az-ml.json"
   ]
  },
  {
   "cell_type": "markdown",
   "metadata": {},
   "source": [
    "Next, we will use kubectl create command to deploy our application."
   ]
  },
  {
   "cell_type": "code",
   "execution_count": 11,
   "metadata": {},
   "outputs": [
    {
     "name": "stdout",
     "output_type": "stream",
     "text": [
      "deployment.apps/azure-ml created\n",
      "service/azure-ml created\n"
     ]
    }
   ],
   "source": [
    "!kubectl create -f az-ml.json"
   ]
  },
  {
   "cell_type": "markdown",
   "metadata": {},
   "source": [
    "Let's check if the pod is deployed."
   ]
  },
  {
   "cell_type": "code",
   "execution_count": 9,
   "metadata": {},
   "outputs": [
    {
     "name": "stdout",
     "output_type": "stream",
     "text": [
      "NAMESPACE     NAME                                    READY     STATUS    RESTARTS   AGE\r\n",
      "default       azure-ml-7d9b465b7f-7ssmm               1/1       Running   0          1h\r\n",
      "default       azure-ml-7d9b465b7f-hgwcc               1/1       Running   0          1h\r\n",
      "kube-system   azureproxy-79c5db744-j5hj4              1/1       Running   3          53d\r\n",
      "kube-system   heapster-55f855b47-bs86x                2/2       Running   0          53d\r\n",
      "kube-system   kube-dns-v20-7c556f89c5-96dfd           3/3       Running   0          53d\r\n",
      "kube-system   kube-dns-v20-7c556f89c5-fm7v2           3/3       Running   0          53d\r\n",
      "kube-system   kube-proxy-225hz                        1/1       Running   0          53d\r\n",
      "kube-system   kube-proxy-g5x5p                        1/1       Running   0          53d\r\n",
      "kube-system   kube-proxy-hw7fk                        1/1       Running   0          53d\r\n",
      "kube-system   kube-proxy-ttnsh                        1/1       Running   0          53d\r\n",
      "kube-system   kube-proxy-tvnpv                        1/1       Running   0          53d\r\n",
      "kube-system   kube-svc-redirect-278jk                 1/1       Running   3          53d\r\n",
      "kube-system   kube-svc-redirect-bhvsk                 1/1       Running   2          53d\r\n",
      "kube-system   kube-svc-redirect-chkj2                 1/1       Running   2          53d\r\n",
      "kube-system   kube-svc-redirect-k7fs6                 1/1       Running   2          53d\r\n",
      "kube-system   kube-svc-redirect-mg5cj                 1/1       Running   3          53d\r\n",
      "kube-system   kubernetes-dashboard-546f987686-rznkm   1/1       Running   2          53d\r\n",
      "kube-system   tunnelfront-5fcfb8fb44-ht5r8            1/1       Running   23         53d\r\n"
     ]
    }
   ],
   "source": [
    "!kubectl get pods --all-namespaces"
   ]
  },
  {
   "cell_type": "markdown",
   "metadata": {},
   "source": [
    "If anything goes wrong you can use the commands below to observe the events on the node as well as review the logs."
   ]
  },
  {
   "cell_type": "code",
   "execution_count": 20,
   "metadata": {},
   "outputs": [
    {
     "name": "stdout",
     "output_type": "stream",
     "text": [
      "LAST SEEN   FIRST SEEN   COUNT     NAME                                         KIND         SUBOBJECT                   TYPE      REASON                  SOURCE                              MESSAGE\r\n",
      "1m          1m           1         azure-ml-7d9b465b7f-24mz5.1546d1cb17d5f1fd   Pod                                      Normal    Scheduled               default-scheduler                   Successfully assigned azure-ml-7d9b465b7f-24mz5 to aks-nodepool1-13347348-0\r\n",
      "1m          1m           1         azure-ml-7d9b465b7f-24mz5.1546d1cb97603a3f   Pod                                      Normal    SuccessfulMountVolume   kubelet, aks-nodepool1-13347348-0   MountVolume.SetUp succeeded for volume \"default-token-lls54\" \r\n",
      "1m          1m           1         azure-ml-7d9b465b7f-24mz5.1546d1cbdc5b85be   Pod          spec.containers{azure-ml}   Normal    Pulling                 kubelet, aks-nodepool1-13347348-0   pulling image \"fboylu/mlaksdep\"\r\n",
      "1m          1m           1         azure-ml-7d9b465b7f-24s7h.1546d1cb17e49094   Pod                                      Normal    Scheduled               default-scheduler                   Successfully assigned azure-ml-7d9b465b7f-24s7h to aks-nodepool1-13347348-3\r\n",
      "1m          1m           1         azure-ml-7d9b465b7f-24s7h.1546d1cb3fd16775   Pod                                      Normal    SuccessfulMountVolume   kubelet, aks-nodepool1-13347348-3   MountVolume.SetUp succeeded for volume \"default-token-lls54\" \r\n",
      "1m          1m           1         azure-ml-7d9b465b7f-24s7h.1546d1cb869a5d78   Pod          spec.containers{azure-ml}   Normal    Pulling                 kubelet, aks-nodepool1-13347348-3   pulling image \"fboylu/mlaksdep\"\r\n",
      "1m          1m           1         azure-ml-7d9b465b7f-27bq6.1546d1cb1742802c   Pod                                      Normal    Scheduled               default-scheduler                   Successfully assigned azure-ml-7d9b465b7f-27bq6 to aks-nodepool1-13347348-1\r\n",
      "1m          1m           1         azure-ml-7d9b465b7f-27bq6.1546d1cb83be7285   Pod                                      Normal    SuccessfulMountVolume   kubelet, aks-nodepool1-13347348-1   MountVolume.SetUp succeeded for volume \"default-token-lls54\" \r\n",
      "1m          1m           1         azure-ml-7d9b465b7f-27bq6.1546d1cbcc46f41a   Pod          spec.containers{azure-ml}   Normal    Pulling                 kubelet, aks-nodepool1-13347348-1   pulling image \"fboylu/mlaksdep\"\r\n",
      "1m          1m           1         azure-ml-7d9b465b7f-2kwqw.1546d1cb17e44e2c   Pod                                      Normal    Scheduled               default-scheduler                   Successfully assigned azure-ml-7d9b465b7f-2kwqw to aks-nodepool1-13347348-4\r\n",
      "1m          1m           1         azure-ml-7d9b465b7f-2kwqw.1546d1cb6987f04e   Pod                                      Normal    SuccessfulMountVolume   kubelet, aks-nodepool1-13347348-4   MountVolume.SetUp succeeded for volume \"default-token-lls54\" \r\n",
      "1m          1m           1         azure-ml-7d9b465b7f-2kwqw.1546d1cbac10a177   Pod          spec.containers{azure-ml}   Normal    Pulling                 kubelet, aks-nodepool1-13347348-4   pulling image \"fboylu/mlaksdep\"\r\n",
      "1m          1m           1         azure-ml-7d9b465b7f-2kwqw.1546d1cdaa763ca3   Pod          spec.containers{azure-ml}   Normal    Pulled                  kubelet, aks-nodepool1-13347348-4   Successfully pulled image \"fboylu/mlaksdep\"\r\n",
      "1m          1m           1         azure-ml-7d9b465b7f-2kwqw.1546d1cdbbece053   Pod          spec.containers{azure-ml}   Normal    Created                 kubelet, aks-nodepool1-13347348-4   Created container\r\n",
      "1m          1m           1         azure-ml-7d9b465b7f-2kwqw.1546d1cdcb025c92   Pod          spec.containers{azure-ml}   Normal    Started                 kubelet, aks-nodepool1-13347348-4   Started container\r\n",
      "1m          1m           1         azure-ml-7d9b465b7f-5cj9x.1546d1cb17e4c4ec   Pod                                      Normal    Scheduled               default-scheduler                   Successfully assigned azure-ml-7d9b465b7f-5cj9x to aks-nodepool1-13347348-2\r\n",
      "1m          1m           1         azure-ml-7d9b465b7f-5cj9x.1546d1cb38e3727c   Pod                                      Normal    SuccessfulMountVolume   kubelet, aks-nodepool1-13347348-2   MountVolume.SetUp succeeded for volume \"default-token-lls54\" \r\n",
      "1m          1m           1         azure-ml-7d9b465b7f-5cj9x.1546d1cb70334891   Pod          spec.containers{azure-ml}   Normal    Pulling                 kubelet, aks-nodepool1-13347348-2   pulling image \"fboylu/mlaksdep\"\r\n",
      "1m          1m           1         azure-ml-7d9b465b7f-5cj9x.1546d1cc0c555edf   Pod          spec.containers{azure-ml}   Normal    Pulled                  kubelet, aks-nodepool1-13347348-2   Successfully pulled image \"fboylu/mlaksdep\"\r\n",
      "1m          1m           1         azure-ml-7d9b465b7f-5cj9x.1546d1cc1b1c0be1   Pod          spec.containers{azure-ml}   Normal    Created                 kubelet, aks-nodepool1-13347348-2   Created container\r\n",
      "1m          1m           1         azure-ml-7d9b465b7f-5cj9x.1546d1cc264e67ab   Pod          spec.containers{azure-ml}   Normal    Started                 kubelet, aks-nodepool1-13347348-2   Started container\r\n",
      "1m          1m           1         azure-ml-7d9b465b7f-6cl8r.1546d1cb15aa1f53   Pod                                      Normal    Scheduled               default-scheduler                   Successfully assigned azure-ml-7d9b465b7f-6cl8r to aks-nodepool1-13347348-2\r\n",
      "1m          1m           1         azure-ml-7d9b465b7f-6cl8r.1546d1cb50952919   Pod                                      Normal    SuccessfulMountVolume   kubelet, aks-nodepool1-13347348-2   MountVolume.SetUp succeeded for volume \"default-token-lls54\" \r\n",
      "1m          1m           1         azure-ml-7d9b465b7f-6cl8r.1546d1cbb42aa977   Pod          spec.containers{azure-ml}   Normal    Pulling                 kubelet, aks-nodepool1-13347348-2   pulling image \"fboylu/mlaksdep\"\r\n",
      "1m          1m           1         azure-ml-7d9b465b7f-6cl8r.1546d1cd1719fd02   Pod          spec.containers{azure-ml}   Normal    Pulled                  kubelet, aks-nodepool1-13347348-2   Successfully pulled image \"fboylu/mlaksdep\"\r\n",
      "1m          1m           1         azure-ml-7d9b465b7f-6cl8r.1546d1cd2b1004f8   Pod          spec.containers{azure-ml}   Normal    Created                 kubelet, aks-nodepool1-13347348-2   Created container\r\n",
      "1m          1m           1         azure-ml-7d9b465b7f-6cl8r.1546d1cd3a250747   Pod          spec.containers{azure-ml}   Normal    Started                 kubelet, aks-nodepool1-13347348-2   Started container\r\n",
      "1m          1m           1         azure-ml-7d9b465b7f-6dmf6.1546d1cb147a633b   Pod                                      Normal    Scheduled               default-scheduler                   Successfully assigned azure-ml-7d9b465b7f-6dmf6 to aks-nodepool1-13347348-0\r\n",
      "1m          1m           1         azure-ml-7d9b465b7f-6dmf6.1546d1cb37ef9cd2   Pod                                      Normal    SuccessfulMountVolume   kubelet, aks-nodepool1-13347348-0   MountVolume.SetUp succeeded for volume \"default-token-lls54\" \r\n",
      "1m          1m           1         azure-ml-7d9b465b7f-6dmf6.1546d1cb6feacc34   Pod          spec.containers{azure-ml}   Normal    Pulling                 kubelet, aks-nodepool1-13347348-0   pulling image \"fboylu/mlaksdep\"\r\n",
      "1m          1m           1         azure-ml-7d9b465b7f-7hqb6.1546d1cb2197f753   Pod                                      Normal    Scheduled               default-scheduler                   Successfully assigned azure-ml-7d9b465b7f-7hqb6 to aks-nodepool1-13347348-0\r\n",
      "1m          1m           1         azure-ml-7d9b465b7f-7hqb6.1546d1cb4fc18c3c   Pod                                      Normal    SuccessfulMountVolume   kubelet, aks-nodepool1-13347348-0   MountVolume.SetUp succeeded for volume \"default-token-lls54\" \r\n",
      "1m          1m           1         azure-ml-7d9b465b7f-7hqb6.1546d1cb9322fbff   Pod          spec.containers{azure-ml}   Normal    Pulling                 kubelet, aks-nodepool1-13347348-0   pulling image \"fboylu/mlaksdep\"\r\n",
      "1m          1m           1         azure-ml-7d9b465b7f-7rhf7.1546d1cb1742d7ac   Pod                                      Normal    Scheduled               default-scheduler                   Successfully assigned azure-ml-7d9b465b7f-7rhf7 to aks-nodepool1-13347348-3\r\n",
      "1m          1m           1         azure-ml-7d9b465b7f-7rhf7.1546d1cb6e6b1749   Pod                                      Normal    SuccessfulMountVolume   kubelet, aks-nodepool1-13347348-3   MountVolume.SetUp succeeded for volume \"default-token-lls54\" \r\n",
      "1m          1m           1         azure-ml-7d9b465b7f-7rhf7.1546d1cbbd6040d5   Pod          spec.containers{azure-ml}   Normal    Pulling                 kubelet, aks-nodepool1-13347348-3   pulling image \"fboylu/mlaksdep\"\r\n",
      "1m          1m           1         azure-ml-7d9b465b7f-7tp7c.1546d1cb1805ea1a   Pod                                      Normal    Scheduled               default-scheduler                   Successfully assigned azure-ml-7d9b465b7f-7tp7c to aks-nodepool1-13347348-1\r\n",
      "1m          1m           1         azure-ml-7d9b465b7f-7tp7c.1546d1cb48331721   Pod                                      Normal    SuccessfulMountVolume   kubelet, aks-nodepool1-13347348-1   MountVolume.SetUp succeeded for volume \"default-token-lls54\" \r\n",
      "1m          1m           1         azure-ml-7d9b465b7f-7tp7c.1546d1cb88c895a8   Pod          spec.containers{azure-ml}   Normal    Pulling                 kubelet, aks-nodepool1-13347348-1   pulling image \"fboylu/mlaksdep\"\r\n",
      "1m          1m           1         azure-ml-7d9b465b7f-9wp9t.1546d1cb23e29aaf   Pod                                      Normal    Scheduled               default-scheduler                   Successfully assigned azure-ml-7d9b465b7f-9wp9t to aks-nodepool1-13347348-2\r\n",
      "1m          1m           1         azure-ml-7d9b465b7f-9wp9t.1546d1cb745b5018   Pod                                      Normal    SuccessfulMountVolume   kubelet, aks-nodepool1-13347348-2   MountVolume.SetUp succeeded for volume \"default-token-lls54\" \r\n",
      "1m          1m           1         azure-ml-7d9b465b7f-9wp9t.1546d1cbc3e1dbba   Pod          spec.containers{azure-ml}   Normal    Pulling                 kubelet, aks-nodepool1-13347348-2   pulling image \"fboylu/mlaksdep\"\r\n",
      "1m          1m           1         azure-ml-7d9b465b7f-9wp9t.1546d1cd325f531a   Pod          spec.containers{azure-ml}   Normal    Pulled                  kubelet, aks-nodepool1-13347348-2   Successfully pulled image \"fboylu/mlaksdep\"\r\n",
      "1m          1m           1         azure-ml-7d9b465b7f-9wp9t.1546d1cd48d60155   Pod          spec.containers{azure-ml}   Normal    Created                 kubelet, aks-nodepool1-13347348-2   Created container\r\n",
      "1m          1m           1         azure-ml-7d9b465b7f-9wp9t.1546d1cd55184391   Pod          spec.containers{azure-ml}   Normal    Started                 kubelet, aks-nodepool1-13347348-2   Started container\r\n",
      "1m          1m           1         azure-ml-7d9b465b7f-b2l4g.1546d1cb155c7c43   Pod                                      Normal    Scheduled               default-scheduler                   Successfully assigned azure-ml-7d9b465b7f-b2l4g to aks-nodepool1-13347348-1\r\n",
      "1m          1m           1         azure-ml-7d9b465b7f-b2l4g.1546d1cb305d1620   Pod                                      Normal    SuccessfulMountVolume   kubelet, aks-nodepool1-13347348-1   MountVolume.SetUp succeeded for volume \"default-token-lls54\" \r\n",
      "1m          1m           1         azure-ml-7d9b465b7f-b2l4g.1546d1cb6da2bb97   Pod          spec.containers{azure-ml}   Normal    Pulling                 kubelet, aks-nodepool1-13347348-1   pulling image \"fboylu/mlaksdep\"\r\n",
      "1m          1m           1         azure-ml-7d9b465b7f-c68dg.1546d1cb150461e6   Pod                                      Normal    Scheduled               default-scheduler                   Successfully assigned azure-ml-7d9b465b7f-c68dg to aks-nodepool1-13347348-1\r\n",
      "1m          1m           1         azure-ml-7d9b465b7f-c68dg.1546d1cb5416e07e   Pod                                      Normal    SuccessfulMountVolume   kubelet, aks-nodepool1-13347348-1   MountVolume.SetUp succeeded for volume \"default-token-lls54\" \r\n",
      "1m          1m           1         azure-ml-7d9b465b7f-c68dg.1546d1cb8564ee17   Pod          spec.containers{azure-ml}   Normal    Pulling                 kubelet, aks-nodepool1-13347348-1   pulling image \"fboylu/mlaksdep\"\r\n",
      "1m          1m           1         azure-ml-7d9b465b7f-cs9h9.1546d1cb14ff9949   Pod                                      Normal    Scheduled               default-scheduler                   Successfully assigned azure-ml-7d9b465b7f-cs9h9 to aks-nodepool1-13347348-3\r\n",
      "1m          1m           1         azure-ml-7d9b465b7f-cs9h9.1546d1cb6289b651   Pod                                      Normal    SuccessfulMountVolume   kubelet, aks-nodepool1-13347348-3   MountVolume.SetUp succeeded for volume \"default-token-lls54\" \r\n",
      "1m          1m           1         azure-ml-7d9b465b7f-cs9h9.1546d1cbbbd9c2b0   Pod          spec.containers{azure-ml}   Normal    Pulling                 kubelet, aks-nodepool1-13347348-3   pulling image \"fboylu/mlaksdep\"\r\n",
      "1m          1m           1         azure-ml-7d9b465b7f-dnvbx.1546d1cb173cf0ba   Pod                                      Normal    Scheduled               default-scheduler                   Successfully assigned azure-ml-7d9b465b7f-dnvbx to aks-nodepool1-13347348-2\r\n",
      "1m          1m           1         azure-ml-7d9b465b7f-dnvbx.1546d1cb5c8130d8   Pod                                      Normal    SuccessfulMountVolume   kubelet, aks-nodepool1-13347348-2   MountVolume.SetUp succeeded for volume \"default-token-lls54\" \r\n",
      "1m          1m           1         azure-ml-7d9b465b7f-dnvbx.1546d1cbb2660bde   Pod          spec.containers{azure-ml}   Normal    Pulling                 kubelet, aks-nodepool1-13347348-2   pulling image \"fboylu/mlaksdep\"\r\n",
      "1m          1m           1         azure-ml-7d9b465b7f-dnvbx.1546d1cc1d38645d   Pod          spec.containers{azure-ml}   Normal    Pulled                  kubelet, aks-nodepool1-13347348-2   Successfully pulled image \"fboylu/mlaksdep\"\r\n",
      "1m          1m           1         azure-ml-7d9b465b7f-dnvbx.1546d1cc31821110   Pod          spec.containers{azure-ml}   Normal    Created                 kubelet, aks-nodepool1-13347348-2   Created container\r\n",
      "1m          1m           1         azure-ml-7d9b465b7f-dnvbx.1546d1cc3bd76a5e   Pod          spec.containers{azure-ml}   Normal    Started                 kubelet, aks-nodepool1-13347348-2   Started container\r\n",
      "1m          1m           1         azure-ml-7d9b465b7f-fvdxv.1546d1cb173c9296   Pod                                      Normal    Scheduled               default-scheduler                   Successfully assigned azure-ml-7d9b465b7f-fvdxv to aks-nodepool1-13347348-0\r\n",
      "1m          1m           1         azure-ml-7d9b465b7f-fvdxv.1546d1cbaf195a91   Pod                                      Normal    SuccessfulMountVolume   kubelet, aks-nodepool1-13347348-0   MountVolume.SetUp succeeded for volume \"default-token-lls54\" \r\n",
      "1m          1m           1         azure-ml-7d9b465b7f-fvdxv.1546d1cbe8f0feec   Pod          spec.containers{azure-ml}   Normal    Pulling                 kubelet, aks-nodepool1-13347348-0   pulling image \"fboylu/mlaksdep\"\r\n",
      "1m          1m           1         azure-ml-7d9b465b7f-fwc8n.1546d1cb1557d85e   Pod                                      Normal    Scheduled               default-scheduler                   Successfully assigned azure-ml-7d9b465b7f-fwc8n to aks-nodepool1-13347348-4\r\n",
      "1m          1m           1         azure-ml-7d9b465b7f-fwc8n.1546d1cb1d8fc292   Pod                                      Normal    SuccessfulMountVolume   kubelet, aks-nodepool1-13347348-4   MountVolume.SetUp succeeded for volume \"default-token-lls54\" \r\n",
      "1m          1m           1         azure-ml-7d9b465b7f-fwc8n.1546d1cb5745ddd2   Pod          spec.containers{azure-ml}   Normal    Pulling                 kubelet, aks-nodepool1-13347348-4   pulling image \"fboylu/mlaksdep\"\r\n",
      "1m          1m           1         azure-ml-7d9b465b7f-fwc8n.1546d1cc77c3acb3   Pod          spec.containers{azure-ml}   Normal    Pulled                  kubelet, aks-nodepool1-13347348-4   Successfully pulled image \"fboylu/mlaksdep\"\r\n",
      "1m          1m           1         azure-ml-7d9b465b7f-fwc8n.1546d1cc86b0287a   Pod          spec.containers{azure-ml}   Normal    Created                 kubelet, aks-nodepool1-13347348-4   Created container\r\n",
      "1m          1m           1         azure-ml-7d9b465b7f-fwc8n.1546d1cc91053cf8   Pod          spec.containers{azure-ml}   Normal    Started                 kubelet, aks-nodepool1-13347348-4   Started container\r\n",
      "1m          1m           1         azure-ml-7d9b465b7f-g52ml.1546d1cb17d87b99   Pod                                      Normal    Scheduled               default-scheduler                   Successfully assigned azure-ml-7d9b465b7f-g52ml to aks-nodepool1-13347348-2\r\n",
      "1m          1m           1         azure-ml-7d9b465b7f-g52ml.1546d1cb686b9f32   Pod                                      Normal    SuccessfulMountVolume   kubelet, aks-nodepool1-13347348-2   MountVolume.SetUp succeeded for volume \"default-token-lls54\" \r\n",
      "1m          1m           1         azure-ml-7d9b465b7f-g52ml.1546d1cbb8167456   Pod          spec.containers{azure-ml}   Normal    Pulling                 kubelet, aks-nodepool1-13347348-2   pulling image \"fboylu/mlaksdep\"\r\n",
      "1m          1m           1         azure-ml-7d9b465b7f-g52ml.1546d1cd2802efc2   Pod          spec.containers{azure-ml}   Normal    Pulled                  kubelet, aks-nodepool1-13347348-2   Successfully pulled image \"fboylu/mlaksdep\"\r\n",
      "1m          1m           1         azure-ml-7d9b465b7f-g52ml.1546d1cd382cb134   Pod          spec.containers{azure-ml}   Normal    Created                 kubelet, aks-nodepool1-13347348-2   Created container\r\n",
      "1m          1m           1         azure-ml-7d9b465b7f-g52ml.1546d1cd4723ef3a   Pod          spec.containers{azure-ml}   Normal    Started                 kubelet, aks-nodepool1-13347348-2   Started container\r\n",
      "1m          1m           1         azure-ml-7d9b465b7f-gqbwz.1546d1cb154ca7e8   Pod                                      Normal    Scheduled               default-scheduler                   Successfully assigned azure-ml-7d9b465b7f-gqbwz to aks-nodepool1-13347348-3\r\n",
      "1m          1m           1         azure-ml-7d9b465b7f-gqbwz.1546d1cb7ca7418c   Pod                                      Normal    SuccessfulMountVolume   kubelet, aks-nodepool1-13347348-3   MountVolume.SetUp succeeded for volume \"default-token-lls54\" \r\n",
      "1m          1m           1         azure-ml-7d9b465b7f-gqbwz.1546d1cbdc27246b   Pod          spec.containers{azure-ml}   Normal    Pulling                 kubelet, aks-nodepool1-13347348-3   pulling image \"fboylu/mlaksdep\"\r\n",
      "1m          1m           1         azure-ml-7d9b465b7f-jr5ff.1546d1cb173cbd8e   Pod                                      Normal    Scheduled               default-scheduler                   Successfully assigned azure-ml-7d9b465b7f-jr5ff to aks-nodepool1-13347348-3\r\n",
      "1m          1m           1         azure-ml-7d9b465b7f-jr5ff.1546d1cb56c34436   Pod                                      Normal    SuccessfulMountVolume   kubelet, aks-nodepool1-13347348-3   MountVolume.SetUp succeeded for volume \"default-token-lls54\" \r\n",
      "1m          1m           1         azure-ml-7d9b465b7f-jr5ff.1546d1cb95b4ce15   Pod          spec.containers{azure-ml}   Normal    Pulling                 kubelet, aks-nodepool1-13347348-3   pulling image \"fboylu/mlaksdep\"\r\n",
      "1m          1m           1         azure-ml-7d9b465b7f-ljm2d.1546d1cb1b2dc992   Pod                                      Normal    Scheduled               default-scheduler                   Successfully assigned azure-ml-7d9b465b7f-ljm2d to aks-nodepool1-13347348-3\r\n",
      "1m          1m           1         azure-ml-7d9b465b7f-ljm2d.1546d1cb86469978   Pod                                      Normal    SuccessfulMountVolume   kubelet, aks-nodepool1-13347348-3   MountVolume.SetUp succeeded for volume \"default-token-lls54\" \r\n",
      "1m          1m           1         azure-ml-7d9b465b7f-ljm2d.1546d1cbd5d79857   Pod          spec.containers{azure-ml}   Normal    Pulling                 kubelet, aks-nodepool1-13347348-3   pulling image \"fboylu/mlaksdep\"\r\n",
      "1m          1m           1         azure-ml-7d9b465b7f-m7cp8.1546d1cb17e7746c   Pod                                      Normal    Scheduled               default-scheduler                   Successfully assigned azure-ml-7d9b465b7f-m7cp8 to aks-nodepool1-13347348-0\r\n",
      "1m          1m           1         azure-ml-7d9b465b7f-m7cp8.1546d1cbbafb2a26   Pod                                      Normal    SuccessfulMountVolume   kubelet, aks-nodepool1-13347348-0   MountVolume.SetUp succeeded for volume \"default-token-lls54\" \r\n",
      "1m          1m           1         azure-ml-7d9b465b7f-m7cp8.1546d1cbf9d9fc93   Pod          spec.containers{azure-ml}   Normal    Pulling                 kubelet, aks-nodepool1-13347348-0   pulling image \"fboylu/mlaksdep\"\r\n",
      "1m          1m           1         azure-ml-7d9b465b7f-m8tss.1546d1cb173d3a2a   Pod                                      Normal    Scheduled               default-scheduler                   Successfully assigned azure-ml-7d9b465b7f-m8tss to aks-nodepool1-13347348-0\r\n",
      "1m          1m           1         azure-ml-7d9b465b7f-m8tss.1546d1cb7370b3ca   Pod                                      Normal    SuccessfulMountVolume   kubelet, aks-nodepool1-13347348-0   MountVolume.SetUp succeeded for volume \"default-token-lls54\" \r\n",
      "1m          1m           1         azure-ml-7d9b465b7f-m8tss.1546d1cbb58b42fb   Pod          spec.containers{azure-ml}   Normal    Pulling                 kubelet, aks-nodepool1-13347348-0   pulling image \"fboylu/mlaksdep\"\r\n",
      "1m          1m           1         azure-ml-7d9b465b7f-nhdjz.1546d1cb193c5844   Pod                                      Normal    Scheduled               default-scheduler                   Successfully assigned azure-ml-7d9b465b7f-nhdjz to aks-nodepool1-13347348-1\r\n",
      "1m          1m           1         azure-ml-7d9b465b7f-nhdjz.1546d1cba781395b   Pod                                      Normal    SuccessfulMountVolume   kubelet, aks-nodepool1-13347348-1   MountVolume.SetUp succeeded for volume \"default-token-lls54\" \r\n",
      "1m          1m           1         azure-ml-7d9b465b7f-nhdjz.1546d1cbe16a2523   Pod          spec.containers{azure-ml}   Normal    Pulling                 kubelet, aks-nodepool1-13347348-1   pulling image \"fboylu/mlaksdep\"\r\n",
      "1m          1m           1         azure-ml-7d9b465b7f-nvtxz.1546d1cb173c6d7a   Pod                                      Normal    Scheduled               default-scheduler                   Successfully assigned azure-ml-7d9b465b7f-nvtxz to aks-nodepool1-13347348-1\r\n",
      "1m          1m           1         azure-ml-7d9b465b7f-nvtxz.1546d1cb6be5a44d   Pod                                      Normal    SuccessfulMountVolume   kubelet, aks-nodepool1-13347348-1   MountVolume.SetUp succeeded for volume \"default-token-lls54\" \r\n",
      "1m          1m           1         azure-ml-7d9b465b7f-nvtxz.1546d1cb99010f9a   Pod          spec.containers{azure-ml}   Normal    Pulling                 kubelet, aks-nodepool1-13347348-1   pulling image \"fboylu/mlaksdep\"\r\n",
      "1m          1m           1         azure-ml-7d9b465b7f-pc8hq.1546d1cb17e4f2a0   Pod                                      Normal    Scheduled               default-scheduler                   Successfully assigned azure-ml-7d9b465b7f-pc8hq to aks-nodepool1-13347348-3\r\n",
      "1m          1m           1         azure-ml-7d9b465b7f-pc8hq.1546d1cb922a63a8   Pod                                      Normal    SuccessfulMountVolume   kubelet, aks-nodepool1-13347348-3   MountVolume.SetUp succeeded for volume \"default-token-lls54\" \r\n",
      "1m          1m           1         azure-ml-7d9b465b7f-pc8hq.1546d1cbdd5c275a   Pod          spec.containers{azure-ml}   Normal    Pulling                 kubelet, aks-nodepool1-13347348-3   pulling image \"fboylu/mlaksdep\"\r\n",
      "1m          1m           1         azure-ml-7d9b465b7f-r4lww.1546d1cb17e4ca00   Pod                                      Normal    Scheduled               default-scheduler                   Successfully assigned azure-ml-7d9b465b7f-r4lww to aks-nodepool1-13347348-4\r\n",
      "1m          1m           1         azure-ml-7d9b465b7f-r4lww.1546d1cb3a0e519e   Pod                                      Normal    SuccessfulMountVolume   kubelet, aks-nodepool1-13347348-4   MountVolume.SetUp succeeded for volume \"default-token-lls54\" \r\n",
      "1m          1m           1         azure-ml-7d9b465b7f-r4lww.1546d1cb89f8d6d5   Pod          spec.containers{azure-ml}   Normal    Pulling                 kubelet, aks-nodepool1-13347348-4   pulling image \"fboylu/mlaksdep\"\r\n",
      "1m          1m           1         azure-ml-7d9b465b7f-r4lww.1546d1cd8540affa   Pod          spec.containers{azure-ml}   Normal    Pulled                  kubelet, aks-nodepool1-13347348-4   Successfully pulled image \"fboylu/mlaksdep\"\r\n",
      "1m          1m           1         azure-ml-7d9b465b7f-r4lww.1546d1cd93dbc3f4   Pod          spec.containers{azure-ml}   Normal    Created                 kubelet, aks-nodepool1-13347348-4   Created container\r\n",
      "1m          1m           1         azure-ml-7d9b465b7f-r4lww.1546d1cd9d458c52   Pod          spec.containers{azure-ml}   Normal    Started                 kubelet, aks-nodepool1-13347348-4   Started container\r\n",
      "1m          1m           1         azure-ml-7d9b465b7f-s4m2c.1546d1cb173dd2e7   Pod                                      Normal    Scheduled               default-scheduler                   Successfully assigned azure-ml-7d9b465b7f-s4m2c to aks-nodepool1-13347348-4\r\n",
      "1m          1m           1         azure-ml-7d9b465b7f-s4m2c.1546d1cb51b38405   Pod                                      Normal    SuccessfulMountVolume   kubelet, aks-nodepool1-13347348-4   MountVolume.SetUp succeeded for volume \"default-token-lls54\" \r\n",
      "1m          1m           1         azure-ml-7d9b465b7f-s4m2c.1546d1cb9c444327   Pod          spec.containers{azure-ml}   Normal    Pulling                 kubelet, aks-nodepool1-13347348-4   pulling image \"fboylu/mlaksdep\"\r\n",
      "1m          1m           1         azure-ml-7d9b465b7f-s4m2c.1546d1cd9c230ae1   Pod          spec.containers{azure-ml}   Normal    Pulled                  kubelet, aks-nodepool1-13347348-4   Successfully pulled image \"fboylu/mlaksdep\"\r\n",
      "1m          1m           1         azure-ml-7d9b465b7f-s4m2c.1546d1cda960670f   Pod          spec.containers{azure-ml}   Normal    Created                 kubelet, aks-nodepool1-13347348-4   Created container\r\n",
      "1m          1m           1         azure-ml-7d9b465b7f-s4m2c.1546d1cdb94850cd   Pod          spec.containers{azure-ml}   Normal    Started                 kubelet, aks-nodepool1-13347348-4   Started container\r\n",
      "1m          1m           1         azure-ml-7d9b465b7f-sjhf9.1546d1cb173c2b76   Pod                                      Normal    Scheduled               default-scheduler                   Successfully assigned azure-ml-7d9b465b7f-sjhf9 to aks-nodepool1-13347348-4\r\n",
      "1m          1m           1         azure-ml-7d9b465b7f-sjhf9.1546d1cb45d397c2   Pod                                      Normal    SuccessfulMountVolume   kubelet, aks-nodepool1-13347348-4   MountVolume.SetUp succeeded for volume \"default-token-lls54\" \r\n",
      "1m          1m           1         azure-ml-7d9b465b7f-sjhf9.1546d1cb8eec1904   Pod          spec.containers{azure-ml}   Normal    Pulling                 kubelet, aks-nodepool1-13347348-4   pulling image \"fboylu/mlaksdep\"\r\n",
      "1m          1m           1         azure-ml-7d9b465b7f-sjhf9.1546d1cd916e5a1f   Pod          spec.containers{azure-ml}   Normal    Pulled                  kubelet, aks-nodepool1-13347348-4   Successfully pulled image \"fboylu/mlaksdep\"\r\n",
      "1m          1m           1         azure-ml-7d9b465b7f-sjhf9.1546d1cd9f0777cf   Pod          spec.containers{azure-ml}   Normal    Created                 kubelet, aks-nodepool1-13347348-4   Created container\r\n",
      "1m          1m           1         azure-ml-7d9b465b7f-sjhf9.1546d1cdb0e94161   Pod          spec.containers{azure-ml}   Normal    Started                 kubelet, aks-nodepool1-13347348-4   Started container\r\n",
      "1m          1m           1         azure-ml-7d9b465b7f-t5zjj.1546d1cb17cd8acf   Pod                                      Normal    Scheduled               default-scheduler                   Successfully assigned azure-ml-7d9b465b7f-t5zjj to aks-nodepool1-13347348-2\r\n",
      "1m          1m           1         azure-ml-7d9b465b7f-t5zjj.1546d1cb44a9c24c   Pod                                      Normal    SuccessfulMountVolume   kubelet, aks-nodepool1-13347348-2   MountVolume.SetUp succeeded for volume \"default-token-lls54\" \r\n",
      "1m          1m           1         azure-ml-7d9b465b7f-t5zjj.1546d1cb8b5e889b   Pod          spec.containers{azure-ml}   Normal    Pulling                 kubelet, aks-nodepool1-13347348-2   pulling image \"fboylu/mlaksdep\"\r\n",
      "1m          1m           1         azure-ml-7d9b465b7f-t5zjj.1546d1cc1493d0ba   Pod          spec.containers{azure-ml}   Normal    Pulled                  kubelet, aks-nodepool1-13347348-2   Successfully pulled image \"fboylu/mlaksdep\"\r\n",
      "1m          1m           1         azure-ml-7d9b465b7f-t5zjj.1546d1cc246a047a   Pod          spec.containers{azure-ml}   Normal    Created                 kubelet, aks-nodepool1-13347348-2   Created container\r\n",
      "1m          1m           1         azure-ml-7d9b465b7f-t5zjj.1546d1cc30156e6b   Pod          spec.containers{azure-ml}   Normal    Started                 kubelet, aks-nodepool1-13347348-2   Started container\r\n",
      "1m          1m           1         azure-ml-7d9b465b7f-tdpcx.1546d1cb17d7b26d   Pod                                      Normal    Scheduled               default-scheduler                   Successfully assigned azure-ml-7d9b465b7f-tdpcx to aks-nodepool1-13347348-4\r\n",
      "1m          1m           1         azure-ml-7d9b465b7f-tdpcx.1546d1cb5da98a4b   Pod                                      Normal    SuccessfulMountVolume   kubelet, aks-nodepool1-13347348-4   MountVolume.SetUp succeeded for volume \"default-token-lls54\" \r\n",
      "1m          1m           1         azure-ml-7d9b465b7f-tdpcx.1546d1cb9e76763e   Pod          spec.containers{azure-ml}   Normal    Pulling                 kubelet, aks-nodepool1-13347348-4   pulling image \"fboylu/mlaksdep\"\r\n"
     ]
    },
    {
     "name": "stdout",
     "output_type": "stream",
     "text": [
      "1m          1m           1         azure-ml-7d9b465b7f-tdpcx.1546d1cda2adbf1d   Pod          spec.containers{azure-ml}   Normal    Pulled                  kubelet, aks-nodepool1-13347348-4   Successfully pulled image \"fboylu/mlaksdep\"\r\n",
      "1m          1m           1         azure-ml-7d9b465b7f-tdpcx.1546d1cdb48d42a2   Pod          spec.containers{azure-ml}   Normal    Created                 kubelet, aks-nodepool1-13347348-4   Created container\r\n",
      "1m          1m           1         azure-ml-7d9b465b7f-tdpcx.1546d1cdbe141734   Pod          spec.containers{azure-ml}   Normal    Started                 kubelet, aks-nodepool1-13347348-4   Started container\r\n",
      "1m          1m           1         azure-ml-7d9b465b7f-tf6s7.1546d1cb173d30ca   Pod                                      Normal    Scheduled               default-scheduler                   Successfully assigned azure-ml-7d9b465b7f-tf6s7 to aks-nodepool1-13347348-1\r\n",
      "1m          1m           1         azure-ml-7d9b465b7f-tf6s7.1546d1cb9b9547a3   Pod                                      Normal    SuccessfulMountVolume   kubelet, aks-nodepool1-13347348-1   MountVolume.SetUp succeeded for volume \"default-token-lls54\" \r\n",
      "1m          1m           1         azure-ml-7d9b465b7f-tf6s7.1546d1cbe29b8385   Pod          spec.containers{azure-ml}   Normal    Pulling                 kubelet, aks-nodepool1-13347348-1   pulling image \"fboylu/mlaksdep\"\r\n",
      "1m          1m           1         azure-ml-7d9b465b7f-wk8hl.1546d1cb155c4917   Pod                                      Normal    Scheduled               default-scheduler                   Successfully assigned azure-ml-7d9b465b7f-wk8hl to aks-nodepool1-13347348-0\r\n",
      "1m          1m           1         azure-ml-7d9b465b7f-wk8hl.1546d1cb5b99d4a5   Pod                                      Normal    SuccessfulMountVolume   kubelet, aks-nodepool1-13347348-0   MountVolume.SetUp succeeded for volume \"default-token-lls54\" \r\n",
      "1m          1m           1         azure-ml-7d9b465b7f-wk8hl.1546d1cb91c51374   Pod          spec.containers{azure-ml}   Normal    Pulling                 kubelet, aks-nodepool1-13347348-0   pulling image \"fboylu/mlaksdep\"\r\n",
      "1m          1m           1         azure-ml-7d9b465b7f.1546d1cb1424c9cd         ReplicaSet                               Normal    SuccessfulCreate        replicaset-controller               Created pod: azure-ml-7d9b465b7f-6dmf6\r\n",
      "1m          1m           1         azure-ml-7d9b465b7f.1546d1cb147d6cca         ReplicaSet                               Normal    SuccessfulCreate        replicaset-controller               Created pod: azure-ml-7d9b465b7f-cs9h9\r\n",
      "1m          1m           1         azure-ml-7d9b465b7f.1546d1cb147d9826         ReplicaSet                               Normal    SuccessfulCreate        replicaset-controller               Created pod: azure-ml-7d9b465b7f-c68dg\r\n",
      "1m          1m           1         azure-ml-7d9b465b7f.1546d1cb14d6cc10         ReplicaSet                               Normal    SuccessfulCreate        replicaset-controller               Created pod: azure-ml-7d9b465b7f-b2l4g\r\n",
      "1m          1m           1         azure-ml-7d9b465b7f.1546d1cb14d87c18         ReplicaSet                               Normal    SuccessfulCreate        replicaset-controller               Created pod: azure-ml-7d9b465b7f-wk8hl\r\n",
      "1m          1m           1         azure-ml-7d9b465b7f.1546d1cb14e76673         ReplicaSet                               Normal    SuccessfulCreate        replicaset-controller               Created pod: azure-ml-7d9b465b7f-fwc8n\r\n",
      "1m          1m           1         azure-ml-7d9b465b7f.1546d1cb14ea4aaf         ReplicaSet                               Normal    SuccessfulCreate        replicaset-controller               Created pod: azure-ml-7d9b465b7f-gqbwz\r\n",
      "1m          1m           1         azure-ml-7d9b465b7f.1546d1cb153c562d         ReplicaSet                               Normal    SuccessfulCreate        replicaset-controller               Created pod: azure-ml-7d9b465b7f-6cl8r\r\n",
      "1m          1m           1         azure-ml-7d9b465b7f.1546d1cb1588c7af         ReplicaSet                               Normal    SuccessfulCreate        replicaset-controller               Created pod: azure-ml-7d9b465b7f-tf6s7\r\n",
      "1m          1m           16        azure-ml-7d9b465b7f.1546d1cb389572ac         ReplicaSet                               Normal    SuccessfulCreate        replicaset-controller               (combined from similar events): Created pod: azure-ml-7d9b465b7f-24s7h\r\n",
      "1m          1m           1         azure-ml.1546d1cb135c72bf                    Deployment                               Normal    ScalingReplicaSet       deployment-controller               Scaled up replica set azure-ml-7d9b465b7f to 35\r\n"
     ]
    }
   ],
   "source": [
    "!kubectl get events"
   ]
  },
  {
   "cell_type": "markdown",
   "metadata": {},
   "source": [
    "Check the logs for the first application pod."
   ]
  },
  {
   "cell_type": "code",
   "execution_count": 13,
   "metadata": {},
   "outputs": [],
   "source": [
    "pod_json = !kubectl get pods -o json\n",
    "pod_dict = json.loads(''.join(pod_json))"
   ]
  },
  {
   "cell_type": "code",
   "execution_count": 14,
   "metadata": {},
   "outputs": [
    {
     "name": "stdout",
     "output_type": "stream",
     "text": [
      "2018-08-01 15:38:48,728 CRIT Supervisor running as root (no user in config file)\r\n",
      "2018-08-01 15:38:48,730 INFO supervisord started with pid 1\r\n",
      "2018-08-01 15:38:49,733 INFO spawned: 'program_exit' with pid 10\r\n",
      "2018-08-01 15:38:49,735 INFO spawned: 'nginx' with pid 11\r\n",
      "2018-08-01 15:38:49,737 INFO spawned: 'gunicorn' with pid 12\r\n",
      "2018-08-01 15:38:50,778 INFO success: program_exit entered RUNNING state, process has stayed up for > than 1 seconds (startsecs)\r\n",
      "{\"stack_info\": null, \"path\": \"/code/driver.py\", \"level\": \"INFO\", \"tags\": [], \"message\": \"Model object loading time: 668.3 ms\", \"timestamp\": \"2018-08-01T15:38:51.443240Z\", \"host\": \"azure-ml-7d9b465b7f-7ssmm\", \"logger\": \"model_driver\"}\r\n",
      "Initialising\r\n",
      "{\"stack_info\": null, \"path\": \"/opt/conda/envs/py3.5/lib/python3.5/site-packages/werkzeug/_internal.py\", \"level\": \"INFO\", \"tags\": [], \"message\": \" * Running on http://127.0.0.1:5000/ (Press CTRL+C to quit)\", \"timestamp\": \"2018-08-01T15:38:51.449546Z\", \"msg\": \" * Running on %s://%s:%d/ %s\", \"host\": \"azure-ml-7d9b465b7f-7ssmm\", \"logger\": \"werkzeug\"}\r\n",
      "2018-08-01 15:38:55,454 INFO success: nginx entered RUNNING state, process has stayed up for > than 5 seconds (startsecs)\r\n",
      "2018-08-01 15:39:10,472 INFO success: gunicorn entered RUNNING state, process has stayed up for > than 20 seconds (startsecs)\r\n",
      "{\"stack_info\": null, \"path\": \"/opt/conda/envs/py3.5/lib/python3.5/site-packages/werkzeug/_internal.py\", \"level\": \"INFO\", \"tags\": [], \"message\": \"127.0.0.1 - - [01/Aug/2018 15:59:06] \\\"GET / HTTP/1.0\\\" 200 -\", \"timestamp\": \"2018-08-01T15:59:06.014687Z\", \"host\": \"azure-ml-7d9b465b7f-7ssmm\", \"logger\": \"werkzeug\"}\r\n"
     ]
    }
   ],
   "source": [
    "!kubectl logs {pod_dict['items'][0]['metadata']['name']}"
   ]
  },
  {
   "cell_type": "code",
   "execution_count": 15,
   "metadata": {},
   "outputs": [
    {
     "name": "stdout",
     "output_type": "stream",
     "text": [
      "NAME       DESIRED   CURRENT   UP-TO-DATE   AVAILABLE   AGE\r\n",
      "azure-ml   2         2         2            2           1h\r\n"
     ]
    }
   ],
   "source": [
    "!kubectl get deployment"
   ]
  },
  {
   "cell_type": "markdown",
   "metadata": {},
   "source": [
    "It can take a few minutes for the service to populate the EXTERNAL-IP field below. This will be the IP you use to call the service. You can also specify an IP to use, please see the AKS documentation for further details."
   ]
  },
  {
   "cell_type": "code",
   "execution_count": 16,
   "metadata": {},
   "outputs": [
    {
     "name": "stdout",
     "output_type": "stream",
     "text": [
      "NAME       TYPE           CLUSTER-IP     EXTERNAL-IP     PORT(S)        AGE\r\n",
      "azure-ml   LoadBalancer   10.0.126.171   137.117.41.76   80:30675/TCP   1h\r\n"
     ]
    }
   ],
   "source": [
    "!kubectl get service azure-ml"
   ]
  },
  {
   "cell_type": "markdown",
   "metadata": {},
   "source": [
    "# Scaling"
   ]
  },
  {
   "cell_type": "markdown",
   "metadata": {},
   "source": [
    "In this part, we scale the number of pods to make sure we fully utilize the AKS cluster."
   ]
  },
  {
   "cell_type": "code",
   "execution_count": 17,
   "metadata": {},
   "outputs": [
    {
     "name": "stdout",
     "output_type": "stream",
     "text": [
      "deployment.extensions/azure-ml scaled\r\n"
     ]
    }
   ],
   "source": [
    "!kubectl scale --current-replicas=2 --replicas=35 deployment/azure-ml"
   ]
  },
  {
   "cell_type": "code",
   "execution_count": 21,
   "metadata": {},
   "outputs": [
    {
     "name": "stdout",
     "output_type": "stream",
     "text": [
      "NAMESPACE     NAME                                    READY     STATUS    RESTARTS   AGE\r\n",
      "default       azure-ml-7d9b465b7f-24mz5               1/1       Running   0          2m\r\n",
      "default       azure-ml-7d9b465b7f-24s7h               1/1       Running   0          2m\r\n",
      "default       azure-ml-7d9b465b7f-27bq6               1/1       Running   0          2m\r\n",
      "default       azure-ml-7d9b465b7f-2kwqw               1/1       Running   0          2m\r\n",
      "default       azure-ml-7d9b465b7f-5cj9x               1/1       Running   0          2m\r\n",
      "default       azure-ml-7d9b465b7f-6cl8r               1/1       Running   0          2m\r\n",
      "default       azure-ml-7d9b465b7f-6dmf6               1/1       Running   0          2m\r\n",
      "default       azure-ml-7d9b465b7f-7hqb6               1/1       Running   0          2m\r\n",
      "default       azure-ml-7d9b465b7f-7rhf7               1/1       Running   0          2m\r\n",
      "default       azure-ml-7d9b465b7f-7ssmm               1/1       Running   0          1h\r\n",
      "default       azure-ml-7d9b465b7f-7tp7c               1/1       Running   0          2m\r\n",
      "default       azure-ml-7d9b465b7f-9wp9t               1/1       Running   0          2m\r\n",
      "default       azure-ml-7d9b465b7f-b2l4g               1/1       Running   0          2m\r\n",
      "default       azure-ml-7d9b465b7f-c68dg               1/1       Running   0          2m\r\n",
      "default       azure-ml-7d9b465b7f-cs9h9               1/1       Running   0          2m\r\n",
      "default       azure-ml-7d9b465b7f-dnvbx               1/1       Running   0          2m\r\n",
      "default       azure-ml-7d9b465b7f-fvdxv               1/1       Running   0          2m\r\n",
      "default       azure-ml-7d9b465b7f-fwc8n               1/1       Running   0          2m\r\n",
      "default       azure-ml-7d9b465b7f-g52ml               1/1       Running   0          2m\r\n",
      "default       azure-ml-7d9b465b7f-gqbwz               1/1       Running   0          2m\r\n",
      "default       azure-ml-7d9b465b7f-hgwcc               1/1       Running   0          1h\r\n",
      "default       azure-ml-7d9b465b7f-jr5ff               1/1       Running   0          2m\r\n",
      "default       azure-ml-7d9b465b7f-ljm2d               1/1       Running   0          2m\r\n",
      "default       azure-ml-7d9b465b7f-m7cp8               1/1       Running   0          2m\r\n",
      "default       azure-ml-7d9b465b7f-m8tss               1/1       Running   0          2m\r\n",
      "default       azure-ml-7d9b465b7f-nhdjz               1/1       Running   0          2m\r\n",
      "default       azure-ml-7d9b465b7f-nvtxz               1/1       Running   0          2m\r\n",
      "default       azure-ml-7d9b465b7f-pc8hq               1/1       Running   0          2m\r\n",
      "default       azure-ml-7d9b465b7f-r4lww               1/1       Running   0          2m\r\n",
      "default       azure-ml-7d9b465b7f-s4m2c               1/1       Running   0          2m\r\n",
      "default       azure-ml-7d9b465b7f-sjhf9               1/1       Running   0          2m\r\n",
      "default       azure-ml-7d9b465b7f-t5zjj               1/1       Running   0          2m\r\n",
      "default       azure-ml-7d9b465b7f-tdpcx               1/1       Running   0          2m\r\n",
      "default       azure-ml-7d9b465b7f-tf6s7               1/1       Running   0          2m\r\n",
      "default       azure-ml-7d9b465b7f-wk8hl               1/1       Running   0          2m\r\n",
      "kube-system   azureproxy-79c5db744-j5hj4              1/1       Running   3          53d\r\n",
      "kube-system   heapster-55f855b47-bs86x                2/2       Running   0          53d\r\n",
      "kube-system   kube-dns-v20-7c556f89c5-96dfd           3/3       Running   0          53d\r\n",
      "kube-system   kube-dns-v20-7c556f89c5-fm7v2           3/3       Running   0          53d\r\n",
      "kube-system   kube-proxy-225hz                        1/1       Running   0          53d\r\n",
      "kube-system   kube-proxy-g5x5p                        1/1       Running   0          53d\r\n",
      "kube-system   kube-proxy-hw7fk                        1/1       Running   0          53d\r\n",
      "kube-system   kube-proxy-ttnsh                        1/1       Running   0          53d\r\n",
      "kube-system   kube-proxy-tvnpv                        1/1       Running   0          53d\r\n",
      "kube-system   kube-svc-redirect-278jk                 1/1       Running   3          53d\r\n",
      "kube-system   kube-svc-redirect-bhvsk                 1/1       Running   2          53d\r\n",
      "kube-system   kube-svc-redirect-chkj2                 1/1       Running   2          53d\r\n",
      "kube-system   kube-svc-redirect-k7fs6                 1/1       Running   2          53d\r\n",
      "kube-system   kube-svc-redirect-mg5cj                 1/1       Running   3          53d\r\n",
      "kube-system   kubernetes-dashboard-546f987686-rznkm   1/1       Running   2          53d\r\n",
      "kube-system   tunnelfront-5fcfb8fb44-ht5r8            1/1       Running   23         53d\r\n"
     ]
    }
   ],
   "source": [
    "!kubectl get pods --all-namespaces"
   ]
  },
  {
   "cell_type": "code",
   "execution_count": 22,
   "metadata": {},
   "outputs": [
    {
     "name": "stdout",
     "output_type": "stream",
     "text": [
      "NAME       DESIRED   CURRENT   UP-TO-DATE   AVAILABLE   AGE\r\n",
      "azure-ml   35        35        35           35          1h\r\n"
     ]
    }
   ],
   "source": [
    "!kubectl get deployment"
   ]
  },
  {
   "cell_type": "markdown",
   "metadata": {},
   "source": [
    "Next, we will [test our web application deployed on AKS](06_Test_WebApp.ipynb). Once, we are done with all the notebooks of the tutorial, below instructions can be used to delete the cluster and free resources"
   ]
  },
  {
   "cell_type": "markdown",
   "metadata": {},
   "source": [
    "# Tear it all down"
   ]
  },
  {
   "cell_type": "markdown",
   "metadata": {},
   "source": [
    "Once you are done with your cluster you can use the following two commands to destroy it all."
   ]
  },
  {
   "cell_type": "code",
   "execution_count": 48,
   "metadata": {},
   "outputs": [
    {
     "name": "stdout",
     "output_type": "stream",
     "text": [
      "deployment.apps \"azure-dl\" deleted\n",
      "service \"azure-dl\" deleted\n"
     ]
    }
   ],
   "source": [
    "!kubectl delete -f az-ml.json"
   ]
  },
  {
   "cell_type": "code",
   "execution_count": 3,
   "metadata": {},
   "outputs": [
    {
     "name": "stdout",
     "output_type": "stream",
     "text": [
      "\r",
      "\u001b[K - Starting ..\r",
      "\r",
      "\u001b[K - Finished ..\r",
      "\r",
      "\u001b[K\u001b[0m"
     ]
    }
   ],
   "source": [
    "!az aks delete -n $aks_name -g $resource_group -y"
   ]
  },
  {
   "cell_type": "code",
   "execution_count": 4,
   "metadata": {},
   "outputs": [
    {
     "name": "stdout",
     "output_type": "stream",
     "text": [
      "\u001b[K - Finished ..\u001b[0m"
     ]
    }
   ],
   "source": [
    "!az group delete --name $resource_group -y"
   ]
  }
 ],
 "metadata": {
  "kernelspec": {
   "display_name": "Python [conda env:MLAKSDeployment]",
   "language": "python",
   "name": "conda-env-MLAKSDeployment-py"
  },
  "language_info": {
   "codemirror_mode": {
    "name": "ipython",
    "version": 3
   },
   "file_extension": ".py",
   "mimetype": "text/x-python",
   "name": "python",
   "nbconvert_exporter": "python",
   "pygments_lexer": "ipython3",
   "version": "3.5.5"
  }
 },
 "nbformat": 4,
 "nbformat_minor": 2
}
