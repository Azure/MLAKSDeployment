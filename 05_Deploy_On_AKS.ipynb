{
 "cells": [
  {
   "cell_type": "markdown",
   "metadata": {},
   "source": [
    "# Deploy Web App on Azure Container Services (AKS)\n"
   ]
  },
  {
   "cell_type": "markdown",
   "metadata": {},
   "source": [
    "In this notebook, we will set up an Azure Container Service which will be managed by Kubernetes. We will then take the Docker image we created earlier that contains our app and deploy it to the AKS cluster. Then, we will check everything is working by sending a question to it and getting it scored for matches in the original questions.\n",
    "\n",
    "The process is split into the following steps:\n",
    "- Define our resource names\n",
    "- Login to Azure\n",
    "- Create resource group and create AKS\n",
    "- Connect to AKS\n",
    "- Deploy our app\n",
    "- Tear it all down\n",
    "\n",
    "We assume that this notebook is running on Linux and Azure CLI is installed before proceeding."
   ]
  },
  {
   "cell_type": "markdown",
   "metadata": {},
   "source": [
    "## Setup"
   ]
  },
  {
   "cell_type": "markdown",
   "metadata": {},
   "source": [
    "Below are the various name definitions for the resources needed to setup AKS as well as the name of the Docker image we will be using."
   ]
  },
  {
   "cell_type": "code",
   "execution_count": 1,
   "metadata": {},
   "outputs": [],
   "source": [
    "# Please modify the below as you see fit\n",
    "resource_group = \"<RESOURCE_GROUP>\" \n",
    "aks_name = \"<AKS_CLUSTER_NAME>\"\n",
    "location = \"eastus\"\n",
    "\n",
    "docker_login = '<YOUR_DOCKER_LOGIN>'\n",
    "image_name = docker_login + '/mlaksdep' # 'fboylu/mlaksdep' Use this image if you want to skip creating your own container\n",
    "selected_subscription = \"'<YOUR_SUBSCRIPTION>'\" # If you have multiple subscriptions select the subscription you want to use "
   ]
  },
  {
   "cell_type": "code",
   "execution_count": 2,
   "metadata": {},
   "outputs": [],
   "source": [
    "resource_group = \"fbakscpurg\" # Feel free to modify these\n",
    "aks_name = \"fbAKSClustercpu\"\n",
    "location = \"eastus\"\n",
    "\n",
    "docker_login = 'fboylu'\n",
    "image_name = docker_login + '/mlaksdep' \n",
    "selected_subscription = \"'Team Danielle Internal'\""
   ]
  },
  {
   "cell_type": "markdown",
   "metadata": {},
   "source": [
    "## Azure account login"
   ]
  },
  {
   "cell_type": "markdown",
   "metadata": {},
   "source": [
    "The command below will initiate a login to your Azure account. It will pop up with an url to go to where you will enter a one off code and log into your Azure account using your browser."
   ]
  },
  {
   "cell_type": "code",
   "execution_count": 5,
   "metadata": {},
   "outputs": [],
   "source": [
    "!az login -o table"
   ]
  },
  {
   "cell_type": "code",
   "execution_count": 7,
   "metadata": {
    "collapsed": true
   },
   "outputs": [],
   "source": [
    "!az account set --subscription $selected_subscription"
   ]
  },
  {
   "cell_type": "code",
   "execution_count": 6,
   "metadata": {},
   "outputs": [],
   "source": [
    "!az account show"
   ]
  },
  {
   "cell_type": "markdown",
   "metadata": {},
   "source": [
    "You will also need to register the container service resources on your subscription if you haven't already done so."
   ]
  },
  {
   "cell_type": "code",
   "execution_count": 7,
   "metadata": {},
   "outputs": [],
   "source": [
    "!az provider register -n Microsoft.ContainerService"
   ]
  },
  {
   "cell_type": "code",
   "execution_count": 8,
   "metadata": {},
   "outputs": [],
   "source": [
    "!az provider show -n Microsoft.ContainerService"
   ]
  },
  {
   "cell_type": "markdown",
   "metadata": {},
   "source": [
    "## Create resources and dependencies"
   ]
  },
  {
   "cell_type": "markdown",
   "metadata": {},
   "source": [
    "### Create resource group and AKS cluster"
   ]
  },
  {
   "cell_type": "markdown",
   "metadata": {},
   "source": [
    "Azure encourages the use of groups to organize all the Azure components you deploy. That way it is easier to find them but also we can delete a number of resources simply by deleting the group."
   ]
  },
  {
   "cell_type": "code",
   "execution_count": 3,
   "metadata": {},
   "outputs": [
    {
     "name": "stdout",
     "output_type": "stream",
     "text": [
      "{\r\n",
      "  \"id\": \"/subscriptions/edf507a2-6235-46c5-b560-fd463ba2e771/resourceGroups/fbaksrg\",\r\n",
      "  \"location\": \"eastus\",\r\n",
      "  \"managedBy\": null,\r\n",
      "  \"name\": \"fbaksrg\",\r\n",
      "  \"properties\": {\r\n",
      "    \"provisioningState\": \"Succeeded\"\r\n",
      "  },\r\n",
      "  \"tags\": null\r\n",
      "}\r\n"
     ]
    }
   ],
   "source": [
    "!az group create --name $resource_group --location $location"
   ]
  },
  {
   "cell_type": "markdown",
   "metadata": {},
   "source": [
    "Below, we create the AKS cluster  with 5 nodes in the resource group we created earlier."
   ]
  },
  {
   "cell_type": "code",
   "execution_count": 6,
   "metadata": {},
   "outputs": [
    {
     "name": "stdout",
     "output_type": "stream",
     "text": [
      "\u001b[K{- Finished ..\n",
      "  \"agentPoolProfiles\": [\n",
      "    {\n",
      "      \"count\": 1,\n",
      "      \"dnsPrefix\": null,\n",
      "      \"fqdn\": null,\n",
      "      \"name\": \"nodepool1\",\n",
      "      \"osDiskSizeGb\": null,\n",
      "      \"osType\": \"Linux\",\n",
      "      \"ports\": null,\n",
      "      \"storageProfile\": \"ManagedDisks\",\n",
      "      \"vmSize\": \"Standard_NC6\",\n",
      "      \"vnetSubnetId\": null\n",
      "    }\n",
      "  ],\n",
      "  \"dnsPrefix\": \"fbAKSClust-fbaksrg-edf507\",\n",
      "  \"fqdn\": \"fbaksclust-fbaksrg-edf507-e12d7f40.hcp.eastus.azmk8s.io\",\n",
      "  \"id\": \"/subscriptions/edf507a2-6235-46c5-b560-fd463ba2e771/resourcegroups/fbaksrg/providers/Microsoft.ContainerService/managedClusters/fbAKSClustergpu\",\n",
      "  \"kubernetesVersion\": \"1.9.6\",\n",
      "  \"linuxProfile\": {\n",
      "    \"adminUsername\": \"azureuser\",\n",
      "    \"ssh\": {\n",
      "      \"publicKeys\": [\n",
      "        {\n",
      "          \"keyData\": \"ssh-rsa AAAAB3NzaC1yc2EAAAADAQABAAABAQDTZYQFHNstYCR25qtvMrC6baTMS6TobaIRbgd0xOoafDy+2uBk0DMJuhGWoOcrsCnvadp5k/0K8qBRysyhlQGWb6+r8fBunThy+zpTKqdh3W8Q1y5UtKnGwwU1cqGXDOPUIXJYNPJqUKV829+MOrZjUynhHgSzDbY2ncGyoT+Farsvm01aGEdDapa+XRl4JAwtN1bb9q+Ii5y+MkpIOhLRMwATl05eNfAHmYQWtaIJZZJOHMNPswlBmLs293Wsj11vYh6/yo9S4ToEsc9Pbl5Zn6OFIu7jfzN2bM8cA3+8pru9WSthrxjJvPn8i4uTYozOdNIi09ArQ4lRT9t6rsMz\"\n",
      "        }\n",
      "      ]\n",
      "    }\n",
      "  },\n",
      "  \"location\": \"eastus\",\n",
      "  \"name\": \"fbAKSClustergpu\",\n",
      "  \"provisioningState\": \"Succeeded\",\n",
      "  \"resourceGroup\": \"fbaksrg\",\n",
      "  \"servicePrincipalProfile\": {\n",
      "    \"clientId\": \"eeba3bfe-45f9-42de-9bdb-54416b67382d\",\n",
      "    \"keyVaultSecretRef\": null,\n",
      "    \"secret\": null\n",
      "  },\n",
      "  \"tags\": null,\n",
      "  \"type\": \"Microsoft.ContainerService/ManagedClusters\"\n",
      "}\n",
      "\u001b[0mCPU times: user 15.4 s, sys: 5.92 s, total: 21.3 s\n",
      "Wall time: 15min 43s\n"
     ]
    }
   ],
   "source": [
    "%%time\n",
    "!az aks create --resource-group $resource_group --name $aks_name --node-count 5 --generate-ssh-keys -s Standard_D4_v2"
   ]
  },
  {
   "cell_type": "markdown",
   "metadata": {},
   "source": [
    "### Install kubectl CLI"
   ]
  },
  {
   "cell_type": "markdown",
   "metadata": {},
   "source": [
    "To connect to the Kubernetes cluster, we will use kubectl, the Kubernetes command-line client. To install, run the following:"
   ]
  },
  {
   "cell_type": "code",
   "execution_count": 9,
   "metadata": {},
   "outputs": [
    {
     "name": "stdout",
     "output_type": "stream",
     "text": [
      "\u001b[33mDownloading client to /usr/local/bin/kubectl from https://storage.googleapis.com/kubernetes-release/release/v1.11.1/bin/linux/amd64/kubectl\u001b[0m\n",
      "\u001b[33mPlease ensure that /usr/local/bin is in your search PATH, so the `kubectl` command can be found.\u001b[0m\n"
     ]
    }
   ],
   "source": [
    "!sudo env \"PATH=$PATH\" az aks install-cli"
   ]
  },
  {
   "cell_type": "markdown",
   "metadata": {},
   "source": [
    "## Connect to AKS cluster"
   ]
  },
  {
   "cell_type": "markdown",
   "metadata": {},
   "source": [
    "To configure kubectl to connect to the Kubernetes cluster, run the following command:"
   ]
  },
  {
   "cell_type": "code",
   "execution_count": 10,
   "metadata": {},
   "outputs": [
    {
     "name": "stdout",
     "output_type": "stream",
     "text": [
      "Merged \"fbAKSClustercpu\" as current context in /home/fboylu/.kube/config\r\n"
     ]
    }
   ],
   "source": [
    "!az aks get-credentials --resource-group $resource_group --name $aks_name"
   ]
  },
  {
   "cell_type": "markdown",
   "metadata": {},
   "source": [
    "Let's verify connection by listing the nodes."
   ]
  },
  {
   "cell_type": "code",
   "execution_count": 11,
   "metadata": {},
   "outputs": [
    {
     "name": "stdout",
     "output_type": "stream",
     "text": [
      "NAME                       STATUS    ROLES     AGE       VERSION\r\n",
      "aks-nodepool1-13347348-0   Ready     agent     40d       v1.9.6\r\n",
      "aks-nodepool1-13347348-1   Ready     agent     40d       v1.9.6\r\n",
      "aks-nodepool1-13347348-2   Ready     agent     40d       v1.9.6\r\n",
      "aks-nodepool1-13347348-3   Ready     agent     40d       v1.9.6\r\n",
      "aks-nodepool1-13347348-4   Ready     agent     40d       v1.9.6\r\n"
     ]
    }
   ],
   "source": [
    "!kubectl get nodes"
   ]
  },
  {
   "cell_type": "markdown",
   "metadata": {},
   "source": [
    "Let's check the pods on our cluster."
   ]
  },
  {
   "cell_type": "code",
   "execution_count": 17,
   "metadata": {},
   "outputs": [
    {
     "name": "stdout",
     "output_type": "stream",
     "text": [
      "NAMESPACE     NAME                                    READY     STATUS    RESTARTS   AGE\r\n",
      "kube-system   azureproxy-79c5db744-j5hj4              1/1       Running   3          40d\r\n",
      "kube-system   heapster-55f855b47-bs86x                2/2       Running   0          40d\r\n",
      "kube-system   kube-dns-v20-7c556f89c5-96dfd           3/3       Running   0          40d\r\n",
      "kube-system   kube-dns-v20-7c556f89c5-fm7v2           3/3       Running   0          40d\r\n",
      "kube-system   kube-proxy-225hz                        1/1       Running   0          40d\r\n",
      "kube-system   kube-proxy-g5x5p                        1/1       Running   0          40d\r\n",
      "kube-system   kube-proxy-hw7fk                        1/1       Running   0          40d\r\n",
      "kube-system   kube-proxy-ttnsh                        1/1       Running   0          40d\r\n",
      "kube-system   kube-proxy-tvnpv                        1/1       Running   0          40d\r\n",
      "kube-system   kube-svc-redirect-278jk                 1/1       Running   3          40d\r\n",
      "kube-system   kube-svc-redirect-bhvsk                 1/1       Running   2          40d\r\n",
      "kube-system   kube-svc-redirect-chkj2                 1/1       Running   2          40d\r\n",
      "kube-system   kube-svc-redirect-k7fs6                 1/1       Running   2          40d\r\n",
      "kube-system   kube-svc-redirect-mg5cj                 1/1       Running   3          40d\r\n",
      "kube-system   kubernetes-dashboard-546f987686-rznkm   1/1       Running   2          40d\r\n",
      "kube-system   tunnelfront-5fcfb8fb44-ht5r8            1/1       Running   21         40d\r\n"
     ]
    }
   ],
   "source": [
    "!kubectl get pods --all-namespaces"
   ]
  },
  {
   "cell_type": "markdown",
   "metadata": {},
   "source": [
    "## Deploy application"
   ]
  },
  {
   "cell_type": "markdown",
   "metadata": {},
   "source": [
    "Below we define our Kubernetes manifest file for our service and load balancer. Note that we have to specify the image name and cpu requests and limits for pods. We first start with  deploying 2 pods."
   ]
  },
  {
   "cell_type": "code",
   "execution_count": 20,
   "metadata": {},
   "outputs": [],
   "source": [
    "app_template = {\n",
    "  \"apiVersion\": \"apps/v1beta1\",\n",
    "  \"kind\": \"Deployment\",\n",
    "  \"metadata\": {\n",
    "      \"name\": \"azure-ml\"\n",
    "  },\n",
    "  \"spec\":{\n",
    "      \"replicas\":2,\n",
    "      \"template\":{\n",
    "          \"metadata\":{\n",
    "              \"labels\":{\n",
    "                  \"app\":\"azure-ml\"\n",
    "              }\n",
    "          },\n",
    "          \"spec\":{\n",
    "              \"containers\":[\n",
    "                  {\n",
    "                      \"name\": \"azure-ml\",\n",
    "                      \"image\": image_name,\n",
    "\n",
    "                      \"ports\":[\n",
    "                          {\n",
    "                              \"containerPort\":80,\n",
    "                              \"name\":\"model\"\n",
    "                          }\n",
    "                      ],\n",
    "                      \"resources\":{\n",
    "                           \"requests\":{\n",
    "                               \"cpu\": 1\n",
    "                           },\n",
    "                           \"limits\":{\n",
    "                               \"cpu\": 1.25\n",
    "                           }\n",
    "                       }  \n",
    "                  }\n",
    "              ]\n",
    "          }\n",
    "      }\n",
    "  }\n",
    "}\n",
    "\n",
    "service_temp = {\n",
    "  \"apiVersion\": \"v1\",\n",
    "  \"kind\": \"Service\",\n",
    "  \"metadata\": {\n",
    "      \"name\": \"azure-ml\"\n",
    "  },\n",
    "  \"spec\":{\n",
    "      \"type\": \"LoadBalancer\",\n",
    "      \"ports\":[\n",
    "          {\n",
    "              \"port\":80\n",
    "          }\n",
    "      ],\n",
    "      \"selector\":{\n",
    "            \"app\":\"azure-ml\"\n",
    "      }\n",
    "   }\n",
    "}"
   ]
  },
  {
   "cell_type": "code",
   "execution_count": 21,
   "metadata": {},
   "outputs": [],
   "source": [
    "import json\n",
    "def write_json_to_file(json_dict, filename, mode='w'):\n",
    "    with open(filename, mode) as outfile:\n",
    "        json.dump(json_dict, outfile, indent=4, sort_keys=True)\n",
    "        outfile.write('\\n\\n')"
   ]
  },
  {
   "cell_type": "code",
   "execution_count": 24,
   "metadata": {},
   "outputs": [],
   "source": [
    "write_json_to_file(app_template, 'az-ml.json')"
   ]
  },
  {
   "cell_type": "code",
   "execution_count": 25,
   "metadata": {},
   "outputs": [],
   "source": [
    "write_json_to_file(service_temp, 'az-ml.json', mode='a')"
   ]
  },
  {
   "cell_type": "markdown",
   "metadata": {},
   "source": [
    "Let's check the manifest created."
   ]
  },
  {
   "cell_type": "code",
   "execution_count": 27,
   "metadata": {},
   "outputs": [
    {
     "name": "stdout",
     "output_type": "stream",
     "text": [
      "{\r\n",
      "    \"apiVersion\": \"apps/v1beta1\",\r\n",
      "    \"kind\": \"Deployment\",\r\n",
      "    \"metadata\": {\r\n",
      "        \"name\": \"azure-ml\"\r\n",
      "    },\r\n",
      "    \"spec\": {\r\n",
      "        \"replicas\": 2,\r\n",
      "        \"template\": {\r\n",
      "            \"metadata\": {\r\n",
      "                \"labels\": {\r\n",
      "                    \"app\": \"azure-ml\"\r\n",
      "                }\r\n",
      "            },\r\n",
      "            \"spec\": {\r\n",
      "                \"containers\": [\r\n",
      "                    {\r\n",
      "                        \"image\": \"fboylu/mlaksdep\",\r\n",
      "                        \"name\": \"azure-ml\",\r\n",
      "                        \"ports\": [\r\n",
      "                            {\r\n",
      "                                \"containerPort\": 80,\r\n",
      "                                \"name\": \"model\"\r\n",
      "                            }\r\n",
      "                        ],\r\n",
      "                        \"resources\": {\r\n",
      "                            \"limits\": {\r\n",
      "                                \"cpu\": 1.25\r\n",
      "                            },\r\n",
      "                            \"requests\": {\r\n",
      "                                \"cpu\": 1\r\n",
      "                            }\r\n",
      "                        }\r\n",
      "                    }\r\n",
      "                ]\r\n",
      "            }\r\n",
      "        }\r\n",
      "    }\r\n",
      "}\r\n",
      "\r\n",
      "{\r\n",
      "    \"apiVersion\": \"v1\",\r\n",
      "    \"kind\": \"Service\",\r\n",
      "    \"metadata\": {\r\n",
      "        \"name\": \"azure-ml\"\r\n",
      "    },\r\n",
      "    \"spec\": {\r\n",
      "        \"ports\": [\r\n",
      "            {\r\n",
      "                \"port\": 80\r\n",
      "            }\r\n",
      "        ],\r\n",
      "        \"selector\": {\r\n",
      "            \"app\": \"azure-ml\"\r\n",
      "        },\r\n",
      "        \"type\": \"LoadBalancer\"\r\n",
      "    }\r\n",
      "}\r\n",
      "\r\n"
     ]
    }
   ],
   "source": [
    "!cat az-ml.json"
   ]
  },
  {
   "cell_type": "markdown",
   "metadata": {},
   "source": [
    "Next, we will use kubectl create command to deploy our application."
   ]
  },
  {
   "cell_type": "code",
   "execution_count": 28,
   "metadata": {},
   "outputs": [
    {
     "name": "stdout",
     "output_type": "stream",
     "text": [
      "deployment.apps/azure-ml created\n",
      "service/azure-ml created\n"
     ]
    }
   ],
   "source": [
    "!kubectl create -f az-ml.json"
   ]
  },
  {
   "cell_type": "markdown",
   "metadata": {},
   "source": [
    "Let's check if the pod is deployed."
   ]
  },
  {
   "cell_type": "code",
   "execution_count": 44,
   "metadata": {},
   "outputs": [
    {
     "name": "stdout",
     "output_type": "stream",
     "text": [
      "NAMESPACE     NAME                                    READY     STATUS    RESTARTS   AGE\r\n",
      "default       azure-ml-7d9b465b7f-dwg6p               1/1       Running   0          4m\r\n",
      "default       azure-ml-7d9b465b7f-lbzz4               1/1       Running   0          4m\r\n",
      "kube-system   azureproxy-79c5db744-j5hj4              1/1       Running   3          40d\r\n",
      "kube-system   heapster-55f855b47-bs86x                2/2       Running   0          40d\r\n",
      "kube-system   kube-dns-v20-7c556f89c5-96dfd           3/3       Running   0          40d\r\n",
      "kube-system   kube-dns-v20-7c556f89c5-fm7v2           3/3       Running   0          40d\r\n",
      "kube-system   kube-proxy-225hz                        1/1       Running   0          40d\r\n",
      "kube-system   kube-proxy-g5x5p                        1/1       Running   0          40d\r\n",
      "kube-system   kube-proxy-hw7fk                        1/1       Running   0          40d\r\n",
      "kube-system   kube-proxy-ttnsh                        1/1       Running   0          40d\r\n",
      "kube-system   kube-proxy-tvnpv                        1/1       Running   0          40d\r\n",
      "kube-system   kube-svc-redirect-278jk                 1/1       Running   3          40d\r\n",
      "kube-system   kube-svc-redirect-bhvsk                 1/1       Running   2          40d\r\n",
      "kube-system   kube-svc-redirect-chkj2                 1/1       Running   2          40d\r\n",
      "kube-system   kube-svc-redirect-k7fs6                 1/1       Running   2          40d\r\n",
      "kube-system   kube-svc-redirect-mg5cj                 1/1       Running   3          40d\r\n",
      "kube-system   kubernetes-dashboard-546f987686-rznkm   1/1       Running   2          40d\r\n",
      "kube-system   tunnelfront-5fcfb8fb44-ht5r8            1/1       Running   21         40d\r\n"
     ]
    }
   ],
   "source": [
    "!kubectl get pods --all-namespaces"
   ]
  },
  {
   "cell_type": "markdown",
   "metadata": {},
   "source": [
    "If anything goes wrong you can use the commands below to observe the events on the node as well as review the logs."
   ]
  },
  {
   "cell_type": "code",
   "execution_count": 45,
   "metadata": {},
   "outputs": [
    {
     "name": "stdout",
     "output_type": "stream",
     "text": [
      "LAST SEEN   FIRST SEEN   COUNT     NAME                                         KIND         SUBOBJECT                   TYPE      REASON                       SOURCE                              MESSAGE\r\n",
      "4m          4m           1         azure-ml-7d9b465b7f-dwg6p.1542cd4b42ad11a0   Pod                                      Normal    Scheduled                    default-scheduler                   Successfully assigned azure-ml-7d9b465b7f-dwg6p to aks-nodepool1-13347348-4\r\n",
      "4m          4m           1         azure-ml-7d9b465b7f-dwg6p.1542cd4b525e6208   Pod                                      Normal    SuccessfulMountVolume        kubelet, aks-nodepool1-13347348-4   MountVolume.SetUp succeeded for volume \"default-token-lls54\" \r\n",
      "2m          4m           2         azure-ml-7d9b465b7f-dwg6p.1542cd4b846d7ba5   Pod          spec.containers{azure-ml}   Normal    Pulling                      kubelet, aks-nodepool1-13347348-4   pulling image \"fboylu/mlaksdep\"\r\n",
      "2m          2m           1         azure-ml-7d9b465b7f-dwg6p.1542cd5ee837e96a   Pod          spec.containers{azure-ml}   Warning   Failed                       kubelet, aks-nodepool1-13347348-4   Failed to pull image \"fboylu/mlaksdep\": rpc error: code = Canceled desc = context canceled\r\n",
      "2m          2m           1         azure-ml-7d9b465b7f-dwg6p.1542cd5ee8384b77   Pod          spec.containers{azure-ml}   Warning   Failed                       kubelet, aks-nodepool1-13347348-4   Error: ErrImagePull\r\n",
      "2m          2m           1         azure-ml-7d9b465b7f-dwg6p.1542cd5f0b7efd45   Pod          spec.containers{azure-ml}   Normal    BackOff                      kubelet, aks-nodepool1-13347348-4   Back-off pulling image \"fboylu/mlaksdep\"\r\n",
      "2m          2m           1         azure-ml-7d9b465b7f-dwg6p.1542cd5f0b7f9d6e   Pod          spec.containers{azure-ml}   Warning   Failed                       kubelet, aks-nodepool1-13347348-4   Error: ImagePullBackOff\r\n",
      "23s         23s          1         azure-ml-7d9b465b7f-dwg6p.1542cd80ad80b14d   Pod          spec.containers{azure-ml}   Normal    Pulled                       kubelet, aks-nodepool1-13347348-4   Successfully pulled image \"fboylu/mlaksdep\"\r\n",
      "22s         22s          1         azure-ml-7d9b465b7f-dwg6p.1542cd80c36f9624   Pod          spec.containers{azure-ml}   Normal    Created                      kubelet, aks-nodepool1-13347348-4   Created container\r\n",
      "22s         22s          1         azure-ml-7d9b465b7f-dwg6p.1542cd80cf97ac73   Pod          spec.containers{azure-ml}   Normal    Started                      kubelet, aks-nodepool1-13347348-4   Started container\r\n",
      "4m          4m           1         azure-ml-7d9b465b7f-lbzz4.1542cd4b4302f7cc   Pod                                      Normal    Scheduled                    default-scheduler                   Successfully assigned azure-ml-7d9b465b7f-lbzz4 to aks-nodepool1-13347348-2\r\n",
      "4m          4m           1         azure-ml-7d9b465b7f-lbzz4.1542cd4b5334176d   Pod                                      Normal    SuccessfulMountVolume        kubelet, aks-nodepool1-13347348-2   MountVolume.SetUp succeeded for volume \"default-token-lls54\" \r\n",
      "2m          4m           2         azure-ml-7d9b465b7f-lbzz4.1542cd4b88cde880   Pod          spec.containers{azure-ml}   Normal    Pulling                      kubelet, aks-nodepool1-13347348-2   pulling image \"fboylu/mlaksdep\"\r\n",
      "2m          2m           1         azure-ml-7d9b465b7f-lbzz4.1542cd5ef206e2df   Pod          spec.containers{azure-ml}   Warning   Failed                       kubelet, aks-nodepool1-13347348-2   Failed to pull image \"fboylu/mlaksdep\": rpc error: code = Canceled desc = context canceled\r\n",
      "2m          2m           1         azure-ml-7d9b465b7f-lbzz4.1542cd5ef20743c0   Pod          spec.containers{azure-ml}   Warning   Failed                       kubelet, aks-nodepool1-13347348-2   Error: ErrImagePull\r\n",
      "2m          2m           1         azure-ml-7d9b465b7f-lbzz4.1542cd5f3cc2903e   Pod                                      Normal    SandboxChanged               kubelet, aks-nodepool1-13347348-2   Pod sandbox changed, it will be killed and re-created.\r\n",
      "2m          2m           3         azure-ml-7d9b465b7f-lbzz4.1542cd5f90190ed5   Pod          spec.containers{azure-ml}   Normal    BackOff                      kubelet, aks-nodepool1-13347348-2   Back-off pulling image \"fboylu/mlaksdep\"\r\n",
      "2m          2m           3         azure-ml-7d9b465b7f-lbzz4.1542cd5f90193db5   Pod          spec.containers{azure-ml}   Warning   Failed                       kubelet, aks-nodepool1-13347348-2   Error: ImagePullBackOff\r\n",
      "40s         40s          1         azure-ml-7d9b465b7f-lbzz4.1542cd7c93a8c9e5   Pod          spec.containers{azure-ml}   Normal    Pulled                       kubelet, aks-nodepool1-13347348-2   Successfully pulled image \"fboylu/mlaksdep\"\r\n",
      "40s         40s          1         azure-ml-7d9b465b7f-lbzz4.1542cd7ca572e36d   Pod          spec.containers{azure-ml}   Normal    Created                      kubelet, aks-nodepool1-13347348-2   Created container\r\n",
      "40s         40s          1         azure-ml-7d9b465b7f-lbzz4.1542cd7caf8e175c   Pod          spec.containers{azure-ml}   Normal    Started                      kubelet, aks-nodepool1-13347348-2   Started container\r\n",
      "4m          4m           1         azure-ml-7d9b465b7f.1542cd4b426289f3         ReplicaSet                               Normal    SuccessfulCreate             replicaset-controller               Created pod: azure-ml-7d9b465b7f-dwg6p\r\n",
      "4m          4m           1         azure-ml-7d9b465b7f.1542cd4b42da2384         ReplicaSet                               Normal    SuccessfulCreate             replicaset-controller               Created pod: azure-ml-7d9b465b7f-lbzz4\r\n",
      "4m          4m           1         azure-ml.1542cd4b41db6322                    Deployment                               Normal    ScalingReplicaSet            deployment-controller               Scaled up replica set azure-ml-7d9b465b7f to 2\r\n",
      "1m          4m           2         azure-ml.1542cd4b449ab1f1                    Service                                  Normal    EnsuringLoadBalancer         service-controller                  Ensuring load balancer\r\n",
      "1m          1m           1         azure-ml.1542cd700c830e60                    Service                                  Warning   CreatingLoadBalancerFailed   service-controller                  Error creating load balancer (will retry): failed to ensure load balancer for service default/azure-ml: ensure(default/azure-ml): lb(kubernetes) - failed to ensure host in pool: \"network.InterfacesClient#CreateOrUpdate: Failure responding to request: StatusCode=429 -- Original Error: autorest/azure: Service returned an error. Status=429 Code=\\\"RetryableError\\\" Message=\\\"A retryable error occurred.\\\" Details=[{\\\"code\\\":\\\"ReferencedResourceNotProvisioned\\\",\\\"message\\\":\\\"Cannot proceed with operation because resource /subscriptions/edf507a2-6235-46c5-b560-fd463ba2e771/resourceGroups/MC_fbakscpurg_fbAKSClustercpu_eastus/providers/Microsoft.Compute/availabilitySets/nodepool1-availabilitySet-13347348 used by resource aks-nodepool1-13347348-nic-0 is not in Succeeded state. Resource is in Updating state and the last operation that updated/is updating the resource is InternalOperation.\\\"}]\"\r\n",
      "46s         46s          1         azure-ml.1542cd7b3465ce7a                    Service                                  Normal    EnsuredLoadBalancer          service-controller                  Ensured load balancer\r\n"
     ]
    }
   ],
   "source": [
    "!kubectl get events"
   ]
  },
  {
   "cell_type": "markdown",
   "metadata": {},
   "source": [
    "Check the logs for the application pod."
   ]
  },
  {
   "cell_type": "code",
   "execution_count": 46,
   "metadata": {},
   "outputs": [],
   "source": [
    "pod_json = !kubectl get pods -o json\n",
    "pod_dict = json.loads(''.join(pod_json))"
   ]
  },
  {
   "cell_type": "code",
   "execution_count": 47,
   "metadata": {},
   "outputs": [
    {
     "name": "stdout",
     "output_type": "stream",
     "text": [
      "2018-07-19 15:06:16,449 CRIT Supervisor running as root (no user in config file)\r\n",
      "2018-07-19 15:06:16,452 INFO supervisord started with pid 1\r\n",
      "2018-07-19 15:06:17,454 INFO spawned: 'program_exit' with pid 11\r\n",
      "2018-07-19 15:06:17,456 INFO spawned: 'nginx' with pid 12\r\n",
      "2018-07-19 15:06:17,458 INFO spawned: 'gunicorn' with pid 13\r\n",
      "2018-07-19 15:06:18,568 INFO success: program_exit entered RUNNING state, process has stayed up for > than 1 seconds (startsecs)\r\n",
      "{\"message\": \"Model object loading time: 523.19 ms\", \"stack_info\": null, \"timestamp\": \"2018-07-19T15:06:19.069806Z\", \"host\": \"azure-ml-7d9b465b7f-dwg6p\", \"tags\": [], \"path\": \"/code/driver.py\", \"logger\": \"model_driver\", \"level\": \"INFO\"}\r\n",
      "Initialising\r\n",
      "{\"msg\": \" * Running on %s://%s:%d/ %s\", \"message\": \" * Running on http://127.0.0.1:5000/ (Press CTRL+C to quit)\", \"stack_info\": null, \"timestamp\": \"2018-07-19T15:06:19.143402Z\", \"host\": \"azure-ml-7d9b465b7f-dwg6p\", \"tags\": [], \"path\": \"/opt/conda/envs/py3.5/lib/python3.5/site-packages/werkzeug/_internal.py\", \"logger\": \"werkzeug\", \"level\": \"INFO\"}\r\n",
      "2018-07-19 15:06:23,148 INFO success: nginx entered RUNNING state, process has stayed up for > than 5 seconds (startsecs)\r\n",
      "2018-07-19 15:06:38,167 INFO success: gunicorn entered RUNNING state, process has stayed up for > than 20 seconds (startsecs)\r\n"
     ]
    }
   ],
   "source": [
    "!kubectl logs {pod_dict['items'][0]['metadata']['name']}"
   ]
  },
  {
   "cell_type": "code",
   "execution_count": 48,
   "metadata": {},
   "outputs": [
    {
     "name": "stdout",
     "output_type": "stream",
     "text": [
      "NAME       DESIRED   CURRENT   UP-TO-DATE   AVAILABLE   AGE\r\n",
      "azure-ml   2         2         2            2           4m\r\n"
     ]
    }
   ],
   "source": [
    "!kubectl get deployment"
   ]
  },
  {
   "cell_type": "markdown",
   "metadata": {},
   "source": [
    "It can take a few minutes for the service to populate the EXTERNAL-IP field below. This will be the IP you use to call the service. You can also specify an IP to use, please see the AKS documentation for further details."
   ]
  },
  {
   "cell_type": "code",
   "execution_count": 50,
   "metadata": {},
   "outputs": [
    {
     "name": "stdout",
     "output_type": "stream",
     "text": [
      "NAME       TYPE           CLUSTER-IP    EXTERNAL-IP      PORT(S)        AGE\r\n",
      "azure-ml   LoadBalancer   10.0.33.114   137.117.85.251   80:31301/TCP   5m\r\n"
     ]
    }
   ],
   "source": [
    "!kubectl get service azure-ml"
   ]
  },
  {
   "cell_type": "markdown",
   "metadata": {},
   "source": [
    "# Scaling"
   ]
  },
  {
   "cell_type": "markdown",
   "metadata": {},
   "source": [
    "In this part, we provide commands to scale the number of pods."
   ]
  },
  {
   "cell_type": "code",
   "execution_count": 52,
   "metadata": {},
   "outputs": [
    {
     "name": "stdout",
     "output_type": "stream",
     "text": [
      "deployment.extensions/azure-ml scaled\r\n"
     ]
    }
   ],
   "source": [
    "!kubectl scale --current-replicas=2 --replicas=35 deployment/azure-ml"
   ]
  },
  {
   "cell_type": "code",
   "execution_count": 55,
   "metadata": {},
   "outputs": [
    {
     "name": "stdout",
     "output_type": "stream",
     "text": [
      "NAMESPACE     NAME                                    READY     STATUS    RESTARTS   AGE\r\n",
      "default       azure-ml-7d9b465b7f-245fv               1/1       Running   0          1h\r\n",
      "default       azure-ml-7d9b465b7f-274qk               1/1       Running   0          1h\r\n",
      "default       azure-ml-7d9b465b7f-4h5pd               1/1       Running   0          1h\r\n",
      "default       azure-ml-7d9b465b7f-5qwlz               1/1       Running   0          1h\r\n",
      "default       azure-ml-7d9b465b7f-66lcp               1/1       Running   0          1h\r\n",
      "default       azure-ml-7d9b465b7f-72dww               1/1       Running   0          1h\r\n",
      "default       azure-ml-7d9b465b7f-7cx6l               1/1       Running   0          1h\r\n",
      "default       azure-ml-7d9b465b7f-8hzwc               1/1       Running   0          1h\r\n",
      "default       azure-ml-7d9b465b7f-dwg6p               1/1       Running   0          1h\r\n",
      "default       azure-ml-7d9b465b7f-dwlhg               1/1       Running   0          1h\r\n",
      "default       azure-ml-7d9b465b7f-f6ssb               1/1       Running   0          1h\r\n",
      "default       azure-ml-7d9b465b7f-g5gp9               1/1       Running   0          1h\r\n",
      "default       azure-ml-7d9b465b7f-g862m               1/1       Running   0          1h\r\n",
      "default       azure-ml-7d9b465b7f-gkmc8               1/1       Running   0          1h\r\n",
      "default       azure-ml-7d9b465b7f-hmw2n               1/1       Running   0          1h\r\n",
      "default       azure-ml-7d9b465b7f-jdk4c               1/1       Running   0          1h\r\n",
      "default       azure-ml-7d9b465b7f-jv4zs               1/1       Running   0          1h\r\n",
      "default       azure-ml-7d9b465b7f-jzr2p               1/1       Running   0          1h\r\n",
      "default       azure-ml-7d9b465b7f-kj49b               1/1       Running   0          1h\r\n",
      "default       azure-ml-7d9b465b7f-lbzz4               1/1       Running   0          1h\r\n",
      "default       azure-ml-7d9b465b7f-mknfh               1/1       Running   0          1h\r\n",
      "default       azure-ml-7d9b465b7f-ms2mk               1/1       Running   0          1h\r\n",
      "default       azure-ml-7d9b465b7f-nhk9q               1/1       Running   0          1h\r\n",
      "default       azure-ml-7d9b465b7f-pttdf               1/1       Running   0          1h\r\n",
      "default       azure-ml-7d9b465b7f-rd4cl               1/1       Running   0          1h\r\n",
      "default       azure-ml-7d9b465b7f-sb49j               1/1       Running   0          1h\r\n",
      "default       azure-ml-7d9b465b7f-sbl5l               1/1       Running   0          1h\r\n",
      "default       azure-ml-7d9b465b7f-t6b5z               1/1       Running   0          1h\r\n",
      "default       azure-ml-7d9b465b7f-tdpbq               1/1       Running   0          1h\r\n",
      "default       azure-ml-7d9b465b7f-v6zbh               1/1       Running   0          1h\r\n",
      "default       azure-ml-7d9b465b7f-vcxnp               1/1       Running   0          1h\r\n",
      "default       azure-ml-7d9b465b7f-xjzdl               1/1       Running   0          1h\r\n",
      "default       azure-ml-7d9b465b7f-xmcgc               1/1       Running   0          1h\r\n",
      "default       azure-ml-7d9b465b7f-xn9pt               1/1       Running   0          1h\r\n",
      "default       azure-ml-7d9b465b7f-zvd25               1/1       Running   0          1h\r\n",
      "kube-system   azureproxy-79c5db744-j5hj4              1/1       Running   3          40d\r\n",
      "kube-system   heapster-55f855b47-bs86x                2/2       Running   0          40d\r\n",
      "kube-system   kube-dns-v20-7c556f89c5-96dfd           3/3       Running   0          40d\r\n",
      "kube-system   kube-dns-v20-7c556f89c5-fm7v2           3/3       Running   0          40d\r\n",
      "kube-system   kube-proxy-225hz                        1/1       Running   0          40d\r\n",
      "kube-system   kube-proxy-g5x5p                        1/1       Running   0          40d\r\n",
      "kube-system   kube-proxy-hw7fk                        1/1       Running   0          40d\r\n",
      "kube-system   kube-proxy-ttnsh                        1/1       Running   0          40d\r\n",
      "kube-system   kube-proxy-tvnpv                        1/1       Running   0          40d\r\n",
      "kube-system   kube-svc-redirect-278jk                 1/1       Running   3          40d\r\n",
      "kube-system   kube-svc-redirect-bhvsk                 1/1       Running   2          40d\r\n",
      "kube-system   kube-svc-redirect-chkj2                 1/1       Running   2          40d\r\n",
      "kube-system   kube-svc-redirect-k7fs6                 1/1       Running   2          40d\r\n",
      "kube-system   kube-svc-redirect-mg5cj                 1/1       Running   3          40d\r\n",
      "kube-system   kubernetes-dashboard-546f987686-rznkm   1/1       Running   2          40d\r\n",
      "kube-system   tunnelfront-5fcfb8fb44-ht5r8            1/1       Running   21         40d\r\n"
     ]
    }
   ],
   "source": [
    "!kubectl get pods --all-namespaces"
   ]
  },
  {
   "cell_type": "code",
   "execution_count": 56,
   "metadata": {},
   "outputs": [
    {
     "name": "stdout",
     "output_type": "stream",
     "text": [
      "NAME       DESIRED   CURRENT   UP-TO-DATE   AVAILABLE   AGE\r\n",
      "azure-ml   35        35        35           35          1h\r\n"
     ]
    }
   ],
   "source": [
    "!kubectl get deployment"
   ]
  },
  {
   "cell_type": "markdown",
   "metadata": {},
   "source": [
    "Next, we will [test our web application deployed on AKS](05_TestWebApp.ipynb). Once, we are done with all the notebooks of the tutorial, below instructions can be used to delete the cluster and free resources"
   ]
  },
  {
   "cell_type": "markdown",
   "metadata": {},
   "source": [
    "# Tear it all down"
   ]
  },
  {
   "cell_type": "markdown",
   "metadata": {},
   "source": [
    "Once you are done with your cluster you can use the following two commands to destroy it all."
   ]
  },
  {
   "cell_type": "code",
   "execution_count": 48,
   "metadata": {},
   "outputs": [
    {
     "name": "stdout",
     "output_type": "stream",
     "text": [
      "deployment.apps \"azure-dl\" deleted\n",
      "service \"azure-dl\" deleted\n"
     ]
    }
   ],
   "source": [
    "!kubectl delete -f az-ml.json"
   ]
  },
  {
   "cell_type": "code",
   "execution_count": 3,
   "metadata": {},
   "outputs": [
    {
     "name": "stdout",
     "output_type": "stream",
     "text": [
      "\r",
      "\u001b[K - Starting ..\r",
      "\r",
      "\u001b[K - Finished ..\r",
      "\r",
      "\u001b[K\u001b[0m"
     ]
    }
   ],
   "source": [
    "!az aks delete -n $aks_name -g $resource_group -y"
   ]
  },
  {
   "cell_type": "code",
   "execution_count": 4,
   "metadata": {},
   "outputs": [
    {
     "name": "stdout",
     "output_type": "stream",
     "text": [
      "\u001b[K - Finished ..\u001b[0m"
     ]
    }
   ],
   "source": [
    "!az group delete --name $resource_group -y"
   ]
  }
 ],
 "metadata": {
  "kernelspec": {
   "display_name": "Python [conda env:MLAKSDeployment]",
   "language": "python",
   "name": "conda-env-MLAKSDeployment-py"
  },
  "language_info": {
   "codemirror_mode": {
    "name": "ipython",
    "version": 3
   },
   "file_extension": ".py",
   "mimetype": "text/x-python",
   "name": "python",
   "nbconvert_exporter": "python",
   "pygments_lexer": "ipython3",
   "version": "3.5.5"
  }
 },
 "nbformat": 4,
 "nbformat_minor": 2
}
