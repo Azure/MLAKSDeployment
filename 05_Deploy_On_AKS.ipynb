{
 "cells": [
  {
   "cell_type": "markdown",
   "metadata": {},
   "source": [
    "# Deploy Web App on Azure Container Services (AKS)\n"
   ]
  },
  {
   "cell_type": "markdown",
   "metadata": {},
   "source": [
    "In this notebook, we will set up an Azure Container Service which will be managed by Kubernetes. We will then take the Docker image we created earlier that contains our app and deploy it to the AKS cluster. Then, we will check everything is working by sending a question to it and getting it scored for matches in the original questions.\n",
    "\n",
    "The process is split into the following steps:\n",
    "- Define our resource names\n",
    "- Login to Azure\n",
    "- Create resource group and create AKS\n",
    "- Connect to AKS\n",
    "- Deploy our app\n",
    "- Tear it all down\n",
    "\n",
    "We assume that this notebook is running on Linux and Azure CLI is installed before proceeding."
   ]
  },
  {
   "cell_type": "markdown",
   "metadata": {},
   "source": [
    "## Setup"
   ]
  },
  {
   "cell_type": "markdown",
   "metadata": {},
   "source": [
    "Below are the various name definitions for the resources needed to setup AKS as well as the name of the Docker image we will be using."
   ]
  },
  {
   "cell_type": "code",
   "execution_count": 3,
   "metadata": {},
   "outputs": [],
   "source": [
    "# Please modify the below as you see fit\n",
    "resource_group = \"maboumlaksd\" \n",
    "aks_name = \"maboumlaksd\"\n",
    "location = \"eastus\"\n",
    "\n",
    "docker_login = 'fboylu'\n",
    "image_name = docker_login + '/mlaksdep' # 'fboylu/mlaksdep' Use this image if you want to skip creating your own container\n",
    "selected_subscription = \"'Boston-DS-Brandon-Dev'\" # If you have multiple subscriptions select the subscription you want to use "
   ]
  },
  {
   "cell_type": "markdown",
   "metadata": {},
   "source": [
    "## Azure account login"
   ]
  },
  {
   "cell_type": "markdown",
   "metadata": {},
   "source": [
    "The command below will initiate a login to your Azure account. It will pop up with an url to go to where you will enter a one off code and log into your Azure account using your browser."
   ]
  },
  {
   "cell_type": "code",
   "execution_count": 2,
   "metadata": {},
   "outputs": [
    {
     "name": "stdout",
     "output_type": "stream",
     "text": [
      "\u001b[33mNote, we have launched a browser for you to login. For old experience with device code, use \"az login --use-device-code\"\u001b[0m\n",
      "\n",
      "(firefox:28809): LIBDBUSMENU-GLIB-WARNING **: Unable to get session bus: Error spawning command line 'dbus-launch --autolaunch=e05d81ec9eea4cb7abfd3fd9ec6f3655 --binary-syntax --close-stderr': Child process exited with code 1\n",
      "\u001b[33mYou have logged in. Now let us find all subscriptions you have access to...\u001b[0m\n",
      "CloudName    IsDefault    Name                                            State     TenantId\n",
      "-----------  -----------  ----------------------------------------------  --------  ------------------------------------\n",
      "AzureCloud   False        Boston DS Dev                                   Enabled   72f988bf-86f1-41af-91ab-2d7cd011db47\n",
      "AzureCloud   False        Solution Template Testing                       Enabled   72f988bf-86f1-41af-91ab-2d7cd011db47\n",
      "AzureCloud   False        CTS-DS                                          Disabled  72f988bf-86f1-41af-91ab-2d7cd011db47\n",
      "AzureCloud   False        DEMO - how RepDemo are you                      Enabled   72f988bf-86f1-41af-91ab-2d7cd011db47\n",
      "AzureCloud   False        Microsoft Azure Internal - Demos                Enabled   72f988bf-86f1-41af-91ab-2d7cd011db47\n",
      "AzureCloud   False        Azure Stack Diagnostics CI and Production VaaS  Enabled   72f988bf-86f1-41af-91ab-2d7cd011db47\n",
      "AzureCloud   False        Core-ES-BLD                                     Enabled   72f988bf-86f1-41af-91ab-2d7cd011db47\n",
      "AzureCloud   False        Cosmos_WDG_Core_BnB_100348                      Enabled   72f988bf-86f1-41af-91ab-2d7cd011db47\n",
      "AzureCloud   False        Data Wrangling Preview                          Enabled   72f988bf-86f1-41af-91ab-2d7cd011db47\n",
      "AzureCloud   False        Microsoft Azure Internal - Mohamed              Enabled   72f988bf-86f1-41af-91ab-2d7cd011db47\n",
      "AzureCloud   True         Boston-DS-Brandon-Dev                           Enabled   72f988bf-86f1-41af-91ab-2d7cd011db47\n",
      "AzureCloud   False        Boston Engineering                              Enabled   72f988bf-86f1-41af-91ab-2d7cd011db47\n",
      "AzureCloud   False        Team TJ                                         Enabled   72f988bf-86f1-41af-91ab-2d7cd011db47\n",
      "AzureCloud   False        Azure Internal - TATK                           Enabled   72f988bf-86f1-41af-91ab-2d7cd011db47\n"
     ]
    }
   ],
   "source": [
    "!az login -o table"
   ]
  },
  {
   "cell_type": "code",
   "execution_count": 3,
   "metadata": {},
   "outputs": [],
   "source": [
    "!az account set --subscription $selected_subscription"
   ]
  },
  {
   "cell_type": "code",
   "execution_count": 4,
   "metadata": {},
   "outputs": [
    {
     "name": "stdout",
     "output_type": "stream",
     "text": [
      "{\r\n",
      "  \"environmentName\": \"AzureCloud\",\r\n",
      "  \"id\": \"e984a9db-1a27-4f54-98fc-282cf0dcda04\",\r\n",
      "  \"isDefault\": true,\r\n",
      "  \"name\": \"Boston-DS-Brandon-Dev\",\r\n",
      "  \"state\": \"Enabled\",\r\n",
      "  \"tenantId\": \"72f988bf-86f1-41af-91ab-2d7cd011db47\",\r\n",
      "  \"user\": {\r\n",
      "    \"name\": \"mabou@microsoft.com\",\r\n",
      "    \"type\": \"user\"\r\n",
      "  }\r\n",
      "}\r\n"
     ]
    }
   ],
   "source": [
    "!az account show"
   ]
  },
  {
   "cell_type": "markdown",
   "metadata": {},
   "source": [
    "You will also need to register the container service resources on your subscription if you haven't already done so."
   ]
  },
  {
   "cell_type": "code",
   "execution_count": 5,
   "metadata": {},
   "outputs": [
    {
     "name": "stdout",
     "output_type": "stream",
     "text": [
      "\u001b[33mRegistering is still on-going. You can monitor using 'az provider show -n Microsoft.ContainerService'\u001b[0m\r\n"
     ]
    }
   ],
   "source": [
    "!az provider register -n Microsoft.ContainerService"
   ]
  },
  {
   "cell_type": "code",
   "execution_count": 6,
   "metadata": {},
   "outputs": [
    {
     "name": "stdout",
     "output_type": "stream",
     "text": [
      "{\r\n",
      "  \"authorization\": {\r\n",
      "    \"applicationId\": \"7319c514-987d-4e9b-ac3d-d38c4f427f4c\",\r\n",
      "    \"managedByRoleDefinitionId\": \"8e3af657-a8ff-443c-a75c-2fe8c4bcb635\",\r\n",
      "    \"roleDefinitionId\": \"1b4a0c7f-2217-416f-acfa-cf73452fdc1c\"\r\n",
      "  },\r\n",
      "  \"id\": \"/subscriptions/e984a9db-1a27-4f54-98fc-282cf0dcda04/providers/Microsoft.ContainerService\",\r\n",
      "  \"namespace\": \"Microsoft.ContainerService\",\r\n",
      "  \"registrationState\": \"Registered\",\r\n",
      "  \"resourceTypes\": [\r\n",
      "    {\r\n",
      "      \"aliases\": null,\r\n",
      "      \"apiVersions\": [\r\n",
      "        \"2017-07-01\",\r\n",
      "        \"2017-01-31\",\r\n",
      "        \"2016-09-30\",\r\n",
      "        \"2016-03-30\"\r\n",
      "      ],\r\n",
      "      \"capabilities\": \"None\",\r\n",
      "      \"locations\": [\r\n",
      "        \"Japan East\",\r\n",
      "        \"Central US\",\r\n",
      "        \"East US 2\",\r\n",
      "        \"Japan West\",\r\n",
      "        \"East Asia\",\r\n",
      "        \"South Central US\",\r\n",
      "        \"Australia East\",\r\n",
      "        \"Australia Southeast\",\r\n",
      "        \"Brazil South\",\r\n",
      "        \"Southeast Asia\",\r\n",
      "        \"West US\",\r\n",
      "        \"North Central US\",\r\n",
      "        \"West Europe\",\r\n",
      "        \"North Europe\",\r\n",
      "        \"East US\",\r\n",
      "        \"UK West\",\r\n",
      "        \"UK South\",\r\n",
      "        \"West Central US\",\r\n",
      "        \"West US 2\",\r\n",
      "        \"South India\",\r\n",
      "        \"Central India\",\r\n",
      "        \"West India\",\r\n",
      "        \"Canada East\",\r\n",
      "        \"Canada Central\",\r\n",
      "        \"Korea South\",\r\n",
      "        \"Korea Central\"\r\n",
      "      ],\r\n",
      "      \"properties\": null,\r\n",
      "      \"resourceType\": \"containerServices\"\r\n",
      "    },\r\n",
      "    {\r\n",
      "      \"aliases\": null,\r\n",
      "      \"apiVersions\": [\r\n",
      "        \"2018-03-31\",\r\n",
      "        \"2017-08-31\"\r\n",
      "      ],\r\n",
      "      \"capabilities\": \"None\",\r\n",
      "      \"locations\": [\r\n",
      "        \"East US\",\r\n",
      "        \"West Europe\",\r\n",
      "        \"Central US\",\r\n",
      "        \"Canada Central\",\r\n",
      "        \"Canada East\",\r\n",
      "        \"UK South\",\r\n",
      "        \"West US\",\r\n",
      "        \"West US 2\",\r\n",
      "        \"Australia East\",\r\n",
      "        \"North Europe\",\r\n",
      "        \"Japan East\",\r\n",
      "        \"East US 2\"\r\n",
      "      ],\r\n",
      "      \"properties\": null,\r\n",
      "      \"resourceType\": \"managedClusters\"\r\n",
      "    },\r\n",
      "    {\r\n",
      "      \"aliases\": null,\r\n",
      "      \"apiVersions\": [\r\n",
      "        \"2017-08-31\",\r\n",
      "        \"2017-01-31\",\r\n",
      "        \"2016-09-30\",\r\n",
      "        \"2016-03-30\",\r\n",
      "        \"2015-11-01-preview\"\r\n",
      "      ],\r\n",
      "      \"locations\": [],\r\n",
      "      \"properties\": null,\r\n",
      "      \"resourceType\": \"locations\"\r\n",
      "    },\r\n",
      "    {\r\n",
      "      \"aliases\": null,\r\n",
      "      \"apiVersions\": [\r\n",
      "        \"2017-08-31\",\r\n",
      "        \"2016-03-30\"\r\n",
      "      ],\r\n",
      "      \"locations\": [\r\n",
      "        \"East US\",\r\n",
      "        \"West Europe\",\r\n",
      "        \"Central US\",\r\n",
      "        \"UK West\",\r\n",
      "        \"West Central US\",\r\n",
      "        \"West US 2\",\r\n",
      "        \"South India\",\r\n",
      "        \"Central India\",\r\n",
      "        \"West India\",\r\n",
      "        \"Canada East\",\r\n",
      "        \"Canada Central\",\r\n",
      "        \"Korea South\",\r\n",
      "        \"Korea Central\",\r\n",
      "        \"UK South\",\r\n",
      "        \"Australia East\",\r\n",
      "        \"North Europe\",\r\n",
      "        \"Japan East\",\r\n",
      "        \"East US 2\"\r\n",
      "      ],\r\n",
      "      \"properties\": null,\r\n",
      "      \"resourceType\": \"locations/operationresults\"\r\n",
      "    },\r\n",
      "    {\r\n",
      "      \"aliases\": null,\r\n",
      "      \"apiVersions\": [\r\n",
      "        \"2017-07-01\",\r\n",
      "        \"2017-01-31\",\r\n",
      "        \"2016-09-30\",\r\n",
      "        \"2016-03-30\"\r\n",
      "      ],\r\n",
      "      \"locations\": [\r\n",
      "        \"Japan East\",\r\n",
      "        \"Central US\",\r\n",
      "        \"East US 2\",\r\n",
      "        \"Japan West\",\r\n",
      "        \"East Asia\",\r\n",
      "        \"South Central US\",\r\n",
      "        \"Australia East\",\r\n",
      "        \"Australia Southeast\",\r\n",
      "        \"Brazil South\",\r\n",
      "        \"Southeast Asia\",\r\n",
      "        \"West US\",\r\n",
      "        \"North Central US\",\r\n",
      "        \"West Europe\",\r\n",
      "        \"North Europe\",\r\n",
      "        \"East US\",\r\n",
      "        \"UK West\",\r\n",
      "        \"UK South\",\r\n",
      "        \"West Central US\",\r\n",
      "        \"West US 2\",\r\n",
      "        \"South India\",\r\n",
      "        \"Central India\",\r\n",
      "        \"West India\",\r\n",
      "        \"Canada East\",\r\n",
      "        \"Canada Central\",\r\n",
      "        \"Korea South\",\r\n",
      "        \"Korea Central\"\r\n",
      "      ],\r\n",
      "      \"properties\": null,\r\n",
      "      \"resourceType\": \"locations/operations\"\r\n",
      "    },\r\n",
      "    {\r\n",
      "      \"aliases\": null,\r\n",
      "      \"apiVersions\": [\r\n",
      "        \"2018-03-31\",\r\n",
      "        \"2017-08-31\",\r\n",
      "        \"2017-07-01\",\r\n",
      "        \"2017-01-31\",\r\n",
      "        \"2016-09-30\",\r\n",
      "        \"2016-03-30\",\r\n",
      "        \"2015-11-01-preview\"\r\n",
      "      ],\r\n",
      "      \"locations\": [],\r\n",
      "      \"properties\": null,\r\n",
      "      \"resourceType\": \"operations\"\r\n",
      "    },\r\n",
      "    {\r\n",
      "      \"aliases\": null,\r\n",
      "      \"apiVersions\": [\r\n",
      "        \"2017-09-30\"\r\n",
      "      ],\r\n",
      "      \"locations\": [\r\n",
      "        \"East US\",\r\n",
      "        \"West Europe\",\r\n",
      "        \"Central US\",\r\n",
      "        \"Canada East\",\r\n",
      "        \"Canada Central\",\r\n",
      "        \"UK South\",\r\n",
      "        \"West US\",\r\n",
      "        \"West US 2\",\r\n",
      "        \"Australia East\",\r\n",
      "        \"North Europe\",\r\n",
      "        \"Japan East\",\r\n",
      "        \"East US 2\"\r\n",
      "      ],\r\n",
      "      \"properties\": null,\r\n",
      "      \"resourceType\": \"locations/orchestrators\"\r\n",
      "    }\r\n",
      "  ]\r\n",
      "}\r\n"
     ]
    }
   ],
   "source": [
    "!az provider show -n Microsoft.ContainerService"
   ]
  },
  {
   "cell_type": "markdown",
   "metadata": {},
   "source": [
    "## Create resources and dependencies"
   ]
  },
  {
   "cell_type": "markdown",
   "metadata": {},
   "source": [
    "### Create resource group and AKS cluster"
   ]
  },
  {
   "cell_type": "markdown",
   "metadata": {},
   "source": [
    "Azure encourages the use of groups to organize all the Azure components you deploy. That way it is easier to find them but also we can delete a number of resources simply by deleting the group."
   ]
  },
  {
   "cell_type": "code",
   "execution_count": 7,
   "metadata": {},
   "outputs": [
    {
     "name": "stdout",
     "output_type": "stream",
     "text": [
      "{\r\n",
      "  \"id\": \"/subscriptions/e984a9db-1a27-4f54-98fc-282cf0dcda04/resourceGroups/maboumlaksd\",\r\n",
      "  \"location\": \"eastus\",\r\n",
      "  \"managedBy\": null,\r\n",
      "  \"name\": \"maboumlaksd\",\r\n",
      "  \"properties\": {\r\n",
      "    \"provisioningState\": \"Succeeded\"\r\n",
      "  },\r\n",
      "  \"tags\": null\r\n",
      "}\r\n"
     ]
    }
   ],
   "source": [
    "!az group create --name $resource_group --location $location"
   ]
  },
  {
   "cell_type": "markdown",
   "metadata": {},
   "source": [
    "Below, we create the AKS cluster  with 5 nodes in the resource group we created earlier."
   ]
  },
  {
   "cell_type": "code",
   "execution_count": null,
   "metadata": {},
   "outputs": [
    {
     "name": "stdout",
     "output_type": "stream",
     "text": [
      "\u001b[K - Running ...\r"
     ]
    }
   ],
   "source": [
    "%%time\n",
    "!az aks create --resource-group $resource_group --name $aks_name --node-count 5 --generate-ssh-keys -s Standard_D4_v2"
   ]
  },
  {
   "cell_type": "markdown",
   "metadata": {},
   "source": [
    "### Install kubectl CLI"
   ]
  },
  {
   "cell_type": "markdown",
   "metadata": {},
   "source": [
    "To connect to the Kubernetes cluster, we will use kubectl, the Kubernetes command-line client. To install, run the following:"
   ]
  },
  {
   "cell_type": "code",
   "execution_count": 9,
   "metadata": {},
   "outputs": [
    {
     "name": "stdout",
     "output_type": "stream",
     "text": [
      "\u001b[33mDownloading client to /usr/local/bin/kubectl from https://storage.googleapis.com/kubernetes-release/release/v1.11.1/bin/linux/amd64/kubectl\u001b[0m\n",
      "\u001b[33mPlease ensure that /usr/local/bin is in your search PATH, so the `kubectl` command can be found.\u001b[0m\n"
     ]
    }
   ],
   "source": [
    "!sudo env \"PATH=$PATH\" az aks install-cli"
   ]
  },
  {
   "cell_type": "markdown",
   "metadata": {},
   "source": [
    "## Connect to AKS cluster"
   ]
  },
  {
   "cell_type": "markdown",
   "metadata": {},
   "source": [
    "To configure kubectl to connect to the Kubernetes cluster, run the following command:"
   ]
  },
  {
   "cell_type": "code",
   "execution_count": 4,
   "metadata": {},
   "outputs": [
    {
     "name": "stdout",
     "output_type": "stream",
     "text": [
      "Merged \"maboumlaksd\" as current context in /home/mabou/.kube/config\r\n"
     ]
    }
   ],
   "source": [
    "!az aks get-credentials --resource-group $resource_group --name $aks_name"
   ]
  },
  {
   "cell_type": "markdown",
   "metadata": {},
   "source": [
    "Let's verify connection by listing the nodes."
   ]
  },
  {
   "cell_type": "code",
   "execution_count": 5,
   "metadata": {},
   "outputs": [
    {
     "name": "stdout",
     "output_type": "stream",
     "text": [
      "NAME                       STATUS    ROLES     AGE       VERSION\r\n",
      "aks-nodepool1-20727186-0   Ready     agent     47m       v1.9.9\r\n",
      "aks-nodepool1-20727186-1   Ready     agent     47m       v1.9.9\r\n",
      "aks-nodepool1-20727186-2   Ready     agent     47m       v1.9.9\r\n",
      "aks-nodepool1-20727186-3   Ready     agent     47m       v1.9.9\r\n",
      "aks-nodepool1-20727186-4   Ready     agent     47m       v1.9.9\r\n"
     ]
    }
   ],
   "source": [
    "!kubectl get nodes"
   ]
  },
  {
   "cell_type": "markdown",
   "metadata": {},
   "source": [
    "Let's check the pods on our cluster."
   ]
  },
  {
   "cell_type": "code",
   "execution_count": 6,
   "metadata": {},
   "outputs": [
    {
     "name": "stdout",
     "output_type": "stream",
     "text": [
      "NAMESPACE     NAME                                    READY     STATUS    RESTARTS   AGE\r\n",
      "kube-system   azureproxy-5fc9fc6976-25hgd             1/1       Running   1          47m\r\n",
      "kube-system   heapster-7dfdd964f9-k2bwb               2/2       Running   0          47m\r\n",
      "kube-system   kube-dns-v20-784dd5dbd5-85flc           3/3       Running   0          47m\r\n",
      "kube-system   kube-dns-v20-784dd5dbd5-xcwc8           3/3       Running   0          47m\r\n",
      "kube-system   kube-proxy-2jdjg                        1/1       Running   0          47m\r\n",
      "kube-system   kube-proxy-d5p8n                        1/1       Running   0          47m\r\n",
      "kube-system   kube-proxy-pl5x8                        1/1       Running   0          47m\r\n",
      "kube-system   kube-proxy-rph7l                        1/1       Running   0          47m\r\n",
      "kube-system   kube-proxy-xgmpg                        1/1       Running   0          47m\r\n",
      "kube-system   kube-svc-redirect-brv9k                 1/1       Running   0          47m\r\n",
      "kube-system   kube-svc-redirect-fq2lt                 1/1       Running   0          47m\r\n",
      "kube-system   kube-svc-redirect-j8tg9                 1/1       Running   0          47m\r\n",
      "kube-system   kube-svc-redirect-ktj67                 1/1       Running   0          47m\r\n",
      "kube-system   kube-svc-redirect-ls46b                 1/1       Running   0          47m\r\n",
      "kube-system   kubernetes-dashboard-68f8cc4d8c-4bkpl   1/1       Running   2          47m\r\n",
      "kube-system   tunnelfront-76bf848ff6-bl8pr            1/1       Running   0          47m\r\n"
     ]
    }
   ],
   "source": [
    "!kubectl get pods --all-namespaces"
   ]
  },
  {
   "cell_type": "markdown",
   "metadata": {},
   "source": [
    "## Deploy application"
   ]
  },
  {
   "cell_type": "markdown",
   "metadata": {},
   "source": [
    "Below we define our Kubernetes manifest file for our service and load balancer. Note that we have to specify the image name and cpu requests and limits for pods. We first start with  deploying 2 pods."
   ]
  },
  {
   "cell_type": "code",
   "execution_count": 7,
   "metadata": {},
   "outputs": [],
   "source": [
    "app_template = {\n",
    "  \"apiVersion\": \"apps/v1beta1\",\n",
    "  \"kind\": \"Deployment\",\n",
    "  \"metadata\": {\n",
    "      \"name\": \"azure-ml\"\n",
    "  },\n",
    "  \"spec\":{\n",
    "      \"replicas\":2,\n",
    "      \"template\":{\n",
    "          \"metadata\":{\n",
    "              \"labels\":{\n",
    "                  \"app\":\"azure-ml\"\n",
    "              }\n",
    "          },\n",
    "          \"spec\":{\n",
    "              \"containers\":[\n",
    "                  {\n",
    "                      \"name\": \"azure-ml\",\n",
    "                      \"image\": image_name,\n",
    "\n",
    "                      \"ports\":[\n",
    "                          {\n",
    "                              \"containerPort\":80,\n",
    "                              \"name\":\"model\"\n",
    "                          }\n",
    "                      ],\n",
    "                      \"resources\":{\n",
    "                           \"requests\":{\n",
    "                               \"cpu\": 1\n",
    "                           },\n",
    "                           \"limits\":{\n",
    "                               \"cpu\": 1.25\n",
    "                           }\n",
    "                       }  \n",
    "                  }\n",
    "              ]\n",
    "          }\n",
    "      }\n",
    "  }\n",
    "}\n",
    "\n",
    "service_temp = {\n",
    "  \"apiVersion\": \"v1\",\n",
    "  \"kind\": \"Service\",\n",
    "  \"metadata\": {\n",
    "      \"name\": \"azure-ml\"\n",
    "  },\n",
    "  \"spec\":{\n",
    "      \"type\": \"LoadBalancer\",\n",
    "      \"ports\":[\n",
    "          {\n",
    "              \"port\":80\n",
    "          }\n",
    "      ],\n",
    "      \"selector\":{\n",
    "            \"app\":\"azure-ml\"\n",
    "      }\n",
    "   }\n",
    "}"
   ]
  },
  {
   "cell_type": "code",
   "execution_count": 8,
   "metadata": {},
   "outputs": [],
   "source": [
    "import json\n",
    "def write_json_to_file(json_dict, filename, mode='w'):\n",
    "    with open(filename, mode) as outfile:\n",
    "        json.dump(json_dict, outfile, indent=4, sort_keys=True)\n",
    "        outfile.write('\\n\\n')"
   ]
  },
  {
   "cell_type": "code",
   "execution_count": 9,
   "metadata": {},
   "outputs": [],
   "source": [
    "write_json_to_file(app_template, 'az-ml.json')"
   ]
  },
  {
   "cell_type": "code",
   "execution_count": 10,
   "metadata": {},
   "outputs": [],
   "source": [
    "write_json_to_file(service_temp, 'az-ml.json', mode='a')"
   ]
  },
  {
   "cell_type": "markdown",
   "metadata": {},
   "source": [
    "Let's check the manifest created."
   ]
  },
  {
   "cell_type": "code",
   "execution_count": 11,
   "metadata": {},
   "outputs": [
    {
     "name": "stdout",
     "output_type": "stream",
     "text": [
      "{\r\n",
      "    \"apiVersion\": \"apps/v1beta1\",\r\n",
      "    \"kind\": \"Deployment\",\r\n",
      "    \"metadata\": {\r\n",
      "        \"name\": \"azure-ml\"\r\n",
      "    },\r\n",
      "    \"spec\": {\r\n",
      "        \"replicas\": 2,\r\n",
      "        \"template\": {\r\n",
      "            \"metadata\": {\r\n",
      "                \"labels\": {\r\n",
      "                    \"app\": \"azure-ml\"\r\n",
      "                }\r\n",
      "            },\r\n",
      "            \"spec\": {\r\n",
      "                \"containers\": [\r\n",
      "                    {\r\n",
      "                        \"image\": \"fboylu/mlaksdep\",\r\n",
      "                        \"name\": \"azure-ml\",\r\n",
      "                        \"ports\": [\r\n",
      "                            {\r\n",
      "                                \"containerPort\": 80,\r\n",
      "                                \"name\": \"model\"\r\n",
      "                            }\r\n",
      "                        ],\r\n",
      "                        \"resources\": {\r\n",
      "                            \"limits\": {\r\n",
      "                                \"cpu\": 1.25\r\n",
      "                            },\r\n",
      "                            \"requests\": {\r\n",
      "                                \"cpu\": 1\r\n",
      "                            }\r\n",
      "                        }\r\n",
      "                    }\r\n",
      "                ]\r\n",
      "            }\r\n",
      "        }\r\n",
      "    }\r\n",
      "}\r\n",
      "\r\n",
      "{\r\n",
      "    \"apiVersion\": \"v1\",\r\n",
      "    \"kind\": \"Service\",\r\n",
      "    \"metadata\": {\r\n",
      "        \"name\": \"azure-ml\"\r\n",
      "    },\r\n",
      "    \"spec\": {\r\n",
      "        \"ports\": [\r\n",
      "            {\r\n",
      "                \"port\": 80\r\n",
      "            }\r\n",
      "        ],\r\n",
      "        \"selector\": {\r\n",
      "            \"app\": \"azure-ml\"\r\n",
      "        },\r\n",
      "        \"type\": \"LoadBalancer\"\r\n",
      "    }\r\n",
      "}\r\n",
      "\r\n"
     ]
    }
   ],
   "source": [
    "!cat az-ml.json"
   ]
  },
  {
   "cell_type": "markdown",
   "metadata": {},
   "source": [
    "Next, we will use kubectl create command to deploy our application."
   ]
  },
  {
   "cell_type": "code",
   "execution_count": 12,
   "metadata": {},
   "outputs": [
    {
     "name": "stdout",
     "output_type": "stream",
     "text": [
      "deployment.apps/azure-ml created\n",
      "service/azure-ml created\n"
     ]
    }
   ],
   "source": [
    "!kubectl create -f az-ml.json"
   ]
  },
  {
   "cell_type": "markdown",
   "metadata": {},
   "source": [
    "Let's check if the pod is deployed."
   ]
  },
  {
   "cell_type": "code",
   "execution_count": 17,
   "metadata": {},
   "outputs": [
    {
     "name": "stdout",
     "output_type": "stream",
     "text": [
      "NAMESPACE     NAME                                    READY     STATUS    RESTARTS   AGE\r\n",
      "default       azure-ml-7d9b465b7f-bvd9j               1/1       Running   0          7m\r\n",
      "default       azure-ml-7d9b465b7f-nmr2s               1/1       Running   0          7m\r\n",
      "kube-system   azureproxy-5fc9fc6976-25hgd             1/1       Running   1          55m\r\n",
      "kube-system   heapster-7dfdd964f9-k2bwb               2/2       Running   0          55m\r\n",
      "kube-system   kube-dns-v20-784dd5dbd5-85flc           3/3       Running   0          55m\r\n",
      "kube-system   kube-dns-v20-784dd5dbd5-xcwc8           3/3       Running   0          55m\r\n",
      "kube-system   kube-proxy-2jdjg                        1/1       Running   0          55m\r\n",
      "kube-system   kube-proxy-d5p8n                        1/1       Running   0          55m\r\n",
      "kube-system   kube-proxy-pl5x8                        1/1       Running   0          55m\r\n",
      "kube-system   kube-proxy-rph7l                        1/1       Running   0          55m\r\n",
      "kube-system   kube-proxy-xgmpg                        1/1       Running   0          55m\r\n",
      "kube-system   kube-svc-redirect-brv9k                 1/1       Running   0          55m\r\n",
      "kube-system   kube-svc-redirect-fq2lt                 1/1       Running   0          55m\r\n",
      "kube-system   kube-svc-redirect-j8tg9                 1/1       Running   0          55m\r\n",
      "kube-system   kube-svc-redirect-ktj67                 1/1       Running   0          55m\r\n",
      "kube-system   kube-svc-redirect-ls46b                 1/1       Running   0          55m\r\n",
      "kube-system   kubernetes-dashboard-68f8cc4d8c-4bkpl   1/1       Running   2          55m\r\n",
      "kube-system   tunnelfront-76bf848ff6-bl8pr            1/1       Running   0          55m\r\n"
     ]
    }
   ],
   "source": [
    "!kubectl get pods --all-namespaces"
   ]
  },
  {
   "cell_type": "markdown",
   "metadata": {},
   "source": [
    "If anything goes wrong you can use the commands below to observe the events on the node as well as review the logs."
   ]
  },
  {
   "cell_type": "code",
   "execution_count": 18,
   "metadata": {},
   "outputs": [
    {
     "name": "stdout",
     "output_type": "stream",
     "text": [
      "LAST SEEN   FIRST SEEN   COUNT     NAME                                         KIND         SUBOBJECT                   TYPE      REASON                    SOURCE                                 MESSAGE\r\n",
      "57m         57m          1         aks-nodepool1-20727186-0.15463987a6a9c786    Node                                     Normal    Starting                  kubelet, aks-nodepool1-20727186-0      Starting kubelet.\r\n",
      "56m         57m          8         aks-nodepool1-20727186-0.15463987a96e94ad    Node                                     Normal    NodeHasSufficientDisk     kubelet, aks-nodepool1-20727186-0      Node aks-nodepool1-20727186-0 status is now: NodeHasSufficientDisk\r\n",
      "56m         57m          8         aks-nodepool1-20727186-0.15463987a96ef8ae    Node                                     Normal    NodeHasSufficientMemory   kubelet, aks-nodepool1-20727186-0      Node aks-nodepool1-20727186-0 status is now: NodeHasSufficientMemory\r\n",
      "56m         57m          7         aks-nodepool1-20727186-0.15463987a96f1aab    Node                                     Normal    NodeHasNoDiskPressure     kubelet, aks-nodepool1-20727186-0      Node aks-nodepool1-20727186-0 status is now: NodeHasNoDiskPressure\r\n",
      "57m         57m          1         aks-nodepool1-20727186-0.15463987aac2a7ce    Node                                     Normal    NodeAllocatableEnforced   kubelet, aks-nodepool1-20727186-0      Updated Node Allocatable limit across pods\r\n",
      "55m         55m          1         aks-nodepool1-20727186-0.154639a5cd12a3e9    Node                                     Normal    RegisteredNode            node-controller                        Node aks-nodepool1-20727186-0 event: Registered Node aks-nodepool1-20727186-0 in Controller\r\n",
      "54m         54m          1         aks-nodepool1-20727186-0.154639b2e8d90b66    Node                                     Normal    Starting                  kube-proxy, aks-nodepool1-20727186-0   Starting kube-proxy.\r\n",
      "57m         57m          1         aks-nodepool1-20727186-1.1546398782bc8d87    Node                                     Normal    Starting                  kubelet, aks-nodepool1-20727186-1      Starting kubelet.\r\n",
      "56m         57m          8         aks-nodepool1-20727186-1.15463987850ea160    Node                                     Normal    NodeHasSufficientDisk     kubelet, aks-nodepool1-20727186-1      Node aks-nodepool1-20727186-1 status is now: NodeHasSufficientDisk\r\n",
      "56m         57m          8         aks-nodepool1-20727186-1.15463987850efd91    Node                                     Normal    NodeHasSufficientMemory   kubelet, aks-nodepool1-20727186-1      Node aks-nodepool1-20727186-1 status is now: NodeHasSufficientMemory\r\n",
      "56m         57m          7         aks-nodepool1-20727186-1.15463987850f1e62    Node                                     Normal    NodeHasNoDiskPressure     kubelet, aks-nodepool1-20727186-1      Node aks-nodepool1-20727186-1 status is now: NodeHasNoDiskPressure\r\n",
      "57m         57m          1         aks-nodepool1-20727186-1.15463987862a00d3    Node                                     Normal    NodeAllocatableEnforced   kubelet, aks-nodepool1-20727186-1      Updated Node Allocatable limit across pods\r\n",
      "55m         55m          1         aks-nodepool1-20727186-1.154639a5cd1111f2    Node                                     Normal    RegisteredNode            node-controller                        Node aks-nodepool1-20727186-1 event: Registered Node aks-nodepool1-20727186-1 in Controller\r\n",
      "55m         55m          1         aks-nodepool1-20727186-1.154639a613f1fa7d    Node                                     Warning   FailedToCreateRoute       route_controller                       Could not create route 2935a634-9428-11e8-b496-0a58ac1f16ad 10.244.4.0/24 for node aks-nodepool1-20727186-1 after 891.016261ms: network.RoutesClient#CreateOrUpdate: Failure responding to request: StatusCode=429 -- Original Error: autorest/azure: Service returned an error. Status=429 Code=\"RetryableError\" Message=\"A retryable error occurred.\" Details=[{\"code\":\"RetryableErrorDueToAnotherOperation\",\"message\":\"Operation PutRouteOperation (ef1818b7-4395-45ce-ac27-49fbaf0fa75f) is updating resource /subscriptions/e984a9db-1a27-4f54-98fc-282cf0dcda04/resourceGroups/MC_maboumlaksd_maboumlaksd_eastus/providers/Microsoft.Network/routeTables/aks-agentpool-20727186-routetable. The call can be retried in 12 seconds.\"}]\r\n",
      "54m         54m          1         aks-nodepool1-20727186-1.154639b3449f1322    Node                                     Normal    Starting                  kube-proxy, aks-nodepool1-20727186-1   Starting kube-proxy.\r\n",
      "57m         57m          1         aks-nodepool1-20727186-2.154639839be1eef6    Node                                     Normal    Starting                  kubelet, aks-nodepool1-20727186-2      Starting kubelet.\r\n",
      "56m         57m          8         aks-nodepool1-20727186-2.154639839e1d0ae4    Node                                     Normal    NodeHasSufficientDisk     kubelet, aks-nodepool1-20727186-2      Node aks-nodepool1-20727186-2 status is now: NodeHasSufficientDisk\r\n",
      "56m         57m          8         aks-nodepool1-20727186-2.154639839e1d6cf3    Node                                     Normal    NodeHasSufficientMemory   kubelet, aks-nodepool1-20727186-2      Node aks-nodepool1-20727186-2 status is now: NodeHasSufficientMemory\r\n",
      "56m         57m          7         aks-nodepool1-20727186-2.154639839e1d93a0    Node                                     Normal    NodeHasNoDiskPressure     kubelet, aks-nodepool1-20727186-2      Node aks-nodepool1-20727186-2 status is now: NodeHasNoDiskPressure\r\n",
      "57m         57m          1         aks-nodepool1-20727186-2.154639839f3a9d5a    Node                                     Normal    NodeAllocatableEnforced   kubelet, aks-nodepool1-20727186-2      Updated Node Allocatable limit across pods\r\n",
      "55m         55m          1         aks-nodepool1-20727186-2.154639a5cd1229a4    Node                                     Normal    RegisteredNode            node-controller                        Node aks-nodepool1-20727186-2 event: Registered Node aks-nodepool1-20727186-2 in Controller\r\n",
      "54m         54m          1         aks-nodepool1-20727186-2.154639b2a9870293    Node                                     Normal    Starting                  kube-proxy, aks-nodepool1-20727186-2   Starting kube-proxy.\r\n",
      "57m         57m          1         aks-nodepool1-20727186-3.1546398d9345a213    Node                                     Normal    Starting                  kubelet, aks-nodepool1-20727186-3      Starting kubelet.\r\n",
      "55m         57m          8         aks-nodepool1-20727186-3.1546398d9564be7b    Node                                     Normal    NodeHasSufficientDisk     kubelet, aks-nodepool1-20727186-3      Node aks-nodepool1-20727186-3 status is now: NodeHasSufficientDisk\r\n",
      "55m         57m          8         aks-nodepool1-20727186-3.1546398d95652344    Node                                     Normal    NodeHasSufficientMemory   kubelet, aks-nodepool1-20727186-3      Node aks-nodepool1-20727186-3 status is now: NodeHasSufficientMemory\r\n",
      "56m         57m          7         aks-nodepool1-20727186-3.1546398d95656355    Node                                     Normal    NodeHasNoDiskPressure     kubelet, aks-nodepool1-20727186-3      Node aks-nodepool1-20727186-3 status is now: NodeHasNoDiskPressure\r\n",
      "57m         57m          1         aks-nodepool1-20727186-3.1546398d96adc3ca    Node                                     Normal    NodeAllocatableEnforced   kubelet, aks-nodepool1-20727186-3      Updated Node Allocatable limit across pods\r\n",
      "55m         55m          1         aks-nodepool1-20727186-3.154639a5cd12e652    Node                                     Normal    RegisteredNode            node-controller                        Node aks-nodepool1-20727186-3 event: Registered Node aks-nodepool1-20727186-3 in Controller\r\n",
      "54m         54m          1         aks-nodepool1-20727186-3.154639b5090215f8    Node                                     Normal    Starting                  kube-proxy, aks-nodepool1-20727186-3   Starting kube-proxy.\r\n",
      "57m         57m          1         aks-nodepool1-20727186-4.15463985492aec5f    Node                                     Normal    Starting                  kubelet, aks-nodepool1-20727186-4      Starting kubelet.\r\n",
      "56m         57m          8         aks-nodepool1-20727186-4.154639854b2bd3c2    Node                                     Normal    NodeHasSufficientDisk     kubelet, aks-nodepool1-20727186-4      Node aks-nodepool1-20727186-4 status is now: NodeHasSufficientDisk\r\n",
      "56m         57m          8         aks-nodepool1-20727186-4.154639854b2c3f30    Node                                     Normal    NodeHasSufficientMemory   kubelet, aks-nodepool1-20727186-4      Node aks-nodepool1-20727186-4 status is now: NodeHasSufficientMemory\r\n",
      "56m         57m          7         aks-nodepool1-20727186-4.154639854b2c6191    Node                                     Normal    NodeHasNoDiskPressure     kubelet, aks-nodepool1-20727186-4      Node aks-nodepool1-20727186-4 status is now: NodeHasNoDiskPressure\r\n",
      "57m         57m          1         aks-nodepool1-20727186-4.154639854c4c5eae    Node                                     Normal    NodeAllocatableEnforced   kubelet, aks-nodepool1-20727186-4      Updated Node Allocatable limit across pods\r\n",
      "55m         55m          1         aks-nodepool1-20727186-4.154639a5cd12b70d    Node                                     Normal    RegisteredNode            node-controller                        Node aks-nodepool1-20727186-4 event: Registered Node aks-nodepool1-20727186-4 in Controller\r\n",
      "54m         54m          1         aks-nodepool1-20727186-4.154639b0d5c638cb    Node                                     Normal    Starting                  kube-proxy, aks-nodepool1-20727186-4   Starting kube-proxy.\r\n",
      "7m          7m           1         azure-ml-7d9b465b7f-bvd9j.15463c44262c1998   Pod                                      Normal    Scheduled                 default-scheduler                      Successfully assigned azure-ml-7d9b465b7f-bvd9j to aks-nodepool1-20727186-2\r\n",
      "7m          7m           1         azure-ml-7d9b465b7f-bvd9j.15463c4431d96e66   Pod                                      Normal    SuccessfulMountVolume     kubelet, aks-nodepool1-20727186-2      MountVolume.SetUp succeeded for volume \"default-token-d4v5s\" \r\n",
      "7m          7m           1         azure-ml-7d9b465b7f-bvd9j.15463c449c7efebf   Pod          spec.containers{azure-ml}   Normal    Pulling                   kubelet, aks-nodepool1-20727186-2      pulling image \"fboylu/mlaksdep\"\r\n",
      "20s         20s          1         azure-ml-7d9b465b7f-bvd9j.15463ca6a1a70eff   Pod          spec.containers{azure-ml}   Normal    Pulled                    kubelet, aks-nodepool1-20727186-2      Successfully pulled image \"fboylu/mlaksdep\"\r\n",
      "15s         15s          1         azure-ml-7d9b465b7f-bvd9j.15463ca7d7edef22   Pod          spec.containers{azure-ml}   Normal    Created                   kubelet, aks-nodepool1-20727186-2      Created container\r\n",
      "15s         15s          1         azure-ml-7d9b465b7f-bvd9j.15463ca7e1776d5c   Pod          spec.containers{azure-ml}   Normal    Started                   kubelet, aks-nodepool1-20727186-2      Started container\r\n",
      "7m          7m           1         azure-ml-7d9b465b7f-nmr2s.15463c442424a59e   Pod                                      Normal    Scheduled                 default-scheduler                      Successfully assigned azure-ml-7d9b465b7f-nmr2s to aks-nodepool1-20727186-3\r\n",
      "7m          7m           1         azure-ml-7d9b465b7f-nmr2s.15463c44333c95c8   Pod                                      Normal    SuccessfulMountVolume     kubelet, aks-nodepool1-20727186-3      MountVolume.SetUp succeeded for volume \"default-token-d4v5s\" \r\n",
      "7m          7m           1         azure-ml-7d9b465b7f-nmr2s.15463c447831dd8d   Pod          spec.containers{azure-ml}   Normal    Pulling                   kubelet, aks-nodepool1-20727186-3      pulling image \"fboylu/mlaksdep\"\r\n",
      "11s         11s          1         azure-ml-7d9b465b7f-nmr2s.15463ca8bbce9941   Pod          spec.containers{azure-ml}   Normal    Pulled                    kubelet, aks-nodepool1-20727186-3      Successfully pulled image \"fboylu/mlaksdep\"\r\n",
      "7s          7s           1         azure-ml-7d9b465b7f-nmr2s.15463ca9aa35fd60   Pod          spec.containers{azure-ml}   Normal    Created                   kubelet, aks-nodepool1-20727186-3      Created container\r\n",
      "7s          7s           1         azure-ml-7d9b465b7f-nmr2s.15463ca9b82f585b   Pod          spec.containers{azure-ml}   Normal    Started                   kubelet, aks-nodepool1-20727186-3      Started container\r\n",
      "7m          7m           1         azure-ml-7d9b465b7f.15463c44226f12ce         ReplicaSet                               Normal    SuccessfulCreate          replicaset-controller                  Created pod: azure-ml-7d9b465b7f-nmr2s\r\n",
      "7m          7m           1         azure-ml-7d9b465b7f.15463c442492d66a         ReplicaSet                               Normal    SuccessfulCreate          replicaset-controller                  Created pod: azure-ml-7d9b465b7f-bvd9j\r\n",
      "7m          7m           1         azure-ml.15463c441fcd4d98                    Deployment                               Normal    ScalingReplicaSet         deployment-controller                  Scaled up replica set azure-ml-7d9b465b7f to 2\r\n",
      "7m          7m           1         azure-ml.15463c442b357d27                    Service                                  Normal    EnsuringLoadBalancer      service-controller                     Ensuring load balancer\r\n",
      "3m          3m           1         azure-ml.15463c76eb672c37                    Service                                  Normal    EnsuredLoadBalancer       service-controller                     Ensured load balancer\r\n"
     ]
    }
   ],
   "source": [
    "!kubectl get events"
   ]
  },
  {
   "cell_type": "markdown",
   "metadata": {},
   "source": [
    "Check the logs for the application pod."
   ]
  },
  {
   "cell_type": "code",
   "execution_count": 19,
   "metadata": {},
   "outputs": [],
   "source": [
    "pod_json = !kubectl get pods -o json\n",
    "pod_dict = json.loads(''.join(pod_json))"
   ]
  },
  {
   "cell_type": "code",
   "execution_count": 20,
   "metadata": {},
   "outputs": [
    {
     "name": "stdout",
     "output_type": "stream",
     "text": [
      "2018-07-30 19:36:54,962 CRIT Supervisor running as root (no user in config file)\r\n",
      "2018-07-30 19:36:54,964 INFO supervisord started with pid 1\r\n",
      "2018-07-30 19:36:55,966 INFO spawned: 'program_exit' with pid 9\r\n",
      "2018-07-30 19:36:55,968 INFO spawned: 'nginx' with pid 10\r\n",
      "2018-07-30 19:36:55,970 INFO spawned: 'gunicorn' with pid 11\r\n",
      "2018-07-30 19:36:57,049 INFO success: program_exit entered RUNNING state, process has stayed up for > than 1 seconds (startsecs)\r\n",
      "{\"level\": \"INFO\", \"stack_info\": null, \"logger\": \"model_driver\", \"host\": \"azure-ml-7d9b465b7f-bvd9j\", \"timestamp\": \"2018-07-30T19:36:57.441858Z\", \"path\": \"/code/driver.py\", \"tags\": [], \"message\": \"Model object loading time: 554.34 ms\"}\r\n",
      "Initialising\r\n",
      "{\"msg\": \" * Running on %s://%s:%d/ %s\", \"level\": \"INFO\", \"stack_info\": null, \"logger\": \"werkzeug\", \"host\": \"azure-ml-7d9b465b7f-bvd9j\", \"timestamp\": \"2018-07-30T19:36:57.448699Z\", \"path\": \"/opt/conda/envs/py3.5/lib/python3.5/site-packages/werkzeug/_internal.py\", \"tags\": [], \"message\": \" * Running on http://127.0.0.1:5000/ (Press CTRL+C to quit)\"}\r\n",
      "2018-07-30 19:37:01,453 INFO success: nginx entered RUNNING state, process has stayed up for > than 5 seconds (startsecs)\r\n",
      "2018-07-30 19:37:16,472 INFO success: gunicorn entered RUNNING state, process has stayed up for > than 20 seconds (startsecs)\r\n"
     ]
    }
   ],
   "source": [
    "!kubectl logs {pod_dict['items'][0]['metadata']['name']}"
   ]
  },
  {
   "cell_type": "code",
   "execution_count": 21,
   "metadata": {},
   "outputs": [
    {
     "name": "stdout",
     "output_type": "stream",
     "text": [
      "NAME       DESIRED   CURRENT   UP-TO-DATE   AVAILABLE   AGE\r\n",
      "azure-ml   2         2         2            2           7m\r\n"
     ]
    }
   ],
   "source": [
    "!kubectl get deployment"
   ]
  },
  {
   "cell_type": "markdown",
   "metadata": {},
   "source": [
    "It can take a few minutes for the service to populate the EXTERNAL-IP field below. This will be the IP you use to call the service. You can also specify an IP to use, please see the AKS documentation for further details."
   ]
  },
  {
   "cell_type": "code",
   "execution_count": 22,
   "metadata": {},
   "outputs": [
    {
     "name": "stdout",
     "output_type": "stream",
     "text": [
      "NAME       TYPE           CLUSTER-IP    EXTERNAL-IP   PORT(S)        AGE\r\n",
      "azure-ml   LoadBalancer   10.0.167.16   40.87.43.89   80:30234/TCP   7m\r\n"
     ]
    }
   ],
   "source": [
    "!kubectl get service azure-ml"
   ]
  },
  {
   "cell_type": "markdown",
   "metadata": {},
   "source": [
    "# Scaling"
   ]
  },
  {
   "cell_type": "markdown",
   "metadata": {},
   "source": [
    "In this part, we provide commands to scale the number of pods."
   ]
  },
  {
   "cell_type": "code",
   "execution_count": 52,
   "metadata": {},
   "outputs": [
    {
     "name": "stdout",
     "output_type": "stream",
     "text": [
      "deployment.extensions/azure-ml scaled\r\n"
     ]
    }
   ],
   "source": [
    "!kubectl scale --current-replicas=2 --replicas=35 deployment/azure-ml"
   ]
  },
  {
   "cell_type": "code",
   "execution_count": 55,
   "metadata": {},
   "outputs": [
    {
     "name": "stdout",
     "output_type": "stream",
     "text": [
      "NAMESPACE     NAME                                    READY     STATUS    RESTARTS   AGE\r\n",
      "default       azure-ml-7d9b465b7f-245fv               1/1       Running   0          1h\r\n",
      "default       azure-ml-7d9b465b7f-274qk               1/1       Running   0          1h\r\n",
      "default       azure-ml-7d9b465b7f-4h5pd               1/1       Running   0          1h\r\n",
      "default       azure-ml-7d9b465b7f-5qwlz               1/1       Running   0          1h\r\n",
      "default       azure-ml-7d9b465b7f-66lcp               1/1       Running   0          1h\r\n",
      "default       azure-ml-7d9b465b7f-72dww               1/1       Running   0          1h\r\n",
      "default       azure-ml-7d9b465b7f-7cx6l               1/1       Running   0          1h\r\n",
      "default       azure-ml-7d9b465b7f-8hzwc               1/1       Running   0          1h\r\n",
      "default       azure-ml-7d9b465b7f-dwg6p               1/1       Running   0          1h\r\n",
      "default       azure-ml-7d9b465b7f-dwlhg               1/1       Running   0          1h\r\n",
      "default       azure-ml-7d9b465b7f-f6ssb               1/1       Running   0          1h\r\n",
      "default       azure-ml-7d9b465b7f-g5gp9               1/1       Running   0          1h\r\n",
      "default       azure-ml-7d9b465b7f-g862m               1/1       Running   0          1h\r\n",
      "default       azure-ml-7d9b465b7f-gkmc8               1/1       Running   0          1h\r\n",
      "default       azure-ml-7d9b465b7f-hmw2n               1/1       Running   0          1h\r\n",
      "default       azure-ml-7d9b465b7f-jdk4c               1/1       Running   0          1h\r\n",
      "default       azure-ml-7d9b465b7f-jv4zs               1/1       Running   0          1h\r\n",
      "default       azure-ml-7d9b465b7f-jzr2p               1/1       Running   0          1h\r\n",
      "default       azure-ml-7d9b465b7f-kj49b               1/1       Running   0          1h\r\n",
      "default       azure-ml-7d9b465b7f-lbzz4               1/1       Running   0          1h\r\n",
      "default       azure-ml-7d9b465b7f-mknfh               1/1       Running   0          1h\r\n",
      "default       azure-ml-7d9b465b7f-ms2mk               1/1       Running   0          1h\r\n",
      "default       azure-ml-7d9b465b7f-nhk9q               1/1       Running   0          1h\r\n",
      "default       azure-ml-7d9b465b7f-pttdf               1/1       Running   0          1h\r\n",
      "default       azure-ml-7d9b465b7f-rd4cl               1/1       Running   0          1h\r\n",
      "default       azure-ml-7d9b465b7f-sb49j               1/1       Running   0          1h\r\n",
      "default       azure-ml-7d9b465b7f-sbl5l               1/1       Running   0          1h\r\n",
      "default       azure-ml-7d9b465b7f-t6b5z               1/1       Running   0          1h\r\n",
      "default       azure-ml-7d9b465b7f-tdpbq               1/1       Running   0          1h\r\n",
      "default       azure-ml-7d9b465b7f-v6zbh               1/1       Running   0          1h\r\n",
      "default       azure-ml-7d9b465b7f-vcxnp               1/1       Running   0          1h\r\n",
      "default       azure-ml-7d9b465b7f-xjzdl               1/1       Running   0          1h\r\n",
      "default       azure-ml-7d9b465b7f-xmcgc               1/1       Running   0          1h\r\n",
      "default       azure-ml-7d9b465b7f-xn9pt               1/1       Running   0          1h\r\n",
      "default       azure-ml-7d9b465b7f-zvd25               1/1       Running   0          1h\r\n",
      "kube-system   azureproxy-79c5db744-j5hj4              1/1       Running   3          40d\r\n",
      "kube-system   heapster-55f855b47-bs86x                2/2       Running   0          40d\r\n",
      "kube-system   kube-dns-v20-7c556f89c5-96dfd           3/3       Running   0          40d\r\n",
      "kube-system   kube-dns-v20-7c556f89c5-fm7v2           3/3       Running   0          40d\r\n",
      "kube-system   kube-proxy-225hz                        1/1       Running   0          40d\r\n",
      "kube-system   kube-proxy-g5x5p                        1/1       Running   0          40d\r\n",
      "kube-system   kube-proxy-hw7fk                        1/1       Running   0          40d\r\n",
      "kube-system   kube-proxy-ttnsh                        1/1       Running   0          40d\r\n",
      "kube-system   kube-proxy-tvnpv                        1/1       Running   0          40d\r\n",
      "kube-system   kube-svc-redirect-278jk                 1/1       Running   3          40d\r\n",
      "kube-system   kube-svc-redirect-bhvsk                 1/1       Running   2          40d\r\n",
      "kube-system   kube-svc-redirect-chkj2                 1/1       Running   2          40d\r\n",
      "kube-system   kube-svc-redirect-k7fs6                 1/1       Running   2          40d\r\n",
      "kube-system   kube-svc-redirect-mg5cj                 1/1       Running   3          40d\r\n",
      "kube-system   kubernetes-dashboard-546f987686-rznkm   1/1       Running   2          40d\r\n",
      "kube-system   tunnelfront-5fcfb8fb44-ht5r8            1/1       Running   21         40d\r\n"
     ]
    }
   ],
   "source": [
    "!kubectl get pods --all-namespaces"
   ]
  },
  {
   "cell_type": "code",
   "execution_count": 56,
   "metadata": {},
   "outputs": [
    {
     "name": "stdout",
     "output_type": "stream",
     "text": [
      "NAME       DESIRED   CURRENT   UP-TO-DATE   AVAILABLE   AGE\r\n",
      "azure-ml   35        35        35           35          1h\r\n"
     ]
    }
   ],
   "source": [
    "!kubectl get deployment"
   ]
  },
  {
   "cell_type": "markdown",
   "metadata": {},
   "source": [
    "Next, we will [test our web application deployed on AKS](05_TestWebApp.ipynb). Once, we are done with all the notebooks of the tutorial, below instructions can be used to delete the cluster and free resources"
   ]
  },
  {
   "cell_type": "markdown",
   "metadata": {},
   "source": [
    "# Tear it all down"
   ]
  },
  {
   "cell_type": "markdown",
   "metadata": {},
   "source": [
    "Once you are done with your cluster you can use the following two commands to destroy it all."
   ]
  },
  {
   "cell_type": "code",
   "execution_count": 48,
   "metadata": {},
   "outputs": [
    {
     "name": "stdout",
     "output_type": "stream",
     "text": [
      "deployment.apps \"azure-dl\" deleted\n",
      "service \"azure-dl\" deleted\n"
     ]
    }
   ],
   "source": [
    "!kubectl delete -f az-ml.json"
   ]
  },
  {
   "cell_type": "code",
   "execution_count": 3,
   "metadata": {},
   "outputs": [
    {
     "name": "stdout",
     "output_type": "stream",
     "text": [
      "\r",
      "\u001b[K - Starting ..\r",
      "\r",
      "\u001b[K - Finished ..\r",
      "\r",
      "\u001b[K\u001b[0m"
     ]
    }
   ],
   "source": [
    "!az aks delete -n $aks_name -g $resource_group -y"
   ]
  },
  {
   "cell_type": "code",
   "execution_count": 4,
   "metadata": {},
   "outputs": [
    {
     "name": "stdout",
     "output_type": "stream",
     "text": [
      "\u001b[K - Finished ..\u001b[0m"
     ]
    }
   ],
   "source": [
    "!az group delete --name $resource_group -y"
   ]
  }
 ],
 "metadata": {
  "kernelspec": {
   "display_name": "Python [conda env:MLAKSDeployment]",
   "language": "python",
   "name": "conda-env-MLAKSDeployment-py"
  },
  "language_info": {
   "codemirror_mode": {
    "name": "ipython",
    "version": 3
   },
   "file_extension": ".py",
   "mimetype": "text/x-python",
   "name": "python",
   "nbconvert_exporter": "python",
   "pygments_lexer": "ipython3",
   "version": "3.5.5"
  }
 },
 "nbformat": 4,
 "nbformat_minor": 2
}
