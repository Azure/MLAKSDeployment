{
 "cells": [
  {
   "cell_type": "markdown",
   "metadata": {},
   "source": [
    "# Test deployed web application"
   ]
  },
  {
   "cell_type": "markdown",
   "metadata": {},
   "source": [
    "This notebook pulls some images and tests them against the deployed web application on AKS."
   ]
  },
  {
   "cell_type": "code",
   "execution_count": 9,
   "metadata": {},
   "outputs": [],
   "source": [
    "import matplotlib.pyplot as plt\n",
    "import numpy as np\n",
    "import pandas as pd\n",
    "import requests\n",
<<<<<<< HEAD
    "import json\n",
    "\n",
    "from utilities import text_to_json"
=======
    "import json"
>>>>>>> 924156a7880a2f44cbafbb33c357f07217be7c58
   ]
  },
  {
   "cell_type": "markdown",
   "metadata": {},
   "source": [
    "Get the external url for the web application running on AKS cluster."
   ]
  },
  {
   "cell_type": "code",
   "execution_count": 3,
   "metadata": {},
   "outputs": [
    {
     "data": {
      "text/plain": [
       "'137.117.85.251'"
      ]
     },
     "execution_count": 3,
     "metadata": {},
     "output_type": "execute_result"
    }
   ],
   "source": [
    "service_json = !kubectl get service azure-ml -o json\n",
    "service_dict = json.loads(''.join(service_json))\n",
    "app_url = service_dict['status']['loadBalancer']['ingress'][0]['ip']\n",
    "app_url"
   ]
  },
  {
   "cell_type": "markdown",
   "metadata": {},
   "source": [
    "Quickly check if the web application is working."
   ]
  },
  {
   "cell_type": "code",
   "execution_count": 4,
   "metadata": {},
   "outputs": [],
   "source": [
    "scoring_url = 'http://{}/score'.format(app_url)\n",
    "version_url = 'http://{}/version'.format(app_url)\n",
    "health_url = 'http://{}/'.format(app_url)"
   ]
  },
  {
   "cell_type": "code",
   "execution_count": 5,
   "metadata": {},
   "outputs": [
    {
     "data": {
      "text/plain": [
       "'http://137.117.85.251/score'"
      ]
     },
     "execution_count": 5,
     "metadata": {},
     "output_type": "execute_result"
    }
   ],
   "source": [
    "scoring_url"
   ]
  },
  {
   "cell_type": "code",
   "execution_count": 6,
   "metadata": {},
   "outputs": [
    {
     "name": "stdout",
     "output_type": "stream",
     "text": [
      "Healthy"
     ]
    }
   ],
   "source": [
    "!curl $health_url"
   ]
  },
  {
   "cell_type": "code",
   "execution_count": 7,
   "metadata": {},
   "outputs": [
    {
     "name": "stdout",
     "output_type": "stream",
     "text": [
      "2.1.2"
     ]
    }
   ],
   "source": [
    "!curl $version_url # Reports the lightgbm version"
   ]
  },
  {
   "cell_type": "markdown",
   "metadata": {},
   "source": [
    "Let's use one of the duplicate questions to test our driver."
   ]
  },
  {
   "cell_type": "code",
   "execution_count": 10,
   "metadata": {},
   "outputs": [
    {
     "data": {
      "text/plain": [
       "'check length of multidimensional arrays with javascript.  possible duplicate: length of javascript associative array   i want to check the length of a multidimensional array but i get \"undefined\" as the return. i\\'m assuming that i am doing something wrong with my code but i can\\'t see anything odd about it.  thoughts? could this have something to do with scope? the array is declared and set outside of the function. could this have something to do with json? i created the array from an eval() statement. why does the dummy array work just fine?'"
      ]
     },
     "execution_count": 10,
     "metadata": {},
     "output_type": "execute_result"
    }
   ],
   "source": [
    "dupes_test_path = 'dupes_test.tsv'\n",
    "dupes_test = pd.read_csv(dupes_test_path, sep='\\t', encoding='latin1')\n",
    "text_to_score = dupes_test.iloc[0,4]\n",
    "text_to_score"
   ]
  },
  {
   "cell_type": "code",
<<<<<<< HEAD
=======
   "execution_count": 11,
   "metadata": {},
   "outputs": [],
   "source": [
    "def text_to_json(text):\n",
    "    return json.dumps({'input':'{0}'.format(text)})"
   ]
  },
  {
   "cell_type": "code",
>>>>>>> 924156a7880a2f44cbafbb33c357f07217be7c58
   "execution_count": 12,
   "metadata": {},
   "outputs": [
    {
     "data": {
      "text/plain": [
       "'{\"input\": \"check length of multidimensional arrays with javascript.  possible duplicate: length of j'"
      ]
     },
     "execution_count": 12,
     "metadata": {},
     "output_type": "execute_result"
    }
   ],
   "source": [
    "jsontext = text_to_json(text_to_score)\n",
    "jsontext[:100]"
   ]
  },
  {
   "cell_type": "code",
   "execution_count": 13,
   "metadata": {},
   "outputs": [
    {
     "name": "stdout",
     "output_type": "stream",
     "text": [
      "CPU times: user 1.28 ms, sys: 1.02 ms, total: 2.3 ms\n",
      "Wall time: 340 ms\n",
      "<Response [200]>\n"
     ]
    },
    {
     "data": {
      "text/plain": [
       "{'result': \"([[(14220321, 14220323, 0.9606876834677185), (11922383, 11922384, 0.4081062445074803), (23667086, 23667087, 0.31746740503812876), (5223, 6700, 0.05185960075914204), (6847697, 6847754, 0.021318976490582196), (1885557, 1885660, 0.021055101665837), (750486, 750506, 0.0191493082245365), (7837456, 14853974, 0.018846690399866205), (1789945, 1789952, 0.016315270828631684), (1451009, 1451043, 0.011258634514542357), (7486085, 7486130, 0.009691468803469574), (1584370, 1584377, 0.006466570431909596), (19590865, 19590901, 0.006359408978479496), (1068834, 1144249, 0.005596260596406045), (1634268, 1634321, 0.005546208984470831), (5767325, 5767357, 0.005340908050389464), (901115, 901144, 0.004880565449463552), (20279484, 20279485, 0.004815453647972756), (18082, 1830844, 0.004778375349940621), (3434278, 3434388, 0.004729790074929237), (6259982, 6260001, 0.0042945368948937345), (950087, 950146, 0.004175894023129493), (10693845, 10693852, 0.003781132521957991), (122102, 122704, 0.0037437803262712842), (111102, 111111, 0.00367027862410011), (14028959, 8716680, 0.0030338441142954767), (1085801, 1085810, 0.0030182872945998924), (7506844, 7506937, 0.0028368381205353217), (979256, 979289, 0.002831782573380996), (1129216, 1129270, 0.0026041486439855543), (3127429, 3127440, 0.0022574013588648103), (500431, 500459, 0.0020634051970598605), (4616202, 4616273, 0.0020320996570815236), (2631001, 2631198, 0.002023201656386833), (8495687, 8495740, 0.0020040097322592846), (31044, 31047, 0.0018969124315360328), (4057440, 4060176, 0.0018687877931580841), (28250680, 28250697, 0.0017896468791114013), (1063007, 1063027, 0.0016351021634976172), (171251, 171256, 0.0016265898961705196), (24900875, 24900924, 0.0016124200418702029), (6487366, 6487376, 0.0015117191912207939), (840781, 840808, 0.001485677018174444), (784929, 784946, 0.0014057781390593995), (12953704, 12953750, 0.0012939532402907838), (805107, 805113, 0.0012503912676000437), (7364150, 7364307, 0.001185926364909047), (1527803, 1527820, 0.0011819151875007647), (8228281, 8228308, 0.001133544434263719), (13840429, 13840431, 0.0011308911939708964), (3561043, 3561056, 0.0011202142092939088), (2241875, 2241883, 0.0009934498998280014), (4935632, 4935684, 0.0009706208490991915), (203198, 1207393, 0.0009177216851466572), (5316697, 5316755, 0.0008886805299582741), (307179, 307200, 0.0008658927456420871), (359494, 359509, 0.0007823200779654111), (237104, 1473742, 0.000758118832309265), (1225667, 1225683, 0.000731945856944723), (4968406, 4968448, 0.0007275942145906629), (3076414, 3076648, 0.0007081481140639195), (25111831, 25111942, 0.0006473727327524087), (492994, 493018, 0.000632846201832315), (9032856, 9033306, 0.0006115212006840589), (13418669, 13418980, 0.0006012838397022066), (1144783, 17606289, 0.0005964005575509986), (201183, 201471, 0.0005847932311318479), (5891840, 5891929, 0.000584628908710757), (2274242, 2274327, 0.0005761113027250712), (684672, 684692, 0.0005631473524091474), (1379934, 1380058, 0.0005524322634557793), (336859, 336868, 0.000546592045024193), (126100, 4889658, 0.0005432652173184565), (1520800, 1520853, 0.0005349935534983976), (4425318, 4425359, 0.0005143762104116208), (22519784, 22519785, 0.0004884253126131693), (5627284, 5627301, 0.00048137690415079107), (2851404, 2851413, 0.0004746111201541223), (23740548, 23740549, 0.0004694020323490212), (5187530, 5187652, 0.0004628135042836071), (6491463, 6491621, 0.0004566856458602483), (1726630, 1726662, 0.0004362220870551837), (951021, 951057, 0.00042702006740602), (728360, 728694, 0.00042126075841731264), (32584850, 32585470, 0.00037931156851957556), (152975, 153047, 0.0003772052788627626), (1433212, 1433217, 0.0003719958698726944), (15141762, 15171030, 0.00037179767333509194), (3059044, 3059129, 0.0003568568018685111), (194397, 194399, 0.00034032789267722047), (134845, 138233, 0.00032107756663942317), (1917576, 1917626, 0.00031561799335399023), (5117127, 5117172, 0.0003062236398704244), (1646698, 3658673, 0.00030139855275334107), (1359018, 9331127, 0.0002921640357378786), (12475269, 12475285, 0.0002743232594118062), (242813, 242833, 0.00026495355140804613), (23392111, 23392650, 0.00024531988325864767), (1051782, 1051797, 0.00023557295535246478), (1822350, 1822769, 0.00023389120617361766), (5093398, 5100287, 0.00023301886802308883), (403967, 22745553, 0.00022921414144847762), (1771786, 1771824, 0.00022781315024245026), (149055, 149150, 0.00020959333201985098), (518000, 3638034, 0.00020338176049672919), (92720, 92819, 0.00019890252092567333), (205853, 553734, 0.0001872800085889095), (4907843, 4907854, 0.00018462411912030166), (4255472, 4255480, 0.00017960134257960142), (1359469, 1359507, 0.0001794693395573529), (364952, 364997, 0.00017699674631358034), (121203, 121259, 0.0001764657444411028), (5431351, 5431435, 0.00017590713721719761), (440739, 440772, 0.00016048896718656358), (8021436, 8021462, 0.00015117286047931493), (37684, 21925491, 0.00014965430856745583), (2421911, 2421949, 0.000149230152638536), (3384504, 3384534, 0.0001467993667430539), (2075337, 2075349, 0.0001398624435304769), (1873983, 1873999, 0.00012486392752501896), (3034941, 3034952, 0.00011854700888058816), (3888902, 3888938, 0.0001159052253475011), (7165395, 7165616, 0.00011271964154825175), (25881041, 25881231, 0.00010611549434180806), (2100758, 2100767, 0.00010564880398332431), (166221, 8758614, 0.00010469239279130826), (2067472, 2067584, 9.884771836713e-05), (359788, 359910, 9.386731563983969e-05), (824349, 3354511, 9.238560500379358e-05), (4912092, 6678156, 9.136641455231857e-05), (12829963, 12830031, 9.060366217937744e-05), (1026069, 1026087, 9.038249009091966e-05), (572897, 572996, 8.995751862458908e-05), (3561493, 3561711, 8.793565164136919e-05), (5041494, 5734583, 8.264084887481467e-05), (2010892, 2010948, 8.225150728561119e-05), (3224834, 3224854, 7.299695912606762e-05), (2844565, 2844704, 7.015009900316002e-05), (85992, 86014, 6.877984141602941e-05), (45015, 5686237, 6.73439852032044e-05), (69913, 69984, 6.333333821005959e-05), (1267283, 1267338, 6.21763744677202e-05), (391979, 810461, 6.110823676605564e-05), (2716069, 2716188, 6.0401045756733424e-05), (3665115, 3665147, 5.6694173927778677e-05), (695050, 695053, 5.4417197141459926e-05), (4851595, 4851614, 5.057095366876743e-05), (2802055, 2802064, 4.8533743120928275e-05), (610406, 610415, 4.686979699654633e-05), (5874652, 5876747, 4.378942237296775e-05), (2194992, 2195167, 4.282677829092702e-05), (27928, 27943, 4.221836214216533e-05), (1470488, 1470494, 4.11780300836884e-05), (4459379, 4459419, 4.059420744132935e-05), (3163407, 3163422, 3.8745492135785014e-05), (494035, 494046, 3.4260651674957474e-05), (262427, 262511, 3.2271989936660785e-05), (168214, 169035, 3.0748546569653284e-05), (1069666, 1069840, 3.073370059783736e-05), (3514784, 3540295, 2.9227206532840394e-05), (2846283, 2846298, 2.5786968916588804e-05), (20077487, 20077854, 2.290981673583951e-05), (5004233, 5004276, 2.2153940915096538e-05), (29986657, 30070207, 2.1667033230137945e-05), (850341, 850346, 1.969823147517745e-05), (1017224, 1017237, 1.7721472871598268e-05), (236073, 236106, 1.749018375281229e-05), (436411, 24070373, 1.5930192828432206e-05), (3583724, 3583740, 1.4711003541519127e-05), (20035101, 20035319, 1.2493435833046541e-05), (3595515, 3744697, 8.872229881727012e-06), (2320069, 2320097, 6.212297599697089e-06), (2655925, 8894528, 5.579927038575102e-06), (2901102, 2901298, 4.611832312190594e-06), (8110934, 8111171, 4.039612376717212e-06), (1566595, 1566644, 3.935544583351087e-06), (400212, 6055620, 3.918420600663012e-06), (1398582, 1398608, 2.837983519341679e-06), (6677035, 6677069, 2.7461333301683764e-06), (1661197, 9337047, 2.5760432954093473e-06), (1458633, 3439981, 1.608118106224087e-06), (1056728, 1056730, 6.545116098396879e-07)]], 'Computed in 259.78 ms')\"}"
      ]
     },
     "execution_count": 13,
     "metadata": {},
     "output_type": "execute_result"
    }
   ],
   "source": [
    "headers = {'content-type': 'application/json'}\n",
    "r = requests.post(scoring_url, data=jsontext, headers=headers) # Run the request twice since the first time takes a \n",
    "%time r = requests.post(scoring_url, data=jsontext, headers=headers) # little longer due to the loading of the model\n",
    "print(r)\n",
    "r.json()"
   ]
  },
  {
   "cell_type": "markdown",
   "metadata": {},
   "source": [
    "Let's try a few more duplicate questions and display their top 3 original matches."
   ]
  },
  {
   "cell_type": "code",
   "execution_count": 34,
   "metadata": {},
   "outputs": [],
   "source": [
    "dupes_to_score = dupes_test.iloc[:5,4]"
   ]
  },
  {
   "cell_type": "code",
   "execution_count": 46,
   "metadata": {},
   "outputs": [],
   "source": [
    "results = [requests.post(scoring_url, data=text_to_json(text), headers=headers) for text in dupes_to_score]"
   ]
  },
  {
   "cell_type": "markdown",
   "metadata": {},
   "source": [
    "Let's print top 3 matches for each duplicate question."
   ]
  },
  {
   "cell_type": "code",
   "execution_count": 47,
   "metadata": {},
   "outputs": [
    {
     "data": {
      "text/plain": [
       "[[(14220321, 14220323, 0.9606876834677185),\n",
       "  (11922383, 11922384, 0.4081062445074803),\n",
       "  (23667086, 23667087, 0.31746740503812876)],\n",
       " [(4616202, 4616273, 0.8144329027941468),\n",
       "  (5223, 6700, 0.8042583875605862),\n",
       "  (11922383, 11922384, 0.38414751942197817)],\n",
       " [(27928, 27943, 0.7057356859336755),\n",
       "  (14220321, 14220323, 0.6084284501991468),\n",
       "  (23667086, 23667087, 0.14735442723515282)],\n",
       " [(27928, 27943, 0.9806319857860937),\n",
       "  (1726630, 1726662, 0.039778853781766224),\n",
       "  (23667086, 23667087, 0.03596640261893073)],\n",
       " [(14028959, 8716680, 0.5493617298441891),\n",
       "  (2631001, 2631198, 0.4906791977898168),\n",
       "  (14220321, 14220323, 0.21196513945296278)]]"
      ]
     },
     "execution_count": 47,
     "metadata": {},
     "output_type": "execute_result"
    }
   ],
   "source": [
<<<<<<< HEAD
    "[results[i].json()['result'][0][0:3] for i in range(0, len(results))]"
=======
    "[eval(results[i].json()['result'])[0][0][0:3] for i in range(0,len(results))]"
>>>>>>> 924156a7880a2f44cbafbb33c357f07217be7c58
   ]
  },
  {
   "cell_type": "markdown",
   "metadata": {},
   "source": [
    "Next let's quickly check what the request response performance is for the deployed model on AKS cluster."
   ]
  },
  {
   "cell_type": "code",
   "execution_count": 48,
   "metadata": {},
   "outputs": [],
   "source": [
<<<<<<< HEAD
    "text_data = list(map(text_to_json, dupes_to_score)) # Retrieve the text data"
=======
    "text_data = list(map(text_to_json, dupes_to_score)) # Retrieve the images and data"
>>>>>>> 924156a7880a2f44cbafbb33c357f07217be7c58
   ]
  },
  {
   "cell_type": "code",
   "execution_count": 50,
   "metadata": {},
   "outputs": [],
   "source": [
    "timer_results = list()\n",
    "for text in text_data:\n",
    "    res=%timeit -r 1 -o -q requests.post(scoring_url, data=text, headers=headers)\n",
    "    timer_results.append(res.best)"
   ]
  },
  {
   "cell_type": "code",
   "execution_count": 51,
   "metadata": {},
   "outputs": [
    {
     "data": {
      "text/plain": [
       "[0.27395853167399764,\n",
       " 0.20037251338362694,\n",
       " 0.1541051408275962,\n",
       " 0.22599063757807017,\n",
       " 0.21048126369714737]"
      ]
     },
     "execution_count": 51,
     "metadata": {},
     "output_type": "execute_result"
    }
   ],
   "source": [
    "timer_results"
   ]
  },
  {
   "cell_type": "code",
   "execution_count": 52,
   "metadata": {},
   "outputs": [
    {
     "name": "stdout",
     "output_type": "stream",
     "text": [
      "Average time taken: 212.98 ms\n"
     ]
    }
   ],
   "source": [
    "print('Average time taken: {0:4.2f} ms'.format(10**3 * np.mean(timer_results)))"
   ]
  },
  {
   "cell_type": "markdown",
   "metadata": {},
   "source": [
    "We have tested that the model works and we can now move on to the [next notebook to get a sense of its throughput](06_SpeedTestWebApp.ipynb)."
   ]
  }
 ],
 "metadata": {
  "kernelspec": {
   "display_name": "Python [conda env:MLAKSDeployment]",
   "language": "python",
   "name": "conda-env-MLAKSDeployment-py"
  },
  "language_info": {
   "codemirror_mode": {
    "name": "ipython",
    "version": 3
   },
   "file_extension": ".py",
   "mimetype": "text/x-python",
   "name": "python",
   "nbconvert_exporter": "python",
   "pygments_lexer": "ipython3",
   "version": "3.5.5"
  }
 },
 "nbformat": 4,
 "nbformat_minor": 2
}
