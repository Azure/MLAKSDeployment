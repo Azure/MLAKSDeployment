{
 "cells": [
  {
   "cell_type": "markdown",
   "metadata": {},
   "source": [
    "# Develop Model Driver"
   ]
  },
  {
   "cell_type": "markdown",
   "metadata": {},
   "source": [
    "In this notebook, we will develop the API that will call our model. This module initializes the model, transforms the input so that it is in the appropriate format and defines the scoring method that will produce the predictions. The API will expect the input to be in JSON format. Once a request is received, the API will use the request body to score the question text. There are two main functions in the API. The first function loads the model and returns a scoring function. The second function process the question text and uses the first function to score it."
   ]
  },
  {
   "cell_type": "code",
   "execution_count": 1,
   "metadata": {},
   "outputs": [],
   "source": [
    "import warnings\n",
    "warnings.filterwarnings(action=\"ignore\", message=\"numpy.dtype size changed\")\n",
    "\n",
    "import pandas as pd\n",
    "import logging\n",
    "import json\n",
    "from utilities import text_to_json"
   ]
  },
  {
   "cell_type": "markdown",
   "metadata": {},
   "source": [
    "We use the writefile magic to write the contents of the below cell to driver.py which includes the driver methods."
   ]
  },
  {
   "cell_type": "code",
   "execution_count": 2,
   "metadata": {},
   "outputs": [
    {
     "name": "stdout",
     "output_type": "stream",
     "text": [
      "Writing driver.py\n"
     ]
    }
   ],
   "source": [
    "%%writefile driver.py\n",
    "\n",
    "import lightgbm as lgb\n",
    "import timeit as t\n",
    "import logging\n",
    "from duplicate_model import DuplicateModel\n",
    "\n",
    "model_path = 'model.pkl'\n",
    "questions_path = 'questions.tsv'\n",
    "logger = logging.getLogger(\"model_driver\")\n",
    "\n",
    "def create_scoring_func():\n",
    "    \"\"\" Initialize Model Object \n",
    "    \"\"\"   \n",
    "    start = t.default_timer()\n",
    "    DM = DuplicateModel(model_path, questions_path)\n",
    "    end = t.default_timer()\n",
    "    \n",
    "    loadTimeMsg = \"Model object loading time: {0} ms\".format(round((end-start)*1000, 2))\n",
    "    logger.info(loadTimeMsg)\n",
    "    \n",
    "    def call_model(text):\n",
    "        preds = DM.score(text)  \n",
    "        return preds\n",
    "    \n",
    "    return call_model\n",
    "\n",
    "def get_model_api():\n",
    "    logger = logging.getLogger(\"model_driver\")\n",
    "    scoring_func = create_scoring_func()\n",
    "    \n",
    "    def process_and_score(inputString):\n",
    "        \"\"\" Classify the input using the loaded model\n",
    "        \"\"\"\n",
    "        start = t.default_timer()\n",
    "        responses = scoring_func(inputString)\n",
    "        end = t.default_timer()\n",
    "        \n",
    "        logger.info(\"Predictions: {0}\".format(responses))\n",
    "        logger.info(\"Predictions took {0} ms\".format(round((end-start)*1000, 2)))\n",
    "        return (responses, \"Computed in {0} ms\".format(round((end-start)*1000, 2)))\n",
    "    return process_and_score\n",
    "\n",
    "def version():\n",
    "    return lgb.__version__"
   ]
  },
  {
   "cell_type": "markdown",
   "metadata": {},
   "source": [
    "Let's test the module."
   ]
  },
  {
   "cell_type": "code",
   "execution_count": 3,
   "metadata": {},
   "outputs": [],
   "source": [
    "logging.basicConfig(level=logging.DEBUG)"
   ]
  },
  {
   "cell_type": "markdown",
   "metadata": {},
   "source": [
    "We run the driver.py which will bring the imports and functions into the context of the notebook."
   ]
  },
  {
   "cell_type": "code",
   "execution_count": 4,
   "metadata": {},
   "outputs": [],
   "source": [
    "%run driver.py"
   ]
  },
  {
   "cell_type": "markdown",
   "metadata": {},
   "source": [
    "Now, let's use one of the duplicate questions to test our driver."
   ]
  },
  {
   "cell_type": "code",
   "execution_count": 5,
   "metadata": {},
   "outputs": [
    {
     "data": {
      "text/plain": [
       "\"get total number of items on json object?.  possible duplicate: length of javascript object (ie. associative array)   i have an object similar to this one:  i'm trying to get it's length, the problem is that jsonarray.length returns 5 instead of 3 (which is the total items it has). the array is relatively long (has 1000x2000 items) and this must be done a lot of times every second. how can i get the number of items more efficiently?\""
      ]
     },
     "execution_count": 5,
     "metadata": {},
     "output_type": "execute_result"
    }
   ],
   "source": [
    "dupes_test_path = 'dupes_test.tsv'\n",
    "dupes_test = pd.read_csv(dupes_test_path, sep='\\t', encoding='latin1')\n",
    "text_to_score = dupes_test.iloc[0,4]\n",
    "text_to_score"
   ]
  },
  {
   "cell_type": "markdown",
   "metadata": {},
   "source": [
    "Here, we convert our text for the format that will be required by the Flask application that will use the functions in the driver."
   ]
  },
  {
   "cell_type": "code",
   "execution_count": 6,
   "metadata": {},
   "outputs": [],
   "source": [
    "jsontext = text_to_json(text_to_score)\n",
    "json_load_text = json.loads(jsontext)\n",
    "body = json_load_text['input']"
   ]
  },
  {
   "cell_type": "code",
   "execution_count": 7,
   "metadata": {},
   "outputs": [
    {
     "name": "stderr",
     "output_type": "stream",
     "text": [
      "INFO:model_driver:Model object loading time: 378.67 ms\n"
     ]
    }
   ],
   "source": [
    "predict_for = get_model_api()"
   ]
  },
  {
   "cell_type": "code",
   "execution_count": 8,
   "metadata": {
    "scrolled": true
   },
   "outputs": [
    {
     "name": "stderr",
     "output_type": "stream",
     "text": [
      "INFO:model_driver:Predictions: [(11922383, 11922384, 0.5303780927518741), (5223, 6700, 0.3147833277520598), (126100, 4889658, 0.17501291628511934), (1069666, 1069840, 0.09867350149915492), (4935632, 4935684, 0.03558077142398663), (12953704, 12953750, 0.008518479006562647), (19590865, 19590901, 0.002929205659738695), (6491463, 6491621, 0.0027232369677284976), (14220321, 14220323, 0.0019885224026778992), (122102, 122704, 0.001893584053682761), (85992, 86014, 0.0015529544139815355), (23667086, 23667087, 0.0012226445727317346), (1885557, 1885660, 0.0010271727668257863), (171251, 171256, 0.0009754234115706664), (901115, 901144, 0.0009454486631845099), (684672, 684692, 0.0008335616599598791), (4057440, 4060176, 0.0007165840563749822), (1068834, 1144249, 0.0006732119754763038), (728360, 728694, 0.000597171407530765), (5627284, 5627301, 0.0005865098737299449), (111102, 111111, 0.0005369210664999444), (4255472, 4255480, 0.0005261610115592135), (4616202, 4616273, 0.0004944634404607464), (1129216, 1129270, 0.00041533637026515906), (5767325, 5767357, 0.00036416405691518973), (4968406, 4968448, 0.0002969762754955131), (7364150, 7364307, 0.00023514063202009598), (695050, 695053, 0.0002177233479942859), (20279484, 20279485, 0.00016331236603608906), (1379934, 1380058, 0.00014677946969239298), (237104, 1473742, 0.00012975465616714305), (979256, 979289, 0.00012765513792114638), (2631001, 2631198, 0.00011733559406489859), (359494, 359509, 0.00011321942757158747), (750486, 750506, 8.539102769252554e-05), (518000, 3638034, 8.323521774191677e-05), (3127429, 3127440, 5.8695431797806007e-05), (5187530, 5187652, 5.496887726356156e-05), (1584370, 1584377, 5.235772220466481e-05), (152975, 153047, 4.4179469413154016e-05), (2274242, 2274327, 3.4400362118712636e-05), (1527803, 1527820, 3.292886428442743e-05), (1451009, 1451043, 3.102644409535894e-05), (7837456, 14853974, 2.8789596067936805e-05), (403967, 22745553, 2.5948467094955067e-05), (307179, 307200, 2.4480083719289472e-05), (149055, 149150, 2.3300274617223452e-05), (2901102, 2901298, 1.95659000944293e-05), (951021, 951057, 1.8612050968691104e-05), (1726630, 1726662, 1.831752273558519e-05), (203198, 1207393, 1.5579045225119942e-05), (1822350, 1822769, 1.4690682502583657e-05), (9032856, 9033306, 1.4440409381086387e-05), (1789945, 1789952, 1.4027275849038091e-05), (1267283, 1267338, 1.3414593931678342e-05), (45015, 5686237, 1.2403059313855258e-05), (8495687, 8495740, 1.1926570841074985e-05), (28250680, 28250697, 9.560964782109256e-06), (201183, 201471, 6.831358537265785e-06), (6259982, 6260001, 5.688863931434444e-06), (3561043, 3561056, 5.212017431816234e-06), (6487366, 6487376, 5.017594660640913e-06), (1085801, 1085810, 4.88114373823812e-06), (7486085, 7486130, 4.788328479732673e-06), (18082, 1830844, 4.274143146472624e-06), (5117127, 5117172, 3.8623440074373734e-06), (3076414, 3076648, 3.303557336595508e-06), (500431, 500459, 3.093643493300078e-06), (134845, 138233, 2.8851968934414714e-06), (2241875, 2241883, 2.7703970565808716e-06), (4425318, 4425359, 2.7574276564429762e-06), (23392111, 23392650, 2.345986262149439e-06), (610406, 610415, 2.239291139610472e-06), (194397, 194399, 2.0093165194535093e-06), (1225667, 1225683, 1.9152436837001173e-06), (22519784, 22519785, 1.8795670815538303e-06), (1458633, 3439981, 1.8337255472718914e-06), (1520800, 1520853, 1.579858947708825e-06), (1917576, 1917626, 1.4672134104776752e-06), (805107, 805113, 1.3415813655356503e-06), (494035, 494046, 1.3347062438259895e-06), (840781, 840808, 1.2936808280886754e-06), (4912092, 6678156, 1.221369572097973e-06), (572897, 572996, 1.1589889415324473e-06), (3224834, 3224854, 1.002999043752179e-06), (168214, 169035, 9.047141382652744e-07), (3434278, 3434388, 8.594780250428723e-07), (1646698, 3658673, 8.512919329218403e-07), (4851595, 4851614, 7.376766341026584e-07), (5093398, 5100287, 7.192611579059544e-07), (27928, 27943, 6.475470897472347e-07), (1063007, 1063027, 6.035012264265912e-07), (242813, 242833, 5.884644485589037e-07), (166221, 8758614, 5.811792748805826e-07), (3034941, 3034952, 5.791673762267061e-07), (4459379, 4459419, 5.761515796691959e-07), (31044, 31047, 5.72381506019745e-07), (3059044, 3059129, 5.700516860763188e-07), (950087, 950146, 5.692262098663785e-07), (440739, 440772, 5.635780869366267e-07), (2194992, 2195167, 5.082815892137407e-07), (15141762, 15171030, 4.2014252079997506e-07), (6847697, 6847754, 4.112429841250481e-07), (1051782, 1051797, 4.01664932602401e-07), (1026069, 1026087, 3.495608235531015e-07), (5891840, 5891929, 3.026919736136695e-07), (13418669, 13418980, 3.0070116105987736e-07), (2421911, 2421949, 2.321095209310744e-07), (2075337, 2075349, 1.9310879599407563e-07), (359788, 359910, 1.8724680905108054e-07), (850341, 850346, 1.7891763997846385e-07), (205853, 553734, 1.543014488736658e-07), (14028959, 8716680, 1.505873934569616e-07), (824349, 3354511, 1.475479472430599e-07), (784929, 784946, 1.319792442695195e-07), (8228281, 8228308, 1.2968836481449525e-07), (400212, 6055620, 1.2383814849758139e-07), (1398582, 1398608, 1.227124364771894e-07), (492994, 493018, 1.1771687295107549e-07), (23740548, 23740549, 1.1595492317066784e-07), (1144783, 17606289, 1.1594953539278007e-07), (92720, 92819, 1.1592698351793651e-07), (3583724, 3583740, 1.1558968076588245e-07), (121203, 121259, 1.0138786385440164e-07), (13840429, 13840431, 1.0064645558377632e-07), (3384504, 3384534, 8.6141190564677e-08), (2010892, 2010948, 8.522495228653265e-08), (2844565, 2844704, 8.345434970678456e-08), (5041494, 5734583, 8.306290418131205e-08), (2846283, 2846298, 7.957618036836189e-08), (364952, 364997, 7.862979369400121e-08), (2851404, 2851413, 7.685992901860862e-08), (1873983, 1873999, 7.33106027351937e-08), (1359469, 1359507, 7.108129923124354e-08), (3888902, 3888938, 6.813856482114129e-08), (37684, 21925491, 6.789581501826581e-08), (2716069, 2716188, 6.203394735549174e-08), (24900875, 24900924, 5.703523018555239e-08), (262427, 262511, 5.369823757092796e-08), (25111831, 25111942, 5.004722754862263e-08), (2067472, 2067584, 4.9265150753169864e-08), (3561493, 3561711, 4.80346143059069e-08), (5316697, 5316755, 4.437874347580271e-08), (1433212, 1433217, 4.3594546092624186e-08), (3665115, 3665147, 3.7988748695078826e-08), (336859, 336868, 3.759560107062697e-08), (1771786, 1771824, 3.546457920698734e-08), (69913, 69984, 3.350199024882487e-08), (20077487, 20077854, 2.982044159357554e-08), (1359018, 9331127, 2.71831089242076e-08), (7506844, 7506937, 2.6270535666256434e-08), (1566595, 1566644, 2.5555686662967695e-08), (12829963, 12830031, 2.5511209130291643e-08), (6677035, 6677069, 2.4949774493549782e-08), (25881041, 25881231, 2.3976753930555674e-08), (3595515, 3744697, 2.0842239693547228e-08), (8021436, 8021462, 1.7003944691957702e-08), (10693845, 10693852, 1.6251687154668952e-08), (5431351, 5431435, 1.5846839781028786e-08), (2100758, 2100767, 1.43146566101677e-08), (1017224, 1017237, 1.428562130068036e-08), (391979, 810461, 1.314618193185992e-08), (2655925, 8894528, 1.2217372078120847e-08), (5874652, 5876747, 1.1921398641724209e-08), (436411, 24070373, 1.1313579492034267e-08), (3163407, 3163422, 1.111178618638516e-08), (2802055, 2802064, 1.0872893474512158e-08), (236073, 236106, 9.499995897507517e-09), (2320069, 2320097, 9.319849740179838e-09), (7165395, 7165616, 8.183759948615503e-09), (32584850, 32585470, 8.139684412777301e-09), (5004233, 5004276, 4.80915468951654e-09), (1470488, 1470494, 4.238796779665086e-09), (20035101, 20035319, 3.218071605317015e-09), (3514784, 3540295, 2.485039412699111e-09), (1634268, 1634321, 2.1260084271542497e-09), (29986657, 30070207, 1.43207514912222e-09), (1056728, 1056730, 1.3624996468530144e-09), (12475269, 12475285, 1.3599831757357462e-09), (4907843, 4907854, 8.743595584731118e-10), (8110934, 8111171, 1.4526810506436452e-10), (1661197, 9337047, 7.152095803238676e-11)]\n",
      "INFO:model_driver:Predictions took 58.96 ms\n"
     ]
    }
   ],
   "source": [
    "resp = predict_for(body)"
   ]
  },
  {
   "cell_type": "markdown",
   "metadata": {},
   "source": [
    "Next, we move on to [building our docker image](03_Build_Image.ipynb)."
   ]
  }
 ],
 "metadata": {
  "kernelspec": {
   "display_name": "Python [conda env:MLAKSDeployment]",
   "language": "python",
   "name": "conda-env-MLAKSDeployment-py"
  },
  "language_info": {
   "codemirror_mode": {
    "name": "ipython",
    "version": 3
   },
   "file_extension": ".py",
   "mimetype": "text/x-python",
   "name": "python",
   "nbconvert_exporter": "python",
   "pygments_lexer": "ipython3",
   "version": "3.5.5"
  }
 },
 "nbformat": 4,
 "nbformat_minor": 2
}
