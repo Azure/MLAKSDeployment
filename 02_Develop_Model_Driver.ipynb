{
 "cells": [
  {
   "cell_type": "markdown",
   "metadata": {},
   "source": [
    "# Develop Model Driver"
   ]
  },
  {
   "cell_type": "markdown",
   "metadata": {},
   "source": [
    "In this notebook, we will develop the API that will call our model. This module initializes the model, transforms the input so that it is in the appropriate format and defines the scoring method that will produce the predictions. The API will expect the input to be in JSON format. Once a request is received, the API will use the request body to score the question text. There are two main functions in the API. The first function loads the model and returns a scoring function. The second function process the question text and uses the first function to score it."
   ]
  },
  {
   "cell_type": "code",
   "execution_count": 1,
   "metadata": {},
   "outputs": [],
   "source": [
    "import pandas as pd\n",
    "import logging\n",
    "import json"
   ]
  },
  {
   "cell_type": "markdown",
   "metadata": {},
   "source": [
    "We use the writefile magic to write the contents of the below cell to driver.py which includes the driver methods."
   ]
  },
  {
   "cell_type": "code",
   "execution_count": 2,
   "metadata": {},
   "outputs": [
    {
     "name": "stdout",
     "output_type": "stream",
     "text": [
      "Writing driver.py\n"
     ]
    }
   ],
   "source": [
    "%%writefile driver.py\n",
    "\n",
    "import lightgbm as lgb\n",
    "import timeit as t\n",
    "import logging\n",
    "from duplicate_model import DuplicateModel\n",
    "\n",
    "model_path = 'model.pkl'\n",
    "questions_path = 'questions.tsv'\n",
    "logger = logging.getLogger(\"model_driver\")\n",
    "\n",
    "def create_scoring_func():\n",
    "    \"\"\" Initialize Model Object \n",
    "    \"\"\"   \n",
    "    start = t.default_timer()\n",
    "    DM = DuplicateModel(model_path, questions_path)\n",
    "    end = t.default_timer()\n",
    "    \n",
    "    loadTimeMsg = \"Model object loading time: {0} ms\".format(round((end-start)*1000, 2))\n",
    "    logger.info(loadTimeMsg)\n",
    "    \n",
    "    def call_model(text):\n",
    "        preds = DM.score(text)  \n",
    "        return preds\n",
    "    \n",
    "    return call_model\n",
    "\n",
    "def get_model_api():\n",
    "    logger = logging.getLogger(\"model_driver\")\n",
    "    scoring_func = create_scoring_func()\n",
    "    \n",
    "    def process_and_score(inputString):\n",
    "        \"\"\" Classify the input using the loaded model\n",
    "        \"\"\"\n",
    "        start = t.default_timer()\n",
    "\n",
    "        responses = []\n",
    "        preds = scoring_func(inputString)\n",
    "        responses.append(preds)\n",
    "\n",
    "        end = t.default_timer()\n",
    "        \n",
    "        logger.info(\"Predictions: {0}\".format(responses))\n",
    "        logger.info(\"Predictions took {0} ms\".format(round((end-start)*1000, 2)))\n",
    "        return (responses, \"Computed in {0} ms\".format(round((end-start)*1000, 2)))\n",
    "    return process_and_score\n",
    "\n",
    "def version():\n",
    "    return lgb.__version__"
   ]
  },
  {
   "cell_type": "markdown",
   "metadata": {},
   "source": [
    "Let's test the module."
   ]
  },
  {
   "cell_type": "code",
   "execution_count": 3,
   "metadata": {},
   "outputs": [],
   "source": [
    "logging.basicConfig(level=logging.DEBUG)"
   ]
  },
  {
   "cell_type": "markdown",
   "metadata": {},
   "source": [
    "We run the driver.py which will bring the imports and functions into the context of the notebook."
   ]
  },
  {
   "cell_type": "code",
   "execution_count": 4,
   "metadata": {},
   "outputs": [],
   "source": [
    "%run driver.py"
   ]
  },
  {
   "cell_type": "markdown",
   "metadata": {},
   "source": [
    "Now, let's use one of the duplicate questions to test our driver."
   ]
  },
  {
   "cell_type": "code",
   "execution_count": 5,
   "metadata": {},
   "outputs": [
    {
     "data": {
      "text/plain": [
       "\"get total number of items on json object?.  possible duplicate: length of javascript object (ie. associative array)   i have an object similar to this one:  i'm trying to get it's length, the problem is that jsonarray.length returns 5 instead of 3 (which is the total items it has). the array is relatively long (has 1000x2000 items) and this must be done a lot of times every second. how can i get the number of items more efficiently?\""
      ]
     },
     "execution_count": 5,
     "metadata": {},
     "output_type": "execute_result"
    }
   ],
   "source": [
    "dupes_test_path = 'dupes_test.tsv'\n",
    "dupes_test = pd.read_csv(dupes_test_path, sep='\\t', encoding='latin1')\n",
    "text_to_score = dupes_test.iloc[0,4]\n",
    "text_to_score"
   ]
  },
  {
   "cell_type": "markdown",
   "metadata": {},
   "source": [
    "Here, we define a helper function to convert our text for the format that will be required by the Flask application that will use the functions in the driver."
   ]
  },
  {
   "cell_type": "code",
   "execution_count": 6,
   "metadata": {},
   "outputs": [],
   "source": [
    "def text_to_json(text):\n",
    "    return json.dumps({'input':'{0}'.format(text)})"
   ]
  },
  {
   "cell_type": "code",
   "execution_count": 7,
   "metadata": {},
   "outputs": [],
   "source": [
    "jsontext = text_to_json(text_to_score)\n",
    "json_load_text = json.loads(jsontext)\n",
    "body = json_load_text['input']"
   ]
  },
  {
   "cell_type": "code",
   "execution_count": 8,
   "metadata": {},
   "outputs": [
    {
     "name": "stderr",
     "output_type": "stream",
     "text": [
      "INFO:model_driver:Model object loading time: 276.32 ms\n"
     ]
    }
   ],
   "source": [
    "predict_for = get_model_api()"
   ]
  },
  {
   "cell_type": "code",
   "execution_count": 9,
   "metadata": {
    "scrolled": true
   },
   "outputs": [
    {
     "name": "stderr",
     "output_type": "stream",
     "text": [
      "INFO:model_driver:Predictions: [[(126100, 4889658, 0.9296362731106259), (11922383, 11922384, 0.8044288817585545), (5223, 6700, 0.7198366172405716), (122102, 122704, 0.2890961841298208), (8495687, 8495740, 0.11294396697164998), (14220321, 14220323, 0.09135746055182127), (750486, 750506, 0.06237155946634724), (12953704, 12953750, 0.05119111679990697), (19590865, 19590901, 0.05030352671033994), (2274242, 2274327, 0.03262457462662157), (4255472, 4255480, 0.03261161556294271), (237104, 1473742, 0.02543085185321038), (149055, 149150, 0.023086864548377065), (7486085, 7486130, 0.022343142672530538), (20279484, 20279485, 0.021296540519782723), (4616202, 4616273, 0.02056208401842061), (1069666, 1069840, 0.017562602019344658), (23667086, 23667087, 0.015999224180601113), (171251, 171256, 0.01440360115394622), (4935632, 4935684, 0.014354337793775984), (1129216, 1129270, 0.01406801949758789), (5767325, 5767357, 0.013094310211096949), (307179, 307200, 0.01254909445661112), (684672, 684692, 0.010636245835469996), (1885557, 1885660, 0.009445842823246413), (4968406, 4968448, 0.008351410271637612), (6491463, 6491621, 0.008325439469802604), (979256, 979289, 0.008020854692225817), (2901102, 2901298, 0.007256389006877738), (1267283, 1267338, 0.0064365278381319), (1527803, 1527820, 0.00624542936492948), (7364150, 7364307, 0.005999431843171387), (7837456, 14853974, 0.005945317922964007), (85992, 86014, 0.005711817246413184), (1379934, 1380058, 0.005490336295925609), (2241875, 2241883, 0.0053483456630966835), (2010892, 2010948, 0.0049853277287382), (4425318, 4425359, 0.004901737838072995), (5627284, 5627301, 0.004687229492916463), (4057440, 4060176, 0.004582356438851062), (518000, 3638034, 0.004468742219809347), (1520800, 1520853, 0.0042879514456826105), (1584370, 1584377, 0.004263118437827621), (2631001, 2631198, 0.0039030501510475962), (3561043, 3561056, 0.003279006265273089), (45015, 5686237, 0.0031277324358354405), (18082, 1830844, 0.0027319559923497114), (203198, 1207393, 0.002581794995027981), (695050, 695053, 0.0021695858428093053), (1068834, 1144249, 0.0019349248584082921), (840781, 840808, 0.0018544319501668956), (950087, 950146, 0.0018277546176839936), (1789945, 1789952, 0.0017755587052265178), (5117127, 5117172, 0.0016107691978469879), (1726630, 1726662, 0.0015378548613650222), (1085801, 1085810, 0.00148224095053977), (1451009, 1451043, 0.0013670162282917256), (28250680, 28250697, 0.0011362848406242776), (1458633, 3439981, 0.0011026920304274595), (359494, 359509, 0.0009688269113702518), (728360, 728694, 0.0009405677766922166), (951021, 951057, 0.0009048459431424417), (23392111, 23392650, 0.0008904461572278961), (3059044, 3059129, 0.0008708916967707977), (3127429, 3127440, 0.0008627062459830385), (1144783, 17606289, 0.0008514051955421204), (2075337, 2075349, 0.0008348999255294166), (111102, 111111, 0.0008146006562037394), (359788, 359910, 0.000796806204324266), (1771786, 1771824, 0.0007447075851492477), (3224834, 3224854, 0.0007031670108401053), (2844565, 2844704, 0.0006943821527693599), (1873983, 1873999, 0.0006825273855514467), (901115, 901144, 0.0006745559862831106), (3076414, 3076648, 0.0006646903110009325), (194397, 194399, 0.0006304008211221482), (500431, 500459, 0.0006278964548904918), (3583724, 3583740, 0.0006265275266057808), (4459379, 4459419, 0.0006159892858321313), (1225667, 1225683, 0.000588370181389185), (25111831, 25111942, 0.0005471622192925464), (9032856, 9033306, 0.0005176806185261684), (14028959, 8716680, 0.0005033320101700575), (494035, 494046, 0.0004561293661684124), (5187530, 5187652, 0.0004177918025376242), (13840429, 13840431, 0.00039486583877839125), (242813, 242833, 0.00038913855339619424), (22519784, 22519785, 0.00037970806400789434), (3561493, 3561711, 0.0003727464919949098), (403967, 22745553, 0.00034303483008779276), (12475269, 12475285, 0.00033751195420324477), (1433212, 1433217, 0.000336656440483567), (20035101, 20035319, 0.00033289386457298884), (8228281, 8228308, 0.00031556464784986984), (4912092, 6678156, 0.0003097991902040139), (1359469, 1359507, 0.00029860774182841754), (5874652, 5876747, 0.00029136430934389524), (2067472, 2067584, 0.0002838061525978107), (572897, 572996, 0.0002737556332356791), (262427, 262511, 0.00026172042808230995), (23740548, 23740549, 0.00025222425884216667), (4851595, 4851614, 0.0002485875704260761), (1063007, 1063027, 0.00024166215143505993), (805107, 805113, 0.00024068720944315448), (1026069, 1026087, 0.0002347548194669517), (364952, 364997, 0.0002329519606333103), (6259982, 6260001, 0.00022569478425486477), (69913, 69984, 0.00021653124420081417), (152975, 153047, 0.00021062455737154878), (1646698, 3658673, 0.00020682788472634262), (5891840, 5891929, 0.00019965404541123555), (15141762, 15171030, 0.00019888465010091305), (2421911, 2421949, 0.00018709709029684682), (784929, 784946, 0.0001812628283372953), (24900875, 24900924, 0.00017884003340604032), (92720, 92819, 0.00017644484135009806), (2100758, 2100767, 0.00017571963667354582), (134845, 138233, 0.00017456003646832967), (824349, 3354511, 0.00016981053787317463), (12829963, 12830031, 0.00016414182803179515), (166221, 8758614, 0.00016193768014220538), (3163407, 3163422, 0.00015880750365279936), (1470488, 1470494, 0.00015657966277495472), (1917576, 1917626, 0.00015654583534089003), (3384504, 3384534, 0.0001551177924192296), (2194992, 2195167, 0.0001489575947787736), (201183, 201471, 0.00014835131661888716), (850341, 850346, 0.00014438746119582982), (3034941, 3034952, 0.00014086615461557695), (205853, 553734, 0.00013787806644852685), (3434278, 3434388, 0.00013036226432948402), (27928, 27943, 0.0001280851074724102), (3888902, 3888938, 0.00012726927326917953), (6847697, 6847754, 0.0001262759605358658), (2846283, 2846298, 0.00012196758554779461), (168214, 169035, 0.00012167397931741174), (5093398, 5100287, 0.00012114622436762978), (2851404, 2851413, 0.00011958501530059326), (236073, 236106, 0.00011389240682679991), (3665115, 3665147, 0.0001066328435080141), (32584850, 32585470, 0.00010505207398782313), (440739, 440772, 0.00010132923686732104), (20077487, 20077854, 0.00010077293873582206), (610406, 610415, 9.225702409961486e-05), (6677035, 6677069, 8.608978138845503e-05), (13418669, 13418980, 8.45277522365981e-05), (1822350, 1822769, 8.180092604289072e-05), (6487366, 6487376, 6.76502275308233e-05), (5431351, 5431435, 6.106965603913755e-05), (391979, 810461, 5.9096690183970344e-05), (400212, 6055620, 5.671247239112321e-05), (336859, 336868, 5.4547660098602506e-05), (121203, 121259, 5.250237866548172e-05), (3595515, 3744697, 4.810519415205389e-05), (29986657, 30070207, 4.717458083962e-05), (1634268, 1634321, 4.255345666552998e-05), (1398582, 1398608, 4.139923757140541e-05), (5041494, 5734583, 4.125785272343597e-05), (2320069, 2320097, 4.012147553109832e-05), (1017224, 1017237, 3.620929883649424e-05), (37684, 21925491, 3.20937561195375e-05), (2716069, 2716188, 3.153784750727764e-05), (1566595, 1566644, 2.8537727773128174e-05), (25881041, 25881231, 2.5109379406492317e-05), (1359018, 9331127, 2.3441131909416676e-05), (436411, 24070373, 2.2791342990439408e-05), (8110934, 8111171, 2.2628578786573828e-05), (2802055, 2802064, 2.2441188010863626e-05), (2655925, 8894528, 2.12534439340756e-05), (4907843, 4907854, 1.6534076928094555e-05), (1051782, 1051797, 1.3754321384656156e-05), (1056728, 1056730, 1.324045746799936e-05), (5004233, 5004276, 1.2122473487576773e-05), (3514784, 3540295, 1.1613846001268001e-05), (10693845, 10693852, 1.1374852913340162e-05), (492994, 493018, 1.1187362717619854e-05), (7165395, 7165616, 1.0578658127437351e-05), (31044, 31047, 9.244427032063044e-06), (7506844, 7506937, 9.160496617618636e-06), (1661197, 9337047, 6.688278756474996e-06), (8021436, 8021462, 2.7591750670389657e-06), (5316697, 5316755, 2.378587552753433e-06)]]\n",
      "INFO:model_driver:Predictions took 40.02 ms\n"
     ]
    }
   ],
   "source": [
    "resp = predict_for(body)"
   ]
  },
  {
   "cell_type": "markdown",
   "metadata": {},
   "source": [
    "Next, we move on to building our docker image."
   ]
  },
  {
   "cell_type": "code",
   "execution_count": null,
   "metadata": {},
   "outputs": [],
   "source": []
  }
 ],
 "metadata": {
  "kernelspec": {
   "display_name": "Python [conda env:MLAKSDeployment]",
   "language": "python",
   "name": "conda-env-MLAKSDeployment-py"
  },
  "language_info": {
   "codemirror_mode": {
    "name": "ipython",
    "version": 3
   },
   "file_extension": ".py",
   "mimetype": "text/x-python",
   "name": "python",
   "nbconvert_exporter": "python",
   "pygments_lexer": "ipython3",
   "version": "3.5.5"
  }
 },
 "nbformat": 4,
 "nbformat_minor": 2
}
