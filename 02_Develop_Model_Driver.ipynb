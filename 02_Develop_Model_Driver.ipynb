{
 "cells": [
  {
   "cell_type": "markdown",
   "metadata": {},
   "source": [
    "# Develop Model Driver"
   ]
  },
  {
   "cell_type": "markdown",
   "metadata": {},
   "source": [
    "In this notebook, we will develop the API that will call our model. This module initializes the model, transforms the input so that it is in the appropriate format and defines the scoring method that will produce the predictions. The API will expect the input to be in JSON format. Once a request is received, the API will use the request body to score the question text. There are two main functions in the API. The first function loads the model and returns a scoring function. The second function process the question text and uses the first function to score it."
   ]
  },
  {
   "cell_type": "code",
   "execution_count": 1,
   "metadata": {},
   "outputs": [],
   "source": [
    "import pandas as pd\n",
    "import logging\n",
    "import json"
   ]
  },
  {
   "cell_type": "markdown",
   "metadata": {},
   "source": [
    "We use the writefile magic to write the contents of the below cell to driver.py which includes the driver methods."
   ]
  },
  {
   "cell_type": "code",
   "execution_count": 2,
   "metadata": {},
   "outputs": [
    {
     "name": "stdout",
     "output_type": "stream",
     "text": [
      "Overwriting driver.py\n"
     ]
    }
   ],
   "source": [
    "%%writefile driver.py\n",
    "\n",
    "import lightgbm as lgb\n",
    "import timeit as t\n",
    "import logging\n",
    "from duplicate_model import DuplicateModel\n",
    "\n",
    "model_path = 'model.pkl'\n",
    "questions_path = 'questions.tsv'\n",
    "logger = logging.getLogger(\"model_driver\")\n",
    "\n",
    "def create_scoring_func():\n",
    "    \"\"\" Initialize Model Object \n",
    "    \"\"\"   \n",
    "    start = t.default_timer()\n",
    "    DM = DuplicateModel(model_path, questions_path)\n",
    "    end = t.default_timer()\n",
    "    \n",
    "    loadTimeMsg = \"Model object loading time: {0} ms\".format(round((end-start)*1000, 2))\n",
    "    logger.info(loadTimeMsg)\n",
    "    \n",
    "    def call_model(text):\n",
    "        preds = DM.score(text)  \n",
    "        return preds\n",
    "    \n",
    "    return call_model\n",
    "\n",
    "def get_model_api():\n",
    "    logger = logging.getLogger(\"model_driver\")\n",
    "    scoring_func = create_scoring_func()\n",
    "    \n",
    "    def process_and_score(inputString):\n",
    "        \"\"\" Classify the input using the loaded model\n",
    "        \"\"\"\n",
    "        start = t.default_timer()\n",
    "\n",
    "        responses = []\n",
    "        preds = scoring_func(inputString)\n",
    "        responses.append(preds)\n",
    "\n",
    "        end = t.default_timer()\n",
    "        \n",
    "        logger.info(\"Predictions: {0}\".format(responses))\n",
    "        logger.info(\"Predictions took {0} ms\".format(round((end-start)*1000, 2)))\n",
    "        return (responses, \"Computed in {0} ms\".format(round((end-start)*1000, 2)))\n",
    "    return process_and_score\n",
    "\n",
    "def version():\n",
    "    return lgb.__version__"
   ]
  },
  {
   "cell_type": "markdown",
   "metadata": {},
   "source": [
    "Let's test the module."
   ]
  },
  {
   "cell_type": "code",
   "execution_count": 3,
   "metadata": {},
   "outputs": [],
   "source": [
    "logging.basicConfig(level=logging.DEBUG)"
   ]
  },
  {
   "cell_type": "markdown",
   "metadata": {},
   "source": [
    "We run the driver.py which will bring the imports and functions into the context of the notebook."
   ]
  },
  {
   "cell_type": "code",
   "execution_count": 4,
   "metadata": {},
   "outputs": [],
   "source": [
    "%run driver.py"
   ]
  },
  {
   "cell_type": "markdown",
   "metadata": {},
   "source": [
    "Now, let's use one of the duplicate questions to test our driver."
   ]
  },
  {
   "cell_type": "code",
   "execution_count": 5,
   "metadata": {},
   "outputs": [
    {
     "data": {
      "text/plain": [
       "'best way to json parsing using javascript.  possible duplicate: length of a javascript object (that is, associative array)  i have json in the following format  i tried using (data.student[i].length), which did not work (just to see what the length of the object is), and i also tried (data.user[i]) to no avail. i am basically very confused on how i can get the length of one of the objects in the json and how i can effectively display it. how can i do this?'"
      ]
     },
     "execution_count": 5,
     "metadata": {},
     "output_type": "execute_result"
    }
   ],
   "source": [
    "dupes_test_path = 'dupes_test.tsv'\n",
    "dupes_test = pd.read_csv(dupes_test_path, sep='\\t', encoding='latin1')\n",
    "text_to_score = dupes_test.iloc[0,4]\n",
    "text_to_score"
   ]
  },
  {
   "cell_type": "markdown",
   "metadata": {},
   "source": [
    "Here, we define a helper function to convert our text for the format that will be required by the Flask application that will use the functions in the driver."
   ]
  },
  {
   "cell_type": "code",
   "execution_count": 6,
   "metadata": {},
   "outputs": [],
   "source": [
    "def text_to_json(text):\n",
    "    return json.dumps({'input':'{0}'.format(text)})"
   ]
  },
  {
   "cell_type": "code",
   "execution_count": 7,
   "metadata": {},
   "outputs": [],
   "source": [
    "jsontext = text_to_json(text_to_score)\n",
    "json_load_text = json.loads(jsontext)\n",
    "body = json_load_text['input']"
   ]
  },
  {
   "cell_type": "code",
   "execution_count": 8,
   "metadata": {},
   "outputs": [
    {
     "name": "stderr",
     "output_type": "stream",
     "text": [
      "INFO:model_driver:Model object loading time: 347.89 ms\n"
     ]
    }
   ],
   "source": [
    "predict_for = get_model_api()"
   ]
  },
  {
   "cell_type": "code",
   "execution_count": 9,
   "metadata": {
    "scrolled": true
   },
   "outputs": [
    {
     "name": "stderr",
     "output_type": "stream",
     "text": [
      "INFO:model_driver:Predictions: [[(11922383, 11922384, 0.984836747218761), (5223, 6700, 0.26940691358778396), (126100, 4889658, 0.15567350448589748), (4935632, 4935684, 0.08335138920111888), (171251, 171256, 0.007303045770366217), (19590865, 19590901, 0.006725269198891133), (684672, 684692, 0.0013128070346465882), (7364150, 7364307, 0.0011194899608325862), (4616202, 4616273, 0.0009635338081120141), (14220321, 14220323, 0.0005954235787411567), (979256, 979289, 0.0004864703339893272), (12953704, 12953750, 0.00045879016038158983), (901115, 901144, 0.0002602969237632822), (122102, 122704, 0.00016247621327218932), (45015, 5686237, 0.00016141301883164434), (1129216, 1129270, 8.615037671166863e-05), (1068834, 1144249, 7.799950428193527e-05), (6491463, 6491621, 6.776432884270919e-05), (85992, 86014, 4.427277240582091e-05), (728360, 728694, 2.1073103785470865e-05), (359788, 359910, 1.625803284659823e-05), (7837456, 14853974, 1.5838816951097937e-05), (1527803, 1527820, 1.5495191431020978e-05), (2631001, 2631198, 1.3936224738723999e-05), (4057440, 4060176, 1.2220459216779786e-05), (695050, 695053, 1.1584176727261432e-05), (1056728, 1056730, 1.0351783184566458e-05), (1069666, 1069840, 9.953060021288608e-06), (5767325, 5767357, 8.237826456871637e-06), (194397, 194399, 6.218700528674758e-06), (4255472, 4255480, 6.087785315339198e-06), (149055, 149150, 5.964610384850821e-06), (23667086, 23667087, 4.274700929276652e-06), (111102, 111111, 4.032990325720903e-06), (4968406, 4968448, 3.977794222432837e-06), (750486, 750506, 3.805864816560278e-06), (15141762, 15171030, 3.5955837525563993e-06), (1085801, 1085810, 3.403259477180997e-06), (2274242, 2274327, 3.124629371455304e-06), (28250680, 28250697, 2.5895548945432613e-06), (951021, 951057, 2.0449528847080603e-06), (6847697, 6847754, 1.761873956348762e-06), (9032856, 9033306, 1.558131726799588e-06), (4912092, 6678156, 1.3878887241767718e-06), (1726630, 1726662, 1.2901734735447017e-06), (2010892, 2010948, 1.233451346472792e-06), (610406, 610415, 1.172815449453619e-06), (237104, 1473742, 1.1590411421168215e-06), (25111831, 25111942, 1.1231969426617883e-06), (364952, 364997, 1.0996865502012694e-06), (3224834, 3224854, 1.0880144913353466e-06), (22519784, 22519785, 1.0331210606243663e-06), (5627284, 5627301, 1.0307585466075159e-06), (1379934, 1380058, 9.631019575394384e-07), (3665115, 3665147, 9.011528566017229e-07), (5041494, 5734583, 8.487155812045221e-07), (2320069, 2320097, 8.326746139554104e-07), (805107, 805113, 7.99183627012015e-07), (201183, 201471, 7.803625346471137e-07), (134845, 138233, 7.276879080893455e-07), (14028959, 8716680, 7.115255894113358e-07), (2075337, 2075349, 6.560529164570228e-07), (7486085, 7486130, 6.51031310511419e-07), (203198, 1207393, 6.17531876399181e-07), (1144783, 17606289, 5.990129235490627e-07), (1646698, 3658673, 5.798541791240711e-07), (5874652, 5876747, 4.983591155910083e-07), (1026069, 1026087, 4.852464337023928e-07), (23392111, 23392650, 4.5703828188444346e-07), (572897, 572996, 4.5156683467011367e-07), (3076414, 3076648, 4.4493264108938754e-07), (4459379, 4459419, 4.273551798045084e-07), (166221, 8758614, 4.2621203886529904e-07), (242813, 242833, 3.856445652996301e-07), (2421911, 2421949, 3.483015241238892e-07), (2241875, 2241883, 3.4085010359226597e-07), (2851404, 2851413, 3.1609603093580976e-07), (3888902, 3888938, 2.9916926285962607e-07), (152975, 153047, 2.9776542443444444e-07), (824349, 3354511, 2.961634858091721e-07), (1225667, 1225683, 2.7821810138046344e-07), (1458633, 3439981, 2.624706585138445e-07), (3127429, 3127440, 2.6171622604738854e-07), (1917576, 1917626, 2.5911632313237527e-07), (2067472, 2067584, 2.3199025626972904e-07), (784929, 784946, 2.220535068553554e-07), (3434278, 3434388, 2.2115320813745826e-07), (6487366, 6487376, 2.1104001830746523e-07), (3059044, 3059129, 1.9914379554439263e-07), (1584370, 1584377, 1.9352120418333944e-07), (13418669, 13418980, 1.8738491654825115e-07), (121203, 121259, 1.8482415670490188e-07), (20279484, 20279485, 1.8005199658178894e-07), (1063007, 1063027, 1.568146314981212e-07), (1771786, 1771824, 1.4322405057564937e-07), (1885557, 1885660, 1.3870747807743682e-07), (1433212, 1433217, 1.3765875893594255e-07), (5093398, 5100287, 1.315487988333237e-07), (307179, 307200, 1.2688428652687354e-07), (1822350, 1822769, 1.2322760014261997e-07), (2901102, 2901298, 1.2148510348748613e-07), (6259982, 6260001, 1.2063362537389803e-07), (1267283, 1267338, 1.115079321033914e-07), (69913, 69984, 1.071579311535054e-07), (1359469, 1359507, 1.0338743876578772e-07), (4425318, 4425359, 1.0281508592689084e-07), (3034941, 3034952, 9.195051950411559e-08), (1451009, 1451043, 9.034813282708269e-08), (950087, 950146, 8.697340364641086e-08), (8228281, 8228308, 7.527214508280561e-08), (31044, 31047, 7.409961814161924e-08), (8495687, 8495740, 7.08482775908189e-08), (8021436, 8021462, 6.905228352260466e-08), (436411, 24070373, 6.271352775785963e-08), (10693845, 10693852, 6.092374022020835e-08), (403967, 22745553, 5.949514918922001e-08), (2844565, 2844704, 5.9176568206746306e-08), (27928, 27943, 5.864300585473322e-08), (13840429, 13840431, 5.794912131255957e-08), (1789945, 1789952, 5.5586666561374765e-08), (840781, 840808, 5.538719852787597e-08), (3514784, 3540295, 5.376310800134607e-08), (2100758, 2100767, 5.3735131449941e-08), (5117127, 5117172, 5.295471514270746e-08), (1470488, 1470494, 5.1570474951596184e-08), (12829963, 12830031, 5.155560695071444e-08), (492994, 493018, 4.3066413310651894e-08), (5004233, 5004276, 4.216178447301036e-08), (400212, 6055620, 4.18840442341078e-08), (518000, 3638034, 4.043961173825784e-08), (1051782, 1051797, 3.93038405635987e-08), (18082, 1830844, 3.891140121035684e-08), (1566595, 1566644, 3.6390999074968723e-08), (24900875, 24900924, 3.51818168022441e-08), (336859, 336868, 3.213259192936739e-08), (32584850, 32585470, 3.152573550460706e-08), (1520800, 1520853, 3.132584077495768e-08), (6677035, 6677069, 3.008284521537491e-08), (29986657, 30070207, 2.909721285357274e-08), (2802055, 2802064, 2.8682918721927372e-08), (1017224, 1017237, 2.707831199156522e-08), (1359018, 9331127, 2.6735016526514468e-08), (494035, 494046, 2.638843645792785e-08), (4907843, 4907854, 2.6166204771273506e-08), (205853, 553734, 2.5788121804234958e-08), (7506844, 7506937, 2.5225356508469365e-08), (2655925, 8894528, 2.476158996936362e-08), (440739, 440772, 2.2089637652124358e-08), (236073, 236106, 2.202619183675739e-08), (5187530, 5187652, 1.9244939345914473e-08), (3583724, 3583740, 1.8575484677198095e-08), (1873983, 1873999, 1.723346934263874e-08), (1398582, 1398608, 1.7113118350794804e-08), (5316697, 5316755, 1.5803821102123754e-08), (2716069, 2716188, 1.49465311664384e-08), (850341, 850346, 1.4153228261796908e-08), (5891840, 5891929, 1.3326790461548169e-08), (20077487, 20077854, 1.237110648318306e-08), (168214, 169035, 1.2304421305470641e-08), (391979, 810461, 1.2181737662773083e-08), (37684, 21925491, 1.1257182495148466e-08), (25881041, 25881231, 1.0733412337639989e-08), (3561493, 3561711, 1.0309441922139693e-08), (2194992, 2195167, 9.829565806527805e-09), (20035101, 20035319, 9.412959159869599e-09), (92720, 92819, 9.270581133724097e-09), (2846283, 2846298, 9.108752208178586e-09), (359494, 359509, 8.642406969888547e-09), (7165395, 7165616, 7.83578461893849e-09), (1634268, 1634321, 6.944364793396547e-09), (5431351, 5431435, 6.9024682454179206e-09), (3384504, 3384534, 6.4720670222740174e-09), (4851595, 4851614, 5.353787029736229e-09), (3561043, 3561056, 5.001968761591905e-09), (262427, 262511, 4.452848648465518e-09), (3163407, 3163422, 3.260201276988086e-09), (500431, 500459, 3.200627954913842e-09), (12475269, 12475285, 1.657412269593756e-09), (8110934, 8111171, 1.373848221509951e-09), (23740548, 23740549, 7.690574905334291e-10), (3595515, 3744697, 3.5436404125830473e-10), (1661197, 9337047, 1.4245751194112992e-11)]]\n",
      "INFO:model_driver:Predictions took 54.72 ms\n"
     ]
    }
   ],
   "source": [
    "resp = predict_for(body)"
   ]
  },
  {
   "cell_type": "markdown",
   "metadata": {},
   "source": [
    "Next, we move on to building our docker image."
   ]
  },
  {
   "cell_type": "code",
   "execution_count": null,
   "metadata": {},
   "outputs": [],
   "source": []
  }
 ],
 "metadata": {
  "kernelspec": {
   "display_name": "Python [conda env:MLAKSDeployment]",
   "language": "python",
   "name": "conda-env-MLAKSDeployment-py"
  },
  "language_info": {
   "codemirror_mode": {
    "name": "ipython",
    "version": 3
   },
   "file_extension": ".py",
   "mimetype": "text/x-python",
   "name": "python",
   "nbconvert_exporter": "python",
   "pygments_lexer": "ipython3",
   "version": "3.5.5"
  }
 },
 "nbformat": 4,
 "nbformat_minor": 2
}
