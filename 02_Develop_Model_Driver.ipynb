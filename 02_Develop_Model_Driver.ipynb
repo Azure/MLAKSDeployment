{
 "cells": [
  {
   "cell_type": "markdown",
   "metadata": {},
   "source": [
    "# Develop Model Driver"
   ]
  },
  {
   "cell_type": "markdown",
   "metadata": {},
   "source": [
    "In this notebook, we will develop the API that will call our model. This module initializes the model, transforms the input so that it is in the appropriate format and defines the scoring method that will produce the predictions. The API will expect the input to be in JSON format. Once a request is received, the API will use the request body to score the question text. There are two main functions in the API. The first function loads the model and returns a scoring function. The second function process the question text and uses the first function to score it."
   ]
  },
  {
   "cell_type": "code",
   "execution_count": 1,
   "metadata": {},
   "outputs": [],
   "source": [
    "import pandas as pd\n",
    "import logging\n",
    "import json"
   ]
  },
  {
   "cell_type": "markdown",
   "metadata": {},
   "source": [
    "We use the writefile magic to write the contents of the below cell to driver.py which includes the driver methods."
   ]
  },
  {
   "cell_type": "code",
   "execution_count": 4,
   "metadata": {},
   "outputs": [
    {
     "name": "stdout",
     "output_type": "stream",
     "text": [
      "Overwriting driver.py\n"
     ]
    }
   ],
   "source": [
    "%%writefile driver.py\n",
    "\n",
    "import lightgbm as lgb\n",
    "import timeit as t\n",
    "import logging\n",
    "from duplicate_model import DuplicateModel\n",
    "\n",
    "model_path = 'model.pkl'\n",
    "questions_path = 'questions.tsv'\n",
    "logger = logging.getLogger(\"model_driver\")\n",
    "\n",
    "def create_scoring_func():\n",
    "    \"\"\" Initialize Model Object \n",
    "    \"\"\"   \n",
    "    start = t.default_timer()\n",
    "    DM = DuplicateModel(model_path, questions_path)\n",
    "    end = t.default_timer()\n",
    "    \n",
    "    loadTimeMsg = \"Model object loading time: {0} ms\".format(round((end-start)*1000, 2))\n",
    "    logger.info(loadTimeMsg)\n",
    "    \n",
    "    def call_model(text):\n",
    "        preds = DM.score(text)  \n",
    "        return preds\n",
    "    \n",
    "    return call_model\n",
    "\n",
    "def get_model_api():\n",
    "    logger = logging.getLogger(\"model_driver\")\n",
    "    scoring_func = create_scoring_func()\n",
    "    \n",
    "    def process_and_score(inputString):\n",
    "        \"\"\" Classify the input using the loaded model\n",
    "        \"\"\"\n",
    "        start = t.default_timer()\n",
    "\n",
    "        responses = []\n",
    "        preds = scoring_func(inputString)\n",
    "        responses.append(preds)\n",
    "\n",
    "        end = t.default_timer()\n",
    "        \n",
    "        logger.info(\"Predictions: {0}\".format(responses))\n",
    "        logger.info(\"Predictions took {0} ms\".format(round((end-start)*1000, 2)))\n",
    "        return (responses, \"Computed in {0} ms\".format(round((end-start)*1000, 2)))\n",
    "    return process_and_score\n",
    "\n",
    "def version():\n",
    "    return lgb.__version__"
   ]
  },
  {
   "cell_type": "markdown",
   "metadata": {},
   "source": [
    "Let's test the module."
   ]
  },
  {
   "cell_type": "code",
   "execution_count": 5,
   "metadata": {},
   "outputs": [],
   "source": [
    "logging.basicConfig(level=logging.DEBUG)"
   ]
  },
  {
   "cell_type": "markdown",
   "metadata": {},
   "source": [
    "We run the driver.py which will bring the imports and functions into the context of the notebook."
   ]
  },
  {
   "cell_type": "code",
   "execution_count": 6,
   "metadata": {},
   "outputs": [],
   "source": [
    "%run driver.py"
   ]
  },
  {
   "cell_type": "markdown",
   "metadata": {},
   "source": [
    "Now, let's use one of the duplicate questions to test our driver."
   ]
  },
  {
   "cell_type": "code",
   "execution_count": 7,
   "metadata": {},
   "outputs": [
    {
     "data": {
      "text/plain": [
       "'count key/values in json.  possible duplicate: length of javascript associative array   i have a json that looks like this:  this prints when i do this:  i am trying to get the count of the items inside this json, obj.length returns \"undefined\" and obj[0].length returns   uncaught typeerror: cannot read property \\'length\\' of undefined  i would expect a length to return \"2\" in this case. how can i find the count? thanks!'"
      ]
     },
     "execution_count": 7,
     "metadata": {},
     "output_type": "execute_result"
    }
   ],
   "source": [
    "dupes_test_path = 'dupes_test.tsv'\n",
    "dupes_test = pd.read_csv(dupes_test_path, sep='\\t', encoding='latin1')\n",
    "text_to_score = dupes_test.iloc[0,4]\n",
    "text_to_score"
   ]
  },
  {
   "cell_type": "markdown",
   "metadata": {},
   "source": [
    "Here, we define a helper function to convert our text for the format that will be required by the Flask application that will use the functions in the driver."
   ]
  },
  {
   "cell_type": "code",
   "execution_count": 8,
   "metadata": {},
   "outputs": [],
   "source": [
    "def text_to_json(text):\n",
    "    return json.dumps({'input':'{0}'.format(text)})"
   ]
  },
  {
   "cell_type": "code",
   "execution_count": 9,
   "metadata": {},
   "outputs": [],
   "source": [
    "jsontext = text_to_json(text_to_score)\n",
    "json_load_text = json.loads(jsontext)\n",
    "body = json_load_text['input']"
   ]
  },
  {
   "cell_type": "code",
   "execution_count": 10,
   "metadata": {},
   "outputs": [
    {
     "name": "stderr",
     "output_type": "stream",
     "text": [
      "INFO:model_driver:Model object loading time: 588.71 ms\n"
     ]
    }
   ],
   "source": [
    "predict_for = get_model_api()"
   ]
  },
  {
   "cell_type": "code",
   "execution_count": 11,
   "metadata": {
    "scrolled": true
   },
   "outputs": [
    {
     "name": "stderr",
     "output_type": "stream",
     "text": [
      "INFO:model_driver:Predictions: [[(5223, 6700, 0.9964429348386941), (11922383, 11922384, 0.9608198958942987), (14220321, 14220323, 0.23205773009236366), (4616202, 4616273, 0.19269681609181566), (20279484, 20279485, 0.15604203701328218), (85992, 86014, 0.14896617620396632), (19590865, 19590901, 0.05871890364999471), (126100, 4889658, 0.05265433128981724), (4255472, 4255480, 0.04450552792725994), (750486, 750506, 0.019287321340651926), (122102, 122704, 0.011277641639918021), (12953704, 12953750, 0.008323144663828217), (3127429, 3127440, 0.006957983908504305), (2631001, 2631198, 0.0056324526343852835), (4968406, 4968448, 0.005262096049088963), (4935632, 4935684, 0.005133128628901672), (7364150, 7364307, 0.003974935184494744), (6491463, 6491621, 0.0037887065235385174), (1129216, 1129270, 0.00201454162412491), (901115, 901144, 0.0018603601973077998), (1069666, 1069840, 0.0017272926196244432), (695050, 695053, 0.0016822210756380301), (728360, 728694, 0.001574943657350216), (684672, 684692, 0.0013937283425318682), (45015, 5686237, 0.0013853367364564093), (1026069, 1026087, 0.0011994292371385286), (2010892, 2010948, 0.0008492746412835032), (201183, 201471, 0.0005780913888153238), (1451009, 1451043, 0.000563040985027417), (23667086, 23667087, 0.0005284363917051308), (2274242, 2274327, 0.00042917794811807395), (1379934, 1380058, 0.00033713344157512975), (2100758, 2100767, 0.00028262165829606213), (13418669, 13418980, 0.0002065034674106596), (1359469, 1359507, 0.00020388562372488506), (2241875, 2241883, 0.00019784266934146896), (2067472, 2067584, 0.00016587088045264155), (6847697, 6847754, 0.000152664477137372), (1584370, 1584377, 0.00014676741099949403), (1726630, 1726662, 0.0001452851105259509), (237104, 1473742, 0.00013198561588713002), (8495687, 8495740, 0.00012126366975473375), (171251, 171256, 0.00010718869522395549), (1068834, 1144249, 0.00010409825366921288), (14028959, 8716680, 9.827834003292639e-05), (518000, 3638034, 9.371739230676467e-05), (5767325, 5767357, 9.187662686783021e-05), (572897, 572996, 9.073238092345804e-05), (7837456, 14853974, 8.994407503993731e-05), (979256, 979289, 8.888921052369591e-05), (10693845, 10693852, 6.724877542047774e-05), (1085801, 1085810, 5.5919175479966506e-05), (1267283, 1267338, 5.5382921177350815e-05), (262427, 262511, 5.3915461307407565e-05), (4057440, 4060176, 5.2305394974948325e-05), (359788, 359910, 4.878090205848577e-05), (610406, 610415, 4.8524152723800544e-05), (8228281, 8228308, 4.586899727040779e-05), (951021, 951057, 4.375228603010868e-05), (134845, 138233, 4.31308294197719e-05), (7486085, 7486130, 4.061398354351022e-05), (1056728, 1056730, 3.5289872670753084e-05), (850341, 850346, 3.50077820394076e-05), (500431, 500459, 2.8056739699805646e-05), (492994, 493018, 2.6608423395553287e-05), (1885557, 1885660, 2.612795494709534e-05), (111102, 111111, 2.4510032419874545e-05), (23740548, 23740549, 2.4375380531535745e-05), (784929, 784946, 2.384369276195378e-05), (840781, 840808, 2.1199788648207393e-05), (1527803, 1527820, 1.868917820438546e-05), (1646698, 3658673, 1.802168100768574e-05), (307179, 307200, 1.7965214786671523e-05), (2846283, 2846298, 1.663195330611934e-05), (5117127, 5117172, 1.5813306653868564e-05), (440739, 440772, 1.4171279404144136e-05), (2421911, 2421949, 1.3684985658219067e-05), (9032856, 9033306, 1.3406298461993969e-05), (2851404, 2851413, 1.1686024153696434e-05), (1225667, 1225683, 1.1083725681697497e-05), (3034941, 3034952, 1.105310671445157e-05), (2194992, 2195167, 1.0558414835148586e-05), (69913, 69984, 1.043294491091588e-05), (6259982, 6260001, 8.48904396435619e-06), (2802055, 2802064, 7.981103236516382e-06), (5627284, 5627301, 7.477988620017496e-06), (2716069, 2716188, 7.463224828215199e-06), (24900875, 24900924, 7.265499443609845e-06), (23392111, 23392650, 7.190861292037264e-06), (1063007, 1063027, 7.171859541191161e-06), (13840429, 13840431, 6.7254885881433975e-06), (1398582, 1398608, 6.548374963487632e-06), (1144783, 17606289, 6.217805929727375e-06), (32584850, 32585470, 6.143359298100056e-06), (364952, 364997, 6.107802757193047e-06), (25881041, 25881231, 6.00303647045688e-06), (28250680, 28250697, 5.972210574724554e-06), (6487366, 6487376, 5.964474343288676e-06), (5316697, 5316755, 5.8942521982053895e-06), (1051782, 1051797, 5.547808561467133e-06), (1520800, 1520853, 5.378722005576883e-06), (3076414, 3076648, 5.279116384586822e-06), (1822350, 1822769, 5.188105439507334e-06), (1470488, 1470494, 5.1113397497992245e-06), (400212, 6055620, 5.000708168121895e-06), (4425318, 4425359, 4.8880066770171795e-06), (1433212, 1433217, 4.596005046409033e-06), (27928, 27943, 4.558592427290147e-06), (22519784, 22519785, 4.220649104889993e-06), (3059044, 3059129, 4.199280393242248e-06), (31044, 31047, 4.190292449133279e-06), (3163407, 3163422, 4.089770617689397e-06), (391979, 810461, 3.964820746501914e-06), (4912092, 6678156, 3.8216510866959096e-06), (25111831, 25111942, 3.5773318458242514e-06), (37684, 21925491, 3.546692595010674e-06), (1458633, 3439981, 3.4177834286230513e-06), (2901102, 2901298, 3.2707247235899355e-06), (149055, 149150, 3.0585317276702203e-06), (12475269, 12475285, 3.0158862905925625e-06), (7506844, 7506937, 2.8673640333923945e-06), (15141762, 15171030, 2.840764417702723e-06), (805107, 805113, 2.818770624458754e-06), (4851595, 4851614, 2.7314217615204364e-06), (236073, 236106, 2.567537072699198e-06), (194397, 194399, 2.381671281451447e-06), (3224834, 3224854, 2.3214452938979364e-06), (950087, 950146, 2.2524339453848007e-06), (3561043, 3561056, 2.1901576250240673e-06), (494035, 494046, 2.0433972078512524e-06), (3888902, 3888938, 1.9986112805908267e-06), (2075337, 2075349, 1.9782711147520837e-06), (20035101, 20035319, 1.7102070716490528e-06), (3583724, 3583740, 1.6847057927969945e-06), (2655925, 8894528, 1.6039952858225117e-06), (359494, 359509, 1.5556210754798428e-06), (242813, 242833, 1.4580983254538847e-06), (336859, 336868, 1.4273270350508537e-06), (5093398, 5100287, 1.358739900315828e-06), (203198, 1207393, 1.3108166589460387e-06), (4907843, 4907854, 1.2615948879940668e-06), (1789945, 1789952, 1.2506674322857575e-06), (121203, 121259, 1.2060898003755732e-06), (1917576, 1917626, 1.14995146067002e-06), (1873983, 1873999, 1.0728362738830159e-06), (166221, 8758614, 1.0375806863284248e-06), (1566595, 1566644, 1.0371715250630156e-06), (1017224, 1017237, 1.0024582151555018e-06), (1771786, 1771824, 1.0020762344744334e-06), (5431351, 5431435, 9.861286106505605e-07), (2844565, 2844704, 9.850229341478766e-07), (152975, 153047, 9.552452808612647e-07), (403967, 22745553, 9.389684302463906e-07), (168214, 169035, 8.67810449792473e-07), (5187530, 5187652, 8.649628138260456e-07), (205853, 553734, 8.402104136543728e-07), (7165395, 7165616, 7.934832920636305e-07), (3384504, 3384534, 7.087304834518634e-07), (18082, 1830844, 6.966522893750896e-07), (824349, 3354511, 6.309148440253488e-07), (4459379, 4459419, 5.986689715879759e-07), (5874652, 5876747, 4.778158072622965e-07), (5041494, 5734583, 4.681863852925665e-07), (20077487, 20077854, 4.004645628233085e-07), (3434278, 3434388, 3.8852432015018486e-07), (29986657, 30070207, 3.0682761884044614e-07), (3561493, 3561711, 2.982415773038826e-07), (5891840, 5891929, 2.613762678300771e-07), (2320069, 2320097, 1.8178680259300365e-07), (3665115, 3665147, 1.8022020757716104e-07), (12829963, 12830031, 1.7626757730223517e-07), (3595515, 3744697, 1.7588647391190732e-07), (92720, 92819, 1.7290457255035093e-07), (1634268, 1634321, 1.5614636780688238e-07), (8021436, 8021462, 1.5468063880366334e-07), (5004233, 5004276, 1.4662057543132582e-07), (436411, 24070373, 1.4483176981221676e-07), (3514784, 3540295, 1.2910311002572936e-07), (6677035, 6677069, 9.451955827370623e-08), (1661197, 9337047, 9.137428517463201e-08), (1359018, 9331127, 3.366006974806996e-08), (8110934, 8111171, 2.831494870085779e-08)]]\n",
      "INFO:model_driver:Predictions took 37.18 ms\n"
     ]
    }
   ],
   "source": [
    "resp = predict_for(body)"
   ]
  },
  {
   "cell_type": "markdown",
   "metadata": {},
   "source": [
    "Next, we move on to building our docker image."
   ]
  }
 ],
 "metadata": {
  "kernelspec": {
   "display_name": "Python [conda env:py35]",
   "language": "python",
   "name": "conda-env-py35-py"
  },
  "language_info": {
   "codemirror_mode": {
    "name": "ipython",
    "version": 3
   },
   "file_extension": ".py",
   "mimetype": "text/x-python",
   "name": "python",
   "nbconvert_exporter": "python",
   "pygments_lexer": "ipython3",
   "version": "3.5.4"
  }
 },
 "nbformat": 4,
 "nbformat_minor": 2
}
