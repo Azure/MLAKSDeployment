{
 "cells": [
  {
   "cell_type": "markdown",
   "metadata": {},
   "source": [
    "# Develop Model Driver"
   ]
  },
  {
   "cell_type": "markdown",
   "metadata": {},
   "source": [
    "In this notebook, we will develop the API that will call our model. This module initializes the model, transforms the input so that it is in the appropriate format and defines the scoring method that will produce the predictions. The API will expect the input to be in JSON format. Once a request is received, the API will use the request body to score the question text. There are two main functions in the API. The first function loads the model and returns a scoring function. The second function process the question text and uses the first function to score it."
   ]
  },
  {
   "cell_type": "code",
   "execution_count": 1,
   "metadata": {},
   "outputs": [],
   "source": [
    "import pandas as pd\n",
    "import logging\n",
    "import json\n",
    "\n",
    "from utilities import text_to_json"
   ]
  },
  {
   "cell_type": "markdown",
   "metadata": {},
   "source": [
    "We use the writefile magic to write the contents of the below cell to driver.py which includes the driver methods."
   ]
  },
  {
   "cell_type": "code",
   "execution_count": 2,
   "metadata": {},
   "outputs": [
    {
     "name": "stdout",
     "output_type": "stream",
     "text": [
      "Writing driver.py\n"
     ]
    }
   ],
   "source": [
    "%%writefile driver.py\n",
    "\n",
    "import lightgbm as lgb\n",
    "import timeit as t\n",
    "import logging\n",
    "from duplicate_model import DuplicateModel\n",
    "\n",
    "model_path = 'model.pkl'\n",
    "questions_path = 'questions.tsv'\n",
    "logger = logging.getLogger(\"model_driver\")\n",
    "\n",
    "def create_scoring_func():\n",
    "    \"\"\" Initialize Model Object \n",
    "    \"\"\"   \n",
    "    start = t.default_timer()\n",
    "    DM = DuplicateModel(model_path, questions_path)\n",
    "    end = t.default_timer()\n",
    "    \n",
    "    loadTimeMsg = \"Model object loading time: {0} ms\".format(round((end-start)*1000, 2))\n",
    "    logger.info(loadTimeMsg)\n",
    "    \n",
    "    def call_model(text):\n",
    "        preds = DM.score(text)  \n",
    "        return preds\n",
    "    \n",
    "    return call_model\n",
    "\n",
    "def get_model_api():\n",
    "    logger = logging.getLogger(\"model_driver\")\n",
    "    scoring_func = create_scoring_func()\n",
    "    \n",
    "    def process_and_score(inputString):\n",
    "        \"\"\" Classify the input using the loaded model\n",
    "        \"\"\"\n",
    "        start = t.default_timer()\n",
    "        responses = scoring_func(inputString)\n",
    "        end = t.default_timer()\n",
    "        \n",
    "        logger.info(\"Predictions: {0}\".format(responses))\n",
    "        logger.info(\"Predictions took {0} ms\".format(round((end-start)*1000, 2)))\n",
    "        return (responses, \"Computed in {0} ms\".format(round((end-start)*1000, 2)))\n",
    "    return process_and_score\n",
    "\n",
    "def version():\n",
    "    return lgb.__version__"
   ]
  },
  {
   "cell_type": "markdown",
   "metadata": {},
   "source": [
    "Let's test the module."
   ]
  },
  {
   "cell_type": "code",
   "execution_count": 3,
   "metadata": {},
   "outputs": [],
   "source": [
    "logging.basicConfig(level=logging.DEBUG)"
   ]
  },
  {
   "cell_type": "markdown",
   "metadata": {},
   "source": [
    "We run the driver.py which will bring the imports and functions into the context of the notebook."
   ]
  },
  {
   "cell_type": "code",
   "execution_count": 4,
   "metadata": {},
   "outputs": [],
   "source": [
    "%run driver.py"
   ]
  },
  {
   "cell_type": "markdown",
   "metadata": {},
   "source": [
    "Now, let's use one of the duplicate questions to test our driver."
   ]
  },
  {
   "cell_type": "code",
   "execution_count": 5,
   "metadata": {},
   "outputs": [
    {
     "data": {
      "text/plain": [
       "\"javascript arrays as objects.  possible duplicate: length of javascript object (ie. associative array) loop through javascript object    i'm trying to make an array, where each item has some name and value. the code above doesn't work. tryed to make an object, but it doesn't have a length property - no for loop.  is it possible to use arrays in this context?\""
      ]
     },
     "execution_count": 5,
     "metadata": {},
     "output_type": "execute_result"
    }
   ],
   "source": [
    "dupes_test_path = 'dupes_test.tsv'\n",
    "dupes_test = pd.read_csv(dupes_test_path, sep='\\t', encoding='latin1')\n",
    "text_to_score = dupes_test.iloc[0,4]\n",
    "text_to_score"
   ]
  },
  {
   "cell_type": "markdown",
   "metadata": {},
   "source": [
    "Here, we convert our text for the format that will be required by the Flask application that will use the functions in the driver."
   ]
  },
  {
   "cell_type": "code",
   "execution_count": 6,
   "metadata": {},
   "outputs": [],
   "source": [
    "jsontext = text_to_json(text_to_score)\n",
    "json_load_text = json.loads(jsontext)\n",
    "body = json_load_text['input']"
   ]
  },
  {
   "cell_type": "code",
   "execution_count": 7,
   "metadata": {},
   "outputs": [
    {
     "name": "stderr",
     "output_type": "stream",
     "text": [
      "INFO:model_driver:Model object loading time: 259.38 ms\n"
     ]
    }
   ],
   "source": [
    "predict_for = get_model_api()"
   ]
  },
  {
   "cell_type": "code",
   "execution_count": 8,
   "metadata": {
    "scrolled": true
   },
   "outputs": [
    {
     "name": "stderr",
     "output_type": "stream",
     "text": [
      "INFO:model_driver:Predictions: [(11922383, 11922384, 0.4618297837830524), (750486, 750506, 0.10187547714586409), (5223, 6700, 0.0638246129572683), (85992, 86014, 0.04240792341938436), (4255472, 4255480, 0.026144231768798966), (684672, 684692, 0.02453308688418635), (126100, 4889658, 0.016040256778800346), (6491463, 6491621, 0.013490367187470405), (1584370, 1584377, 0.011515613015373344), (171251, 171256, 0.009396552126284062), (4616202, 4616273, 0.009032739115879984), (1885557, 1885660, 0.008370193039577081), (111102, 111111, 0.0071304530036020745), (2274242, 2274327, 0.005718410320988048), (7364150, 7364307, 0.0034374790002485965), (19590865, 19590901, 0.0034328185480412433), (14028959, 8716680, 0.00309644289435943), (840781, 840808, 0.002855357692136627), (20279484, 20279485, 0.002639894956650536), (695050, 695053, 0.002557405523119375), (8495687, 8495740, 0.002151802183642379), (7837456, 14853974, 0.0016722794698331785), (12953704, 12953750, 0.0014999543390222928), (4935632, 4935684, 0.0014614755667208695), (979256, 979289, 0.0014372388261003452), (2010892, 2010948, 0.001363285658416258), (5117127, 5117172, 0.00122277232600551), (201183, 201471, 0.0011325477891639536), (7486085, 7486130, 0.0011231084189014728), (1451009, 1451043, 0.0011035928877863512), (1068834, 1144249, 0.0010777229518871298), (4968406, 4968448, 0.001057724315125716), (2631001, 2631198, 0.0008268944860109938), (728360, 728694, 0.0007970941470478443), (14220321, 14220323, 0.0006994391081243755), (1129216, 1129270, 0.0006377742473787414), (2241875, 2241883, 0.0005850470540421626), (1085801, 1085810, 0.0004921465286151286), (3127429, 3127440, 0.00042107701914762804), (1069666, 1069840, 0.0004051227756637406), (5627284, 5627301, 0.0004000650179282049), (122102, 122704, 0.00039060497084426323), (5767325, 5767357, 0.0003526418859349281), (4057440, 4060176, 0.00035185979967783404), (4425318, 4425359, 0.0003401880135484814), (23667086, 23667087, 0.00033696287928190586), (1822350, 1822769, 0.00032738850003998995), (1144783, 17606289, 0.0002769112894343392), (9032856, 9033306, 0.0002620496127327651), (5187530, 5187652, 0.0002478875843513595), (950087, 950146, 0.00024415715195499714), (6487366, 6487376, 0.00017481917610459696), (237104, 1473742, 0.00017069190879446332), (23392111, 23392650, 0.00015979915687187182), (45015, 5686237, 0.0001545564547465177), (3583724, 3583740, 0.0001497426958406449), (134845, 138233, 0.00014353912617169121), (1527803, 1527820, 0.00013933691441359838), (572897, 572996, 0.00013225800746403978), (1063007, 1063027, 0.00010133359467889617), (1051782, 1051797, 8.814305612268683e-05), (1917576, 1917626, 8.640803783832147e-05), (805107, 805113, 7.549143639671714e-05), (28250680, 28250697, 7.401532905412102e-05), (1026069, 1026087, 7.003306647993703e-05), (951021, 951057, 6.928176691435355e-05), (3434278, 3434388, 6.637906985469422e-05), (2846283, 2846298, 6.2736675275716e-05), (242813, 242833, 5.9362596736926445e-05), (24900875, 24900924, 5.8861408197651845e-05), (3059044, 3059129, 5.731053282505563e-05), (69913, 69984, 5.6566666086258266e-05), (205853, 553734, 5.1544273489982065e-05), (2421911, 2421949, 4.480944514506514e-05), (168214, 169035, 3.8640637097940446e-05), (901115, 901144, 3.849564517987902e-05), (13418669, 13418980, 3.772056926357646e-05), (10693845, 10693852, 3.753831334310751e-05), (1661197, 9337047, 3.744132859053759e-05), (610406, 610415, 3.646777594163906e-05), (5891840, 5891929, 3.571674687858977e-05), (149055, 149150, 3.3845251954910215e-05), (236073, 236106, 3.238712408719648e-05), (1433212, 1433217, 2.735149530380773e-05), (2075337, 2075349, 2.6892993944363117e-05), (23740548, 23740549, 2.67020736987594e-05), (3384504, 3384534, 2.5082426008354445e-05), (13840429, 13840431, 2.48429997117158e-05), (6847697, 6847754, 2.4704857077390392e-05), (262427, 262511, 2.3608461655767103e-05), (359788, 359910, 2.3544384604541164e-05), (121203, 121259, 2.280551826125272e-05), (1771786, 1771824, 2.245389089297001e-05), (166221, 8758614, 2.238855332922186e-05), (203198, 1207393, 2.087916752766991e-05), (8021436, 8021462, 2.085736381007055e-05), (18082, 1830844, 1.7575816217129933e-05), (1520800, 1520853, 1.678491204256516e-05), (1359469, 1359507, 1.6452804937359592e-05), (3076414, 3076648, 1.6195862240537385e-05), (492994, 493018, 1.5729741839641214e-05), (1726630, 1726662, 1.5175655926199553e-05), (518000, 3638034, 1.5036188452557692e-05), (152975, 153047, 1.3292094716374352e-05), (194397, 194399, 1.2367113205774563e-05), (12829963, 12830031, 1.2257915140984181e-05), (25111831, 25111942, 1.2088592426946294e-05), (92720, 92819, 1.147709236994228e-05), (1646698, 3658673, 1.116319349233879e-05), (1056728, 1056730, 1.0736453280024543e-05), (2716069, 2716188, 1.0425063912174289e-05), (359494, 359509, 1.0279827627038718e-05), (22519784, 22519785, 1.0215495538729118e-05), (403967, 22745553, 9.761817147728455e-06), (2851404, 2851413, 9.555634170835895e-06), (850341, 850346, 9.342448094364104e-06), (4912092, 6678156, 8.872107891175078e-06), (1789945, 1789952, 8.810535139910136e-06), (1267283, 1267338, 8.440821172822617e-06), (6259982, 6260001, 8.335967130311763e-06), (8228281, 8228308, 8.24234174739533e-06), (3561043, 3561056, 8.164188427991714e-06), (1379934, 1380058, 7.727632976801996e-06), (25881041, 25881231, 6.912993873524621e-06), (5093398, 5100287, 6.8852046264829886e-06), (3224834, 3224854, 6.88498360695005e-06), (1225667, 1225683, 6.844889013786305e-06), (27928, 27943, 6.543861639125978e-06), (500431, 500459, 6.380530541666985e-06), (494035, 494046, 6.046492218624288e-06), (4851595, 4851614, 5.795092458425178e-06), (1017224, 1017237, 5.2988876202253715e-06), (784929, 784946, 5.016966867929759e-06), (2100758, 2100767, 4.581644168759317e-06), (5874652, 5876747, 4.372058317696935e-06), (336859, 336868, 4.318286508125812e-06), (364952, 364997, 3.730443773764149e-06), (32584850, 32585470, 3.6421300722895147e-06), (1398582, 1398608, 3.5127272004609103e-06), (7506844, 7506937, 3.3391762274350785e-06), (5431351, 5431435, 3.2745664763505546e-06), (436411, 24070373, 3.2036143003400794e-06), (2194992, 2195167, 3.1993404673492774e-06), (5041494, 5734583, 3.1635814174181496e-06), (20035101, 20035319, 3.1548816954711865e-06), (7165395, 7165616, 3.1031265613668047e-06), (1634268, 1634321, 3.0511501178123058e-06), (5316697, 5316755, 3.038435213580862e-06), (2802055, 2802064, 2.5217051233088265e-06), (440739, 440772, 2.4615710698052914e-06), (29986657, 30070207, 2.457228748326755e-06), (2067472, 2067584, 2.3513846020738895e-06), (3665115, 3665147, 2.2295307558790786e-06), (15141762, 15171030, 1.904281439846203e-06), (3034941, 3034952, 1.843453207731574e-06), (3163407, 3163422, 1.7586902384486972e-06), (5004233, 5004276, 1.6840050689040021e-06), (2320069, 2320097, 1.6836073189153232e-06), (307179, 307200, 1.5606455673688654e-06), (1458633, 3439981, 1.2906238746569024e-06), (4907843, 4907854, 1.18298512937431e-06), (20077487, 20077854, 1.1554431671189041e-06), (1873983, 1873999, 1.096333935658017e-06), (31044, 31047, 1.0899106368205354e-06), (2901102, 2901298, 1.0766754322577975e-06), (2655925, 8894528, 1.0699480725078441e-06), (824349, 3354511, 1.03482447716058e-06), (1470488, 1470494, 8.939395497363774e-07), (1359018, 9331127, 8.341334598214768e-07), (1566595, 1566644, 7.924593497850118e-07), (2844565, 2844704, 7.056211740743115e-07), (4459379, 4459419, 6.780486245384874e-07), (3595515, 3744697, 5.463872151877352e-07), (3888902, 3888938, 5.307386591826871e-07), (6677035, 6677069, 5.003699271289096e-07), (3514784, 3540295, 4.2842319377008584e-07), (3561493, 3561711, 4.0092534500600756e-07), (37684, 21925491, 3.851009150262709e-07), (400212, 6055620, 3.404056873855307e-07), (12475269, 12475285, 2.1945903134567453e-07), (391979, 810461, 1.152139525310146e-07), (8110934, 8111171, 5.1696003817417465e-08)]\n",
      "INFO:model_driver:Predictions took 33.14 ms\n"
     ]
    }
   ],
   "source": [
    "resp = predict_for(body)"
   ]
  },
  {
   "cell_type": "markdown",
   "metadata": {},
   "source": [
    "Next, we move on to [building our docker image](03_Build_Image.ipynb)."
   ]
  }
 ],
 "metadata": {
  "kernelspec": {
   "display_name": "Python [conda env:MLAKSDeployment]",
   "language": "python",
   "name": "conda-env-MLAKSDeployment-py"
  },
  "language_info": {
   "codemirror_mode": {
    "name": "ipython",
    "version": 3
   },
   "file_extension": ".py",
   "mimetype": "text/x-python",
   "name": "python",
   "nbconvert_exporter": "python",
   "pygments_lexer": "ipython3",
   "version": "3.5.5"
  }
 },
 "nbformat": 4,
 "nbformat_minor": 2
}
